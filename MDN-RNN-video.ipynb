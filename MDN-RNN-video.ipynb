{
 "cells": [
  {
   "cell_type": "code",
   "execution_count": 13,
   "metadata": {},
   "outputs": [],
   "source": [
    "import tensorflow as tf\n",
    "%matplotlib notebook\n",
    "%matplotlib inline\n",
    "import os\n",
    "import time\n",
    "import numpy as np\n",
    "import glob\n",
    "import matplotlib.pyplot as plt\n",
    "import PIL\n",
    "import imageio\n",
    "import cv2\n",
    "import datetime\n",
    "import random\n",
    "from tensorflow.keras.layers import Dense, GRU, TimeDistributed\n",
    "\n",
    "from IPython import display\n",
    "\n",
    "latent_dim = 50"
   ]
  },
  {
   "cell_type": "code",
   "execution_count": 7,
   "metadata": {},
   "outputs": [],
   "source": [
    "config = tf.compat.v1.ConfigProto()\n",
    "config.gpu_options.allow_growth = True\n",
    "session = tf.compat.v1.InteractiveSession(config=config)"
   ]
  },
  {
   "cell_type": "code",
   "execution_count": 8,
   "metadata": {},
   "outputs": [
    {
     "data": {
      "text/plain": [
       "<tensorflow.python.training.tracking.util.CheckpointLoadStatus at 0x7fecfd802090>"
      ]
     },
     "execution_count": 8,
     "metadata": {},
     "output_type": "execute_result"
    }
   ],
   "source": [
    "from convolutional_vae import CVAE\n",
    "cvae = CVAE()\n",
    "cvae.load_weights('models/cvae_lat50.chkpt')"
   ]
  },
  {
   "cell_type": "code",
   "execution_count": 9,
   "metadata": {},
   "outputs": [],
   "source": [
    "def VideoGenerator(video_path):\n",
    "    while True:\n",
    "        vidcap = cv2.VideoCapture(video_path)\n",
    "        success, img = vidcap.read()\n",
    "\n",
    "        while success:\n",
    "            yield cv2.resize(img, (128, 128)).astype(np.float32) / 255\n",
    "            success, img = vidcap.read()\n",
    "\n",
    "train_gen = VideoGenerator('data/train.mp4')\n",
    "test_gen = VideoGenerator('data/test.mp4')\n",
    "\n",
    "\n",
    "def batches_generator(batch_size, frames_generator, buffer_size=3000):\n",
    "    buffer = []\n",
    "    while True:\n",
    "        while len(buffer) < buffer_size:\n",
    "            buffer.append(next(frames_generator))\n",
    "        random.shuffle(buffer)\n",
    "        batch, buffer = buffer[:batch_size], buffer[batch_size:]\n",
    "        yield np.array(batch)"
   ]
  },
  {
   "cell_type": "code",
   "execution_count": 10,
   "metadata": {},
   "outputs": [],
   "source": [
    "class MDN_RNN(tf.keras.Model):\n",
    "    def __init__(self, n_mixtures, out_dims):\n",
    "        super(MDN, self).__init__()\n",
    "        \n",
    "        self.n_mixtures = n_mixtures\n",
    "        self.out_dims = out_dims\n",
    "        self.fc1 = TimeDistributed(Dense(128, activation='tanh'))\n",
    "        self.gru = GRU(128)\n",
    "        self.fc2 = Dense(3 * n_mixtures * out_dims, activation='tanh')\n",
    "\n",
    "    def predict_distribution(self, x):\n",
    "        ''' \n",
    "            x.shape = [batch_size, seq_length, latent_dim]\n",
    "        '''\n",
    "        x = self.fc1(x)\n",
    "        x = self.gru(x)\n",
    "        x = self.fc2(x)\n",
    "        mean, log_std, alpha = tf.split(x, 3, axis=1)\n",
    "        \n",
    "        mean = tf.reshape(mean, [-1, self.n_mixtures])\n",
    "        log_std = tf.reshape(log_std, [-1, self.n_mixtures])\n",
    "        alpha = tf.reshape(alpha, [-1, self.n_mixtures])\n",
    "        alpha = tf.nn.softmax(alpha, axis=1)\n",
    "\n",
    "        return mean, log_std, alpha\n",
    "    \n",
    "    def sample(self, x, temperature=1.0, verbose=False):\n",
    "        # Predicting distribution\n",
    "        mean, log_std, alpha = self.predict_distribution(x)\n",
    "        std = tf.exp(log_std) * np.sqrt(temperature)\n",
    "#         print(alpha)\n",
    "#         alpha = alpha / temperature\n",
    "#         alpha -= tf.reduce_max(alpha)\n",
    "#         alpha = tf.nn.softmax(alpha, axis=-1)\n",
    "#         print(alpha)\n",
    "        \n",
    "        \n",
    "        # Picking component\n",
    "        rnd = tf.random.uniform(shape=[x.shape[0] * self.out_dims, 1], maxval=1)\n",
    "        rnd = tf.repeat(rnd, self.n_mixtures, axis=-1)\n",
    "        pdf = tf.cumsum(alpha, axis=-1)\n",
    "        component_idx = np.argmax(pdf > rnd, axis=-1)\n",
    "        \n",
    "        # Gathering std and mean\n",
    "        idx_flattened = tf.range(0, mean.shape[0]) * mean.shape[1] + component_idx\n",
    "        component_std = tf.gather(tf.reshape(std, [-1]), idx_flattened)\n",
    "        component_mean = tf.gather(tf.reshape(mean, [-1]), idx_flattened)\n",
    "\n",
    "        # Sampling\n",
    "        samples = tf.random.normal(shape=[x.shape[0] * self.out_dims])\n",
    "        samples = samples * component_std + component_mean\n",
    "        samples = tf.reshape(samples, [-1, self.out_dims])\n",
    "        \n",
    "        return samples\n",
    "    \n",
    "    def call(self, x):\n",
    "        return self.sample(x)"
   ]
  },
  {
   "cell_type": "code",
   "execution_count": null,
   "metadata": {},
   "outputs": [],
   "source": []
  }
 ],
 "metadata": {
  "kernelspec": {
   "display_name": "Python 3",
   "language": "python",
   "name": "python3"
  },
  "language_info": {
   "codemirror_mode": {
    "name": "ipython",
    "version": 3
   },
   "file_extension": ".py",
   "mimetype": "text/x-python",
   "name": "python",
   "nbconvert_exporter": "python",
   "pygments_lexer": "ipython3",
   "version": "3.7.6"
  }
 },
 "nbformat": 4,
 "nbformat_minor": 4
}
