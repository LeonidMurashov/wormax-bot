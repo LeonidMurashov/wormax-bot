{
 "cells": [
  {
   "cell_type": "code",
   "execution_count": 1,
   "metadata": {},
   "outputs": [
    {
     "data": {
      "text/plain": [
       "'float32'"
      ]
     },
     "execution_count": 1,
     "metadata": {},
     "output_type": "execute_result"
    }
   ],
   "source": [
    "%matplotlib inline\n",
    "import numpy as np\n",
    "import matplotlib.pyplot as plt\n",
    "import tensorflow as tf\n",
    "import seaborn as sns\n",
    "from tqdm.notebook import tqdm, trange\n",
    "from tensorflow.keras.layers import Dense, InputLayer\n",
    "from sklearn.utils import shuffle\n",
    "sns.set()\n",
    "tf.keras.backend.floatx()"
   ]
  },
  {
   "cell_type": "code",
   "execution_count": 2,
   "metadata": {},
   "outputs": [],
   "source": [
    "# Set CPU as available physical device\n",
    "tf.config.set_visible_devices([], 'GPU')"
   ]
  },
  {
   "cell_type": "code",
   "execution_count": 3,
   "metadata": {},
   "outputs": [],
   "source": [
    "n_mixtures = 3"
   ]
  },
  {
   "cell_type": "code",
   "execution_count": 4,
   "metadata": {},
   "outputs": [
    {
     "data": {
      "text/plain": [
       "<matplotlib.collections.PathCollection at 0x7f6c4c11a9d0>"
      ]
     },
     "execution_count": 4,
     "metadata": {},
     "output_type": "execute_result"
    },
    {
     "data": {
      "image/png": "[encoded data removed]",
      "text/plain": [
       "<Figure size 432x288 with 1 Axes>"
      ]
     },
     "metadata": {},
     "output_type": "display_data"
    }
   ],
   "source": [
    "x = np.linspace(0, 7, 500, dtype=np.float32)\n",
    "y = np.sin(3 * x)\n",
    "x += np.random.normal(scale=0.1, size=x.shape)\n",
    "y += np.random.normal(scale=0.1, size=y.shape)\n",
    "plt.scatter(x, y)\n",
    "\n",
    "angle = 1.5\n",
    "rotatation = np.array([[np.cos(angle), np.sin(angle)], [-np.sin(angle), np.cos(angle)]])\n",
    "xy = np.array([x, y]).T @ rotatation\n",
    "x, y = xy[:, 0].astype(np.float32), xy[:, 1].astype(np.float32)\n",
    "y -= y.mean()\n",
    "y /= y.std()\n",
    "plt.scatter(x, y)\n"
   ]
  },
  {
   "cell_type": "code",
   "execution_count": 5,
   "metadata": {},
   "outputs": [],
   "source": [
    "class MDN(tf.keras.Model):\n",
    "    def __init__(self, n_mixtures):\n",
    "        super(MDN, self).__init__()\n",
    "        \n",
    "        self.n_mixtures = n_mixtures\n",
    "        self.network = tf.keras.Sequential(layers=[\n",
    "            InputLayer(input_shape=(1,)),\n",
    "            Dense(100, activation='tanh'),\n",
    "            Dense(50, activation='tanh'),\n",
    "            Dense(3 * n_mixtures),\n",
    "        ])\n",
    "        \n",
    "    def predict_distribution(self, x):\n",
    "        mean, log_std, alpha = tf.split(self.network(x), 3, axis=1)\n",
    "        alpha = tf.nn.softmax(alpha, axis=-1)\n",
    "        return mean, log_std, alpha\n",
    "    \n",
    "    def sample(self, x, temperature=1.0, verbose=False):\n",
    "        # Predicting distribution\n",
    "        mean, log_std, alpha = self.predict_distribution(x)\n",
    "        std = tf.exp(log_std) * np.sqrt(temperature)\n",
    "#         print(alpha)\n",
    "#         alpha = alpha / temperature\n",
    "#         alpha -= tf.reduce_max(alpha)\n",
    "#         alpha = tf.nn.softmax(alpha, axis=-1)\n",
    "#         print(alpha)\n",
    "        \n",
    "        # Picking component\n",
    "        rnd = tf.random.uniform(shape=[x.shape[0], 1], maxval=1)\n",
    "        rnd = tf.repeat(rnd, self.n_mixtures, axis=-1)\n",
    "        pdf = tf.cumsum(alpha, axis=-1)\n",
    "        component_idx = np.argmax(pdf > rnd, axis=-1)\n",
    "        \n",
    "        # Gathering std and mean\n",
    "        idx_flattened = tf.range(0, mean.shape[0]) * mean.shape[1] + component_idx\n",
    "        component_std = tf.gather(tf.reshape(std, [-1]), idx_flattened)\n",
    "        component_mean = tf.gather(tf.reshape(mean, [-1]), idx_flattened)\n",
    "\n",
    "        # Sampling\n",
    "        samples = tf.random.normal(shape=[x.shape[0]])\n",
    "        samples = samples * component_std + component_mean\n",
    "        return samples\n",
    "    \n",
    "    def call(self, x):\n",
    "        return self.sample(x)"
   ]
  },
  {
   "cell_type": "code",
   "execution_count": 6,
   "metadata": {},
   "outputs": [],
   "source": [
    "# def gaussian_loglikelihood(x, mu, log_std):\n",
    "#     epsilon = 1e-8\n",
    "#     pre_sum = -0.5 * (((x - mu) / (tf.exp(log_std) + epsilon))**2 + 2 * log_std + np.log(2 * np.pi))\n",
    "#     return tf.reduce_sum(pre_sum, axis=-1)\n",
    "\n",
    "def gaussian_pdf(x, mu, sigmasq):\n",
    "    return (1 / tf.sqrt(2 * np.pi * sigmasq)) * tf.exp((-1 / (2 * sigmasq)) * (x - mu) ** 2)\n",
    "\n",
    "def loss_fn(model, x, y_true):\n",
    "    mean, log_std, alpha = model.predict_distribution(x)\n",
    "    std = tf.exp(log_std) + 0.000001\n",
    "    prob_sum = 0\n",
    "    print(mean.shape)\n",
    "    for i in range(model.n_mixtures):\n",
    "        prob = gaussian_pdf(y_true, mean[:, i], std[:, i])\n",
    "        prob_sum += prob * alpha[:, i]\n",
    "\n",
    "    log_prob_sum = tf.reduce_mean(-tf.math.log(prob_sum))\n",
    "    return log_prob_sum"
   ]
  },
  {
   "cell_type": "code",
   "execution_count": 7,
   "metadata": {
    "scrolled": true
   },
   "outputs": [],
   "source": [
    "def train(model):\n",
    "    @tf.function()\n",
    "    def gradient_step(model, x, y_true, optimizer):\n",
    "        with tf.GradientTape() as tape:\n",
    "            loss = loss_fn(model, x, y_true)\n",
    "\n",
    "        gradients = tape.gradient(loss, model.trainable_variables)\n",
    "        optimizer.apply_gradients(zip(gradients, model.trainable_variables))\n",
    "        return loss\n",
    "\n",
    "    @tf.function\n",
    "    def fit(model, x, y, optimizer):\n",
    "        x, y = tf.identity(x), tf.identity(y)\n",
    "        idx = tf.random.shuffle(tf.range(len(x)))\n",
    "        x = tf.gather(x, idx)\n",
    "        y = tf.gather(y, idx)\n",
    "        for j in range(len(x) // batch_size):\n",
    "            loss = gradient_step(mdn, \n",
    "                                 x[j * batch_size: (j + 1) * batch_size, np.newaxis], \n",
    "                                 y[j * batch_size: (j + 1) * batch_size], \n",
    "                                 optimizer)\n",
    "        return loss\n",
    "    \n",
    "    batch_size = 128\n",
    "    optimizer = tf.keras.optimizers.Adam(5e-3)\n",
    "    t = trange(1000)\n",
    "    for i in t:\n",
    "        loss = fit(model, x, y, optimizer)\n",
    "        t.set_description('%.2f' % loss.numpy())"
   ]
  },
  {
   "cell_type": "code",
   "execution_count": 8,
   "metadata": {},
   "outputs": [],
   "source": [
    "def plot(model, loss=None):\n",
    "    subplots_number = 3 if loss else 2\n",
    "    \n",
    "    plt.figure(figsize=[16, 6])\n",
    "    plt.subplot(1, subplots_number, 1)\n",
    "    every_n = 1\n",
    "    y_pred = model.sample(x[::every_n, np.newaxis], temperature=1)\n",
    "\n",
    "    plt.scatter(x, y)\n",
    "    plt.scatter(x[::every_n], y_pred)\n",
    "    plt.gca().set_xlim([-1.1, 1.6])\n",
    "    plt.gca().set_ylim([-2, 2])\n",
    "\n",
    "    plt.subplot(1, subplots_number, 2)\n",
    "    mean, _, alpha = model.predict_distribution(x[:, np.newaxis])\n",
    "\n",
    "    plt.scatter(x, y, alpha=0.5)\n",
    "    for component_idx in range(mdn.n_mixtures):\n",
    "        component_mean = mean[:, component_idx]\n",
    "        plt.plot(x, component_mean, alpha=0.7, label=component_idx)\n",
    "    plt.gca().set_xlim([-1.1, 1.6])\n",
    "    plt.gca().set_ylim([-2, 2])\n",
    "    \n",
    "    if loss:\n",
    "        plt.subplot(1, subplots_number, 3)\n",
    "        plt.plot(np.arange(len(loss)), loss)"
   ]
  },
  {
   "cell_type": "code",
   "execution_count": 9,
   "metadata": {
    "scrolled": true
   },
   "outputs": [
    {
     "data": {
      "application/vnd.jupyter.widget-view+json": {
       "model_id": "3148221412b346ff98a9e57ad88ad6f7",
       "version_major": 2,
       "version_minor": 0
      },
      "text/plain": [
       "HBox(children=(FloatProgress(value=0.0, max=1000.0), HTML(value='')))"
      ]
     },
     "metadata": {},
     "output_type": "display_data"
    },
    {
     "name": "stdout",
     "output_type": "stream",
     "text": [
      "(128, 1)\n",
      "(128, 1)\n",
      "\n"
     ]
    },
    {
     "data": {
      "application/vnd.jupyter.widget-view+json": {
       "model_id": "a6695ff4cfd34b08ae91ec9bff5f274c",
       "version_major": 2,
       "version_minor": 0
      },
      "text/plain": [
       "HBox(children=(FloatProgress(value=0.0, max=1000.0), HTML(value='')))"
      ]
     },
     "metadata": {},
     "output_type": "display_data"
    },
    {
     "name": "stdout",
     "output_type": "stream",
     "text": [
      "(128, 2)\n",
      "(128, 2)\n"
     ]
    },
    {
     "ename": "KeyboardInterrupt",
     "evalue": "",
     "output_type": "error",
     "traceback": [
      "\u001b[0;31m---------------------------------------------------------------------------\u001b[0m",
      "\u001b[0;31mKeyboardInterrupt\u001b[0m                         Traceback (most recent call last)",
      "\u001b[0;32m<ipython-input-9-f8cb698e8a41>\u001b[0m in \u001b[0;36m<module>\u001b[0;34m\u001b[0m\n\u001b[1;32m      2\u001b[0m \u001b[0;32mfor\u001b[0m \u001b[0mn_mixtures\u001b[0m \u001b[0;32min\u001b[0m \u001b[0;34m[\u001b[0m\u001b[0;36m1\u001b[0m\u001b[0;34m,\u001b[0m \u001b[0;36m2\u001b[0m\u001b[0;34m,\u001b[0m \u001b[0;36m3\u001b[0m\u001b[0;34m,\u001b[0m \u001b[0;36m4\u001b[0m\u001b[0;34m,\u001b[0m \u001b[0;36m5\u001b[0m\u001b[0;34m,\u001b[0m \u001b[0;36m8\u001b[0m\u001b[0;34m,\u001b[0m \u001b[0;36m15\u001b[0m\u001b[0;34m,\u001b[0m \u001b[0;36m100\u001b[0m\u001b[0;34m]\u001b[0m\u001b[0;34m:\u001b[0m\u001b[0;34m\u001b[0m\u001b[0;34m\u001b[0m\u001b[0m\n\u001b[1;32m      3\u001b[0m     \u001b[0mmdn\u001b[0m \u001b[0;34m=\u001b[0m \u001b[0mMDN\u001b[0m\u001b[0;34m(\u001b[0m\u001b[0mn_mixtures\u001b[0m\u001b[0;34m)\u001b[0m\u001b[0;34m\u001b[0m\u001b[0;34m\u001b[0m\u001b[0m\n\u001b[0;32m----> 4\u001b[0;31m     \u001b[0mtrain\u001b[0m\u001b[0;34m(\u001b[0m\u001b[0mmdn\u001b[0m\u001b[0;34m)\u001b[0m\u001b[0;34m\u001b[0m\u001b[0;34m\u001b[0m\u001b[0m\n\u001b[0m\u001b[1;32m      5\u001b[0m     \u001b[0mplot\u001b[0m\u001b[0;34m(\u001b[0m\u001b[0mmdn\u001b[0m\u001b[0;34m)\u001b[0m\u001b[0;34m\u001b[0m\u001b[0;34m\u001b[0m\u001b[0m\n\u001b[1;32m      6\u001b[0m     \u001b[0mplt\u001b[0m\u001b[0;34m.\u001b[0m\u001b[0msuptitle\u001b[0m\u001b[0;34m(\u001b[0m\u001b[0;34mf'Components num={n_mixtures}'\u001b[0m\u001b[0;34m)\u001b[0m\u001b[0;34m\u001b[0m\u001b[0;34m\u001b[0m\u001b[0m\n",
      "\u001b[0;32m<ipython-input-7-865bf75905f1>\u001b[0m in \u001b[0;36mtrain\u001b[0;34m(model)\u001b[0m\n\u001b[1;32m     26\u001b[0m     \u001b[0mt\u001b[0m \u001b[0;34m=\u001b[0m \u001b[0mtrange\u001b[0m\u001b[0;34m(\u001b[0m\u001b[0;36m1000\u001b[0m\u001b[0;34m)\u001b[0m\u001b[0;34m\u001b[0m\u001b[0;34m\u001b[0m\u001b[0m\n\u001b[1;32m     27\u001b[0m     \u001b[0;32mfor\u001b[0m \u001b[0mi\u001b[0m \u001b[0;32min\u001b[0m \u001b[0mt\u001b[0m\u001b[0;34m:\u001b[0m\u001b[0;34m\u001b[0m\u001b[0;34m\u001b[0m\u001b[0m\n\u001b[0;32m---> 28\u001b[0;31m         \u001b[0mloss\u001b[0m \u001b[0;34m=\u001b[0m \u001b[0mfit\u001b[0m\u001b[0;34m(\u001b[0m\u001b[0mmodel\u001b[0m\u001b[0;34m,\u001b[0m \u001b[0mx\u001b[0m\u001b[0;34m,\u001b[0m \u001b[0my\u001b[0m\u001b[0;34m,\u001b[0m \u001b[0moptimizer\u001b[0m\u001b[0;34m)\u001b[0m\u001b[0;34m\u001b[0m\u001b[0;34m\u001b[0m\u001b[0m\n\u001b[0m\u001b[1;32m     29\u001b[0m         \u001b[0mt\u001b[0m\u001b[0;34m.\u001b[0m\u001b[0mset_description\u001b[0m\u001b[0;34m(\u001b[0m\u001b[0;34m'%.2f'\u001b[0m \u001b[0;34m%\u001b[0m \u001b[0mloss\u001b[0m\u001b[0;34m.\u001b[0m\u001b[0mnumpy\u001b[0m\u001b[0;34m(\u001b[0m\u001b[0;34m)\u001b[0m\u001b[0;34m)\u001b[0m\u001b[0;34m\u001b[0m\u001b[0;34m\u001b[0m\u001b[0m\n",
      "\u001b[0;32m~/.local/lib/python3.7/site-packages/tensorflow_core/python/eager/def_function.py\u001b[0m in \u001b[0;36m__call__\u001b[0;34m(self, *args, **kwds)\u001b[0m\n\u001b[1;32m    566\u001b[0m         \u001b[0mxla_context\u001b[0m\u001b[0;34m.\u001b[0m\u001b[0mExit\u001b[0m\u001b[0;34m(\u001b[0m\u001b[0;34m)\u001b[0m\u001b[0;34m\u001b[0m\u001b[0;34m\u001b[0m\u001b[0m\n\u001b[1;32m    567\u001b[0m     \u001b[0;32melse\u001b[0m\u001b[0;34m:\u001b[0m\u001b[0;34m\u001b[0m\u001b[0;34m\u001b[0m\u001b[0m\n\u001b[0;32m--> 568\u001b[0;31m       \u001b[0mresult\u001b[0m \u001b[0;34m=\u001b[0m \u001b[0mself\u001b[0m\u001b[0;34m.\u001b[0m\u001b[0m_call\u001b[0m\u001b[0;34m(\u001b[0m\u001b[0;34m*\u001b[0m\u001b[0margs\u001b[0m\u001b[0;34m,\u001b[0m \u001b[0;34m**\u001b[0m\u001b[0mkwds\u001b[0m\u001b[0;34m)\u001b[0m\u001b[0;34m\u001b[0m\u001b[0;34m\u001b[0m\u001b[0m\n\u001b[0m\u001b[1;32m    569\u001b[0m \u001b[0;34m\u001b[0m\u001b[0m\n\u001b[1;32m    570\u001b[0m     \u001b[0;32mif\u001b[0m \u001b[0mtracing_count\u001b[0m \u001b[0;34m==\u001b[0m \u001b[0mself\u001b[0m\u001b[0;34m.\u001b[0m\u001b[0m_get_tracing_count\u001b[0m\u001b[0;34m(\u001b[0m\u001b[0;34m)\u001b[0m\u001b[0;34m:\u001b[0m\u001b[0;34m\u001b[0m\u001b[0;34m\u001b[0m\u001b[0m\n",
      "\u001b[0;32m~/.local/lib/python3.7/site-packages/tensorflow_core/python/eager/def_function.py\u001b[0m in \u001b[0;36m_call\u001b[0;34m(self, *args, **kwds)\u001b[0m\n\u001b[1;32m    604\u001b[0m       \u001b[0;31m# In this case we have not created variables on the first call. So we can\u001b[0m\u001b[0;34m\u001b[0m\u001b[0;34m\u001b[0m\u001b[0;34m\u001b[0m\u001b[0m\n\u001b[1;32m    605\u001b[0m       \u001b[0;31m# run the first trace but we should fail if variables are created.\u001b[0m\u001b[0;34m\u001b[0m\u001b[0;34m\u001b[0m\u001b[0;34m\u001b[0m\u001b[0m\n\u001b[0;32m--> 606\u001b[0;31m       \u001b[0mresults\u001b[0m \u001b[0;34m=\u001b[0m \u001b[0mself\u001b[0m\u001b[0;34m.\u001b[0m\u001b[0m_stateful_fn\u001b[0m\u001b[0;34m(\u001b[0m\u001b[0;34m*\u001b[0m\u001b[0margs\u001b[0m\u001b[0;34m,\u001b[0m \u001b[0;34m**\u001b[0m\u001b[0mkwds\u001b[0m\u001b[0;34m)\u001b[0m\u001b[0;34m\u001b[0m\u001b[0;34m\u001b[0m\u001b[0m\n\u001b[0m\u001b[1;32m    607\u001b[0m       \u001b[0;32mif\u001b[0m \u001b[0mself\u001b[0m\u001b[0;34m.\u001b[0m\u001b[0m_created_variables\u001b[0m\u001b[0;34m:\u001b[0m\u001b[0;34m\u001b[0m\u001b[0;34m\u001b[0m\u001b[0m\n\u001b[1;32m    608\u001b[0m         raise ValueError(\"Creating variables on a non-first call to a function\"\n",
      "\u001b[0;32m~/.local/lib/python3.7/site-packages/tensorflow_core/python/eager/function.py\u001b[0m in \u001b[0;36m__call__\u001b[0;34m(self, *args, **kwargs)\u001b[0m\n\u001b[1;32m   2361\u001b[0m     \u001b[0;32mwith\u001b[0m \u001b[0mself\u001b[0m\u001b[0;34m.\u001b[0m\u001b[0m_lock\u001b[0m\u001b[0;34m:\u001b[0m\u001b[0;34m\u001b[0m\u001b[0;34m\u001b[0m\u001b[0m\n\u001b[1;32m   2362\u001b[0m       \u001b[0mgraph_function\u001b[0m\u001b[0;34m,\u001b[0m \u001b[0margs\u001b[0m\u001b[0;34m,\u001b[0m \u001b[0mkwargs\u001b[0m \u001b[0;34m=\u001b[0m \u001b[0mself\u001b[0m\u001b[0;34m.\u001b[0m\u001b[0m_maybe_define_function\u001b[0m\u001b[0;34m(\u001b[0m\u001b[0margs\u001b[0m\u001b[0;34m,\u001b[0m \u001b[0mkwargs\u001b[0m\u001b[0;34m)\u001b[0m\u001b[0;34m\u001b[0m\u001b[0;34m\u001b[0m\u001b[0m\n\u001b[0;32m-> 2363\u001b[0;31m     \u001b[0;32mreturn\u001b[0m \u001b[0mgraph_function\u001b[0m\u001b[0;34m.\u001b[0m\u001b[0m_filtered_call\u001b[0m\u001b[0;34m(\u001b[0m\u001b[0margs\u001b[0m\u001b[0;34m,\u001b[0m \u001b[0mkwargs\u001b[0m\u001b[0;34m)\u001b[0m  \u001b[0;31m# pylint: disable=protected-access\u001b[0m\u001b[0;34m\u001b[0m\u001b[0;34m\u001b[0m\u001b[0m\n\u001b[0m\u001b[1;32m   2364\u001b[0m \u001b[0;34m\u001b[0m\u001b[0m\n\u001b[1;32m   2365\u001b[0m   \u001b[0;34m@\u001b[0m\u001b[0mproperty\u001b[0m\u001b[0;34m\u001b[0m\u001b[0;34m\u001b[0m\u001b[0m\n",
      "\u001b[0;32m~/.local/lib/python3.7/site-packages/tensorflow_core/python/eager/function.py\u001b[0m in \u001b[0;36m_filtered_call\u001b[0;34m(self, args, kwargs)\u001b[0m\n\u001b[1;32m   1609\u001b[0m          if isinstance(t, (ops.Tensor,\n\u001b[1;32m   1610\u001b[0m                            resource_variable_ops.BaseResourceVariable))),\n\u001b[0;32m-> 1611\u001b[0;31m         self.captured_inputs)\n\u001b[0m\u001b[1;32m   1612\u001b[0m \u001b[0;34m\u001b[0m\u001b[0m\n\u001b[1;32m   1613\u001b[0m   \u001b[0;32mdef\u001b[0m \u001b[0m_call_flat\u001b[0m\u001b[0;34m(\u001b[0m\u001b[0mself\u001b[0m\u001b[0;34m,\u001b[0m \u001b[0margs\u001b[0m\u001b[0;34m,\u001b[0m \u001b[0mcaptured_inputs\u001b[0m\u001b[0;34m,\u001b[0m \u001b[0mcancellation_manager\u001b[0m\u001b[0;34m=\u001b[0m\u001b[0;32mNone\u001b[0m\u001b[0;34m)\u001b[0m\u001b[0;34m:\u001b[0m\u001b[0;34m\u001b[0m\u001b[0;34m\u001b[0m\u001b[0m\n",
      "\u001b[0;32m~/.local/lib/python3.7/site-packages/tensorflow_core/python/eager/function.py\u001b[0m in \u001b[0;36m_call_flat\u001b[0;34m(self, args, captured_inputs, cancellation_manager)\u001b[0m\n\u001b[1;32m   1690\u001b[0m       \u001b[0;31m# No tape is watching; skip to running the function.\u001b[0m\u001b[0;34m\u001b[0m\u001b[0;34m\u001b[0m\u001b[0;34m\u001b[0m\u001b[0m\n\u001b[1;32m   1691\u001b[0m       return self._build_call_outputs(self._inference_function.call(\n\u001b[0;32m-> 1692\u001b[0;31m           ctx, args, cancellation_manager=cancellation_manager))\n\u001b[0m\u001b[1;32m   1693\u001b[0m     forward_backward = self._select_forward_and_backward_functions(\n\u001b[1;32m   1694\u001b[0m         \u001b[0margs\u001b[0m\u001b[0;34m,\u001b[0m\u001b[0;34m\u001b[0m\u001b[0;34m\u001b[0m\u001b[0m\n",
      "\u001b[0;32m~/.local/lib/python3.7/site-packages/tensorflow_core/python/eager/function.py\u001b[0m in \u001b[0;36mcall\u001b[0;34m(self, ctx, args, cancellation_manager)\u001b[0m\n\u001b[1;32m    543\u001b[0m               \u001b[0minputs\u001b[0m\u001b[0;34m=\u001b[0m\u001b[0margs\u001b[0m\u001b[0;34m,\u001b[0m\u001b[0;34m\u001b[0m\u001b[0;34m\u001b[0m\u001b[0m\n\u001b[1;32m    544\u001b[0m               \u001b[0mattrs\u001b[0m\u001b[0;34m=\u001b[0m\u001b[0;34m(\u001b[0m\u001b[0;34m\"executor_type\"\u001b[0m\u001b[0;34m,\u001b[0m \u001b[0mexecutor_type\u001b[0m\u001b[0;34m,\u001b[0m \u001b[0;34m\"config_proto\"\u001b[0m\u001b[0;34m,\u001b[0m \u001b[0mconfig\u001b[0m\u001b[0;34m)\u001b[0m\u001b[0;34m,\u001b[0m\u001b[0;34m\u001b[0m\u001b[0;34m\u001b[0m\u001b[0m\n\u001b[0;32m--> 545\u001b[0;31m               ctx=ctx)\n\u001b[0m\u001b[1;32m    546\u001b[0m         \u001b[0;32melse\u001b[0m\u001b[0;34m:\u001b[0m\u001b[0;34m\u001b[0m\u001b[0;34m\u001b[0m\u001b[0m\n\u001b[1;32m    547\u001b[0m           outputs = execute.execute_with_cancellation(\n",
      "\u001b[0;32m~/.local/lib/python3.7/site-packages/tensorflow_core/python/eager/execute.py\u001b[0m in \u001b[0;36mquick_execute\u001b[0;34m(op_name, num_outputs, inputs, attrs, ctx, name)\u001b[0m\n\u001b[1;32m     59\u001b[0m     tensors = pywrap_tensorflow.TFE_Py_Execute(ctx._handle, device_name,\n\u001b[1;32m     60\u001b[0m                                                \u001b[0mop_name\u001b[0m\u001b[0;34m,\u001b[0m \u001b[0minputs\u001b[0m\u001b[0;34m,\u001b[0m \u001b[0mattrs\u001b[0m\u001b[0;34m,\u001b[0m\u001b[0;34m\u001b[0m\u001b[0;34m\u001b[0m\u001b[0m\n\u001b[0;32m---> 61\u001b[0;31m                                                num_outputs)\n\u001b[0m\u001b[1;32m     62\u001b[0m   \u001b[0;32mexcept\u001b[0m \u001b[0mcore\u001b[0m\u001b[0;34m.\u001b[0m\u001b[0m_NotOkStatusException\u001b[0m \u001b[0;32mas\u001b[0m \u001b[0me\u001b[0m\u001b[0;34m:\u001b[0m\u001b[0;34m\u001b[0m\u001b[0;34m\u001b[0m\u001b[0m\n\u001b[1;32m     63\u001b[0m     \u001b[0;32mif\u001b[0m \u001b[0mname\u001b[0m \u001b[0;32mis\u001b[0m \u001b[0;32mnot\u001b[0m \u001b[0;32mNone\u001b[0m\u001b[0;34m:\u001b[0m\u001b[0;34m\u001b[0m\u001b[0;34m\u001b[0m\u001b[0m\n",
      "\u001b[0;31mKeyboardInterrupt\u001b[0m: "
     ]
    },
    {
     "data": {
      "image/png": "[encoded data removed]",
      "text/plain": [
       "<Figure size 1152x432 with 2 Axes>"
      ]
     },
     "metadata": {},
     "output_type": "display_data"
    }
   ],
   "source": [
    "mdn = 0\n",
    "for n_mixtures in [1, 2, 3, 4, 5, 8, 15, 100]:\n",
    "    mdn = MDN(n_mixtures)\n",
    "    train(mdn)\n",
    "    plot(mdn)\n",
    "    plt.suptitle(f'Components num={n_mixtures}')\n",
    "    del mdn"
   ]
  },
  {
   "cell_type": "code",
   "execution_count": null,
   "metadata": {},
   "outputs": [],
   "source": [
    "plt.close('all')"
   ]
  },
  {
   "cell_type": "code",
   "execution_count": null,
   "metadata": {
    "scrolled": false
   },
   "outputs": [],
   "source": [
    "mdn = MDN(4)\n",
    "train(mdn)\n",
    "plot(mdn)\n",
    "plt.show()"
   ]
  },
  {
   "cell_type": "code",
   "execution_count": null,
   "metadata": {},
   "outputs": [],
   "source": [
    "m, s, a = mdn.predict_distribution(x[:, np.newaxis])\n",
    "\n",
    "plt.figure(figsize=(16, 4))\n",
    "for i in range(mdn.n_mixtures):\n",
    "    plt.plot(x, a[:, i], label=i)\n",
    "plt.legend()"
   ]
  },
  {
   "cell_type": "code",
   "execution_count": null,
   "metadata": {
    "scrolled": true
   },
   "outputs": [],
   "source": [
    "y_pred = mdn.sample(x[:, np.newaxis], temperature=0.1)\n",
    "\n",
    "plt.figure(figsize=(16, 4))\n",
    "plt.scatter(x, y_pred)"
   ]
  },
  {
   "cell_type": "code",
   "execution_count": null,
   "metadata": {},
   "outputs": [],
   "source": [
    "%matplotlib inline\n"
   ]
  },
  {
   "cell_type": "code",
   "execution_count": null,
   "metadata": {},
   "outputs": [],
   "source": [
    "# del plt\n",
    "%matplotlib agg\n",
    "import matplotlib.pyplot as plt"
   ]
  },
  {
   "cell_type": "code",
   "execution_count": null,
   "metadata": {},
   "outputs": [],
   "source": [
    "@tf.function()\n",
    "def gradient_step(model, x, y_true, optimizer):\n",
    "    with tf.GradientTape() as tape:\n",
    "        loss = loss_fn(model, x, y_true)\n",
    "\n",
    "    gradients = tape.gradient(loss, model.trainable_variables)\n",
    "    optimizer.apply_gradients(zip(gradients, model.trainable_variables))\n",
    "    return loss\n",
    "\n",
    "@tf.function\n",
    "def fit(model, x, y, optimizer):\n",
    "    x, y = tf.identity(x), tf.identity(y)\n",
    "    idx = tf.random.shuffle(tf.range(len(x)))\n",
    "    x = tf.gather(x, idx)\n",
    "    y = tf.gather(y, idx)\n",
    "    for j in range(len(x) // batch_size):\n",
    "        loss = gradient_step(mdn, \n",
    "                             x[j * batch_size: (j + 1) * batch_size, np.newaxis], \n",
    "                             y[j * batch_size: (j + 1) * batch_size], \n",
    "                             optimizer)\n",
    "    return loss\n",
    "    \n",
    "mdn = MDN(8)\n",
    "\n",
    "batch_size = 128//2\n",
    "optimizer = tf.keras.optimizers.Adam(9e-3)\n",
    "t = trange(1000)\n",
    "loss_history = []\n",
    "for i in t:\n",
    "    loss = fit(mdn, x, y, optimizer)\n",
    "    loss_history.append(loss.numpy())\n",
    "    t.set_description('%.2f' % loss.numpy())\n",
    "    plot(mdn, loss=loss_history)\n",
    "    plt.savefig(f'gif/%.4d_pic.jpg' % i)\n",
    "    plt.close('all')"
   ]
  },
  {
   "cell_type": "code",
   "execution_count": null,
   "metadata": {},
   "outputs": [],
   "source": [
    "!ffmpeg -i gif/%4d_pic.jpg anim.gif -y"
   ]
  },
  {
   "cell_type": "code",
   "execution_count": null,
   "metadata": {
    "scrolled": false
   },
   "outputs": [],
   "source": [
    "from IPython.display import Image\n",
    "Image(filename=\"anim.gif\")"
   ]
  }
 ],
 "metadata": {
  "kernelspec": {
   "display_name": "Python 3",
   "language": "python",
   "name": "python3"
  },
  "language_info": {
   "codemirror_mode": {
    "name": "ipython",
    "version": 3
   },
   "file_extension": ".py",
   "mimetype": "text/x-python",
   "name": "python",
   "nbconvert_exporter": "python",
   "pygments_lexer": "ipython3",
   "version": "3.7.6"
  },
  "widgets": {
   "application/vnd.jupyter.widget-state+json": {
    "state": {
     "000b18b6bec9431d852eb5e00739d78d": {
      "model_module": "@jupyter-widgets/controls",
      "model_module_version": "1.5.0",
      "model_name": "DescriptionStyleModel",
      "state": {
       "description_width": ""
      }
     },
     "002a1b8d898d461a95811bbc9954b325": {
      "model_module": "@jupyter-widgets/controls",
      "model_module_version": "1.5.0",
      "model_name": "HBoxModel",
      "state": {
       "children": [
        "IPY_MODEL_0055b6336b99433daafcf3e804698c4c",
        "IPY_MODEL_26ddc38f8b2143b2a130420cb603e6db"
       ],
       "layout": "IPY_MODEL_f352b1622665458189329f4655f7e453"
      }
     },
     "0055b6336b99433daafcf3e804698c4c": {
      "model_module": "@jupyter-widgets/controls",
      "model_module_version": "1.5.0",
      "model_name": "FloatProgressModel",
      "state": {
       "bar_style": "danger",
       "description": "  0%",
       "layout": "IPY_MODEL_409e5cafab4d401fa8c8b86d27bb089d",
       "max": 50,
       "style": "IPY_MODEL_e6ca14a6745441da9e1817b5f5d03205"
      }
     },
     "0059b6a8c3bc49e4953262029e661a4d": {
      "model_module": "@jupyter-widgets/base",
      "model_module_version": "1.2.0",
      "model_name": "LayoutModel",
      "state": {}
     },
     "00c2264a0d974119bcaebd9f2d670870": {
      "model_module": "@jupyter-widgets/base",
      "model_module_version": "1.2.0",
      "model_name": "LayoutModel",
      "state": {}
     },
     "0114d5fe66df4e068523f876d2c22fca": {
      "model_module": "@jupyter-widgets/base",
      "model_module_version": "1.2.0",
      "model_name": "LayoutModel",
      "state": {}
     },
     "0129c3ccfdb34cc682de8fe782d397f4": {
      "model_module": "@jupyter-widgets/controls",
      "model_module_version": "1.5.0",
      "model_name": "DescriptionStyleModel",
      "state": {
       "description_width": ""
      }
     },
     "013f691a0c04494fbf550c845087ab84": {
      "model_module": "@jupyter-widgets/controls",
      "model_module_version": "1.5.0",
      "model_name": "DescriptionStyleModel",
      "state": {
       "description_width": ""
      }
     },
     "014ac887f8894a9ab88091f336a9c2ea": {
      "model_module": "@jupyter-widgets/controls",
      "model_module_version": "1.5.0",
      "model_name": "FloatProgressModel",
      "state": {
       "bar_style": "success",
       "description": "nan: 100%",
       "layout": "IPY_MODEL_300f353228c042ed98b8de15befe87bd",
       "max": 5000,
       "style": "IPY_MODEL_aa316f26fe4c4a919541eb93e602b50d",
       "value": 5000
      }
     },
     "015cd93b8ac24b26a28fb592f627cbf0": {
      "model_module": "@jupyter-widgets/controls",
      "model_module_version": "1.5.0",
      "model_name": "ProgressStyleModel",
      "state": {
       "description_width": "initial"
      }
     },
     "0167ab2cabed4cfc897757bedaef1a09": {
      "model_module": "@jupyter-widgets/base",
      "model_module_version": "1.2.0",
      "model_name": "LayoutModel",
      "state": {}
     },
     "016bb90c0566466bb5beaabaeff9b1bb": {
      "model_module": "@jupyter-widgets/controls",
      "model_module_version": "1.5.0",
      "model_name": "FloatProgressModel",
      "state": {
       "bar_style": "success",
       "description": "1.62: 100%",
       "layout": "IPY_MODEL_150622a53cf64c5d889f11695640fe3a",
       "max": 2000,
       "style": "IPY_MODEL_e5d27d5329b84f7e8186b19a6c26859c",
       "value": 2000
      }
     },
     "01801c81a9c64248969b9d8367dafa01": {
      "model_module": "@jupyter-widgets/controls",
      "model_module_version": "1.5.0",
      "model_name": "ProgressStyleModel",
      "state": {
       "description_width": "initial"
      }
     },
     "01d6cc04bd734e6f8984b67aa9ef3816": {
      "model_module": "@jupyter-widgets/controls",
      "model_module_version": "1.5.0",
      "model_name": "FloatProgressModel",
      "state": {
       "bar_style": "success",
       "description": "1.93: 100%",
       "layout": "IPY_MODEL_28033458683640a8aabe6ea8b33bd9d9",
       "max": 2000,
       "style": "IPY_MODEL_9fdd5c56c8d54a068783d07fd5ef1ed0",
       "value": 2000
      }
     },
     "020514ee6c6f4ae5ba69e9ac1f84676d": {
      "model_module": "@jupyter-widgets/controls",
      "model_module_version": "1.5.0",
      "model_name": "ProgressStyleModel",
      "state": {
       "description_width": "initial"
      }
     },
     "0220bfcfa33b444f95f53428c9920db3": {
      "model_module": "@jupyter-widgets/base",
      "model_module_version": "1.2.0",
      "model_name": "LayoutModel",
      "state": {}
     },
     "022886759a954053a0807d1a8a383fc5": {
      "model_module": "@jupyter-widgets/controls",
      "model_module_version": "1.5.0",
      "model_name": "HBoxModel",
      "state": {
       "children": [
        "IPY_MODEL_87318084ae09498bb1cc2e288e58c935",
        "IPY_MODEL_37a5b495cc5b411eaa029e5da2589985"
       ],
       "layout": "IPY_MODEL_4094b2b36ae44aee8f5ef9f9ea935106"
      }
     },
     "026b407414e945fc9b87905ef6e076ac": {
      "model_module": "@jupyter-widgets/controls",
      "model_module_version": "1.5.0",
      "model_name": "ProgressStyleModel",
      "state": {
       "description_width": "initial"
      }
     },
     "027eaff2ca434a44b784c0d7274f03ae": {
      "model_module": "@jupyter-widgets/controls",
      "model_module_version": "1.5.0",
      "model_name": "HBoxModel",
      "state": {
       "children": [
        "IPY_MODEL_d071953fc3c747b1bfed409ee33a6adb",
        "IPY_MODEL_3cbc4891271c40f5839154349752b4fc"
       ],
       "layout": "IPY_MODEL_5bcc947bf2244d398a13ecbcb1d90f7d"
      }
     },
     "03185044b842476d91c2eb16cf431663": {
      "model_module": "@jupyter-widgets/base",
      "model_module_version": "1.2.0",
      "model_name": "LayoutModel",
      "state": {}
     },
     "0331e5f551404e72a69e67e1cc9c3f6c": {
      "model_module": "@jupyter-widgets/controls",
      "model_module_version": "1.5.0",
      "model_name": "HTMLModel",
      "state": {
       "layout": "IPY_MODEL_6690197e056849a89f54f88fce8477fe",
       "style": "IPY_MODEL_d8e7876a7d144c1ea8a334aa1749c00a",
       "value": " 2000/2000 [00:04&lt;00:00, 459.21it/s]"
      }
     },
     "03eb55fa539a474e8b505ccee9ecd6a0": {
      "model_module": "@jupyter-widgets/base",
      "model_module_version": "1.2.0",
      "model_name": "LayoutModel",
      "state": {}
     },
     "040fcc6294074ed8a8ad9ecd4bafb595": {
      "model_module": "@jupyter-widgets/base",
      "model_module_version": "1.2.0",
      "model_name": "LayoutModel",
      "state": {}
     },
     "047c82ba2b04404abd8e61ba5fea04b9": {
      "model_module": "@jupyter-widgets/base",
      "model_module_version": "1.2.0",
      "model_name": "LayoutModel",
      "state": {}
     },
     "048254463a0f499cb1c9650d59ef69cb": {
      "model_module": "@jupyter-widgets/controls",
      "model_module_version": "1.5.0",
      "model_name": "FloatProgressModel",
      "state": {
       "bar_style": "success",
       "description": "2.46: 100%",
       "layout": "IPY_MODEL_199a53645b384cb88b77f366649aa72a",
       "max": 10,
       "style": "IPY_MODEL_bd8561a2ed494031abe8d359aca232ca",
       "value": 10
      }
     },
     "05046592fb2249efad1cfd026f9e09b1": {
      "model_module": "@jupyter-widgets/controls",
      "model_module_version": "1.5.0",
      "model_name": "HBoxModel",
      "state": {
       "children": [
        "IPY_MODEL_f5fa152012864a6aaaf4205792aee2be",
        "IPY_MODEL_d5132a0734cb475fb2ecf41846d5b1a2"
       ],
       "layout": "IPY_MODEL_7e96bc56a2be4b76b8d508bbbc74d6c2"
      }
     },
     "0517d986c2a1498f848c57edfedf6347": {
      "model_module": "@jupyter-widgets/controls",
      "model_module_version": "1.5.0",
      "model_name": "HBoxModel",
      "state": {
       "children": [
        "IPY_MODEL_201b6a06f59f4859921bb2f01aaba057",
        "IPY_MODEL_a7099a42b49440f2b872954c6a94784c"
       ],
       "layout": "IPY_MODEL_6875d889bde0402bbd53c4113ad2c112"
      }
     },
     "0522b22f7388401b913c4cdc3f861e7d": {
      "model_module": "@jupyter-widgets/controls",
      "model_module_version": "1.5.0",
      "model_name": "ProgressStyleModel",
      "state": {
       "description_width": "initial"
      }
     },
     "0573e1c55ecb495eb0616d3d999b7323": {
      "model_module": "@jupyter-widgets/controls",
      "model_module_version": "1.5.0",
      "model_name": "HTMLModel",
      "state": {
       "layout": "IPY_MODEL_0dd97b6ad06f4161aa116c386e43c47d",
       "style": "IPY_MODEL_f57c931f15d24e7eaca3bbec0f2fc311",
       "value": " 5000/5000 [03:12&lt;00:00, 26.01it/s]"
      }
     },
     "05aa1fc969ed41528ea76a69ca577bd3": {
      "model_module": "@jupyter-widgets/controls",
      "model_module_version": "1.5.0",
      "model_name": "HTMLModel",
      "state": {
       "layout": "IPY_MODEL_90d795c1a459494ea3ebe5c2a2f0f9de",
       "style": "IPY_MODEL_baa5bdf1677247c5a46f149648be61c0",
       "value": " 863/2000 [00:03&lt;00:03, 326.72it/s]"
      }
     },
     "05f1cbfdedf84d1bb81f2c9634929e8f": {
      "model_module": "@jupyter-widgets/controls",
      "model_module_version": "1.5.0",
      "model_name": "HBoxModel",
      "state": {
       "children": [
        "IPY_MODEL_c20be55e3a6445a1a9b681edad470aa0",
        "IPY_MODEL_36b37015f2724042aa7082fb36b5ab8c"
       ],
       "layout": "IPY_MODEL_ece0d49b0779498ea8eac73da70da079"
      }
     },
     "05f300f8f80c46cebc18e08fd16a8808": {
      "model_module": "@jupyter-widgets/controls",
      "model_module_version": "1.5.0",
      "model_name": "DescriptionStyleModel",
      "state": {
       "description_width": ""
      }
     },
     "05f3f61d31a74811a4ed3c16b5b87a01": {
      "model_module": "@jupyter-widgets/controls",
      "model_module_version": "1.5.0",
      "model_name": "ProgressStyleModel",
      "state": {
       "description_width": "initial"
      }
     },
     "064798a131ba47ff97bb6c49194d17a3": {
      "model_module": "@jupyter-widgets/base",
      "model_module_version": "1.2.0",
      "model_name": "LayoutModel",
      "state": {}
     },
     "067fc3f715bd490e9b48d8fc819fcd0a": {
      "model_module": "@jupyter-widgets/controls",
      "model_module_version": "1.5.0",
      "model_name": "HTMLModel",
      "state": {
       "layout": "IPY_MODEL_7d4f6c531a7a4b22b9e36c4541c84272",
       "style": "IPY_MODEL_a0a64fc3f98e4e65a24bac901409dccd",
       "value": " 50/50 [00:10&lt;00:00,  4.97it/s]"
      }
     },
     "0687bec1e9df4b02ac9f1642ebc6323b": {
      "model_module": "@jupyter-widgets/controls",
      "model_module_version": "1.5.0",
      "model_name": "HBoxModel",
      "state": {
       "children": [
        "IPY_MODEL_d086f4b0971d4513bccb963fbcfac37e",
        "IPY_MODEL_086389b2370140ecb3268cdf06906cd3"
       ],
       "layout": "IPY_MODEL_047c82ba2b04404abd8e61ba5fea04b9"
      }
     },
     "0687ffac6c66419f9c151670ae2bec9f": {
      "model_module": "@jupyter-widgets/base",
      "model_module_version": "1.2.0",
      "model_name": "LayoutModel",
      "state": {}
     },
     "06f69641ede34cd6b12c338a310a6e38": {
      "model_module": "@jupyter-widgets/controls",
      "model_module_version": "1.5.0",
      "model_name": "HTMLModel",
      "state": {
       "layout": "IPY_MODEL_ea4a6fff1ef74531b5c41ab6a2a834cc",
       "style": "IPY_MODEL_cfba7447b7224b79952ad4b2c009df89",
       "value": " 100/100 [01:30&lt;00:00,  1.11it/s]"
      }
     },
     "070e1132cbe749f8b07ad1ded7672f73": {
      "model_module": "@jupyter-widgets/controls",
      "model_module_version": "1.5.0",
      "model_name": "DescriptionStyleModel",
      "state": {
       "description_width": ""
      }
     },
     "07709f0196384a4a9f51bae0a1a4371c": {
      "model_module": "@jupyter-widgets/controls",
      "model_module_version": "1.5.0",
      "model_name": "ProgressStyleModel",
      "state": {
       "description_width": "initial"
      }
     },
     "077f73c267ce4da2b2c68ac37680d0b8": {
      "model_module": "@jupyter-widgets/controls",
      "model_module_version": "1.5.0",
      "model_name": "HTMLModel",
      "state": {
       "layout": "IPY_MODEL_a023238341ef43bf8b3d387fcf5d6ba1",
       "style": "IPY_MODEL_67b9efac63814ed4bf0313b886ab64b1",
       "value": " 50/50 [00:01&lt;00:00, 33.36it/s]"
      }
     },
     "07981be0901844d185f15d4f79a2a5a3": {
      "model_module": "@jupyter-widgets/controls",
      "model_module_version": "1.5.0",
      "model_name": "HBoxModel",
      "state": {
       "children": [
        "IPY_MODEL_3697cf53a58b4e518e9a28ceb30042ab",
        "IPY_MODEL_be82c17717f44cdeb7f305b2bf483e28"
       ],
       "layout": "IPY_MODEL_0e0b23a93f5c4fc0a304c156636c94e7"
      }
     },
     "07b4a01669ca45e484d98ba8626183cb": {
      "model_module": "@jupyter-widgets/base",
      "model_module_version": "1.2.0",
      "model_name": "LayoutModel",
      "state": {}
     },
     "07ba073d65d14ad9841dc40fe3e68533": {
      "model_module": "@jupyter-widgets/base",
      "model_module_version": "1.2.0",
      "model_name": "LayoutModel",
      "state": {}
     },
     "080a85a39363482c959bc8f3354a4c87": {
      "model_module": "@jupyter-widgets/controls",
      "model_module_version": "1.5.0",
      "model_name": "DescriptionStyleModel",
      "state": {
       "description_width": ""
      }
     },
     "082882ef5219483cbd9d1866ebd008f0": {
      "model_module": "@jupyter-widgets/controls",
      "model_module_version": "1.5.0",
      "model_name": "HBoxModel",
      "state": {
       "children": [
        "IPY_MODEL_54125a2b514f4a4db77a108590f3470b",
        "IPY_MODEL_9793d4e2369b4e4bb37cfb6076322ab6"
       ],
       "layout": "IPY_MODEL_3c54559e84254cf6a6af4f94909b09d0"
      }
     },
     "083523614a12437791c84acd50447ded": {
      "model_module": "@jupyter-widgets/base",
      "model_module_version": "1.2.0",
      "model_name": "LayoutModel",
      "state": {}
     },
     "086389b2370140ecb3268cdf06906cd3": {
      "model_module": "@jupyter-widgets/controls",
      "model_module_version": "1.5.0",
      "model_name": "HTMLModel",
      "state": {
       "layout": "IPY_MODEL_6af5513fa5fb42cea3020c1feda5b9b8",
       "style": "IPY_MODEL_c008f8e7af5e4b85bbbca9cead68716c",
       "value": " 2000/2000 [03:09&lt;00:00, 10.57it/s]"
      }
     },
     "089dcd8f48dc43a79516fa22907fddfd": {
      "model_module": "@jupyter-widgets/controls",
      "model_module_version": "1.5.0",
      "model_name": "FloatProgressModel",
      "state": {
       "bar_style": "success",
       "description": "2.43: 100%",
       "layout": "IPY_MODEL_39453232a4db4741926e9e797446006c",
       "max": 10,
       "style": "IPY_MODEL_26d9583215e1480ca9879ab4ad0e9564",
       "value": 10
      }
     },
     "091ad8c0b1d145a8bff172821fed7027": {
      "model_module": "@jupyter-widgets/controls",
      "model_module_version": "1.5.0",
      "model_name": "ProgressStyleModel",
      "state": {
       "description_width": "initial"
      }
     },
     "091db1ec6bae4c56bfdacc097fb610ee": {
      "model_module": "@jupyter-widgets/controls",
      "model_module_version": "1.5.0",
      "model_name": "DescriptionStyleModel",
      "state": {
       "description_width": ""
      }
     },
     "095ee3570c574b559ba569602dc8265d": {
      "model_module": "@jupyter-widgets/controls",
      "model_module_version": "1.5.0",
      "model_name": "HTMLModel",
      "state": {
       "layout": "IPY_MODEL_9f878a5abcce48189589128fbe470a11",
       "style": "IPY_MODEL_bfafea5b24bb4fec9c422f61e3351c37",
       "value": " 2000/2000 [00:17&lt;00:00, 115.21it/s]"
      }
     },
     "09db68cbf3db44548a509a3395617582": {
      "model_module": "@jupyter-widgets/base",
      "model_module_version": "1.2.0",
      "model_name": "LayoutModel",
      "state": {}
     },
     "0a0dc31ed62a4d5084f76482dc56e27d": {
      "model_module": "@jupyter-widgets/controls",
      "model_module_version": "1.5.0",
      "model_name": "DescriptionStyleModel",
      "state": {
       "description_width": ""
      }
     },
     "0a1255a56833441f94900d59c090f142": {
      "model_module": "@jupyter-widgets/base",
      "model_module_version": "1.2.0",
      "model_name": "LayoutModel",
      "state": {}
     },
     "0a1c7e1773a74d74b25c1fe8425eb44e": {
      "model_module": "@jupyter-widgets/controls",
      "model_module_version": "1.5.0",
      "model_name": "ProgressStyleModel",
      "state": {
       "description_width": "initial"
      }
     },
     "0a4fc336a49b45c8b336346e1f51a27b": {
      "model_module": "@jupyter-widgets/base",
      "model_module_version": "1.2.0",
      "model_name": "LayoutModel",
      "state": {}
     },
     "0a675eb609cf451aac6c0a72c043ad43": {
      "model_module": "@jupyter-widgets/base",
      "model_module_version": "1.2.0",
      "model_name": "LayoutModel",
      "state": {}
     },
     "0a701ddcbca74b6696778d9cd320a6b2": {
      "model_module": "@jupyter-widgets/base",
      "model_module_version": "1.2.0",
      "model_name": "LayoutModel",
      "state": {}
     },
     "0a82e287277d4ada81aee0adacaa0b1a": {
      "model_module": "@jupyter-widgets/controls",
      "model_module_version": "1.5.0",
      "model_name": "FloatProgressModel",
      "state": {
       "bar_style": "success",
       "description": "1.94: 100%",
       "layout": "IPY_MODEL_22c4950d1c9a457abdd85cdeb97a408d",
       "max": 2000,
       "style": "IPY_MODEL_3843653e8cc74b2892353e356691503d",
       "value": 2000
      }
     },
     "0a999d343ed943dcb47afc9c39a1eb4b": {
      "model_module": "@jupyter-widgets/base",
      "model_module_version": "1.2.0",
      "model_name": "LayoutModel",
      "state": {}
     },
     "0ac47c1e586b4952a8b4b237aaa099ed": {
      "model_module": "@jupyter-widgets/controls",
      "model_module_version": "1.5.0",
      "model_name": "ProgressStyleModel",
      "state": {
       "description_width": "initial"
      }
     },
     "0ac9d27e2fd943c294a7303ea4015624": {
      "model_module": "@jupyter-widgets/base",
      "model_module_version": "1.2.0",
      "model_name": "LayoutModel",
      "state": {}
     },
     "0ae5b4acb20e4cd58a23ada4fc5c3556": {
      "model_module": "@jupyter-widgets/base",
      "model_module_version": "1.2.0",
      "model_name": "LayoutModel",
      "state": {}
     },
     "0b510d40184140119190d3cd0ed3cbcd": {
      "model_module": "@jupyter-widgets/controls",
      "model_module_version": "1.5.0",
      "model_name": "DescriptionStyleModel",
      "state": {
       "description_width": ""
      }
     },
     "0b5534354aa647fabb5926059f944613": {
      "model_module": "@jupyter-widgets/controls",
      "model_module_version": "1.5.0",
      "model_name": "FloatProgressModel",
      "state": {
       "bar_style": "danger",
       "description": "  0%",
       "layout": "IPY_MODEL_47602f0c2fad4fe1bdfe3df6f76c8463",
       "max": 5000,
       "style": "IPY_MODEL_4097f095178d46f39a637a6ecd9a5130"
      }
     },
     "0b8e51338ff94899ac99e7f96adf9400": {
      "model_module": "@jupyter-widgets/base",
      "model_module_version": "1.2.0",
      "model_name": "LayoutModel",
      "state": {}
     },
     "0ba3c51b987d4ee3937691727731cb20": {
      "model_module": "@jupyter-widgets/controls",
      "model_module_version": "1.5.0",
      "model_name": "ProgressStyleModel",
      "state": {
       "description_width": "initial"
      }
     },
     "0bb7a311ee5e4614a7bfd152b4e6f652": {
      "model_module": "@jupyter-widgets/base",
      "model_module_version": "1.2.0",
      "model_name": "LayoutModel",
      "state": {}
     },
     "0be46e289ad1445cabcf0554012c8587": {
      "model_module": "@jupyter-widgets/base",
      "model_module_version": "1.2.0",
      "model_name": "LayoutModel",
      "state": {}
     },
     "0c1a7f881b0446a188f5a299f391ce71": {
      "model_module": "@jupyter-widgets/controls",
      "model_module_version": "1.5.0",
      "model_name": "DescriptionStyleModel",
      "state": {
       "description_width": ""
      }
     },
     "0c51b29233614a2ba9e2a888a091cd75": {
      "model_module": "@jupyter-widgets/controls",
      "model_module_version": "1.5.0",
      "model_name": "DescriptionStyleModel",
      "state": {
       "description_width": ""
      }
     },
     "0cb7dc154c374a908f17a650f64788ab": {
      "model_module": "@jupyter-widgets/controls",
      "model_module_version": "1.5.0",
      "model_name": "HTMLModel",
      "state": {
       "layout": "IPY_MODEL_78ad34e943c14813b5deb6485f248ad7",
       "style": "IPY_MODEL_25e8cda8462e4eda9bc5bf4bad04103c",
       "value": " 2000/2000 [00:08&lt;00:00, 244.48it/s]"
      }
     },
     "0cef70b4cb51491e8b8f340dd485b9cd": {
      "model_module": "@jupyter-widgets/base",
      "model_module_version": "1.2.0",
      "model_name": "LayoutModel",
      "state": {}
     },
     "0cf93f6d6574436abe28b782f62e82a7": {
      "model_module": "@jupyter-widgets/controls",
      "model_module_version": "1.5.0",
      "model_name": "HTMLModel",
      "state": {
       "layout": "IPY_MODEL_9b228b234db04fd3a0e821f3035a1541",
       "style": "IPY_MODEL_591397789b0245c2a173b03847559626",
       "value": " 2000/2000 [00:01&lt;00:00, 1001.32it/s]"
      }
     },
     "0d8adfa7a7dc4822a6a51d98ee5a3959": {
      "model_module": "@jupyter-widgets/base",
      "model_module_version": "1.2.0",
      "model_name": "LayoutModel",
      "state": {}
     },
     "0dd97b6ad06f4161aa116c386e43c47d": {
      "model_module": "@jupyter-widgets/base",
      "model_module_version": "1.2.0",
      "model_name": "LayoutModel",
      "state": {}
     },
     "0ddcf15d381f4caea66c33a9a1aea284": {
      "model_module": "@jupyter-widgets/base",
      "model_module_version": "1.2.0",
      "model_name": "LayoutModel",
      "state": {}
     },
     "0df14853c08a403b837f6a6810b8da01": {
      "model_module": "@jupyter-widgets/base",
      "model_module_version": "1.2.0",
      "model_name": "LayoutModel",
      "state": {}
     },
     "0dfd1cd4ba7b482fbc89b296526cabc0": {
      "model_module": "@jupyter-widgets/controls",
      "model_module_version": "1.5.0",
      "model_name": "ProgressStyleModel",
      "state": {
       "description_width": "initial"
      }
     },
     "0e0b23a93f5c4fc0a304c156636c94e7": {
      "model_module": "@jupyter-widgets/base",
      "model_module_version": "1.2.0",
      "model_name": "LayoutModel",
      "state": {}
     },
     "0e426fd1c9ed44fd9d8aa7eba134f53e": {
      "model_module": "@jupyter-widgets/base",
      "model_module_version": "1.2.0",
      "model_name": "LayoutModel",
      "state": {}
     },
     "0e63e3d9d53546ed8e88e01ad6786310": {
      "model_module": "@jupyter-widgets/base",
      "model_module_version": "1.2.0",
      "model_name": "LayoutModel",
      "state": {}
     },
     "0e691521e4b14616b9269f2110e15097": {
      "model_module": "@jupyter-widgets/base",
      "model_module_version": "1.2.0",
      "model_name": "LayoutModel",
      "state": {}
     },
     "0e97b501db9f496796f8fda81078a27c": {
      "model_module": "@jupyter-widgets/base",
      "model_module_version": "1.2.0",
      "model_name": "LayoutModel",
      "state": {}
     },
     "0ecb48b0f91f458fa4ca28dcfb9757f5": {
      "model_module": "@jupyter-widgets/controls",
      "model_module_version": "1.5.0",
      "model_name": "HTMLModel",
      "state": {
       "layout": "IPY_MODEL_9638cc4736fa495f8bf3263353dbcf3a",
       "style": "IPY_MODEL_384b2492a30d4b2fb54b0f5706171b09",
       "value": " 0/2000 [03:07&lt;?, ?it/s]"
      }
     },
     "0ef84f9a37424ae2aecea49a2de92acf": {
      "model_module": "@jupyter-widgets/controls",
      "model_module_version": "1.5.0",
      "model_name": "HBoxModel",
      "state": {
       "children": [
        "IPY_MODEL_79d071c869cd4b638a91c4cf7ee2dfc4",
        "IPY_MODEL_35ba6b2b7d3d48b4a032ede0af9a566d"
       ],
       "layout": "IPY_MODEL_2b96d9be94124604b70fb0c55b66e2a9"
      }
     },
     "0ef91fd1b8a843518aafe71af5b857a3": {
      "model_module": "@jupyter-widgets/controls",
      "model_module_version": "1.5.0",
      "model_name": "HBoxModel",
      "state": {
       "children": [
        "IPY_MODEL_1499a5fb3c09433fb591d8be4206306a",
        "IPY_MODEL_077f73c267ce4da2b2c68ac37680d0b8"
       ],
       "layout": "IPY_MODEL_d9506164a25641a3af08b9a5ba2b4e30"
      }
     },
     "0f1be305ab774c3f9af9642b735ab324": {
      "model_module": "@jupyter-widgets/controls",
      "model_module_version": "1.5.0",
      "model_name": "HTMLModel",
      "state": {
       "layout": "IPY_MODEL_30af2330a300496081c6fb1e89cfa9ea",
       "style": "IPY_MODEL_80d5e24f2e5c478085b17918143ceac5",
       "value": " 0/5000 [17:13&lt;?, ?it/s]"
      }
     },
     "0f407cca808b45748f90805c99951b57": {
      "model_module": "@jupyter-widgets/base",
      "model_module_version": "1.2.0",
      "model_name": "LayoutModel",
      "state": {}
     },
     "1044a4c91ee345beb55fdf3413e6e6be": {
      "model_module": "@jupyter-widgets/controls",
      "model_module_version": "1.5.0",
      "model_name": "ProgressStyleModel",
      "state": {
       "description_width": "initial"
      }
     },
     "1069dc76b5de4a6e95be5b5f2368ac42": {
      "model_module": "@jupyter-widgets/controls",
      "model_module_version": "1.5.0",
      "model_name": "HBoxModel",
      "state": {
       "children": [
        "IPY_MODEL_6bdcc468c99e48258dc4416346587375",
        "IPY_MODEL_247ab37bb2d14a1e9059c6a5c3f56692"
       ],
       "layout": "IPY_MODEL_848d7ff43fc140d18b7b9c3dc91fa774"
      }
     },
     "107e4d86d1af4f658fdb6db651a1003d": {
      "model_module": "@jupyter-widgets/controls",
      "model_module_version": "1.5.0",
      "model_name": "HBoxModel",
      "state": {
       "children": [
        "IPY_MODEL_f8eabb9742b6467781dd9bcab9ad158c",
        "IPY_MODEL_18939e50b69a458c865ad54f6f85e2d2"
       ],
       "layout": "IPY_MODEL_1b1b2bd3ae23403396806d845153f8ec"
      }
     },
     "108d08c24be34f16b3cb4daf5fefe452": {
      "model_module": "@jupyter-widgets/base",
      "model_module_version": "1.2.0",
      "model_name": "LayoutModel",
      "state": {}
     },
     "10b5204c63b74494a107963fa8b6a036": {
      "model_module": "@jupyter-widgets/controls",
      "model_module_version": "1.5.0",
      "model_name": "HTMLModel",
      "state": {
       "layout": "IPY_MODEL_58a37d3f8b644992829f4fd96a096fa1",
       "style": "IPY_MODEL_7875c009da6840e0aa7b54440e21b140",
       "value": " 2000/2000 [00:19&lt;00:00, 103.24it/s]"
      }
     },
     "10f9ec4858a44cd6ac129dfa1e2fd94f": {
      "model_module": "@jupyter-widgets/controls",
      "model_module_version": "1.5.0",
      "model_name": "HBoxModel",
      "state": {
       "children": [
        "IPY_MODEL_e88b24c9bb82433ab1e39cc90894d7a0",
        "IPY_MODEL_fa1200f231574144ac84e1e3582a7f87"
       ],
       "layout": "IPY_MODEL_92934e8f1db84dcda478faf966efc1d6"
      }
     },
     "1160b784ef0640c8aaa781391d8e7d11": {
      "model_module": "@jupyter-widgets/controls",
      "model_module_version": "1.5.0",
      "model_name": "FloatProgressModel",
      "state": {
       "bar_style": "success",
       "description": "1.21: 100%",
       "layout": "IPY_MODEL_1d714b9bdb3b4bff9410b56b895c1d76",
       "max": 2000,
       "style": "IPY_MODEL_05f3f61d31a74811a4ed3c16b5b87a01",
       "value": 2000
      }
     },
     "11b6b8d45cd1495fb335e6ca315c676c": {
      "model_module": "@jupyter-widgets/base",
      "model_module_version": "1.2.0",
      "model_name": "LayoutModel",
      "state": {}
     },
     "11ee7f38d8004554a622725304967c90": {
      "model_module": "@jupyter-widgets/controls",
      "model_module_version": "1.5.0",
      "model_name": "HBoxModel",
      "state": {
       "children": [
        "IPY_MODEL_be5b02dfbdc7472499d69661b1323c93",
        "IPY_MODEL_06f69641ede34cd6b12c338a310a6e38"
       ],
       "layout": "IPY_MODEL_723e4df8e6dd4131bd858f1d28ea19a3"
      }
     },
     "1204e32a8c304b5fa1215f50f091edd4": {
      "model_module": "@jupyter-widgets/base",
      "model_module_version": "1.2.0",
      "model_name": "LayoutModel",
      "state": {}
     },
     "1275981f5a0f4e2eb6c8a8c5e3720377": {
      "model_module": "@jupyter-widgets/base",
      "model_module_version": "1.2.0",
      "model_name": "LayoutModel",
      "state": {}
     },
     "12ad98403496476c8c84521c74c694f6": {
      "model_module": "@jupyter-widgets/controls",
      "model_module_version": "1.5.0",
      "model_name": "HBoxModel",
      "state": {
       "children": [
        "IPY_MODEL_1f7fcd213ef64bc2b8993753cb843930",
        "IPY_MODEL_195e0cbcf18f4eb3a3ab1b5cbe1db6ec"
       ],
       "layout": "IPY_MODEL_804a47c77b1d4c06b540c4b6c11a212b"
      }
     },
     "12f617886ea345748e4628385085eb1d": {
      "model_module": "@jupyter-widgets/controls",
      "model_module_version": "1.5.0",
      "model_name": "ProgressStyleModel",
      "state": {
       "description_width": "initial"
      }
     },
     "13035b7f49a24fc894fd73097154e782": {
      "model_module": "@jupyter-widgets/base",
      "model_module_version": "1.2.0",
      "model_name": "LayoutModel",
      "state": {}
     },
     "131659187ce04e0584d27a7c2620bb86": {
      "model_module": "@jupyter-widgets/controls",
      "model_module_version": "1.5.0",
      "model_name": "HBoxModel",
      "state": {
       "children": [
        "IPY_MODEL_2caac081fa01482c802b26430a168151",
        "IPY_MODEL_17653268f66b4111b179226df135eee5"
       ],
       "layout": "IPY_MODEL_bfe6f1b6028640f8bf563799040b8552"
      }
     },
     "13543d0815af475da80bc55c01bc402a": {
      "model_module": "@jupyter-widgets/controls",
      "model_module_version": "1.5.0",
      "model_name": "HBoxModel",
      "state": {
       "children": [
        "IPY_MODEL_e51517e0dbc14e0c9518b7b86036d024",
        "IPY_MODEL_93ea5ae5332747b98418c8e14f1ee61d"
       ],
       "layout": "IPY_MODEL_0e97b501db9f496796f8fda81078a27c"
      }
     },
     "13ada00b11a6483d8c2380f6bbb823fa": {
      "model_module": "@jupyter-widgets/base",
      "model_module_version": "1.2.0",
      "model_name": "LayoutModel",
      "state": {}
     },
     "13b8d5ca999240d09f582d416900870f": {
      "model_module": "@jupyter-widgets/controls",
      "model_module_version": "1.5.0",
      "model_name": "ProgressStyleModel",
      "state": {
       "description_width": "initial"
      }
     },
     "13d0d5f6da94491aaebaa7d106a5d92c": {
      "model_module": "@jupyter-widgets/controls",
      "model_module_version": "1.5.0",
      "model_name": "HTMLModel",
      "state": {
       "layout": "IPY_MODEL_8eb76f8bcd45461490853db64f6aae27",
       "style": "IPY_MODEL_a1414a903c8142b09932d1b41b136388",
       "value": " 50/50 [00:16&lt;00:00,  3.04it/s]"
      }
     },
     "13d71cd30a794c9db41af9fa750e77a8": {
      "model_module": "@jupyter-widgets/base",
      "model_module_version": "1.2.0",
      "model_name": "LayoutModel",
      "state": {}
     },
     "1418e401f7b44a288916ae40350c9be0": {
      "model_module": "@jupyter-widgets/controls",
      "model_module_version": "1.5.0",
      "model_name": "FloatProgressModel",
      "state": {
       "bar_style": "success",
       "description": "1.11: 100%",
       "layout": "IPY_MODEL_0df14853c08a403b837f6a6810b8da01",
       "max": 2000,
       "style": "IPY_MODEL_0522b22f7388401b913c4cdc3f861e7d",
       "value": 2000
      }
     },
     "142569ea267d4dfd812939d41b87d691": {
      "model_module": "@jupyter-widgets/controls",
      "model_module_version": "1.5.0",
      "model_name": "HBoxModel",
      "state": {
       "children": [
        "IPY_MODEL_e9ef632532884cffb797bc4db0a3e575",
        "IPY_MODEL_a111fd3da6f34d089914a5a4bb26834e"
       ],
       "layout": "IPY_MODEL_f6b778fc4964452a99b96af47072f8a0"
      }
     },
     "1437da79da2442ea9d926de0725bd8e1": {
      "model_module": "@jupyter-widgets/controls",
      "model_module_version": "1.5.0",
      "model_name": "HBoxModel",
      "state": {
       "children": [
        "IPY_MODEL_b45f62eb5c7746f98704780459003fd1",
        "IPY_MODEL_095ee3570c574b559ba569602dc8265d"
       ],
       "layout": "IPY_MODEL_2df0f3e26b284bc28e74a59581ed08b5"
      }
     },
     "14496ef77ec54955ba7857dcc9c14a1b": {
      "model_module": "@jupyter-widgets/controls",
      "model_module_version": "1.5.0",
      "model_name": "DescriptionStyleModel",
      "state": {
       "description_width": ""
      }
     },
     "147c93b1646444519505b09e468dc263": {
      "model_module": "@jupyter-widgets/controls",
      "model_module_version": "1.5.0",
      "model_name": "FloatProgressModel",
      "state": {
       "bar_style": "danger",
       "description": "0.68:  14%",
       "layout": "IPY_MODEL_837bea8778ed4ba0872887d702933438",
       "max": 5000,
       "style": "IPY_MODEL_07709f0196384a4a9f51bae0a1a4371c",
       "value": 710
      }
     },
     "1499a5fb3c09433fb591d8be4206306a": {
      "model_module": "@jupyter-widgets/controls",
      "model_module_version": "1.5.0",
      "model_name": "FloatProgressModel",
      "state": {
       "bar_style": "success",
       "description": "1.1976159: 100%",
       "layout": "IPY_MODEL_34895999462b401996acae493221de12",
       "max": 50,
       "style": "IPY_MODEL_614b38b75492470ab7a01bf0cb5b880c",
       "value": 50
      }
     },
     "14e082376006484ab569f312619b40ae": {
      "model_module": "@jupyter-widgets/base",
      "model_module_version": "1.2.0",
      "model_name": "LayoutModel",
      "state": {}
     },
     "150622a53cf64c5d889f11695640fe3a": {
      "model_module": "@jupyter-widgets/base",
      "model_module_version": "1.2.0",
      "model_name": "LayoutModel",
      "state": {}
     },
     "154099e1df924bbe80bea5a7b193eaf1": {
      "model_module": "@jupyter-widgets/base",
      "model_module_version": "1.2.0",
      "model_name": "LayoutModel",
      "state": {}
     },
     "154ea35008e14c25a32cca1bfca39091": {
      "model_module": "@jupyter-widgets/controls",
      "model_module_version": "1.5.0",
      "model_name": "HBoxModel",
      "state": {
       "children": [
        "IPY_MODEL_a3f1e7a5b6554662821626e593552bb1",
        "IPY_MODEL_68d41be28b3c4dcc8797d439753a03d8"
       ],
       "layout": "IPY_MODEL_520eaaf2c8d64fd685d0513edca4e42c"
      }
     },
     "15ce2c175624463a88656fbb718f9dd2": {
      "model_module": "@jupyter-widgets/controls",
      "model_module_version": "1.5.0",
      "model_name": "HTMLModel",
      "state": {
       "layout": "IPY_MODEL_ed2be44002cf42418b74563fa58d8c25",
       "style": "IPY_MODEL_42b0e9c0cd874d9caf2d306e9ad1931a",
       "value": " 5000/5000 [02:23&lt;00:00, 34.76it/s]"
      }
     },
     "16161a322802488185c307f54bd344f0": {
      "model_module": "@jupyter-widgets/base",
      "model_module_version": "1.2.0",
      "model_name": "LayoutModel",
      "state": {}
     },
     "1640c3fcb48f4a149e97380816b7d440": {
      "model_module": "@jupyter-widgets/controls",
      "model_module_version": "1.5.0",
      "model_name": "HTMLModel",
      "state": {
       "layout": "IPY_MODEL_b438dd3a4b0e4d4195fc82e5d8670b1e",
       "style": "IPY_MODEL_547b6cf6510f4dddb62a11e6640832a0",
       "value": " 264/5000 [10:05&lt;3:01:09,  2.30s/it]"
      }
     },
     "168c5cc2a6ee4b16ad86628923afb544": {
      "model_module": "@jupyter-widgets/controls",
      "model_module_version": "1.5.0",
      "model_name": "HTMLModel",
      "state": {
       "layout": "IPY_MODEL_841fc1ee31664b3b829ef95c20e759c9",
       "style": "IPY_MODEL_7786ab49078142e6bea76e9b0d6f5662",
       "value": " 0/2000 [01:27&lt;?, ?it/s]"
      }
     },
     "16938ed41f63423c863c77c1c7405eaf": {
      "model_module": "@jupyter-widgets/base",
      "model_module_version": "1.2.0",
      "model_name": "LayoutModel",
      "state": {}
     },
     "16aa5db4e7fc46f0afe333fc4dbbedf1": {
      "model_module": "@jupyter-widgets/controls",
      "model_module_version": "1.5.0",
      "model_name": "HTMLModel",
      "state": {
       "layout": "IPY_MODEL_8ef4c3ab0063496f9ab42b7e2bf306bd",
       "style": "IPY_MODEL_05f300f8f80c46cebc18e08fd16a8808",
       "value": " 2000/2000 [00:15&lt;00:00, 132.33it/s]"
      }
     },
     "16bbe41c5c7f4019b20c42922752ed37": {
      "model_module": "@jupyter-widgets/controls",
      "model_module_version": "1.5.0",
      "model_name": "DescriptionStyleModel",
      "state": {
       "description_width": ""
      }
     },
     "16ebc74260b14c40939513c3edcbfe45": {
      "model_module": "@jupyter-widgets/controls",
      "model_module_version": "1.5.0",
      "model_name": "ProgressStyleModel",
      "state": {
       "description_width": "initial"
      }
     },
     "17653268f66b4111b179226df135eee5": {
      "model_module": "@jupyter-widgets/controls",
      "model_module_version": "1.5.0",
      "model_name": "HTMLModel",
      "state": {
       "layout": "IPY_MODEL_6e1af427eaee4e66932278a2c008ea6d",
       "style": "IPY_MODEL_9182db2e1f134bd5aa04fc8b66f86150",
       "value": " 2000/2000 [01:02&lt;00:00, 32.21it/s]"
      }
     },
     "17c8d370ee8440349de1585eb2bb1e7f": {
      "model_module": "@jupyter-widgets/base",
      "model_module_version": "1.2.0",
      "model_name": "LayoutModel",
      "state": {}
     },
     "187c219137f54e7c81006eea61b7254e": {
      "model_module": "@jupyter-widgets/controls",
      "model_module_version": "1.5.0",
      "model_name": "HBoxModel",
      "state": {
       "children": [
        "IPY_MODEL_de45e276660e43af9718f4bff277bf9e",
        "IPY_MODEL_f828ff21a4874072a111c28af6fada40"
       ],
       "layout": "IPY_MODEL_ba2f0045c3184492a95e4a274c1aeffd"
      }
     },
     "18939e50b69a458c865ad54f6f85e2d2": {
      "model_module": "@jupyter-widgets/controls",
      "model_module_version": "1.5.0",
      "model_name": "HTMLModel",
      "state": {
       "layout": "IPY_MODEL_14e082376006484ab569f312619b40ae",
       "style": "IPY_MODEL_7764dd3289844bd682f35c70827d42af",
       "value": " 2000/2000 [00:10&lt;00:00, 197.41it/s]"
      }
     },
     "1920f32bd12f4a4ba4720c5fd34e8ce3": {
      "model_module": "@jupyter-widgets/controls",
      "model_module_version": "1.5.0",
      "model_name": "FloatProgressModel",
      "state": {
       "bar_style": "success",
       "description": "nan: 100%",
       "layout": "IPY_MODEL_b987a7585728434a97414b6b2f93b823",
       "max": 50,
       "style": "IPY_MODEL_12f617886ea345748e4628385085eb1d",
       "value": 50
      }
     },
     "1935ccbf066043f6ac2db3320c6375bc": {
      "model_module": "@jupyter-widgets/controls",
      "model_module_version": "1.5.0",
      "model_name": "HBoxModel",
      "state": {
       "children": [
        "IPY_MODEL_9fbcc5ee134845bd90840433f3a34953",
        "IPY_MODEL_d20ac612f86848b992f15ef1fc134b46"
       ],
       "layout": "IPY_MODEL_29e4ae93de4a46e1b89cbb4fef7cd3f5"
      }
     },
     "195e0cbcf18f4eb3a3ab1b5cbe1db6ec": {
      "model_module": "@jupyter-widgets/controls",
      "model_module_version": "1.5.0",
      "model_name": "HTMLModel",
      "state": {
       "layout": "IPY_MODEL_40c9c80bb49d4b70b487873be09e7a7a",
       "style": "IPY_MODEL_7b34a2365ff7488d92f06bafc98ddc4a",
       "value": " 0/2000 [01:29&lt;?, ?it/s]"
      }
     },
     "196bf0476c5f410a8021da195a0a838a": {
      "model_module": "@jupyter-widgets/controls",
      "model_module_version": "1.5.0",
      "model_name": "DescriptionStyleModel",
      "state": {
       "description_width": ""
      }
     },
     "19777488133a483f9e77146c1a5d00e3": {
      "model_module": "@jupyter-widgets/base",
      "model_module_version": "1.2.0",
      "model_name": "LayoutModel",
      "state": {}
     },
     "198f71d83eca48fb8910439522a657dd": {
      "model_module": "@jupyter-widgets/controls",
      "model_module_version": "1.5.0",
      "model_name": "HBoxModel",
      "state": {
       "children": [
        "IPY_MODEL_8299e9f586d0431d9d943737c173729f",
        "IPY_MODEL_c958a1abcc9a45b2a310f06a8dd3b86a"
       ],
       "layout": "IPY_MODEL_7eee7dae74df4f9aa3e7b683674f4449"
      }
     },
     "199a53645b384cb88b77f366649aa72a": {
      "model_module": "@jupyter-widgets/base",
      "model_module_version": "1.2.0",
      "model_name": "LayoutModel",
      "state": {}
     },
     "19cc0d1a51ed49d1be1685519fd2f16d": {
      "model_module": "@jupyter-widgets/controls",
      "model_module_version": "1.5.0",
      "model_name": "ProgressStyleModel",
      "state": {
       "description_width": "initial"
      }
     },
     "19d6f6842a484596a982e5c8d1170f51": {
      "model_module": "@jupyter-widgets/base",
      "model_module_version": "1.2.0",
      "model_name": "LayoutModel",
      "state": {}
     },
     "19e4c698f18146e8a37dba07fbe0795e": {
      "model_module": "@jupyter-widgets/controls",
      "model_module_version": "1.5.0",
      "model_name": "FloatProgressModel",
      "state": {
       "bar_style": "success",
       "description": "1.04: 100%",
       "layout": "IPY_MODEL_0ddcf15d381f4caea66c33a9a1aea284",
       "max": 2000,
       "style": "IPY_MODEL_6a42b28084014017807c55ddd6e6c574",
       "value": 2000
      }
     },
     "19f6513eb4434d17a4d8af0827b1c099": {
      "model_module": "@jupyter-widgets/base",
      "model_module_version": "1.2.0",
      "model_name": "LayoutModel",
      "state": {}
     },
     "1ae9ec416f6344178e59b0fea3f6d448": {
      "model_module": "@jupyter-widgets/controls",
      "model_module_version": "1.5.0",
      "model_name": "HTMLModel",
      "state": {
       "layout": "IPY_MODEL_67305abd715c493cb38bd78940b3b5dd",
       "style": "IPY_MODEL_2d9b62c4cad04e6eb48104eb1435cbd1",
       "value": " 2000/2000 [00:14&lt;00:00, 139.94it/s]"
      }
     },
     "1b1b2bd3ae23403396806d845153f8ec": {
      "model_module": "@jupyter-widgets/base",
      "model_module_version": "1.2.0",
      "model_name": "LayoutModel",
      "state": {}
     },
     "1b2dce1fe1fc401096d7e808bfcd246d": {
      "model_module": "@jupyter-widgets/controls",
      "model_module_version": "1.5.0",
      "model_name": "HBoxModel",
      "state": {
       "children": [
        "IPY_MODEL_741faadf4529435daa0a6c08af5f236f",
        "IPY_MODEL_bba9855a5ab54fb9aa8ef4d2378956af"
       ],
       "layout": "IPY_MODEL_c0c71f5a532d4bf2bd757ed9c7a8c102"
      }
     },
     "1b42a19bb4a14d32a272b3d77821ce75": {
      "model_module": "@jupyter-widgets/controls",
      "model_module_version": "1.5.0",
      "model_name": "HTMLModel",
      "state": {
       "layout": "IPY_MODEL_ecefd81634bb45c182b438d74b375606",
       "style": "IPY_MODEL_6d31ece42a744787a5fc51c17934167c",
       "value": " 2000/2000 [00:11&lt;00:00, 168.32it/s]"
      }
     },
     "1c56a951612944c88b3fa3d698cc9073": {
      "model_module": "@jupyter-widgets/controls",
      "model_module_version": "1.5.0",
      "model_name": "ProgressStyleModel",
      "state": {
       "description_width": "initial"
      }
     },
     "1c67cc1a0d394de2b35a5ab79405ceba": {
      "model_module": "@jupyter-widgets/controls",
      "model_module_version": "1.5.0",
      "model_name": "DescriptionStyleModel",
      "state": {
       "description_width": ""
      }
     },
     "1c975cab363d42a49c71b5012fe63075": {
      "model_module": "@jupyter-widgets/controls",
      "model_module_version": "1.5.0",
      "model_name": "HBoxModel",
      "state": {
       "children": [
        "IPY_MODEL_5e7879b4fd7d427e9ec5a70c32cca100",
        "IPY_MODEL_0573e1c55ecb495eb0616d3d999b7323"
       ],
       "layout": "IPY_MODEL_d9c3fdc271d441658107381419336b00"
      }
     },
     "1cffba1dfc0445a1bfea292a0894fe78": {
      "model_module": "@jupyter-widgets/base",
      "model_module_version": "1.2.0",
      "model_name": "LayoutModel",
      "state": {}
     },
     "1d714b9bdb3b4bff9410b56b895c1d76": {
      "model_module": "@jupyter-widgets/base",
      "model_module_version": "1.2.0",
      "model_name": "LayoutModel",
      "state": {}
     },
     "1dabc90bb2cf4b2595a62df8624ee9ea": {
      "model_module": "@jupyter-widgets/controls",
      "model_module_version": "1.5.0",
      "model_name": "HBoxModel",
      "state": {
       "children": [
        "IPY_MODEL_a468ab16cf774d20b3f0e3ce21a00e64",
        "IPY_MODEL_d7dfd8de9f9d40fa877360e04de1da00"
       ],
       "layout": "IPY_MODEL_868a723f233c491a9452b82b39e2ca9b"
      }
     },
     "1dd5b779b7454e05a63090e003d6aed1": {
      "model_module": "@jupyter-widgets/controls",
      "model_module_version": "1.5.0",
      "model_name": "FloatProgressModel",
      "state": {
       "bar_style": "success",
       "description": "1.89: 100%",
       "layout": "IPY_MODEL_4bfee2b2fb31457d8a9970959af7919e",
       "max": 2000,
       "style": "IPY_MODEL_0ac47c1e586b4952a8b4b237aaa099ed",
       "value": 2000
      }
     },
     "1e0dcc5b361446fa8983798adb6ed73b": {
      "model_module": "@jupyter-widgets/base",
      "model_module_version": "1.2.0",
      "model_name": "LayoutModel",
      "state": {}
     },
     "1e887883e0c848b6a48799cc8541db59": {
      "model_module": "@jupyter-widgets/controls",
      "model_module_version": "1.5.0",
      "model_name": "DescriptionStyleModel",
      "state": {
       "description_width": ""
      }
     },
     "1e9a1632c2734dd3b112b426b9c55994": {
      "model_module": "@jupyter-widgets/controls",
      "model_module_version": "1.5.0",
      "model_name": "HTMLModel",
      "state": {
       "layout": "IPY_MODEL_872e0cc2b719490980e2cd82623127bb",
       "style": "IPY_MODEL_0129c3ccfdb34cc682de8fe782d397f4",
       "value": " 0/50 [03:44&lt;?, ?it/s]"
      }
     },
     "1ea2cb9987554589836344589182eb25": {
      "model_module": "@jupyter-widgets/controls",
      "model_module_version": "1.5.0",
      "model_name": "DescriptionStyleModel",
      "state": {
       "description_width": ""
      }
     },
     "1ec0a23555f3496282468a68bfd5b8c4": {
      "model_module": "@jupyter-widgets/controls",
      "model_module_version": "1.5.0",
      "model_name": "HTMLModel",
      "state": {
       "layout": "IPY_MODEL_a42595d6deaa479aa0fd9aaa60ae5d99",
       "style": "IPY_MODEL_d9c944a15c664efa8ae29fc07a495cb5",
       "value": " 2000/2000 [00:20&lt;00:00, 99.50it/s]"
      }
     },
     "1f223a4a76454a23aba98d5fa22a5d5f": {
      "model_module": "@jupyter-widgets/base",
      "model_module_version": "1.2.0",
      "model_name": "LayoutModel",
      "state": {}
     },
     "1f2e3f097a074d46a428363c95f60058": {
      "model_module": "@jupyter-widgets/base",
      "model_module_version": "1.2.0",
      "model_name": "LayoutModel",
      "state": {}
     },
     "1f33c82d9bf34e61bf7aaac7a956e90c": {
      "model_module": "@jupyter-widgets/controls",
      "model_module_version": "1.5.0",
      "model_name": "HBoxModel",
      "state": {
       "children": [
        "IPY_MODEL_fbd93b9b304745d9b6e1c31552cee46f",
        "IPY_MODEL_e6901274d8d2419584f3f39dd4f4fce9"
       ],
       "layout": "IPY_MODEL_e0719fd8f5cb4049a2fa2fca3a6658b9"
      }
     },
     "1f5be9cbe1834418bfc3c0635bd56458": {
      "model_module": "@jupyter-widgets/controls",
      "model_module_version": "1.5.0",
      "model_name": "HBoxModel",
      "state": {
       "children": [
        "IPY_MODEL_f41f4f42cca64738a2153b5aa22b5733",
        "IPY_MODEL_955bdcf6f1b645b0b88af3a784feecc5"
       ],
       "layout": "IPY_MODEL_6ae46325c1e145b7a46d44466fc363af"
      }
     },
     "1f7fcd213ef64bc2b8993753cb843930": {
      "model_module": "@jupyter-widgets/controls",
      "model_module_version": "1.5.0",
      "model_name": "FloatProgressModel",
      "state": {
       "bar_style": "danger",
       "description": "  0%",
       "layout": "IPY_MODEL_a64c8a7a9fd04b38bfa0d3d65aa9b020",
       "max": 2000,
       "style": "IPY_MODEL_67f215d09a70402b8782396a146f8866"
      }
     },
     "1fbfe8fba08d4be5ac00430f3f6c34cc": {
      "model_module": "@jupyter-widgets/controls",
      "model_module_version": "1.5.0",
      "model_name": "ProgressStyleModel",
      "state": {
       "description_width": "initial"
      }
     },
     "1fc2dd5ab68648118f351811360a97ba": {
      "model_module": "@jupyter-widgets/controls",
      "model_module_version": "1.5.0",
      "model_name": "FloatProgressModel",
      "state": {
       "bar_style": "success",
       "description": "2.32: 100%",
       "layout": "IPY_MODEL_418de482afa6472a99541e29f4b48480",
       "max": 10,
       "style": "IPY_MODEL_b9162d255a664ddca6a333f73076efb5",
       "value": 10
      }
     },
     "1fc47b8233214c0a8017f17be60a9655": {
      "model_module": "@jupyter-widgets/controls",
      "model_module_version": "1.5.0",
      "model_name": "HTMLModel",
      "state": {
       "layout": "IPY_MODEL_24feb4c3c5d343b19ec97ef8a4a42f2c",
       "style": "IPY_MODEL_427bc83edc014c0bbf72f94b29156348",
       "value": " 10/10 [01:59&lt;00:00, 11.93s/it]"
      }
     },
     "1fff66fc1ff549aca64264a61c1cf067": {
      "model_module": "@jupyter-widgets/base",
      "model_module_version": "1.2.0",
      "model_name": "LayoutModel",
      "state": {}
     },
     "201b6a06f59f4859921bb2f01aaba057": {
      "model_module": "@jupyter-widgets/controls",
      "model_module_version": "1.5.0",
      "model_name": "FloatProgressModel",
      "state": {
       "bar_style": "danger",
       "description": "  0%",
       "layout": "IPY_MODEL_b3f3822a1d0d4367b5a716300af07451",
       "max": 50,
       "style": "IPY_MODEL_8f67909ba47249cc86228b6a4f6b470a"
      }
     },
     "20ac0df5d7d34a9eaf6092d1aea8771c": {
      "model_module": "@jupyter-widgets/controls",
      "model_module_version": "1.5.0",
      "model_name": "HBoxModel",
      "state": {
       "children": [
        "IPY_MODEL_c21bb51320b543368fb8a7de83d4a391",
        "IPY_MODEL_4ddf5005b25e482eada12d9c08b54d01"
       ],
       "layout": "IPY_MODEL_d26e02b50b5443fabdce113529537a1e"
      }
     },
     "21737de3bfe543948d38f07b46d68f39": {
      "model_module": "@jupyter-widgets/controls",
      "model_module_version": "1.5.0",
      "model_name": "FloatProgressModel",
      "state": {
       "bar_style": "success",
       "description": "2.33: 100%",
       "layout": "IPY_MODEL_64948219eee840b086a5bba83495ccf4",
       "max": 10,
       "style": "IPY_MODEL_020514ee6c6f4ae5ba69e9ac1f84676d",
       "value": 10
      }
     },
     "22c4950d1c9a457abdd85cdeb97a408d": {
      "model_module": "@jupyter-widgets/base",
      "model_module_version": "1.2.0",
      "model_name": "LayoutModel",
      "state": {}
     },
     "22f16b4eb1a744d3b8e9205a5dabaf58": {
      "model_module": "@jupyter-widgets/controls",
      "model_module_version": "1.5.0",
      "model_name": "ProgressStyleModel",
      "state": {
       "description_width": "initial"
      }
     },
     "232d0829098548f580c23f65659e0e6e": {
      "model_module": "@jupyter-widgets/controls",
      "model_module_version": "1.5.0",
      "model_name": "DescriptionStyleModel",
      "state": {
       "description_width": ""
      }
     },
     "232f8456252e4f8285a32401c8a1cb28": {
      "model_module": "@jupyter-widgets/controls",
      "model_module_version": "1.5.0",
      "model_name": "ProgressStyleModel",
      "state": {
       "description_width": "initial"
      }
     },
     "23b606fa47a448f8a2c42d88dd64dbe6": {
      "model_module": "@jupyter-widgets/controls",
      "model_module_version": "1.5.0",
      "model_name": "FloatProgressModel",
      "state": {
       "bar_style": "danger",
       "description": "0.90:   5%",
       "layout": "IPY_MODEL_41cafd3d2a4d488993e8eeaa36930916",
       "max": 5000,
       "style": "IPY_MODEL_bae56c33b1a04999b5e4b37a5d8e382e",
       "value": 234
      }
     },
     "23bff00bc27d42afa42fb8a18d79894c": {
      "model_module": "@jupyter-widgets/base",
      "model_module_version": "1.2.0",
      "model_name": "LayoutModel",
      "state": {}
     },
     "23f4d0a605b44f52b7ce784689cc58fd": {
      "model_module": "@jupyter-widgets/controls",
      "model_module_version": "1.5.0",
      "model_name": "HTMLModel",
      "state": {
       "layout": "IPY_MODEL_70fec680e44344018221e02b27a64cc4",
       "style": "IPY_MODEL_232d0829098548f580c23f65659e0e6e",
       "value": " 50/50 [01:53&lt;00:00,  2.26s/it]"
      }
     },
     "247ab37bb2d14a1e9059c6a5c3f56692": {
      "model_module": "@jupyter-widgets/controls",
      "model_module_version": "1.5.0",
      "model_name": "HTMLModel",
      "state": {
       "layout": "IPY_MODEL_e69e47660717450ea32d701af6b31234",
       "style": "IPY_MODEL_5a873118c46e4b3289dfac72fae38edc",
       "value": " 5000/5000 [00:19&lt;00:00, 254.27it/s]"
      }
     },
     "24d07026873c4274bec704462b19bb69": {
      "model_module": "@jupyter-widgets/base",
      "model_module_version": "1.2.0",
      "model_name": "LayoutModel",
      "state": {}
     },
     "24e926a279844cc89d3a9c6ada6735d7": {
      "model_module": "@jupyter-widgets/controls",
      "model_module_version": "1.5.0",
      "model_name": "HTMLModel",
      "state": {
       "layout": "IPY_MODEL_705f1e2c9bfb498bad5e912d049e9c7a",
       "style": "IPY_MODEL_fc644e5bc7b24561adb9595bfd5e2c2a",
       "value": " 2000/2000 [00:08&lt;00:00, 246.91it/s]"
      }
     },
     "24feb4c3c5d343b19ec97ef8a4a42f2c": {
      "model_module": "@jupyter-widgets/base",
      "model_module_version": "1.2.0",
      "model_name": "LayoutModel",
      "state": {}
     },
     "257ec6bba7d048a1839c2b02f6767e6b": {
      "model_module": "@jupyter-widgets/base",
      "model_module_version": "1.2.0",
      "model_name": "LayoutModel",
      "state": {}
     },
     "258cf45b21ce40a1a411066cae2c61c0": {
      "model_module": "@jupyter-widgets/controls",
      "model_module_version": "1.5.0",
      "model_name": "HBoxModel",
      "state": {
       "children": [
        "IPY_MODEL_63846c34af604c539dd83727f0cb5e98",
        "IPY_MODEL_92be128dd09b408e8251324bba1be1a3"
       ],
       "layout": "IPY_MODEL_ca68dddd10b44f2f814be15e15fea2d8"
      }
     },
     "25a38255f2a44b4aa9bf268661466baa": {
      "model_module": "@jupyter-widgets/base",
      "model_module_version": "1.2.0",
      "model_name": "LayoutModel",
      "state": {}
     },
     "25ad8d66bacb48b7b634f8cb4f5de70b": {
      "model_module": "@jupyter-widgets/controls",
      "model_module_version": "1.5.0",
      "model_name": "FloatProgressModel",
      "state": {
       "bar_style": "success",
       "description": "0.97: 100%",
       "layout": "IPY_MODEL_295e73a4f3eb4370a482c4b987c70d40",
       "max": 2000,
       "style": "IPY_MODEL_ebcf1982f8fd490ebc56dcb23cd693bd",
       "value": 2000
      }
     },
     "25ccfd4093b54471a1e22a5f7e0650d1": {
      "model_module": "@jupyter-widgets/base",
      "model_module_version": "1.2.0",
      "model_name": "LayoutModel",
      "state": {}
     },
     "25e8cda8462e4eda9bc5bf4bad04103c": {
      "model_module": "@jupyter-widgets/controls",
      "model_module_version": "1.5.0",
      "model_name": "DescriptionStyleModel",
      "state": {
       "description_width": ""
      }
     },
     "261801519b924b11aeb23ba1aa327566": {
      "model_module": "@jupyter-widgets/controls",
      "model_module_version": "1.5.0",
      "model_name": "ProgressStyleModel",
      "state": {
       "description_width": "initial"
      }
     },
     "261e420b907948c6a1cc0b3f2866c5e2": {
      "model_module": "@jupyter-widgets/base",
      "model_module_version": "1.2.0",
      "model_name": "LayoutModel",
      "state": {}
     },
     "26d9583215e1480ca9879ab4ad0e9564": {
      "model_module": "@jupyter-widgets/controls",
      "model_module_version": "1.5.0",
      "model_name": "ProgressStyleModel",
      "state": {
       "description_width": "initial"
      }
     },
     "26ddc38f8b2143b2a130420cb603e6db": {
      "model_module": "@jupyter-widgets/controls",
      "model_module_version": "1.5.0",
      "model_name": "HTMLModel",
      "state": {
       "layout": "IPY_MODEL_99c8e7284c9349cfb4a1427795ee8709",
       "style": "IPY_MODEL_a275d1f1fa394a8cad86e0c1f17b1dd7",
       "value": " 0/50 [03:10&lt;?, ?it/s]"
      }
     },
     "2714de31e40c42009af3dc9db2e03912": {
      "model_module": "@jupyter-widgets/controls",
      "model_module_version": "1.5.0",
      "model_name": "FloatProgressModel",
      "state": {
       "bar_style": "success",
       "description": "1.83: 100%",
       "layout": "IPY_MODEL_ebe1b13b858448c1bd599f02419a694c",
       "max": 2000,
       "style": "IPY_MODEL_8716b7c5447546a899796f56aacacaa9",
       "value": 2000
      }
     },
     "276035b29db747c1b01a7cbcb33f2d1d": {
      "model_module": "@jupyter-widgets/controls",
      "model_module_version": "1.5.0",
      "model_name": "HBoxModel",
      "state": {
       "children": [
        "IPY_MODEL_aaef6cbf59484d9392c772a8c0d44c57",
        "IPY_MODEL_dd9bb82d8ca847a8ae25bf8e89e1f78b"
       ],
       "layout": "IPY_MODEL_c27c85c49d9541aa8e9f3520208f1781"
      }
     },
     "27ea18e2e00148eb940e7380f85a15fe": {
      "model_module": "@jupyter-widgets/base",
      "model_module_version": "1.2.0",
      "model_name": "LayoutModel",
      "state": {}
     },
     "28033458683640a8aabe6ea8b33bd9d9": {
      "model_module": "@jupyter-widgets/base",
      "model_module_version": "1.2.0",
      "model_name": "LayoutModel",
      "state": {}
     },
     "2809ddc9c27544a39b44563fd5ca8337": {
      "model_module": "@jupyter-widgets/base",
      "model_module_version": "1.2.0",
      "model_name": "LayoutModel",
      "state": {}
     },
     "2848e9f7d40448dd9ed2ee1879517b9f": {
      "model_module": "@jupyter-widgets/controls",
      "model_module_version": "1.5.0",
      "model_name": "HTMLModel",
      "state": {
       "layout": "IPY_MODEL_0a701ddcbca74b6696778d9cd320a6b2",
       "style": "IPY_MODEL_7602d8b2fa564a4eafa090ae5105836c",
       "value": " 2000/2000 [00:08&lt;00:00, 238.45it/s]"
      }
     },
     "28bbcc53ba2e4dbc86d2587872e64185": {
      "model_module": "@jupyter-widgets/controls",
      "model_module_version": "1.5.0",
      "model_name": "HBoxModel",
      "state": {
       "children": [
        "IPY_MODEL_341773b2d610417c9a76b6b3c0569403",
        "IPY_MODEL_69d50e187dca4c78a667a3c03f832029"
       ],
       "layout": "IPY_MODEL_108d08c24be34f16b3cb4daf5fefe452"
      }
     },
     "28ec12ac212745288ea86df1ba4a3a94": {
      "model_module": "@jupyter-widgets/controls",
      "model_module_version": "1.5.0",
      "model_name": "FloatProgressModel",
      "state": {
       "bar_style": "success",
       "description": "nan: 100%",
       "layout": "IPY_MODEL_03eb55fa539a474e8b505ccee9ecd6a0",
       "max": 50,
       "style": "IPY_MODEL_d55c044b0bd448a59c7831e35a15406e",
       "value": 50
      }
     },
     "2921098df93348edb8c204319a7bec39": {
      "model_module": "@jupyter-widgets/base",
      "model_module_version": "1.2.0",
      "model_name": "LayoutModel",
      "state": {}
     },
     "2951f8363f154af183e029b479c06719": {
      "model_module": "@jupyter-widgets/base",
      "model_module_version": "1.2.0",
      "model_name": "LayoutModel",
      "state": {}
     },
     "295e73a4f3eb4370a482c4b987c70d40": {
      "model_module": "@jupyter-widgets/base",
      "model_module_version": "1.2.0",
      "model_name": "LayoutModel",
      "state": {}
     },
     "29e36d1ac69b41e99e940cef56b0c344": {
      "model_module": "@jupyter-widgets/controls",
      "model_module_version": "1.5.0",
      "model_name": "ProgressStyleModel",
      "state": {
       "description_width": "initial"
      }
     },
     "29e4ae93de4a46e1b89cbb4fef7cd3f5": {
      "model_module": "@jupyter-widgets/base",
      "model_module_version": "1.2.0",
      "model_name": "LayoutModel",
      "state": {}
     },
     "29ee257aeb2c4f6ab3e1cf17487502a5": {
      "model_module": "@jupyter-widgets/controls",
      "model_module_version": "1.5.0",
      "model_name": "HTMLModel",
      "state": {
       "layout": "IPY_MODEL_09db68cbf3db44548a509a3395617582",
       "style": "IPY_MODEL_4be6f1e70ccc4ee5955993d409beb382",
       "value": " 2000/2000 [00:04&lt;00:00, 410.95it/s]"
      }
     },
     "2aac326a91c0402db061ac5485933671": {
      "model_module": "@jupyter-widgets/base",
      "model_module_version": "1.2.0",
      "model_name": "LayoutModel",
      "state": {}
     },
     "2b4501c1ba214b49b56ae9475feab87f": {
      "model_module": "@jupyter-widgets/controls",
      "model_module_version": "1.5.0",
      "model_name": "HTMLModel",
      "state": {
       "layout": "IPY_MODEL_d62512894d1f4a14a522af5bad414ff4",
       "style": "IPY_MODEL_733932718c2d4c7e8d1084ba13f1b92f",
       "value": " 36/100 [00:09&lt;00:14,  4.30it/s]"
      }
     },
     "2b96d9be94124604b70fb0c55b66e2a9": {
      "model_module": "@jupyter-widgets/base",
      "model_module_version": "1.2.0",
      "model_name": "LayoutModel",
      "state": {}
     },
     "2bba775b9db94ee1ae62e480c022fd6f": {
      "model_module": "@jupyter-widgets/base",
      "model_module_version": "1.2.0",
      "model_name": "LayoutModel",
      "state": {}
     },
     "2bbd2118fd7e40508d7a3f099f4b2ed2": {
      "model_module": "@jupyter-widgets/base",
      "model_module_version": "1.2.0",
      "model_name": "LayoutModel",
      "state": {}
     },
     "2bd3a61c83264953977ad2ed64d10ac9": {
      "model_module": "@jupyter-widgets/base",
      "model_module_version": "1.2.0",
      "model_name": "LayoutModel",
      "state": {}
     },
     "2bda0742e06746cc945117a00943b381": {
      "model_module": "@jupyter-widgets/controls",
      "model_module_version": "1.5.0",
      "model_name": "FloatProgressModel",
      "state": {
       "bar_style": "success",
       "description": "1.26: 100%",
       "layout": "IPY_MODEL_a632deed14374c45977d18de2ed4193b",
       "max": 2000,
       "style": "IPY_MODEL_7cad4b4e06f944ac99e540dc2dad0491",
       "value": 2000
      }
     },
     "2c0b62742c144ed78b653e6c9401732c": {
      "model_module": "@jupyter-widgets/controls",
      "model_module_version": "1.5.0",
      "model_name": "HBoxModel",
      "state": {
       "children": [
        "IPY_MODEL_33b2c300e7fd43c885b2d1c77dea0b49",
        "IPY_MODEL_57f715313732496d91fb5ee0867fe401"
       ],
       "layout": "IPY_MODEL_0cef70b4cb51491e8b8f340dd485b9cd"
      }
     },
     "2c41b9e1937f4506aeca32220433fbd0": {
      "model_module": "@jupyter-widgets/controls",
      "model_module_version": "1.5.0",
      "model_name": "ProgressStyleModel",
      "state": {
       "description_width": "initial"
      }
     },
     "2c5d5f43e77a4cbdb6e50ca537739f23": {
      "model_module": "@jupyter-widgets/controls",
      "model_module_version": "1.5.0",
      "model_name": "HTMLModel",
      "state": {
       "layout": "IPY_MODEL_ec0af8b2c1754a7f8053d509e56af4e5",
       "style": "IPY_MODEL_ca48f186359a46b19ad6f3f20b9902af",
       "value": " 0/50 [00:00&lt;?, ?it/s]"
      }
     },
     "2c93d26c18d94daba3883e813004e2b3": {
      "model_module": "@jupyter-widgets/controls",
      "model_module_version": "1.5.0",
      "model_name": "ProgressStyleModel",
      "state": {
       "description_width": "initial"
      }
     },
     "2caac081fa01482c802b26430a168151": {
      "model_module": "@jupyter-widgets/controls",
      "model_module_version": "1.5.0",
      "model_name": "FloatProgressModel",
      "state": {
       "bar_style": "success",
       "description": "0.99: 100%",
       "layout": "IPY_MODEL_84e91fe5fcf940fe906c65f92d11687f",
       "max": 2000,
       "style": "IPY_MODEL_3773aadcce284b458f49a3c18e7e6391",
       "value": 2000
      }
     },
     "2cd9bb405945469a940c89ce34ec64ce": {
      "model_module": "@jupyter-widgets/controls",
      "model_module_version": "1.5.0",
      "model_name": "HTMLModel",
      "state": {
       "layout": "IPY_MODEL_040fcc6294074ed8a8ad9ecd4bafb595",
       "style": "IPY_MODEL_2ec4823e179540fd8920c357928bd26f",
       "value": " 2000/2000 [00:35&lt;00:00, 56.16it/s]"
      }
     },
     "2cf858528f5f403c9e9d72558a3a998e": {
      "model_module": "@jupyter-widgets/controls",
      "model_module_version": "1.5.0",
      "model_name": "HTMLModel",
      "state": {
       "layout": "IPY_MODEL_1fff66fc1ff549aca64264a61c1cf067",
       "style": "IPY_MODEL_3933f84c78d342f89896a7b4feeef619",
       "value": " 0/2000 [00:00&lt;?, ?it/s]"
      }
     },
     "2d269eb79b084a0fafe9f7ebbdf05e68": {
      "model_module": "@jupyter-widgets/controls",
      "model_module_version": "1.5.0",
      "model_name": "DescriptionStyleModel",
      "state": {
       "description_width": ""
      }
     },
     "2d64ea17e06244a589612752993126bd": {
      "model_module": "@jupyter-widgets/controls",
      "model_module_version": "1.5.0",
      "model_name": "HBoxModel",
      "state": {
       "children": [
        "IPY_MODEL_468a40e9b2a94162a6cd1efc31ecb055",
        "IPY_MODEL_973d2c8682a44e81a200f8e2ea7d8934"
       ],
       "layout": "IPY_MODEL_ddb9df9e9b034dac94b0dde9f0265e2a"
      }
     },
     "2d7b8065f44a48b5abca0b4762120f78": {
      "model_module": "@jupyter-widgets/controls",
      "model_module_version": "1.5.0",
      "model_name": "HBoxModel",
      "state": {
       "children": [
        "IPY_MODEL_a22962dc7b0b4bf899f11fdd90b38322",
        "IPY_MODEL_4e64d1b9a30449f38ec1bcfbe0d591b9"
       ],
       "layout": "IPY_MODEL_f81c84056109401dad446525f1114894"
      }
     },
     "2d9b62c4cad04e6eb48104eb1435cbd1": {
      "model_module": "@jupyter-widgets/controls",
      "model_module_version": "1.5.0",
      "model_name": "DescriptionStyleModel",
      "state": {
       "description_width": ""
      }
     },
     "2db0ecba58094c7c8f340d8bb8b9a7aa": {
      "model_module": "@jupyter-widgets/controls",
      "model_module_version": "1.5.0",
      "model_name": "DescriptionStyleModel",
      "state": {
       "description_width": ""
      }
     },
     "2dd1dacd79104ed38a837706e2e5b9b4": {
      "model_module": "@jupyter-widgets/base",
      "model_module_version": "1.2.0",
      "model_name": "LayoutModel",
      "state": {}
     },
     "2ddce9b6e1e14ca3bca90de05e1fff24": {
      "model_module": "@jupyter-widgets/controls",
      "model_module_version": "1.5.0",
      "model_name": "ProgressStyleModel",
      "state": {
       "description_width": "initial"
      }
     },
     "2df0f3e26b284bc28e74a59581ed08b5": {
      "model_module": "@jupyter-widgets/base",
      "model_module_version": "1.2.0",
      "model_name": "LayoutModel",
      "state": {}
     },
     "2e0880169b47438e957659e71f649672": {
      "model_module": "@jupyter-widgets/controls",
      "model_module_version": "1.5.0",
      "model_name": "HBoxModel",
      "state": {
       "children": [
        "IPY_MODEL_eac7c26ccd184ce19d2810ffd65c04bc",
        "IPY_MODEL_ea40eeb58e904158ae19769c4484011b"
       ],
       "layout": "IPY_MODEL_c8af4f7c364e4c2390956bde249d1d13"
      }
     },
     "2e2ab91d34da40eb8bc45d6f7b6c5478": {
      "model_module": "@jupyter-widgets/controls",
      "model_module_version": "1.5.0",
      "model_name": "DescriptionStyleModel",
      "state": {
       "description_width": ""
      }
     },
     "2e7fdc9b90354ea2865956fd8437f084": {
      "model_module": "@jupyter-widgets/controls",
      "model_module_version": "1.5.0",
      "model_name": "HBoxModel",
      "state": {
       "children": [
        "IPY_MODEL_147c93b1646444519505b09e468dc263",
        "IPY_MODEL_83dc0bf14b9f4822a8a8e06b221fcae2"
       ],
       "layout": "IPY_MODEL_9907f1d7b8ba4d9aa233add9802d51f2"
      }
     },
     "2eb1e10c0d4d42f88d5aa4f8c5b4aabe": {
      "model_module": "@jupyter-widgets/controls",
      "model_module_version": "1.5.0",
      "model_name": "ProgressStyleModel",
      "state": {
       "description_width": "initial"
      }
     },
     "2ec4823e179540fd8920c357928bd26f": {
      "model_module": "@jupyter-widgets/controls",
      "model_module_version": "1.5.0",
      "model_name": "DescriptionStyleModel",
      "state": {
       "description_width": ""
      }
     },
     "2ed2fe62396544809d9aab8a35cc0815": {
      "model_module": "@jupyter-widgets/base",
      "model_module_version": "1.2.0",
      "model_name": "LayoutModel",
      "state": {}
     },
     "2ed5af6405874cb7a72970256a798405": {
      "model_module": "@jupyter-widgets/controls",
      "model_module_version": "1.5.0",
      "model_name": "HTMLModel",
      "state": {
       "layout": "IPY_MODEL_52846315ba504ac4bb76be78ddbb9ac3",
       "style": "IPY_MODEL_d16158bf699d499cb5097435e5aa3c36",
       "value": " 10/10 [02:13&lt;00:00, 13.30s/it]"
      }
     },
     "2f2b761410134885b3eadbba34717f36": {
      "model_module": "@jupyter-widgets/controls",
      "model_module_version": "1.5.0",
      "model_name": "FloatProgressModel",
      "state": {
       "bar_style": "success",
       "description": "1.01: 100%",
       "layout": "IPY_MODEL_50e4c9434f5f4e7f95ed27e61a57e098",
       "max": 2000,
       "style": "IPY_MODEL_091ad8c0b1d145a8bff172821fed7027",
       "value": 2000
      }
     },
     "2fb39568c21f4410a7947a55bab78928": {
      "model_module": "@jupyter-widgets/controls",
      "model_module_version": "1.5.0",
      "model_name": "HTMLModel",
      "state": {
       "layout": "IPY_MODEL_e4deb59905aa4e8e9ed36b7c51849e94",
       "style": "IPY_MODEL_bc00031bb727428fbee7b9ded1c56e5b",
       "value": " 264/1000 [01:02&lt;02:37,  4.68it/s]"
      }
     },
     "2fbccf8410eb487192849b4122465537": {
      "model_module": "@jupyter-widgets/base",
      "model_module_version": "1.2.0",
      "model_name": "LayoutModel",
      "state": {}
     },
     "2fc6f6982f7b42029455311101296783": {
      "model_module": "@jupyter-widgets/base",
      "model_module_version": "1.2.0",
      "model_name": "LayoutModel",
      "state": {}
     },
     "2fc8d1dbf3c34930aec0474e0ad07a57": {
      "model_module": "@jupyter-widgets/base",
      "model_module_version": "1.2.0",
      "model_name": "LayoutModel",
      "state": {}
     },
     "300e72470b714816b93da697f615c9cf": {
      "model_module": "@jupyter-widgets/base",
      "model_module_version": "1.2.0",
      "model_name": "LayoutModel",
      "state": {}
     },
     "300f353228c042ed98b8de15befe87bd": {
      "model_module": "@jupyter-widgets/base",
      "model_module_version": "1.2.0",
      "model_name": "LayoutModel",
      "state": {}
     },
     "301523199ab247f686844bb672b11edf": {
      "model_module": "@jupyter-widgets/base",
      "model_module_version": "1.2.0",
      "model_name": "LayoutModel",
      "state": {}
     },
     "304c09e72563408db72f75f0ef0eb665": {
      "model_module": "@jupyter-widgets/base",
      "model_module_version": "1.2.0",
      "model_name": "LayoutModel",
      "state": {}
     },
     "3061ea67ca934483bc1965b9da695888": {
      "model_module": "@jupyter-widgets/controls",
      "model_module_version": "1.5.0",
      "model_name": "FloatProgressModel",
      "state": {
       "bar_style": "success",
       "description": "nan: 100%",
       "layout": "IPY_MODEL_3d9eb53bba1f4213b48edb5f4b75cf32",
       "max": 50,
       "style": "IPY_MODEL_8479f48d3e7c445bb729dfcafb72e9d1",
       "value": 50
      }
     },
     "30af2330a300496081c6fb1e89cfa9ea": {
      "model_module": "@jupyter-widgets/base",
      "model_module_version": "1.2.0",
      "model_name": "LayoutModel",
      "state": {}
     },
     "30f6dda7574c485e92a5dc11766be62d": {
      "model_module": "@jupyter-widgets/base",
      "model_module_version": "1.2.0",
      "model_name": "LayoutModel",
      "state": {}
     },
     "3202a67ddad04fcca7a61de155b70ee3": {
      "model_module": "@jupyter-widgets/controls",
      "model_module_version": "1.5.0",
      "model_name": "HBoxModel",
      "state": {
       "children": [
        "IPY_MODEL_f4243071c35044fa806d2572547571cc",
        "IPY_MODEL_0ecb48b0f91f458fa4ca28dcfb9757f5"
       ],
       "layout": "IPY_MODEL_68bd88f6d6d94d19970e9860fa3267f9"
      }
     },
     "321458f6cf124a76b9e9ae952637ace9": {
      "model_module": "@jupyter-widgets/controls",
      "model_module_version": "1.5.0",
      "model_name": "HTMLModel",
      "state": {
       "layout": "IPY_MODEL_19d6f6842a484596a982e5c8d1170f51",
       "style": "IPY_MODEL_c95731791313447d8a7d2937815e8ef3",
       "value": " 50/50 [05:07&lt;00:00,  6.16s/it]"
      }
     },
     "322befdf88624d06bf53c8d9dff0cab4": {
      "model_module": "@jupyter-widgets/base",
      "model_module_version": "1.2.0",
      "model_name": "LayoutModel",
      "state": {}
     },
     "3245d3e855524d6d8c58de540b3d229a": {
      "model_module": "@jupyter-widgets/controls",
      "model_module_version": "1.5.0",
      "model_name": "ProgressStyleModel",
      "state": {
       "description_width": "initial"
      }
     },
     "337999392d2443dd95a2ab621bac553c": {
      "model_module": "@jupyter-widgets/controls",
      "model_module_version": "1.5.0",
      "model_name": "HTMLModel",
      "state": {
       "layout": "IPY_MODEL_9c974e718a2549f28a382f6e7baa37fb",
       "style": "IPY_MODEL_91f8cc239a2043c495f15aac94f1a2e0",
       "value": " 2000/2000 [01:55&lt;00:00, 17.28it/s]"
      }
     },
     "33b2c300e7fd43c885b2d1c77dea0b49": {
      "model_module": "@jupyter-widgets/controls",
      "model_module_version": "1.5.0",
      "model_name": "FloatProgressModel",
      "state": {
       "bar_style": "danger",
       "description": "0.56:  42%",
       "layout": "IPY_MODEL_9d340dc1b8524db49e0d150d6d82cb3d",
       "max": 2000,
       "style": "IPY_MODEL_c5f1b0c420c34a37aadd8064b294e27f",
       "value": 844
      }
     },
     "341773b2d610417c9a76b6b3c0569403": {
      "model_module": "@jupyter-widgets/controls",
      "model_module_version": "1.5.0",
      "model_name": "FloatProgressModel",
      "state": {
       "bar_style": "danger",
       "description": "  0%",
       "layout": "IPY_MODEL_322befdf88624d06bf53c8d9dff0cab4",
       "max": 5000,
       "style": "IPY_MODEL_955fe6daf3984da3b051b5e838818f32"
      }
     },
     "342a1b7e59bd446894aee5bdbb4d2fc8": {
      "model_module": "@jupyter-widgets/controls",
      "model_module_version": "1.5.0",
      "model_name": "FloatProgressModel",
      "state": {
       "bar_style": "success",
       "description": "1.68: 100%",
       "layout": "IPY_MODEL_154099e1df924bbe80bea5a7b193eaf1",
       "max": 2000,
       "style": "IPY_MODEL_19cc0d1a51ed49d1be1685519fd2f16d",
       "value": 2000
      }
     },
     "3462a792c070447ba753dfcbceb3468d": {
      "model_module": "@jupyter-widgets/base",
      "model_module_version": "1.2.0",
      "model_name": "LayoutModel",
      "state": {}
     },
     "34895999462b401996acae493221de12": {
      "model_module": "@jupyter-widgets/base",
      "model_module_version": "1.2.0",
      "model_name": "LayoutModel",
      "state": {}
     },
     "3497c85fb9f8462fa3cb42a50c4ccf5a": {
      "model_module": "@jupyter-widgets/controls",
      "model_module_version": "1.5.0",
      "model_name": "HTMLModel",
      "state": {
       "layout": "IPY_MODEL_98a962826d8047d69413825654e063ad",
       "style": "IPY_MODEL_ed3f742149604f3d97020b99a5faba45",
       "value": " 2000/2000 [02:29&lt;00:00, 13.33it/s]"
      }
     },
     "349a2db39248416e9a8235450be3f0ce": {
      "model_module": "@jupyter-widgets/base",
      "model_module_version": "1.2.0",
      "model_name": "LayoutModel",
      "state": {}
     },
     "349dc92f4bdc4151bfe8424b3fe8f956": {
      "model_module": "@jupyter-widgets/controls",
      "model_module_version": "1.5.0",
      "model_name": "HBoxModel",
      "state": {
       "children": [
        "IPY_MODEL_2f2b761410134885b3eadbba34717f36",
        "IPY_MODEL_b8cc05db9d044fe68f446210f8357d99"
       ],
       "layout": "IPY_MODEL_53ff180a95084093b189c4b1fb6263fd"
      }
     },
     "34e57df857f84bc7a9f2d2cac4ea2cd9": {
      "model_module": "@jupyter-widgets/base",
      "model_module_version": "1.2.0",
      "model_name": "LayoutModel",
      "state": {}
     },
     "34ebb1833b1e4434971361c98dfc54f8": {
      "model_module": "@jupyter-widgets/controls",
      "model_module_version": "1.5.0",
      "model_name": "DescriptionStyleModel",
      "state": {
       "description_width": ""
      }
     },
     "34f0740eceea452a8148657c5113b30f": {
      "model_module": "@jupyter-widgets/base",
      "model_module_version": "1.2.0",
      "model_name": "LayoutModel",
      "state": {}
     },
     "354b0858671443a8a99c037662f5138c": {
      "model_module": "@jupyter-widgets/controls",
      "model_module_version": "1.5.0",
      "model_name": "HTMLModel",
      "state": {
       "layout": "IPY_MODEL_ceb21bc7a4ab47d39e75dbdf0a89a5cb",
       "style": "IPY_MODEL_f47ab9f76ac442f3842703bd8ba375d3",
       "value": " 50/50 [00:02&lt;00:00, 22.76it/s]"
      }
     },
     "3574299d518748bea1b03661f192da29": {
      "model_module": "@jupyter-widgets/base",
      "model_module_version": "1.2.0",
      "model_name": "LayoutModel",
      "state": {}
     },
     "3583c0c25fce49f8b113e88d740d686d": {
      "model_module": "@jupyter-widgets/base",
      "model_module_version": "1.2.0",
      "model_name": "LayoutModel",
      "state": {}
     },
     "35ba6b2b7d3d48b4a032ede0af9a566d": {
      "model_module": "@jupyter-widgets/controls",
      "model_module_version": "1.5.0",
      "model_name": "HTMLModel",
      "state": {
       "layout": "IPY_MODEL_e9eb3271eb53446c9405a603b268b94c",
       "style": "IPY_MODEL_d5808e100776407ca34cff67237d3a89",
       "value": " 2000/2000 [00:04&lt;00:00, 407.48it/s]"
      }
     },
     "36045f74e5f7429e993e703497673aac": {
      "model_module": "@jupyter-widgets/controls",
      "model_module_version": "1.5.0",
      "model_name": "FloatProgressModel",
      "state": {
       "bar_style": "danger",
       "description": "0.37:  29%",
       "layout": "IPY_MODEL_ec312b5bd94244db94664d3abe671b04",
       "max": 5000,
       "style": "IPY_MODEL_77bcff9a173641159377651d7d79e589",
       "value": 1468
      }
     },
     "3653030b6b4d48b4a46b4f0d0a54a197": {
      "model_module": "@jupyter-widgets/controls",
      "model_module_version": "1.5.0",
      "model_name": "HTMLModel",
      "state": {
       "layout": "IPY_MODEL_f580983685a3466988789804bb7fd1c4",
       "style": "IPY_MODEL_0b510d40184140119190d3cd0ed3cbcd",
       "value": " 0/50 [01:31&lt;?, ?it/s]"
      }
     },
     "365de0cd683145db8288e501c0c9354c": {
      "model_module": "@jupyter-widgets/base",
      "model_module_version": "1.2.0",
      "model_name": "LayoutModel",
      "state": {}
     },
     "3697cf53a58b4e518e9a28ceb30042ab": {
      "model_module": "@jupyter-widgets/controls",
      "model_module_version": "1.5.0",
      "model_name": "FloatProgressModel",
      "state": {
       "bar_style": "success",
       "description": "0.49: 100%",
       "layout": "IPY_MODEL_c130d95016e84385a58a1eb1e9e020d5",
       "max": 5000,
       "style": "IPY_MODEL_e5be8559e26b444999bbdb1a534a5f94",
       "value": 5000
      }
     },
     "36b37015f2724042aa7082fb36b5ab8c": {
      "model_module": "@jupyter-widgets/controls",
      "model_module_version": "1.5.0",
      "model_name": "HTMLModel",
      "state": {
       "layout": "IPY_MODEL_1204e32a8c304b5fa1215f50f091edd4",
       "style": "IPY_MODEL_ac4c0d20c3b748e8a5b7bf67b32b4a12",
       "value": " 0/50 [00:00&lt;?, ?it/s]"
      }
     },
     "36ba60a959034716aef14915709d5add": {
      "model_module": "@jupyter-widgets/base",
      "model_module_version": "1.2.0",
      "model_name": "LayoutModel",
      "state": {}
     },
     "3736c73e3834407a9e8ceb4d61923723": {
      "model_module": "@jupyter-widgets/controls",
      "model_module_version": "1.5.0",
      "model_name": "ProgressStyleModel",
      "state": {
       "description_width": "initial"
      }
     },
     "3738ac2e12824bafbf981f3fb6f895d6": {
      "model_module": "@jupyter-widgets/base",
      "model_module_version": "1.2.0",
      "model_name": "LayoutModel",
      "state": {}
     },
     "3773aadcce284b458f49a3c18e7e6391": {
      "model_module": "@jupyter-widgets/controls",
      "model_module_version": "1.5.0",
      "model_name": "ProgressStyleModel",
      "state": {
       "description_width": "initial"
      }
     },
     "379a28e1e5384745866dfa12e06be9bd": {
      "model_module": "@jupyter-widgets/controls",
      "model_module_version": "1.5.0",
      "model_name": "ProgressStyleModel",
      "state": {
       "description_width": "initial"
      }
     },
     "37a5b495cc5b411eaa029e5da2589985": {
      "model_module": "@jupyter-widgets/controls",
      "model_module_version": "1.5.0",
      "model_name": "HTMLModel",
      "state": {
       "layout": "IPY_MODEL_62ed078ca93c4c34877b00a4437188e1",
       "style": "IPY_MODEL_b48a983d1c524e9db94788bb7225b3c8",
       "value": " 2000/2000 [00:15&lt;00:00, 131.75it/s]"
      }
     },
     "38080d51d9de434dbffed48b15281431": {
      "model_module": "@jupyter-widgets/controls",
      "model_module_version": "1.5.0",
      "model_name": "DescriptionStyleModel",
      "state": {
       "description_width": ""
      }
     },
     "3814c2f876d44df9aed713a22c951e9d": {
      "model_module": "@jupyter-widgets/controls",
      "model_module_version": "1.5.0",
      "model_name": "HBoxModel",
      "state": {
       "children": [
        "IPY_MODEL_2bda0742e06746cc945117a00943b381",
        "IPY_MODEL_1b42a19bb4a14d32a272b3d77821ce75"
       ],
       "layout": "IPY_MODEL_daef30ee5324437aa9a2adc3d3df4a12"
      }
     },
     "3843653e8cc74b2892353e356691503d": {
      "model_module": "@jupyter-widgets/controls",
      "model_module_version": "1.5.0",
      "model_name": "ProgressStyleModel",
      "state": {
       "description_width": "initial"
      }
     },
     "384b2492a30d4b2fb54b0f5706171b09": {
      "model_module": "@jupyter-widgets/controls",
      "model_module_version": "1.5.0",
      "model_name": "DescriptionStyleModel",
      "state": {
       "description_width": ""
      }
     },
     "3867b2375d4f4fafbd41874d63b01bb2": {
      "model_module": "@jupyter-widgets/base",
      "model_module_version": "1.2.0",
      "model_name": "LayoutModel",
      "state": {}
     },
     "3870d65f45034674a550860f76e06c31": {
      "model_module": "@jupyter-widgets/base",
      "model_module_version": "1.2.0",
      "model_name": "LayoutModel",
      "state": {}
     },
     "38a1f9c64c334c0e8b4a57067f73cd36": {
      "model_module": "@jupyter-widgets/controls",
      "model_module_version": "1.5.0",
      "model_name": "ProgressStyleModel",
      "state": {
       "description_width": "initial"
      }
     },
     "3933f84c78d342f89896a7b4feeef619": {
      "model_module": "@jupyter-widgets/controls",
      "model_module_version": "1.5.0",
      "model_name": "DescriptionStyleModel",
      "state": {
       "description_width": ""
      }
     },
     "39453232a4db4741926e9e797446006c": {
      "model_module": "@jupyter-widgets/base",
      "model_module_version": "1.2.0",
      "model_name": "LayoutModel",
      "state": {}
     },
     "39ab8599d6344c7daa243fccaf89e9f2": {
      "model_module": "@jupyter-widgets/controls",
      "model_module_version": "1.5.0",
      "model_name": "FloatProgressModel",
      "state": {
       "bar_style": "success",
       "description": "nan: 100%",
       "layout": "IPY_MODEL_c9f18c47ed5043d998b7b7161464546c",
       "max": 50,
       "style": "IPY_MODEL_0ba3c51b987d4ee3937691727731cb20",
       "value": 50
      }
     },
     "39ae5f0da2544a69aae4549ba8be1baa": {
      "model_module": "@jupyter-widgets/base",
      "model_module_version": "1.2.0",
      "model_name": "LayoutModel",
      "state": {}
     },
     "3a02cbbe104b468c8ff1941b7a36e522": {
      "model_module": "@jupyter-widgets/controls",
      "model_module_version": "1.5.0",
      "model_name": "HBoxModel",
      "state": {
       "children": [
        "IPY_MODEL_65a92d928fef4d14b8e60955a7036fd5",
        "IPY_MODEL_abb2e67dff234965a45d52188487601c"
       ],
       "layout": "IPY_MODEL_0114d5fe66df4e068523f876d2c22fca"
      }
     },
     "3a0569150019403abe809c9421ca252d": {
      "model_module": "@jupyter-widgets/controls",
      "model_module_version": "1.5.0",
      "model_name": "ProgressStyleModel",
      "state": {
       "description_width": "initial"
      }
     },
     "3a95574bb44a4a8980151a53a874c81c": {
      "model_module": "@jupyter-widgets/base",
      "model_module_version": "1.2.0",
      "model_name": "LayoutModel",
      "state": {}
     },
     "3adb165d75de48989862d253b88f980d": {
      "model_module": "@jupyter-widgets/controls",
      "model_module_version": "1.5.0",
      "model_name": "DescriptionStyleModel",
      "state": {
       "description_width": ""
      }
     },
     "3b5ab5186b47455d9c950c49a833b18b": {
      "model_module": "@jupyter-widgets/controls",
      "model_module_version": "1.5.0",
      "model_name": "HTMLModel",
      "state": {
       "layout": "IPY_MODEL_ce5f78e84bad41598b0d34e591aac328",
       "style": "IPY_MODEL_e8fd250ea3334db5acc0c5c481f173d9",
       "value": " 2000/2000 [00:08&lt;00:00, 231.17it/s]"
      }
     },
     "3b763649a8474fb98517a7c76fad6399": {
      "model_module": "@jupyter-widgets/base",
      "model_module_version": "1.2.0",
      "model_name": "LayoutModel",
      "state": {}
     },
     "3badf002fef149068afca544982e0a85": {
      "model_module": "@jupyter-widgets/controls",
      "model_module_version": "1.5.0",
      "model_name": "DescriptionStyleModel",
      "state": {
       "description_width": ""
      }
     },
     "3c0721412ccf46289da16bb617823283": {
      "model_module": "@jupyter-widgets/base",
      "model_module_version": "1.2.0",
      "model_name": "LayoutModel",
      "state": {}
     },
     "3c4f3ece03e643bcb1b533690bd8bcee": {
      "model_module": "@jupyter-widgets/controls",
      "model_module_version": "1.5.0",
      "model_name": "HBoxModel",
      "state": {
       "children": [
        "IPY_MODEL_f90db9ba656a4584b507b439047d2e36",
        "IPY_MODEL_b221d272b5884143a0fd02384ac8a2a6"
       ],
       "layout": "IPY_MODEL_0a4fc336a49b45c8b336346e1f51a27b"
      }
     },
     "3c54559e84254cf6a6af4f94909b09d0": {
      "model_module": "@jupyter-widgets/base",
      "model_module_version": "1.2.0",
      "model_name": "LayoutModel",
      "state": {}
     },
     "3cbc4891271c40f5839154349752b4fc": {
      "model_module": "@jupyter-widgets/controls",
      "model_module_version": "1.5.0",
      "model_name": "HTMLModel",
      "state": {
       "layout": "IPY_MODEL_6790daa3c30f45eeb2f129a990933cc4",
       "style": "IPY_MODEL_fc1d38189f194ed5a3f386517c28e846",
       "value": " 2000/2000 [00:11&lt;00:00, 176.23it/s]"
      }
     },
     "3d4d84f89a134a27a3db0410c00cbe79": {
      "model_module": "@jupyter-widgets/controls",
      "model_module_version": "1.5.0",
      "model_name": "DescriptionStyleModel",
      "state": {
       "description_width": ""
      }
     },
     "3d52a9abc523459e934677555725b7bc": {
      "model_module": "@jupyter-widgets/controls",
      "model_module_version": "1.5.0",
      "model_name": "FloatProgressModel",
      "state": {
       "bar_style": "danger",
       "description": "0.53:   6%",
       "layout": "IPY_MODEL_c7cace2d54964f8a8f00f29ad539fc8f",
       "max": 5000,
       "style": "IPY_MODEL_e4536aa7fefe4e98bb2f609a034a844e",
       "value": 319
      }
     },
     "3d63ac8c0c524cae9cd2b21421f2d00d": {
      "model_module": "@jupyter-widgets/base",
      "model_module_version": "1.2.0",
      "model_name": "LayoutModel",
      "state": {}
     },
     "3d78ed3d81d24f0792e5e0f53edd9d46": {
      "model_module": "@jupyter-widgets/controls",
      "model_module_version": "1.5.0",
      "model_name": "ProgressStyleModel",
      "state": {
       "description_width": "initial"
      }
     },
     "3d7ef7b3b00c4b4bb616753f57e28ace": {
      "model_module": "@jupyter-widgets/controls",
      "model_module_version": "1.5.0",
      "model_name": "ProgressStyleModel",
      "state": {
       "description_width": "initial"
      }
     },
     "3d922352d57e4177aad8898cb9d024a5": {
      "model_module": "@jupyter-widgets/base",
      "model_module_version": "1.2.0",
      "model_name": "LayoutModel",
      "state": {}
     },
     "3d9eb53bba1f4213b48edb5f4b75cf32": {
      "model_module": "@jupyter-widgets/base",
      "model_module_version": "1.2.0",
      "model_name": "LayoutModel",
      "state": {}
     },
     "3fb3d1d980f1401492eb049daba5cabb": {
      "model_module": "@jupyter-widgets/controls",
      "model_module_version": "1.5.0",
      "model_name": "ProgressStyleModel",
      "state": {
       "description_width": "initial"
      }
     },
     "406ab9c30e9b47a7a4f0ebe8632d068f": {
      "model_module": "@jupyter-widgets/controls",
      "model_module_version": "1.5.0",
      "model_name": "FloatProgressModel",
      "state": {
       "bar_style": "success",
       "description": "0.47: 100%",
       "layout": "IPY_MODEL_7d26956b13d24e6db0a778b2de58e380",
       "max": 5000,
       "style": "IPY_MODEL_38a1f9c64c334c0e8b4a57067f73cd36",
       "value": 5000
      }
     },
     "407d078a218c482cb96202550c02a4c7": {
      "model_module": "@jupyter-widgets/controls",
      "model_module_version": "1.5.0",
      "model_name": "HTMLModel",
      "state": {
       "layout": "IPY_MODEL_6147c4a5232e4c4bab35a34078d84092",
       "style": "IPY_MODEL_d576d0899c464655b85e9214c089f0b9",
       "value": " 2000/2000 [02:34&lt;00:00, 12.93it/s]"
      }
     },
     "4094b2b36ae44aee8f5ef9f9ea935106": {
      "model_module": "@jupyter-widgets/base",
      "model_module_version": "1.2.0",
      "model_name": "LayoutModel",
      "state": {}
     },
     "4097f095178d46f39a637a6ecd9a5130": {
      "model_module": "@jupyter-widgets/controls",
      "model_module_version": "1.5.0",
      "model_name": "ProgressStyleModel",
      "state": {
       "description_width": "initial"
      }
     },
     "409e5cafab4d401fa8c8b86d27bb089d": {
      "model_module": "@jupyter-widgets/base",
      "model_module_version": "1.2.0",
      "model_name": "LayoutModel",
      "state": {}
     },
     "40c9c80bb49d4b70b487873be09e7a7a": {
      "model_module": "@jupyter-widgets/base",
      "model_module_version": "1.2.0",
      "model_name": "LayoutModel",
      "state": {}
     },
     "418de482afa6472a99541e29f4b48480": {
      "model_module": "@jupyter-widgets/base",
      "model_module_version": "1.2.0",
      "model_name": "LayoutModel",
      "state": {}
     },
     "41b0f5e1cbac44e5b6fbe109850b0804": {
      "model_module": "@jupyter-widgets/controls",
      "model_module_version": "1.5.0",
      "model_name": "DescriptionStyleModel",
      "state": {
       "description_width": ""
      }
     },
     "41cafd3d2a4d488993e8eeaa36930916": {
      "model_module": "@jupyter-widgets/base",
      "model_module_version": "1.2.0",
      "model_name": "LayoutModel",
      "state": {}
     },
     "41d1402341cd431392d6fff35e9446a4": {
      "model_module": "@jupyter-widgets/base",
      "model_module_version": "1.2.0",
      "model_name": "LayoutModel",
      "state": {}
     },
     "41e15bca7fd5446ebe05123322c66fcc": {
      "model_module": "@jupyter-widgets/controls",
      "model_module_version": "1.5.0",
      "model_name": "ProgressStyleModel",
      "state": {
       "description_width": "initial"
      }
     },
     "420c32dece9b4cdfad084c6fd3efcc39": {
      "model_module": "@jupyter-widgets/controls",
      "model_module_version": "1.5.0",
      "model_name": "HBoxModel",
      "state": {
       "children": [
        "IPY_MODEL_fd1b901fa2c640b68585ed2a26b407bc",
        "IPY_MODEL_16aa5db4e7fc46f0afe333fc4dbbedf1"
       ],
       "layout": "IPY_MODEL_7a5843d77169460894fd471fc31ff688"
      }
     },
     "422e2e0672934b658337ee675451d9e9": {
      "model_module": "@jupyter-widgets/controls",
      "model_module_version": "1.5.0",
      "model_name": "DescriptionStyleModel",
      "state": {
       "description_width": ""
      }
     },
     "423b632f1d74451dafccdae39fb71566": {
      "model_module": "@jupyter-widgets/controls",
      "model_module_version": "1.5.0",
      "model_name": "HBoxModel",
      "state": {
       "children": [
        "IPY_MODEL_6fb6d276c734473f938e4104208d4ef4",
        "IPY_MODEL_ae014043e9e14c779daf77120770bb59"
       ],
       "layout": "IPY_MODEL_badce0553b1f47abb52149abe37cd830"
      }
     },
     "42444afcd5ad4d4e84a85452c3fee0f9": {
      "model_module": "@jupyter-widgets/controls",
      "model_module_version": "1.5.0",
      "model_name": "FloatProgressModel",
      "state": {
       "bar_style": "success",
       "description": "nan: 100%",
       "layout": "IPY_MODEL_6f9ed56f740045d4a9c2aa2214419b5b",
       "max": 50,
       "style": "IPY_MODEL_c85355e655f940eb853a1f38088952e5",
       "value": 50
      }
     },
     "425a096f316a4b97a949280d95c9f45c": {
      "model_module": "@jupyter-widgets/controls",
      "model_module_version": "1.5.0",
      "model_name": "ProgressStyleModel",
      "state": {
       "description_width": "initial"
      }
     },
     "427bc83edc014c0bbf72f94b29156348": {
      "model_module": "@jupyter-widgets/controls",
      "model_module_version": "1.5.0",
      "model_name": "DescriptionStyleModel",
      "state": {
       "description_width": ""
      }
     },
     "42a4870740044f27bfa98863aa89ed6f": {
      "model_module": "@jupyter-widgets/base",
      "model_module_version": "1.2.0",
      "model_name": "LayoutModel",
      "state": {}
     },
     "42b0e9c0cd874d9caf2d306e9ad1931a": {
      "model_module": "@jupyter-widgets/controls",
      "model_module_version": "1.5.0",
      "model_name": "DescriptionStyleModel",
      "state": {
       "description_width": ""
      }
     },
     "42e4a8af284246fc91b46f28f5241bd3": {
      "model_module": "@jupyter-widgets/base",
      "model_module_version": "1.2.0",
      "model_name": "LayoutModel",
      "state": {}
     },
     "42e68e4abb1841fe9c067728ee1b2213": {
      "model_module": "@jupyter-widgets/controls",
      "model_module_version": "1.5.0",
      "model_name": "DescriptionStyleModel",
      "state": {
       "description_width": ""
      }
     },
     "43de059cc19d46cd8d2bcc5c5b70155e": {
      "model_module": "@jupyter-widgets/controls",
      "model_module_version": "1.5.0",
      "model_name": "HBoxModel",
      "state": {
       "children": [
        "IPY_MODEL_1160b784ef0640c8aaa781391d8e7d11",
        "IPY_MODEL_c99be7b6289042d7b23b2618f1ba94d3"
       ],
       "layout": "IPY_MODEL_cb1ae6706c3a4a89bf65aed34ef91154"
      }
     },
     "4431a47aa6634e0db38d10f8e5319e42": {
      "model_module": "@jupyter-widgets/controls",
      "model_module_version": "1.5.0",
      "model_name": "DescriptionStyleModel",
      "state": {
       "description_width": ""
      }
     },
     "444e7b045ee14d56a9effd6bce2ab410": {
      "model_module": "@jupyter-widgets/controls",
      "model_module_version": "1.5.0",
      "model_name": "HBoxModel",
      "state": {
       "children": [
        "IPY_MODEL_f0373d705a23431c981aa9fbe9b419ec",
        "IPY_MODEL_62610532131b4a888053168bd086c658"
       ],
       "layout": "IPY_MODEL_3462a792c070447ba753dfcbceb3468d"
      }
     },
     "44de55603cf645e39cf06bde548fc688": {
      "model_module": "@jupyter-widgets/controls",
      "model_module_version": "1.5.0",
      "model_name": "FloatProgressModel",
      "state": {
       "bar_style": "danger",
       "description": "0.6670534:   6%",
       "layout": "IPY_MODEL_261e420b907948c6a1cc0b3f2866c5e2",
       "max": 5000,
       "style": "IPY_MODEL_f46c009111b5434499868665369e43fc",
       "value": 303
      }
     },
     "457b467941ec4a52a3fe1120d416ff5c": {
      "model_module": "@jupyter-widgets/base",
      "model_module_version": "1.2.0",
      "model_name": "LayoutModel",
      "state": {}
     },
     "459ec03dd618430e89e4820653b43422": {
      "model_module": "@jupyter-widgets/controls",
      "model_module_version": "1.5.0",
      "model_name": "DescriptionStyleModel",
      "state": {
       "description_width": ""
      }
     },
     "45cb434094c14950bc9eb0f0671d5578": {
      "model_module": "@jupyter-widgets/base",
      "model_module_version": "1.2.0",
      "model_name": "LayoutModel",
      "state": {}
     },
     "45ecd31a21014facb075d78c8ae43e1e": {
      "model_module": "@jupyter-widgets/base",
      "model_module_version": "1.2.0",
      "model_name": "LayoutModel",
      "state": {}
     },
     "463318262e284d37bc4e7c0dd5fdd96b": {
      "model_module": "@jupyter-widgets/controls",
      "model_module_version": "1.5.0",
      "model_name": "ProgressStyleModel",
      "state": {
       "description_width": "initial"
      }
     },
     "463ff8a4588e43b18a721446b12cb313": {
      "model_module": "@jupyter-widgets/base",
      "model_module_version": "1.2.0",
      "model_name": "LayoutModel",
      "state": {}
     },
     "4644a14497054d35a57645cfd7e78645": {
      "model_module": "@jupyter-widgets/base",
      "model_module_version": "1.2.0",
      "model_name": "LayoutModel",
      "state": {}
     },
     "468a40e9b2a94162a6cd1efc31ecb055": {
      "model_module": "@jupyter-widgets/controls",
      "model_module_version": "1.5.0",
      "model_name": "FloatProgressModel",
      "state": {
       "bar_style": "success",
       "description": "1.63: 100%",
       "layout": "IPY_MODEL_fdf9f7776fc54aca81a9d294e444dd45",
       "style": "IPY_MODEL_fa2bd04489c541c0bde85b208d8fbfc8",
       "value": 100
      }
     },
     "46a3d2510ae647419a2178a7bc45e768": {
      "model_module": "@jupyter-widgets/controls",
      "model_module_version": "1.5.0",
      "model_name": "ProgressStyleModel",
      "state": {
       "description_width": "initial"
      }
     },
     "46c9b6392dc24a4697ece3bfdab98a21": {
      "model_module": "@jupyter-widgets/base",
      "model_module_version": "1.2.0",
      "model_name": "LayoutModel",
      "state": {}
     },
     "475cf90680704353af2b9faf9d983e07": {
      "model_module": "@jupyter-widgets/base",
      "model_module_version": "1.2.0",
      "model_name": "LayoutModel",
      "state": {}
     },
     "47602f0c2fad4fe1bdfe3df6f76c8463": {
      "model_module": "@jupyter-widgets/base",
      "model_module_version": "1.2.0",
      "model_name": "LayoutModel",
      "state": {}
     },
     "4776268711974a18a0e54983b914b994": {
      "model_module": "@jupyter-widgets/controls",
      "model_module_version": "1.5.0",
      "model_name": "HBoxModel",
      "state": {
       "children": [
        "IPY_MODEL_b420dbc997e44d4c93c26d7cd9bec42f",
        "IPY_MODEL_e0d1735b8dcb41b2bcc3ffa930e7cb38"
       ],
       "layout": "IPY_MODEL_7f10f566f6f449269bdbad590539075e"
      }
     },
     "479130d333a14323849fa73ca56c121f": {
      "model_module": "@jupyter-widgets/controls",
      "model_module_version": "1.5.0",
      "model_name": "ProgressStyleModel",
      "state": {
       "description_width": "initial"
      }
     },
     "479c271bfa284b2bbb432d162da0cccc": {
      "model_module": "@jupyter-widgets/controls",
      "model_module_version": "1.5.0",
      "model_name": "DescriptionStyleModel",
      "state": {
       "description_width": ""
      }
     },
     "4821880956274b93b028c6f187e6ed7b": {
      "model_module": "@jupyter-widgets/controls",
      "model_module_version": "1.5.0",
      "model_name": "DescriptionStyleModel",
      "state": {
       "description_width": ""
      }
     },
     "48387e6893834370a8aaf108d096feb1": {
      "model_module": "@jupyter-widgets/controls",
      "model_module_version": "1.5.0",
      "model_name": "HBoxModel",
      "state": {
       "children": [
        "IPY_MODEL_f20fca3ba68849058d1a5c7a7e0989af",
        "IPY_MODEL_959a1c9c773946b3b32b246aadecc0ae"
       ],
       "layout": "IPY_MODEL_f2e0ee2850714c30a6be1ec935ff3e6f"
      }
     },
     "48abfbe811d04dc1b129d98d08faa991": {
      "model_module": "@jupyter-widgets/controls",
      "model_module_version": "1.5.0",
      "model_name": "DescriptionStyleModel",
      "state": {
       "description_width": ""
      }
     },
     "49008cce199a4f17a4c9a694193e6e74": {
      "model_module": "@jupyter-widgets/base",
      "model_module_version": "1.2.0",
      "model_name": "LayoutModel",
      "state": {}
     },
     "4932fa27e85f4736a9c2bad7a271a07a": {
      "model_module": "@jupyter-widgets/controls",
      "model_module_version": "1.5.0",
      "model_name": "FloatProgressModel",
      "state": {
       "bar_style": "success",
       "description": "1.04: 100%",
       "layout": "IPY_MODEL_5304188fe67341828bc8b796f6f53c01",
       "max": 2000,
       "style": "IPY_MODEL_9c537f5adfaf436aaefd7cfe1175dacb",
       "value": 2000
      }
     },
     "4978619d5f504abdae39096fa7d28127": {
      "model_module": "@jupyter-widgets/base",
      "model_module_version": "1.2.0",
      "model_name": "LayoutModel",
      "state": {}
     },
     "497b178cb430472cad9e1036fe77eeef": {
      "model_module": "@jupyter-widgets/controls",
      "model_module_version": "1.5.0",
      "model_name": "ProgressStyleModel",
      "state": {
       "description_width": "initial"
      }
     },
     "49ef34f6e9e84e718da383690cdfa710": {
      "model_module": "@jupyter-widgets/base",
      "model_module_version": "1.2.0",
      "model_name": "LayoutModel",
      "state": {}
     },
     "4a338a2f9d0f4ddc9d7a40488cb8c347": {
      "model_module": "@jupyter-widgets/base",
      "model_module_version": "1.2.0",
      "model_name": "LayoutModel",
      "state": {}
     },
     "4a3f7c8907bd46ce949294190126aec9": {
      "model_module": "@jupyter-widgets/controls",
      "model_module_version": "1.5.0",
      "model_name": "ProgressStyleModel",
      "state": {
       "description_width": "initial"
      }
     },
     "4a7a47af62ee4a06b15724f08f795727": {
      "model_module": "@jupyter-widgets/base",
      "model_module_version": "1.2.0",
      "model_name": "LayoutModel",
      "state": {}
     },
     "4b216cee2f70484b9ded4126897791c1": {
      "model_module": "@jupyter-widgets/base",
      "model_module_version": "1.2.0",
      "model_name": "LayoutModel",
      "state": {}
     },
     "4b26fd3707014796aa80766accccfb40": {
      "model_module": "@jupyter-widgets/base",
      "model_module_version": "1.2.0",
      "model_name": "LayoutModel",
      "state": {}
     },
     "4b4713324c7b4ab2ab170a22947dc1de": {
      "model_module": "@jupyter-widgets/base",
      "model_module_version": "1.2.0",
      "model_name": "LayoutModel",
      "state": {}
     },
     "4b51e8b0c3f34ef388ea290b39d472b7": {
      "model_module": "@jupyter-widgets/controls",
      "model_module_version": "1.5.0",
      "model_name": "DescriptionStyleModel",
      "state": {
       "description_width": ""
      }
     },
     "4b94016b5b464c95b59a45a7032e46b8": {
      "model_module": "@jupyter-widgets/controls",
      "model_module_version": "1.5.0",
      "model_name": "ProgressStyleModel",
      "state": {
       "description_width": "initial"
      }
     },
     "4bc63900e15d4b0a8f18a32ab77588b5": {
      "model_module": "@jupyter-widgets/controls",
      "model_module_version": "1.5.0",
      "model_name": "HTMLModel",
      "state": {
       "layout": "IPY_MODEL_d3d4b0593a314417b19907ff94bbb8ab",
       "style": "IPY_MODEL_63eec45c48e344c7a97ee9507acab82f",
       "value": " 50/50 [00:21&lt;00:00,  2.28it/s]"
      }
     },
     "4be6f1e70ccc4ee5955993d409beb382": {
      "model_module": "@jupyter-widgets/controls",
      "model_module_version": "1.5.0",
      "model_name": "DescriptionStyleModel",
      "state": {
       "description_width": ""
      }
     },
     "4bfee2b2fb31457d8a9970959af7919e": {
      "model_module": "@jupyter-widgets/base",
      "model_module_version": "1.2.0",
      "model_name": "LayoutModel",
      "state": {}
     },
     "4c23888df2f047dbaa1f9ae763e4e1e2": {
      "model_module": "@jupyter-widgets/base",
      "model_module_version": "1.2.0",
      "model_name": "LayoutModel",
      "state": {}
     },
     "4c252fd8f2fb40799563cc5e4db3a77c": {
      "model_module": "@jupyter-widgets/base",
      "model_module_version": "1.2.0",
      "model_name": "LayoutModel",
      "state": {}
     },
     "4c4b61b73ba447a1b38e5811ec559295": {
      "model_module": "@jupyter-widgets/controls",
      "model_module_version": "1.5.0",
      "model_name": "HTMLModel",
      "state": {
       "layout": "IPY_MODEL_2951f8363f154af183e029b479c06719",
       "style": "IPY_MODEL_aeb3efb01c9741edbec5515c1b94f249",
       "value": " 10/10 [02:23&lt;00:00, 14.37s/it]"
      }
     },
     "4c70dd271aba4ff189c780117debec92": {
      "model_module": "@jupyter-widgets/base",
      "model_module_version": "1.2.0",
      "model_name": "LayoutModel",
      "state": {}
     },
     "4c85a4a6456041039b2f6faf7acf6092": {
      "model_module": "@jupyter-widgets/controls",
      "model_module_version": "1.5.0",
      "model_name": "HBoxModel",
      "state": {
       "children": [
        "IPY_MODEL_ff1ba51a558c45c99103f2717aaa6d6d",
        "IPY_MODEL_877bede2b5894fd39cfbcf320df29d3c"
       ],
       "layout": "IPY_MODEL_f6fede91fb5a49e987c1c89b9247dae9"
      }
     },
     "4cc9a90d7e264ffdbacbbf0b2780e3ae": {
      "model_module": "@jupyter-widgets/controls",
      "model_module_version": "1.5.0",
      "model_name": "ProgressStyleModel",
      "state": {
       "description_width": "initial"
      }
     },
     "4d3cc29593754176adae1a7130ecd596": {
      "model_module": "@jupyter-widgets/base",
      "model_module_version": "1.2.0",
      "model_name": "LayoutModel",
      "state": {}
     },
     "4d657aadd0cc4e1bab9709394e85f22d": {
      "model_module": "@jupyter-widgets/controls",
      "model_module_version": "1.5.0",
      "model_name": "HBoxModel",
      "state": {
       "children": [
        "IPY_MODEL_8d7649660e284e0a8011ff14e2e566f8",
        "IPY_MODEL_3b5ab5186b47455d9c950c49a833b18b"
       ],
       "layout": "IPY_MODEL_2bba775b9db94ee1ae62e480c022fd6f"
      }
     },
     "4dc149d1204f4c22936a9c812def850b": {
      "model_module": "@jupyter-widgets/base",
      "model_module_version": "1.2.0",
      "model_name": "LayoutModel",
      "state": {}
     },
     "4ddf5005b25e482eada12d9c08b54d01": {
      "model_module": "@jupyter-widgets/controls",
      "model_module_version": "1.5.0",
      "model_name": "HTMLModel",
      "state": {
       "layout": "IPY_MODEL_2fc6f6982f7b42029455311101296783",
       "style": "IPY_MODEL_e4d258921820488e9345a8bb8530c8e3",
       "value": " 0/2000 [01:21&lt;?, ?it/s]"
      }
     },
     "4e10673782294b31aaf5ef5e8aecd375": {
      "model_module": "@jupyter-widgets/controls",
      "model_module_version": "1.5.0",
      "model_name": "FloatProgressModel",
      "state": {
       "bar_style": "success",
       "description": "0.88: 100%",
       "layout": "IPY_MODEL_a9e40421fb32468db856346b8006c1dc",
       "max": 2000,
       "style": "IPY_MODEL_88d6e583cfe74774b70ce7ccf5eeb522",
       "value": 2000
      }
     },
     "4e10ed3ad342438b80dd7e1616fb90bd": {
      "model_module": "@jupyter-widgets/base",
      "model_module_version": "1.2.0",
      "model_name": "LayoutModel",
      "state": {}
     },
     "4e64d1b9a30449f38ec1bcfbe0d591b9": {
      "model_module": "@jupyter-widgets/controls",
      "model_module_version": "1.5.0",
      "model_name": "HTMLModel",
      "state": {
       "layout": "IPY_MODEL_19f6513eb4434d17a4d8af0827b1c099",
       "style": "IPY_MODEL_990ab9e059444fd695d20fc6c29abfb7",
       "value": " 0/2000 [00:00&lt;?, ?it/s]"
      }
     },
     "4ea49e49b7e74eadb621fafc37a9e33e": {
      "model_module": "@jupyter-widgets/base",
      "model_module_version": "1.2.0",
      "model_name": "LayoutModel",
      "state": {}
     },
     "4eb585259bac4e4aace5207798a9ffd0": {
      "model_module": "@jupyter-widgets/controls",
      "model_module_version": "1.5.0",
      "model_name": "DescriptionStyleModel",
      "state": {
       "description_width": ""
      }
     },
     "4eba6250efad49f8a9f58795fc774298": {
      "model_module": "@jupyter-widgets/controls",
      "model_module_version": "1.5.0",
      "model_name": "DescriptionStyleModel",
      "state": {
       "description_width": ""
      }
     },
     "4f2cde6841cc45389d4954f618604652": {
      "model_module": "@jupyter-widgets/base",
      "model_module_version": "1.2.0",
      "model_name": "LayoutModel",
      "state": {}
     },
     "4fd8aca3bc664bf5bb6199509750deac": {
      "model_module": "@jupyter-widgets/controls",
      "model_module_version": "1.5.0",
      "model_name": "ProgressStyleModel",
      "state": {
       "description_width": "initial"
      }
     },
     "502ae8600c8d40b681872e58010e1dc5": {
      "model_module": "@jupyter-widgets/controls",
      "model_module_version": "1.5.0",
      "model_name": "DescriptionStyleModel",
      "state": {
       "description_width": ""
      }
     },
     "5053bb1cc5bb4c5e87078311349bc7cf": {
      "model_module": "@jupyter-widgets/controls",
      "model_module_version": "1.5.0",
      "model_name": "DescriptionStyleModel",
      "state": {
       "description_width": ""
      }
     },
     "50e4c9434f5f4e7f95ed27e61a57e098": {
      "model_module": "@jupyter-widgets/base",
      "model_module_version": "1.2.0",
      "model_name": "LayoutModel",
      "state": {}
     },
     "510e669ea4214010b852dbc5713c4178": {
      "model_module": "@jupyter-widgets/controls",
      "model_module_version": "1.5.0",
      "model_name": "ProgressStyleModel",
      "state": {
       "description_width": "initial"
      }
     },
     "51439ff762d845b78a47b6aebb756986": {
      "model_module": "@jupyter-widgets/controls",
      "model_module_version": "1.5.0",
      "model_name": "HTMLModel",
      "state": {
       "layout": "IPY_MODEL_49008cce199a4f17a4c9a694193e6e74",
       "style": "IPY_MODEL_5e0078ff8eea434ebc55810f67c46714",
       "value": " 0/2000 [00:00&lt;?, ?it/s]"
      }
     },
     "51622570ac704d7fa19c29c8b4191077": {
      "model_module": "@jupyter-widgets/controls",
      "model_module_version": "1.5.0",
      "model_name": "HBoxModel",
      "state": {
       "children": [
        "IPY_MODEL_ecece443bcd7403182f66d2e25667300",
        "IPY_MODEL_9c8ec5c3034f4462b2deb450b689280e"
       ],
       "layout": "IPY_MODEL_fea1e180313d41b9bd74d041fe9544d4"
      }
     },
     "5171c589f75a4b308bab1b225c581c59": {
      "model_module": "@jupyter-widgets/controls",
      "model_module_version": "1.5.0",
      "model_name": "HTMLModel",
      "state": {
       "layout": "IPY_MODEL_2ed2fe62396544809d9aab8a35cc0815",
       "style": "IPY_MODEL_9806a6b1920440f5a5b1a632d989943e",
       "value": " 2000/2000 [00:02&lt;00:00, 673.88it/s]"
      }
     },
     "520eaaf2c8d64fd685d0513edca4e42c": {
      "model_module": "@jupyter-widgets/base",
      "model_module_version": "1.2.0",
      "model_name": "LayoutModel",
      "state": {}
     },
     "522d2226abbb4891aef90f6437066669": {
      "model_module": "@jupyter-widgets/controls",
      "model_module_version": "1.5.0",
      "model_name": "ProgressStyleModel",
      "state": {
       "description_width": "initial"
      }
     },
     "52846315ba504ac4bb76be78ddbb9ac3": {
      "model_module": "@jupyter-widgets/base",
      "model_module_version": "1.2.0",
      "model_name": "LayoutModel",
      "state": {}
     },
     "52e06bc8664d4d97a96e15e3d3ff0779": {
      "model_module": "@jupyter-widgets/controls",
      "model_module_version": "1.5.0",
      "model_name": "HTMLModel",
      "state": {
       "layout": "IPY_MODEL_56b8265a9b474ee9ace396664a914c25",
       "style": "IPY_MODEL_59a3dbe8cbd146448e2eb917f3b74717",
       "value": " 5000/5000 [01:04&lt;00:00, 77.46it/s]"
      }
     },
     "5304188fe67341828bc8b796f6f53c01": {
      "model_module": "@jupyter-widgets/base",
      "model_module_version": "1.2.0",
      "model_name": "LayoutModel",
      "state": {}
     },
     "5360493b3e3d4e4c8482b251ad26210d": {
      "model_module": "@jupyter-widgets/controls",
      "model_module_version": "1.5.0",
      "model_name": "FloatProgressModel",
      "state": {
       "bar_style": "success",
       "description": "0.67: 100%",
       "layout": "IPY_MODEL_8a799f4b066945658198367ce7dc4ab2",
       "max": 2000,
       "style": "IPY_MODEL_56498bf6692d4d2da9318ffa78b481aa",
       "value": 2000
      }
     },
     "53fb869341cf428387e4217b7dff7f47": {
      "model_module": "@jupyter-widgets/base",
      "model_module_version": "1.2.0",
      "model_name": "LayoutModel",
      "state": {}
     },
     "53ff180a95084093b189c4b1fb6263fd": {
      "model_module": "@jupyter-widgets/base",
      "model_module_version": "1.2.0",
      "model_name": "LayoutModel",
      "state": {}
     },
     "54125a2b514f4a4db77a108590f3470b": {
      "model_module": "@jupyter-widgets/controls",
      "model_module_version": "1.5.0",
      "model_name": "FloatProgressModel",
      "state": {
       "bar_style": "success",
       "description": "0.55: 100%",
       "layout": "IPY_MODEL_0ae5b4acb20e4cd58a23ada4fc5c3556",
       "max": 2000,
       "style": "IPY_MODEL_425a096f316a4b97a949280d95c9f45c",
       "value": 2000
      }
     },
     "547b6cf6510f4dddb62a11e6640832a0": {
      "model_module": "@jupyter-widgets/controls",
      "model_module_version": "1.5.0",
      "model_name": "DescriptionStyleModel",
      "state": {
       "description_width": ""
      }
     },
     "54b668cf20e84ad58430eb80d560a4d7": {
      "model_module": "@jupyter-widgets/controls",
      "model_module_version": "1.5.0",
      "model_name": "ProgressStyleModel",
      "state": {
       "description_width": "initial"
      }
     },
     "54b7f32da530478f844bdc7a2dda2d17": {
      "model_module": "@jupyter-widgets/controls",
      "model_module_version": "1.5.0",
      "model_name": "HBoxModel",
      "state": {
       "children": [
        "IPY_MODEL_d09efef18e4e4b2295680219078afcd7",
        "IPY_MODEL_8ef2610f981142498f9313feff4d2c43"
       ],
       "layout": "IPY_MODEL_ceab52f4ff644462a95e2f7a285e842d"
      }
     },
     "54fdad0efc414eab93b0736f08ef0f39": {
      "model_module": "@jupyter-widgets/controls",
      "model_module_version": "1.5.0",
      "model_name": "HBoxModel",
      "state": {
       "children": [
        "IPY_MODEL_089dcd8f48dc43a79516fa22907fddfd",
        "IPY_MODEL_ab158a451e594a22a900e8080c8456a0"
       ],
       "layout": "IPY_MODEL_c65c072a68244d35843aa802965e0d3f"
      }
     },
     "550125f8a98749638cf982a61b6eea60": {
      "model_module": "@jupyter-widgets/controls",
      "model_module_version": "1.5.0",
      "model_name": "FloatProgressModel",
      "state": {
       "bar_style": "success",
       "description": "0.68: 100%",
       "layout": "IPY_MODEL_61d39c838dde45ebb08e3d5f87f38577",
       "max": 2000,
       "style": "IPY_MODEL_497b178cb430472cad9e1036fe77eeef",
       "value": 2000
      }
     },
     "562f4bea1b75447ebff1935895249152": {
      "model_module": "@jupyter-widgets/base",
      "model_module_version": "1.2.0",
      "model_name": "LayoutModel",
      "state": {}
     },
     "56369eef4f5b4c4680873288d94aff80": {
      "model_module": "@jupyter-widgets/controls",
      "model_module_version": "1.5.0",
      "model_name": "ProgressStyleModel",
      "state": {
       "description_width": "initial"
      }
     },
     "5647cdd5e2cf4e3ba40f7c4f2813a67e": {
      "model_module": "@jupyter-widgets/controls",
      "model_module_version": "1.5.0",
      "model_name": "HTMLModel",
      "state": {
       "layout": "IPY_MODEL_e88ab1a952784fd8b34a256d87e7e99d",
       "style": "IPY_MODEL_b711bc535c684953817733c1a0c542bd",
       "value": " 2000/2000 [01:39&lt;00:00, 20.18it/s]"
      }
     },
     "56498bf6692d4d2da9318ffa78b481aa": {
      "model_module": "@jupyter-widgets/controls",
      "model_module_version": "1.5.0",
      "model_name": "ProgressStyleModel",
      "state": {
       "description_width": "initial"
      }
     },
     "568cbc9ad57d48cdb66d0e71323ecfe8": {
      "model_module": "@jupyter-widgets/base",
      "model_module_version": "1.2.0",
      "model_name": "LayoutModel",
      "state": {}
     },
     "56b8265a9b474ee9ace396664a914c25": {
      "model_module": "@jupyter-widgets/base",
      "model_module_version": "1.2.0",
      "model_name": "LayoutModel",
      "state": {}
     },
     "56baa96e9244449f8fdf9890185bc504": {
      "model_module": "@jupyter-widgets/base",
      "model_module_version": "1.2.0",
      "model_name": "LayoutModel",
      "state": {}
     },
     "56da1de65a8b46fbbda2c8388f5fc1f0": {
      "model_module": "@jupyter-widgets/base",
      "model_module_version": "1.2.0",
      "model_name": "LayoutModel",
      "state": {}
     },
     "56ea2f2773e0405b9f41c85400652357": {
      "model_module": "@jupyter-widgets/base",
      "model_module_version": "1.2.0",
      "model_name": "LayoutModel",
      "state": {}
     },
     "5707b7e98ced4df0a069b447c5348162": {
      "model_module": "@jupyter-widgets/base",
      "model_module_version": "1.2.0",
      "model_name": "LayoutModel",
      "state": {}
     },
     "57f715313732496d91fb5ee0867fe401": {
      "model_module": "@jupyter-widgets/controls",
      "model_module_version": "1.5.0",
      "model_name": "HTMLModel",
      "state": {
       "layout": "IPY_MODEL_8b1f1ed4be3c4766a9c6fcdb3e85e733",
       "style": "IPY_MODEL_48abfbe811d04dc1b129d98d08faa991",
       "value": " 844/2000 [01:10&lt;01:36, 11.95it/s]"
      }
     },
     "585a865802484a928f8a4a928d6f42a9": {
      "model_module": "@jupyter-widgets/base",
      "model_module_version": "1.2.0",
      "model_name": "LayoutModel",
      "state": {}
     },
     "58a37d3f8b644992829f4fd96a096fa1": {
      "model_module": "@jupyter-widgets/base",
      "model_module_version": "1.2.0",
      "model_name": "LayoutModel",
      "state": {}
     },
     "58cc873fbef64ded898a05d577ad94b6": {
      "model_module": "@jupyter-widgets/controls",
      "model_module_version": "1.5.0",
      "model_name": "ProgressStyleModel",
      "state": {
       "description_width": "initial"
      }
     },
     "591397789b0245c2a173b03847559626": {
      "model_module": "@jupyter-widgets/controls",
      "model_module_version": "1.5.0",
      "model_name": "DescriptionStyleModel",
      "state": {
       "description_width": ""
      }
     },
     "5939c9b0366b49aaa03dd9d0c908e8fb": {
      "model_module": "@jupyter-widgets/base",
      "model_module_version": "1.2.0",
      "model_name": "LayoutModel",
      "state": {}
     },
     "5950690e5474401da7a07c13bf97f6dd": {
      "model_module": "@jupyter-widgets/controls",
      "model_module_version": "1.5.0",
      "model_name": "ProgressStyleModel",
      "state": {
       "description_width": "initial"
      }
     },
     "59995e58e9ef4266b1171034a9915d4a": {
      "model_module": "@jupyter-widgets/base",
      "model_module_version": "1.2.0",
      "model_name": "LayoutModel",
      "state": {}
     },
     "59a3dbe8cbd146448e2eb917f3b74717": {
      "model_module": "@jupyter-widgets/controls",
      "model_module_version": "1.5.0",
      "model_name": "DescriptionStyleModel",
      "state": {
       "description_width": ""
      }
     },
     "59ba479cca2e4e8ca6735c78cb53f455": {
      "model_module": "@jupyter-widgets/controls",
      "model_module_version": "1.5.0",
      "model_name": "HBoxModel",
      "state": {
       "children": [
        "IPY_MODEL_a5d1f4471b444d3a96a98924b0d2031d",
        "IPY_MODEL_6c271cafcb7642e3bb3c7e19514d77d9"
       ],
       "layout": "IPY_MODEL_3a95574bb44a4a8980151a53a874c81c"
      }
     },
     "5a25cfcec2da4e989922fadf4a1b6222": {
      "model_module": "@jupyter-widgets/base",
      "model_module_version": "1.2.0",
      "model_name": "LayoutModel",
      "state": {}
     },
     "5a280124639f471581842d8db77058e1": {
      "model_module": "@jupyter-widgets/base",
      "model_module_version": "1.2.0",
      "model_name": "LayoutModel",
      "state": {}
     },
     "5a4f4e187ff54396b695a6e19de19f4b": {
      "model_module": "@jupyter-widgets/controls",
      "model_module_version": "1.5.0",
      "model_name": "HBoxModel",
      "state": {
       "children": [
        "IPY_MODEL_ecdb89eb119c44eb81b8ca10e7648c20",
        "IPY_MODEL_5647cdd5e2cf4e3ba40f7c4f2813a67e"
       ],
       "layout": "IPY_MODEL_74be7f6bc3ad471b8ab39d04da31e10f"
      }
     },
     "5a873118c46e4b3289dfac72fae38edc": {
      "model_module": "@jupyter-widgets/controls",
      "model_module_version": "1.5.0",
      "model_name": "DescriptionStyleModel",
      "state": {
       "description_width": ""
      }
     },
     "5b28410af8dc4eeeb21efe6a34cf5d03": {
      "model_module": "@jupyter-widgets/controls",
      "model_module_version": "1.5.0",
      "model_name": "ProgressStyleModel",
      "state": {
       "description_width": "initial"
      }
     },
     "5bcc947bf2244d398a13ecbcb1d90f7d": {
      "model_module": "@jupyter-widgets/base",
      "model_module_version": "1.2.0",
      "model_name": "LayoutModel",
      "state": {}
     },
     "5c41d77ef38f436cb2607ed0248a2744": {
      "model_module": "@jupyter-widgets/controls",
      "model_module_version": "1.5.0",
      "model_name": "HBoxModel",
      "state": {
       "children": [
        "IPY_MODEL_c96ac41921054924b96b5392612453a6",
        "IPY_MODEL_24e926a279844cc89d3a9c6ada6735d7"
       ],
       "layout": "IPY_MODEL_c9418b0441ba4f7e837537a971c8e6f1"
      }
     },
     "5c46cfc1622441e38c19ab8639317b1f": {
      "model_module": "@jupyter-widgets/controls",
      "model_module_version": "1.5.0",
      "model_name": "DescriptionStyleModel",
      "state": {
       "description_width": ""
      }
     },
     "5c53c5f4b7124511a891af2be894e761": {
      "model_module": "@jupyter-widgets/base",
      "model_module_version": "1.2.0",
      "model_name": "LayoutModel",
      "state": {}
     },
     "5c58fab21d9946cd84360b46596604bf": {
      "model_module": "@jupyter-widgets/controls",
      "model_module_version": "1.5.0",
      "model_name": "FloatProgressModel",
      "state": {
       "bar_style": "success",
       "description": "0.57: 100%",
       "layout": "IPY_MODEL_bc4b09f0dfe04f579ab4ee488de54e13",
       "max": 2000,
       "style": "IPY_MODEL_5950690e5474401da7a07c13bf97f6dd",
       "value": 2000
      }
     },
     "5c67c2651e8443c3a42dcf1f955e2fc7": {
      "model_module": "@jupyter-widgets/controls",
      "model_module_version": "1.5.0",
      "model_name": "FloatProgressModel",
      "state": {
       "bar_style": "success",
       "description": "nan: 100%",
       "layout": "IPY_MODEL_83ff39e4096340979067d31d7f3b241d",
       "max": 2000,
       "style": "IPY_MODEL_68324326292f4f15925a6cb863d230a6",
       "value": 2000
      }
     },
     "5cbf37067856464184c05b6f6deafd81": {
      "model_module": "@jupyter-widgets/base",
      "model_module_version": "1.2.0",
      "model_name": "LayoutModel",
      "state": {}
     },
     "5d1e7b3133314d01b3d8879a2f9f14a7": {
      "model_module": "@jupyter-widgets/controls",
      "model_module_version": "1.5.0",
      "model_name": "DescriptionStyleModel",
      "state": {
       "description_width": ""
      }
     },
     "5d49a27394074496baf3550f2b0be08c": {
      "model_module": "@jupyter-widgets/controls",
      "model_module_version": "1.5.0",
      "model_name": "DescriptionStyleModel",
      "state": {
       "description_width": ""
      }
     },
     "5d9cbf3f30d74c03a91fe53a05e49d41": {
      "model_module": "@jupyter-widgets/controls",
      "model_module_version": "1.5.0",
      "model_name": "DescriptionStyleModel",
      "state": {
       "description_width": ""
      }
     },
     "5e0078ff8eea434ebc55810f67c46714": {
      "model_module": "@jupyter-widgets/controls",
      "model_module_version": "1.5.0",
      "model_name": "DescriptionStyleModel",
      "state": {
       "description_width": ""
      }
     },
     "5e45e4d0e650451abeaf355205c9eade": {
      "model_module": "@jupyter-widgets/base",
      "model_module_version": "1.2.0",
      "model_name": "LayoutModel",
      "state": {}
     },
     "5e7879b4fd7d427e9ec5a70c32cca100": {
      "model_module": "@jupyter-widgets/controls",
      "model_module_version": "1.5.0",
      "model_name": "FloatProgressModel",
      "state": {
       "bar_style": "success",
       "description": "0.25: 100%",
       "layout": "IPY_MODEL_16938ed41f63423c863c77c1c7405eaf",
       "max": 5000,
       "style": "IPY_MODEL_4fd8aca3bc664bf5bb6199509750deac",
       "value": 5000
      }
     },
     "5f0a0dd0c3a045b19f098d7127c8cd1d": {
      "model_module": "@jupyter-widgets/controls",
      "model_module_version": "1.5.0",
      "model_name": "HBoxModel",
      "state": {
       "children": [
        "IPY_MODEL_0b5534354aa647fabb5926059f944613",
        "IPY_MODEL_b9034229860941f39f599abf0806a1e7"
       ],
       "layout": "IPY_MODEL_e3222d07eb344dabaabe15dc951ef55c"
      }
     },
     "5fc07776ce904fbd8c9f6608450225cd": {
      "model_module": "@jupyter-widgets/base",
      "model_module_version": "1.2.0",
      "model_name": "LayoutModel",
      "state": {}
     },
     "5fe7d4443ecc477180483d0d83a930eb": {
      "model_module": "@jupyter-widgets/controls",
      "model_module_version": "1.5.0",
      "model_name": "ProgressStyleModel",
      "state": {
       "description_width": "initial"
      }
     },
     "5fe8b290f38742c39eab3c23361c710c": {
      "model_module": "@jupyter-widgets/controls",
      "model_module_version": "1.5.0",
      "model_name": "HTMLModel",
      "state": {
       "layout": "IPY_MODEL_42e4a8af284246fc91b46f28f5241bd3",
       "style": "IPY_MODEL_502ae8600c8d40b681872e58010e1dc5",
       "value": " 2000/2000 [00:08&lt;00:00, 242.14it/s]"
      }
     },
     "603a096f51da4b6baf397f0dec99865f": {
      "model_module": "@jupyter-widgets/controls",
      "model_module_version": "1.5.0",
      "model_name": "DescriptionStyleModel",
      "state": {
       "description_width": ""
      }
     },
     "60931e795b2c4759a6d43584c76f4222": {
      "model_module": "@jupyter-widgets/controls",
      "model_module_version": "1.5.0",
      "model_name": "HBoxModel",
      "state": {
       "children": [
        "IPY_MODEL_406ab9c30e9b47a7a4f0ebe8632d068f",
        "IPY_MODEL_15ce2c175624463a88656fbb718f9dd2"
       ],
       "layout": "IPY_MODEL_e0ee862b7eca4544a0882783687784e0"
      }
     },
     "60a87f51e99945239e87d8d97cf8c45f": {
      "model_module": "@jupyter-widgets/controls",
      "model_module_version": "1.5.0",
      "model_name": "DescriptionStyleModel",
      "state": {
       "description_width": ""
      }
     },
     "6147c4a5232e4c4bab35a34078d84092": {
      "model_module": "@jupyter-widgets/base",
      "model_module_version": "1.2.0",
      "model_name": "LayoutModel",
      "state": {}
     },
     "614b38b75492470ab7a01bf0cb5b880c": {
      "model_module": "@jupyter-widgets/controls",
      "model_module_version": "1.5.0",
      "model_name": "ProgressStyleModel",
      "state": {
       "description_width": "initial"
      }
     },
     "616dfa88bca44977aeb127f74b4a19b0": {
      "model_module": "@jupyter-widgets/controls",
      "model_module_version": "1.5.0",
      "model_name": "HTMLModel",
      "state": {
       "layout": "IPY_MODEL_8c5c383063d84d4a80da3b8a007c4ebf",
       "style": "IPY_MODEL_f4f4e251cdea4010a4da6770b1bbd30c",
       "value": " 303/5000 [19:44&lt;5:06:09,  3.91s/it]"
      }
     },
     "61d35032008c498ab12258ae00c4455e": {
      "model_module": "@jupyter-widgets/base",
      "model_module_version": "1.2.0",
      "model_name": "LayoutModel",
      "state": {}
     },
     "61d39c838dde45ebb08e3d5f87f38577": {
      "model_module": "@jupyter-widgets/base",
      "model_module_version": "1.2.0",
      "model_name": "LayoutModel",
      "state": {}
     },
     "61dccdd1e1a842529c1459f5bcf9c367": {
      "model_module": "@jupyter-widgets/base",
      "model_module_version": "1.2.0",
      "model_name": "LayoutModel",
      "state": {}
     },
     "61ff98543f52411d98e386885f510751": {
      "model_module": "@jupyter-widgets/controls",
      "model_module_version": "1.5.0",
      "model_name": "HTMLModel",
      "state": {
       "layout": "IPY_MODEL_4b26fd3707014796aa80766accccfb40",
       "style": "IPY_MODEL_3badf002fef149068afca544982e0a85",
       "value": " 10/10 [02:36&lt;00:00, 15.65s/it]"
      }
     },
     "62610532131b4a888053168bd086c658": {
      "model_module": "@jupyter-widgets/controls",
      "model_module_version": "1.5.0",
      "model_name": "HTMLModel",
      "state": {
       "layout": "IPY_MODEL_b4e7f3b17fd04fb091772090f39f3ff7",
       "style": "IPY_MODEL_603a096f51da4b6baf397f0dec99865f",
       "value": " 470/5000 [16:09&lt;2:35:43,  2.06s/it]"
      }
     },
     "62ed078ca93c4c34877b00a4437188e1": {
      "model_module": "@jupyter-widgets/base",
      "model_module_version": "1.2.0",
      "model_name": "LayoutModel",
      "state": {}
     },
     "63206e7875e44b22922a32c6f9c43b80": {
      "model_module": "@jupyter-widgets/base",
      "model_module_version": "1.2.0",
      "model_name": "LayoutModel",
      "state": {}
     },
     "634f560bea80401daede7adf62af49b3": {
      "model_module": "@jupyter-widgets/base",
      "model_module_version": "1.2.0",
      "model_name": "LayoutModel",
      "state": {}
     },
     "63846c34af604c539dd83727f0cb5e98": {
      "model_module": "@jupyter-widgets/controls",
      "model_module_version": "1.5.0",
      "model_name": "FloatProgressModel",
      "state": {
       "bar_style": "danger",
       "description": "2.05:  23%",
       "layout": "IPY_MODEL_ade15d2be93b4551865c1482382dc698",
       "style": "IPY_MODEL_eb00964758e34e3ca09ddcd49057b608",
       "value": 23
      }
     },
     "63969da228bc4990a656fd68df40e903": {
      "model_module": "@jupyter-widgets/controls",
      "model_module_version": "1.5.0",
      "model_name": "ProgressStyleModel",
      "state": {
       "description_width": "initial"
      }
     },
     "63de6e94e3b7422bb443f1ae43e4a0e4": {
      "model_module": "@jupyter-widgets/controls",
      "model_module_version": "1.5.0",
      "model_name": "HTMLModel",
      "state": {
       "layout": "IPY_MODEL_4b216cee2f70484b9ded4126897791c1",
       "style": "IPY_MODEL_0a0dc31ed62a4d5084f76482dc56e27d",
       "value": " 2000/2000 [03:07&lt;00:00, 10.69it/s]"
      }
     },
     "63eec45c48e344c7a97ee9507acab82f": {
      "model_module": "@jupyter-widgets/controls",
      "model_module_version": "1.5.0",
      "model_name": "DescriptionStyleModel",
      "state": {
       "description_width": ""
      }
     },
     "641255c0d5ea4204aba19154bd708f45": {
      "model_module": "@jupyter-widgets/controls",
      "model_module_version": "1.5.0",
      "model_name": "DescriptionStyleModel",
      "state": {
       "description_width": ""
      }
     },
     "6417a3ff36ad4736b7a2f3e74c2e4bce": {
      "model_module": "@jupyter-widgets/controls",
      "model_module_version": "1.5.0",
      "model_name": "HTMLModel",
      "state": {
       "layout": "IPY_MODEL_7b37ecb317e84433b1d5a37b53307b71",
       "style": "IPY_MODEL_c78480873b7b4f2da396893f2d94d716",
       "value": " 2000/2000 [00:52&lt;00:00, 38.11it/s]"
      }
     },
     "647451805b68410287b5462ab00b543c": {
      "model_module": "@jupyter-widgets/controls",
      "model_module_version": "1.5.0",
      "model_name": "HBoxModel",
      "state": {
       "children": [
        "IPY_MODEL_825b5e479d4446f0a083574b31de9b7e",
        "IPY_MODEL_0f1be305ab774c3f9af9642b735ab324"
       ],
       "layout": "IPY_MODEL_f617c71c2c5d4472bec4e7abf4d1ff15"
      }
     },
     "64948219eee840b086a5bba83495ccf4": {
      "model_module": "@jupyter-widgets/base",
      "model_module_version": "1.2.0",
      "model_name": "LayoutModel",
      "state": {}
     },
     "6497b1b6b324432484ba15dbb0cdd4ca": {
      "model_module": "@jupyter-widgets/controls",
      "model_module_version": "1.5.0",
      "model_name": "HBoxModel",
      "state": {
       "children": [
        "IPY_MODEL_e878dfd6627b45f1a0d25d49f4b4a0f1",
        "IPY_MODEL_1e9a1632c2734dd3b112b426b9c55994"
       ],
       "layout": "IPY_MODEL_3870d65f45034674a550860f76e06c31"
      }
     },
     "64ee27a3d3f64bd79071b83092540bb7": {
      "model_module": "@jupyter-widgets/controls",
      "model_module_version": "1.5.0",
      "model_name": "HTMLModel",
      "state": {
       "layout": "IPY_MODEL_e0535530f6094882a1ac8281fbc752ca",
       "style": "IPY_MODEL_91ae9e77b54c43809fd4c5ef14c27eb6",
       "value": " 0/50 [00:48&lt;?, ?it/s]"
      }
     },
     "656007e0f2d64f1fa8e198a16f673686": {
      "model_module": "@jupyter-widgets/controls",
      "model_module_version": "1.5.0",
      "model_name": "HTMLModel",
      "state": {
       "layout": "IPY_MODEL_d960ffd069994ab98b7f4b8ecb23e5ef",
       "style": "IPY_MODEL_d8ade25f0e114f56822cdb8c95c7a7f7",
       "value": " 3458/5000 [01:08&lt;00:27, 56.92it/s]"
      }
     },
     "658995a4a0844e658ec1a1ee8e36c45a": {
      "model_module": "@jupyter-widgets/controls",
      "model_module_version": "1.5.0",
      "model_name": "DescriptionStyleModel",
      "state": {
       "description_width": ""
      }
     },
     "65a92d928fef4d14b8e60955a7036fd5": {
      "model_module": "@jupyter-widgets/controls",
      "model_module_version": "1.5.0",
      "model_name": "FloatProgressModel",
      "state": {
       "bar_style": "danger",
       "description": "1.78:  46%",
       "layout": "IPY_MODEL_ee51481fa8864607afec3a4fa77d8a40",
       "style": "IPY_MODEL_8e10ba174e0e4304a6b49d8699edc0ca",
       "value": 46
      }
     },
     "65be00d799494003b49d2fbeece0b2f2": {
      "model_module": "@jupyter-widgets/controls",
      "model_module_version": "1.5.0",
      "model_name": "HBoxModel",
      "state": {
       "children": [
        "IPY_MODEL_c35813d3d98349d4be88f5457115d619",
        "IPY_MODEL_e0ff3a6625674698b8d9c53731eeeabc"
       ],
       "layout": "IPY_MODEL_304c09e72563408db72f75f0ef0eb665"
      }
     },
     "661157771c8b4711a1553c3885b9093a": {
      "model_module": "@jupyter-widgets/controls",
      "model_module_version": "1.5.0",
      "model_name": "FloatProgressModel",
      "state": {
       "bar_style": "danger",
       "description": "1.00:  27%",
       "layout": "IPY_MODEL_de729435818e44b1867e218c75766bec",
       "max": 5000,
       "style": "IPY_MODEL_83f574bea11d4af18689583d80440371",
       "value": 1357
      }
     },
     "66281eb0b93f4557b263eba184d2b5c1": {
      "model_module": "@jupyter-widgets/controls",
      "model_module_version": "1.5.0",
      "model_name": "ProgressStyleModel",
      "state": {
       "description_width": "initial"
      }
     },
     "6690197e056849a89f54f88fce8477fe": {
      "model_module": "@jupyter-widgets/base",
      "model_module_version": "1.2.0",
      "model_name": "LayoutModel",
      "state": {}
     },
     "66a6d09d4b054866bc1a29b528c7ce79": {
      "model_module": "@jupyter-widgets/controls",
      "model_module_version": "1.5.0",
      "model_name": "HTMLModel",
      "state": {
       "layout": "IPY_MODEL_42a4870740044f27bfa98863aa89ed6f",
       "style": "IPY_MODEL_6f2f2cf084d54faf9a5e8df8bef3c8ba",
       "value": " 1357/5000 [03:01&lt;08:07,  7.47it/s]"
      }
     },
     "66abf40842634554bb8a2cbb26c00e76": {
      "model_module": "@jupyter-widgets/controls",
      "model_module_version": "1.5.0",
      "model_name": "DescriptionStyleModel",
      "state": {
       "description_width": ""
      }
     },
     "66ef5b97ab76418ca100b1d9d00b13a4": {
      "model_module": "@jupyter-widgets/base",
      "model_module_version": "1.2.0",
      "model_name": "LayoutModel",
      "state": {}
     },
     "67305abd715c493cb38bd78940b3b5dd": {
      "model_module": "@jupyter-widgets/base",
      "model_module_version": "1.2.0",
      "model_name": "LayoutModel",
      "state": {}
     },
     "6790daa3c30f45eeb2f129a990933cc4": {
      "model_module": "@jupyter-widgets/base",
      "model_module_version": "1.2.0",
      "model_name": "LayoutModel",
      "state": {}
     },
     "67a8dcbd8f8a4689adf3146dbfa047a9": {
      "model_module": "@jupyter-widgets/base",
      "model_module_version": "1.2.0",
      "model_name": "LayoutModel",
      "state": {}
     },
     "67b9efac63814ed4bf0313b886ab64b1": {
      "model_module": "@jupyter-widgets/controls",
      "model_module_version": "1.5.0",
      "model_name": "DescriptionStyleModel",
      "state": {
       "description_width": ""
      }
     },
     "67cf8ff521a04d7eb0628e5ef7c564c8": {
      "model_module": "@jupyter-widgets/base",
      "model_module_version": "1.2.0",
      "model_name": "LayoutModel",
      "state": {}
     },
     "67ef97e1914d480cb6f4f86350ecbe38": {
      "model_module": "@jupyter-widgets/base",
      "model_module_version": "1.2.0",
      "model_name": "LayoutModel",
      "state": {}
     },
     "67f215d09a70402b8782396a146f8866": {
      "model_module": "@jupyter-widgets/controls",
      "model_module_version": "1.5.0",
      "model_name": "ProgressStyleModel",
      "state": {
       "description_width": "initial"
      }
     },
     "67fca8be9c7c41c7a27adc9726b9668a": {
      "model_module": "@jupyter-widgets/controls",
      "model_module_version": "1.5.0",
      "model_name": "ProgressStyleModel",
      "state": {
       "description_width": "initial"
      }
     },
     "6812a5ce17404801ac05e501c7c835d8": {
      "model_module": "@jupyter-widgets/controls",
      "model_module_version": "1.5.0",
      "model_name": "HBoxModel",
      "state": {
       "children": [
        "IPY_MODEL_661157771c8b4711a1553c3885b9093a",
        "IPY_MODEL_66a6d09d4b054866bc1a29b528c7ce79"
       ],
       "layout": "IPY_MODEL_0be46e289ad1445cabcf0554012c8587"
      }
     },
     "68324326292f4f15925a6cb863d230a6": {
      "model_module": "@jupyter-widgets/controls",
      "model_module_version": "1.5.0",
      "model_name": "ProgressStyleModel",
      "state": {
       "description_width": "initial"
      }
     },
     "6875d889bde0402bbd53c4113ad2c112": {
      "model_module": "@jupyter-widgets/base",
      "model_module_version": "1.2.0",
      "model_name": "LayoutModel",
      "state": {}
     },
     "687804df71a549e3b8c08317ce3f6c4d": {
      "model_module": "@jupyter-widgets/controls",
      "model_module_version": "1.5.0",
      "model_name": "ProgressStyleModel",
      "state": {
       "description_width": "initial"
      }
     },
     "68967515ec114e26b429c71bfa3cff3b": {
      "model_module": "@jupyter-widgets/controls",
      "model_module_version": "1.5.0",
      "model_name": "ProgressStyleModel",
      "state": {
       "description_width": "initial"
      }
     },
     "68bd88f6d6d94d19970e9860fa3267f9": {
      "model_module": "@jupyter-widgets/base",
      "model_module_version": "1.2.0",
      "model_name": "LayoutModel",
      "state": {}
     },
     "68d41be28b3c4dcc8797d439753a03d8": {
      "model_module": "@jupyter-widgets/controls",
      "model_module_version": "1.5.0",
      "model_name": "HTMLModel",
      "state": {
       "layout": "IPY_MODEL_a74f446f44174de8b401853638a1c3f1",
       "style": "IPY_MODEL_9c17ee4553a145c3be415986afbee4c2",
       "value": " 2000/2000 [00:20&lt;00:00, 98.58it/s]"
      }
     },
     "690f7a3458584b0fb913faacacad10dc": {
      "model_module": "@jupyter-widgets/controls",
      "model_module_version": "1.5.0",
      "model_name": "FloatProgressModel",
      "state": {
       "bar_style": "danger",
       "description": "-0.17:   5%",
       "layout": "IPY_MODEL_975498ae920a40c6b89ef86b25552318",
       "max": 5000,
       "style": "IPY_MODEL_479130d333a14323849fa73ca56c121f",
       "value": 264
      }
     },
     "697a554737db46e19e191a33dc6f9f7b": {
      "model_module": "@jupyter-widgets/base",
      "model_module_version": "1.2.0",
      "model_name": "LayoutModel",
      "state": {}
     },
     "69d50e187dca4c78a667a3c03f832029": {
      "model_module": "@jupyter-widgets/controls",
      "model_module_version": "1.5.0",
      "model_name": "HTMLModel",
      "state": {
       "layout": "IPY_MODEL_f1f491c271a341e18fe650e119216c55",
       "style": "IPY_MODEL_ce8be96f4f934e0bb411807a6f92461b",
       "value": " 0/5000 [16:15&lt;?, ?it/s]"
      }
     },
     "6a42b28084014017807c55ddd6e6c574": {
      "model_module": "@jupyter-widgets/controls",
      "model_module_version": "1.5.0",
      "model_name": "ProgressStyleModel",
      "state": {
       "description_width": "initial"
      }
     },
     "6a4dad9c48be450ca794d4313f911e1c": {
      "model_module": "@jupyter-widgets/controls",
      "model_module_version": "1.5.0",
      "model_name": "ProgressStyleModel",
      "state": {
       "description_width": "initial"
      }
     },
     "6a564e7db02d4e28bfa167fcc6b1902f": {
      "model_module": "@jupyter-widgets/controls",
      "model_module_version": "1.5.0",
      "model_name": "HBoxModel",
      "state": {
       "children": [
        "IPY_MODEL_3061ea67ca934483bc1965b9da695888",
        "IPY_MODEL_b71d96d680ed4cd7a535bf97dd917ecc"
       ],
       "layout": "IPY_MODEL_82f361067de64d3fbb633a29bbceab34"
      }
     },
     "6ae46325c1e145b7a46d44466fc363af": {
      "model_module": "@jupyter-widgets/base",
      "model_module_version": "1.2.0",
      "model_name": "LayoutModel",
      "state": {}
     },
     "6af5513fa5fb42cea3020c1feda5b9b8": {
      "model_module": "@jupyter-widgets/base",
      "model_module_version": "1.2.0",
      "model_name": "LayoutModel",
      "state": {}
     },
     "6b14dcd7186c405b9cda7fd632a00ff0": {
      "model_module": "@jupyter-widgets/controls",
      "model_module_version": "1.5.0",
      "model_name": "HBoxModel",
      "state": {
       "children": [
        "IPY_MODEL_b031e45252c14b32b6cb3d8adacd0b34",
        "IPY_MODEL_337999392d2443dd95a2ab621bac553c"
       ],
       "layout": "IPY_MODEL_301523199ab247f686844bb672b11edf"
      }
     },
     "6b21113e20dc464fa43a70b236b95791": {
      "model_module": "@jupyter-widgets/controls",
      "model_module_version": "1.5.0",
      "model_name": "FloatProgressModel",
      "state": {
       "bar_style": "success",
       "description": "1.59: 100%",
       "layout": "IPY_MODEL_4a338a2f9d0f4ddc9d7a40488cb8c347",
       "max": 2000,
       "style": "IPY_MODEL_8eb68bdcd7b04692a10ffef35458c370",
       "value": 2000
      }
     },
     "6b33d738279141239c9ba4e3f52f1988": {
      "model_module": "@jupyter-widgets/controls",
      "model_module_version": "1.5.0",
      "model_name": "HBoxModel",
      "state": {
       "children": [
        "IPY_MODEL_44de55603cf645e39cf06bde548fc688",
        "IPY_MODEL_616dfa88bca44977aeb127f74b4a19b0"
       ],
       "layout": "IPY_MODEL_97a25ae932ce4122a8bbb9b77585b40c"
      }
     },
     "6b34b7b1e37c40c1b750465d420484f0": {
      "model_module": "@jupyter-widgets/base",
      "model_module_version": "1.2.0",
      "model_name": "LayoutModel",
      "state": {}
     },
     "6bdcc468c99e48258dc4416346587375": {
      "model_module": "@jupyter-widgets/controls",
      "model_module_version": "1.5.0",
      "model_name": "FloatProgressModel",
      "state": {
       "bar_style": "success",
       "description": "1.43: 100%",
       "layout": "IPY_MODEL_ef15b2ee2285419293704548dea38c47",
       "max": 5000,
       "style": "IPY_MODEL_66281eb0b93f4557b263eba184d2b5c1",
       "value": 5000
      }
     },
     "6c271cafcb7642e3bb3c7e19514d77d9": {
      "model_module": "@jupyter-widgets/controls",
      "model_module_version": "1.5.0",
      "model_name": "HTMLModel",
      "state": {
       "layout": "IPY_MODEL_46c9b6392dc24a4697ece3bfdab98a21",
       "style": "IPY_MODEL_7d0a08dcaf754e808b1ded3b5bd91ff7",
       "value": " 2000/2000 [03:09&lt;00:00, 10.54it/s]"
      }
     },
     "6ca12385d08646a9879cabc334accb07": {
      "model_module": "@jupyter-widgets/controls",
      "model_module_version": "1.5.0",
      "model_name": "FloatProgressModel",
      "state": {
       "bar_style": "success",
       "description": "2.2262151: 100%",
       "layout": "IPY_MODEL_7bea8e8445a64dab9ae04cc4f6f1725b",
       "max": 50,
       "style": "IPY_MODEL_41e15bca7fd5446ebe05123322c66fcc",
       "value": 50
      }
     },
     "6d31ece42a744787a5fc51c17934167c": {
      "model_module": "@jupyter-widgets/controls",
      "model_module_version": "1.5.0",
      "model_name": "DescriptionStyleModel",
      "state": {
       "description_width": ""
      }
     },
     "6d956ac74b7546eda4c7ab1aecff2758": {
      "model_module": "@jupyter-widgets/controls",
      "model_module_version": "1.5.0",
      "model_name": "HBoxModel",
      "state": {
       "children": [
        "IPY_MODEL_1418e401f7b44a288916ae40350c9be0",
        "IPY_MODEL_93e6ab159ec443b4af228fe49382ee68"
       ],
       "layout": "IPY_MODEL_cdb0c781d8da49c5a8c40a562776143a"
      }
     },
     "6e1af427eaee4e66932278a2c008ea6d": {
      "model_module": "@jupyter-widgets/base",
      "model_module_version": "1.2.0",
      "model_name": "LayoutModel",
      "state": {}
     },
     "6e2073fd3f9f48fd80d653db3b86c8ae": {
      "model_module": "@jupyter-widgets/base",
      "model_module_version": "1.2.0",
      "model_name": "LayoutModel",
      "state": {}
     },
     "6e64882ece6a4eef9c94b7ba299491a2": {
      "model_module": "@jupyter-widgets/controls",
      "model_module_version": "1.5.0",
      "model_name": "ProgressStyleModel",
      "state": {
       "description_width": "initial"
      }
     },
     "6e6c5bdef98c41b6868933b31c59cc54": {
      "model_module": "@jupyter-widgets/base",
      "model_module_version": "1.2.0",
      "model_name": "LayoutModel",
      "state": {}
     },
     "6e93e066814047318a14c0d71de40b52": {
      "model_module": "@jupyter-widgets/base",
      "model_module_version": "1.2.0",
      "model_name": "LayoutModel",
      "state": {}
     },
     "6ea7201880134750b0bfb1805e6d148f": {
      "model_module": "@jupyter-widgets/base",
      "model_module_version": "1.2.0",
      "model_name": "LayoutModel",
      "state": {}
     },
     "6edec23a686447efa56fc05b603040ba": {
      "model_module": "@jupyter-widgets/base",
      "model_module_version": "1.2.0",
      "model_name": "LayoutModel",
      "state": {}
     },
     "6f2f2cf084d54faf9a5e8df8bef3c8ba": {
      "model_module": "@jupyter-widgets/controls",
      "model_module_version": "1.5.0",
      "model_name": "DescriptionStyleModel",
      "state": {
       "description_width": ""
      }
     },
     "6f30a4024cea4a68876bfd7a6352ecf5": {
      "model_module": "@jupyter-widgets/controls",
      "model_module_version": "1.5.0",
      "model_name": "DescriptionStyleModel",
      "state": {
       "description_width": ""
      }
     },
     "6f47ee01e9da4f82aeb06e1931e08075": {
      "model_module": "@jupyter-widgets/base",
      "model_module_version": "1.2.0",
      "model_name": "LayoutModel",
      "state": {}
     },
     "6f545682f41543758ca271b91975fe44": {
      "model_module": "@jupyter-widgets/base",
      "model_module_version": "1.2.0",
      "model_name": "LayoutModel",
      "state": {}
     },
     "6f9ed56f740045d4a9c2aa2214419b5b": {
      "model_module": "@jupyter-widgets/base",
      "model_module_version": "1.2.0",
      "model_name": "LayoutModel",
      "state": {}
     },
     "6fb6d276c734473f938e4104208d4ef4": {
      "model_module": "@jupyter-widgets/controls",
      "model_module_version": "1.5.0",
      "model_name": "FloatProgressModel",
      "state": {
       "bar_style": "success",
       "description": "1.43: 100%",
       "layout": "IPY_MODEL_2921098df93348edb8c204319a7bec39",
       "max": 2000,
       "style": "IPY_MODEL_3736c73e3834407a9e8ceb4d61923723",
       "value": 2000
      }
     },
     "7040d2ada4364ee78cb4fdaab895e7b4": {
      "model_module": "@jupyter-widgets/controls",
      "model_module_version": "1.5.0",
      "model_name": "FloatProgressModel",
      "state": {
       "bar_style": "danger",
       "description": "-0.23:  17%",
       "layout": "IPY_MODEL_f30608fd785d4d7095e62e533448fb89",
       "max": 5000,
       "style": "IPY_MODEL_16ebc74260b14c40939513c3edcbfe45",
       "value": 836
      }
     },
     "705f1e2c9bfb498bad5e912d049e9c7a": {
      "model_module": "@jupyter-widgets/base",
      "model_module_version": "1.2.0",
      "model_name": "LayoutModel",
      "state": {}
     },
     "70fec680e44344018221e02b27a64cc4": {
      "model_module": "@jupyter-widgets/base",
      "model_module_version": "1.2.0",
      "model_name": "LayoutModel",
      "state": {}
     },
     "71b838748f174ad39af8317b6022a852": {
      "model_module": "@jupyter-widgets/controls",
      "model_module_version": "1.5.0",
      "model_name": "ProgressStyleModel",
      "state": {
       "description_width": "initial"
      }
     },
     "71e2113c4a6b43b2aa546210093e1869": {
      "model_module": "@jupyter-widgets/controls",
      "model_module_version": "1.5.0",
      "model_name": "ProgressStyleModel",
      "state": {
       "description_width": "initial"
      }
     },
     "723e4df8e6dd4131bd858f1d28ea19a3": {
      "model_module": "@jupyter-widgets/base",
      "model_module_version": "1.2.0",
      "model_name": "LayoutModel",
      "state": {}
     },
     "7269d645d3174efb830227faf7a82731": {
      "model_module": "@jupyter-widgets/controls",
      "model_module_version": "1.5.0",
      "model_name": "ProgressStyleModel",
      "state": {
       "description_width": "initial"
      }
     },
     "726bf9c630f34512a9ccefc852816d2c": {
      "model_module": "@jupyter-widgets/base",
      "model_module_version": "1.2.0",
      "model_name": "LayoutModel",
      "state": {}
     },
     "7270f2c1ad2b4abbbbdc7e949c8abbae": {
      "model_module": "@jupyter-widgets/controls",
      "model_module_version": "1.5.0",
      "model_name": "ProgressStyleModel",
      "state": {
       "description_width": "initial"
      }
     },
     "73333ea8491a4c8f964161270fa660fb": {
      "model_module": "@jupyter-widgets/base",
      "model_module_version": "1.2.0",
      "model_name": "LayoutModel",
      "state": {}
     },
     "733932718c2d4c7e8d1084ba13f1b92f": {
      "model_module": "@jupyter-widgets/controls",
      "model_module_version": "1.5.0",
      "model_name": "DescriptionStyleModel",
      "state": {
       "description_width": ""
      }
     },
     "7388998c31834a5485bc2a27117e3b70": {
      "model_module": "@jupyter-widgets/controls",
      "model_module_version": "1.5.0",
      "model_name": "DescriptionStyleModel",
      "state": {
       "description_width": ""
      }
     },
     "73c2159f3b484ecfa152abcf05ea2736": {
      "model_module": "@jupyter-widgets/base",
      "model_module_version": "1.2.0",
      "model_name": "LayoutModel",
      "state": {}
     },
     "741faadf4529435daa0a6c08af5f236f": {
      "model_module": "@jupyter-widgets/controls",
      "model_module_version": "1.5.0",
      "model_name": "FloatProgressModel",
      "state": {
       "bar_style": "success",
       "description": "1.96: 100%",
       "layout": "IPY_MODEL_9f78d0a30caf41ceab7d90d75fc66ba9",
       "max": 2000,
       "style": "IPY_MODEL_7ab92eb6e53848aaba172f99fa91c97a",
       "value": 2000
      }
     },
     "74be7f6bc3ad471b8ab39d04da31e10f": {
      "model_module": "@jupyter-widgets/base",
      "model_module_version": "1.2.0",
      "model_name": "LayoutModel",
      "state": {}
     },
     "7540aaf3637442fea77ad6f5224fff6c": {
      "model_module": "@jupyter-widgets/controls",
      "model_module_version": "1.5.0",
      "model_name": "ProgressStyleModel",
      "state": {
       "description_width": "initial"
      }
     },
     "754d02d6614d4df08573c2f2cd24abe6": {
      "model_module": "@jupyter-widgets/controls",
      "model_module_version": "1.5.0",
      "model_name": "HTMLModel",
      "state": {
       "layout": "IPY_MODEL_e3e50bc8ef564b8185f2a8087c9a3bd8",
       "style": "IPY_MODEL_479c271bfa284b2bbb432d162da0cccc",
       "value": " 5000/5000 [00:56&lt;00:00, 87.88it/s]"
      }
     },
     "75fc492d83c041ab856a1fbf314e659e": {
      "model_module": "@jupyter-widgets/base",
      "model_module_version": "1.2.0",
      "model_name": "LayoutModel",
      "state": {}
     },
     "7602d8b2fa564a4eafa090ae5105836c": {
      "model_module": "@jupyter-widgets/controls",
      "model_module_version": "1.5.0",
      "model_name": "DescriptionStyleModel",
      "state": {
       "description_width": ""
      }
     },
     "7604b1ce09644ccb857086a8ac8da771": {
      "model_module": "@jupyter-widgets/base",
      "model_module_version": "1.2.0",
      "model_name": "LayoutModel",
      "state": {}
     },
     "760de61a6df44f43a4c823fb17285352": {
      "model_module": "@jupyter-widgets/controls",
      "model_module_version": "1.5.0",
      "model_name": "DescriptionStyleModel",
      "state": {
       "description_width": ""
      }
     },
     "767ee35f239249898a9673f6bd8f8d06": {
      "model_module": "@jupyter-widgets/controls",
      "model_module_version": "1.5.0",
      "model_name": "HBoxModel",
      "state": {
       "children": [
        "IPY_MODEL_f00c76eb2a2946d8bc7c3ae1bab6d6f7",
        "IPY_MODEL_d32521bd16474bb9973a99e439a55556"
       ],
       "layout": "IPY_MODEL_eb4e98321c114f6f91710b09ae4069aa"
      }
     },
     "76ced6bbdbfe4a93955a04b52919ead7": {
      "model_module": "@jupyter-widgets/controls",
      "model_module_version": "1.5.0",
      "model_name": "HTMLModel",
      "state": {
       "layout": "IPY_MODEL_00c2264a0d974119bcaebd9f2d670870",
       "style": "IPY_MODEL_dda42b813bf44a35a9c59cf90a668a50",
       "value": " 50/50 [00:43&lt;00:00,  1.14it/s]"
      }
     },
     "76dcabcd0bb948f49f55cc436b317789": {
      "model_module": "@jupyter-widgets/base",
      "model_module_version": "1.2.0",
      "model_name": "LayoutModel",
      "state": {}
     },
     "774af93769a54d2ab591bb9ad4dd0f45": {
      "model_module": "@jupyter-widgets/controls",
      "model_module_version": "1.5.0",
      "model_name": "ProgressStyleModel",
      "state": {
       "description_width": "initial"
      }
     },
     "77611d057c874a929713689ee931a723": {
      "model_module": "@jupyter-widgets/controls",
      "model_module_version": "1.5.0",
      "model_name": "ProgressStyleModel",
      "state": {
       "description_width": "initial"
      }
     },
     "7764dd3289844bd682f35c70827d42af": {
      "model_module": "@jupyter-widgets/controls",
      "model_module_version": "1.5.0",
      "model_name": "DescriptionStyleModel",
      "state": {
       "description_width": ""
      }
     },
     "7786ab49078142e6bea76e9b0d6f5662": {
      "model_module": "@jupyter-widgets/controls",
      "model_module_version": "1.5.0",
      "model_name": "DescriptionStyleModel",
      "state": {
       "description_width": ""
      }
     },
     "7794ee9b74e045768960c1e0742f374d": {
      "model_module": "@jupyter-widgets/base",
      "model_module_version": "1.2.0",
      "model_name": "LayoutModel",
      "state": {}
     },
     "77bcff9a173641159377651d7d79e589": {
      "model_module": "@jupyter-widgets/controls",
      "model_module_version": "1.5.0",
      "model_name": "ProgressStyleModel",
      "state": {
       "description_width": "initial"
      }
     },
     "7831a3b13cb943c19353b617d91c6df5": {
      "model_module": "@jupyter-widgets/controls",
      "model_module_version": "1.5.0",
      "model_name": "HTMLModel",
      "state": {
       "layout": "IPY_MODEL_b7d798f700934858970101987b6f3218",
       "style": "IPY_MODEL_d183999ba6194631bb8acac8c9a9d605",
       "value": " 234/5000 [10:54&lt;3:42:11,  2.80s/it]"
      }
     },
     "7840487caa2040edbf23a6f9c4dda599": {
      "model_module": "@jupyter-widgets/base",
      "model_module_version": "1.2.0",
      "model_name": "LayoutModel",
      "state": {}
     },
     "7875c009da6840e0aa7b54440e21b140": {
      "model_module": "@jupyter-widgets/controls",
      "model_module_version": "1.5.0",
      "model_name": "DescriptionStyleModel",
      "state": {
       "description_width": ""
      }
     },
     "7877faad098b4e15a5745489e6b4dc5c": {
      "model_module": "@jupyter-widgets/base",
      "model_module_version": "1.2.0",
      "model_name": "LayoutModel",
      "state": {}
     },
     "78ad34e943c14813b5deb6485f248ad7": {
      "model_module": "@jupyter-widgets/base",
      "model_module_version": "1.2.0",
      "model_name": "LayoutModel",
      "state": {}
     },
     "799d26b2784f410e941a071cb852cadf": {
      "model_module": "@jupyter-widgets/controls",
      "model_module_version": "1.5.0",
      "model_name": "FloatProgressModel",
      "state": {
       "bar_style": "success",
       "description": "1.32: 100%",
       "layout": "IPY_MODEL_f6c21f33ef664a1c9b584bc737792eb9",
       "max": 2000,
       "style": "IPY_MODEL_ac05d0584a924490a183d8dcd7488dc5",
       "value": 2000
      }
     },
     "79cc38249048443b88ad3ed31ac7cc2c": {
      "model_module": "@jupyter-widgets/controls",
      "model_module_version": "1.5.0",
      "model_name": "HBoxModel",
      "state": {
       "children": [
        "IPY_MODEL_8bd95be86a1a477480348b4cdf3cd5f8",
        "IPY_MODEL_2c5d5f43e77a4cbdb6e50ca537739f23"
       ],
       "layout": "IPY_MODEL_8fe6a4cdbffc4f04af310d926a8af1b4"
      }
     },
     "79d071c869cd4b638a91c4cf7ee2dfc4": {
      "model_module": "@jupyter-widgets/controls",
      "model_module_version": "1.5.0",
      "model_name": "FloatProgressModel",
      "state": {
       "bar_style": "success",
       "description": "0.38: 100%",
       "layout": "IPY_MODEL_e321362bfd0a4815885ad6b35986ebac",
       "max": 2000,
       "style": "IPY_MODEL_b2e72ad0cada4c6db82e985ae2e9f440",
       "value": 2000
      }
     },
     "7a2592289bac4bd084d91cf90e1cff86": {
      "model_module": "@jupyter-widgets/base",
      "model_module_version": "1.2.0",
      "model_name": "LayoutModel",
      "state": {}
     },
     "7a2a5b722d7b4bf58f5e2dcf339aa69c": {
      "model_module": "@jupyter-widgets/controls",
      "model_module_version": "1.5.0",
      "model_name": "HBoxModel",
      "state": {
       "children": [
        "IPY_MODEL_1dd5b779b7454e05a63090e003d6aed1",
        "IPY_MODEL_10b5204c63b74494a107963fa8b6a036"
       ],
       "layout": "IPY_MODEL_4e10ed3ad342438b80dd7e1616fb90bd"
      }
     },
     "7a5843d77169460894fd471fc31ff688": {
      "model_module": "@jupyter-widgets/base",
      "model_module_version": "1.2.0",
      "model_name": "LayoutModel",
      "state": {}
     },
     "7a9e955d51b34e2e8f1cfc31355aaa9a": {
      "model_module": "@jupyter-widgets/controls",
      "model_module_version": "1.5.0",
      "model_name": "HBoxModel",
      "state": {
       "children": [
        "IPY_MODEL_42444afcd5ad4d4e84a85452c3fee0f9",
        "IPY_MODEL_4bc63900e15d4b0a8f18a32ab77588b5"
       ],
       "layout": "IPY_MODEL_c3ce78ce2e1b4b74a12c4bbc88eb6967"
      }
     },
     "7ab92eb6e53848aaba172f99fa91c97a": {
      "model_module": "@jupyter-widgets/controls",
      "model_module_version": "1.5.0",
      "model_name": "ProgressStyleModel",
      "state": {
       "description_width": "initial"
      }
     },
     "7ac05b8d2b9a49f3b46cc4bc583b85e2": {
      "model_module": "@jupyter-widgets/base",
      "model_module_version": "1.2.0",
      "model_name": "LayoutModel",
      "state": {}
     },
     "7acb03bac57643ee869bf08147c1482d": {
      "model_module": "@jupyter-widgets/base",
      "model_module_version": "1.2.0",
      "model_name": "LayoutModel",
      "state": {}
     },
     "7b34a2365ff7488d92f06bafc98ddc4a": {
      "model_module": "@jupyter-widgets/controls",
      "model_module_version": "1.5.0",
      "model_name": "DescriptionStyleModel",
      "state": {
       "description_width": ""
      }
     },
     "7b37ecb317e84433b1d5a37b53307b71": {
      "model_module": "@jupyter-widgets/base",
      "model_module_version": "1.2.0",
      "model_name": "LayoutModel",
      "state": {}
     },
     "7b5a2e1eb1684b0fa44f6ea4f571c2fb": {
      "model_module": "@jupyter-widgets/controls",
      "model_module_version": "1.5.0",
      "model_name": "DescriptionStyleModel",
      "state": {
       "description_width": ""
      }
     },
     "7bd6a06e8184427ab15fe18c8af4fc5b": {
      "model_module": "@jupyter-widgets/controls",
      "model_module_version": "1.5.0",
      "model_name": "FloatProgressModel",
      "state": {
       "bar_style": "success",
       "description": "1.57: 100%",
       "layout": "IPY_MODEL_4978619d5f504abdae39096fa7d28127",
       "max": 2000,
       "style": "IPY_MODEL_510e669ea4214010b852dbc5713c4178",
       "value": 2000
      }
     },
     "7bea8e8445a64dab9ae04cc4f6f1725b": {
      "model_module": "@jupyter-widgets/base",
      "model_module_version": "1.2.0",
      "model_name": "LayoutModel",
      "state": {}
     },
     "7cad4b4e06f944ac99e540dc2dad0491": {
      "model_module": "@jupyter-widgets/controls",
      "model_module_version": "1.5.0",
      "model_name": "ProgressStyleModel",
      "state": {
       "description_width": "initial"
      }
     },
     "7cc6fbc0402f4c5fb25ca8c2250c3856": {
      "model_module": "@jupyter-widgets/base",
      "model_module_version": "1.2.0",
      "model_name": "LayoutModel",
      "state": {}
     },
     "7cd544d4089f4a83841e1aa34f572140": {
      "model_module": "@jupyter-widgets/base",
      "model_module_version": "1.2.0",
      "model_name": "LayoutModel",
      "state": {}
     },
     "7d0a08dcaf754e808b1ded3b5bd91ff7": {
      "model_module": "@jupyter-widgets/controls",
      "model_module_version": "1.5.0",
      "model_name": "DescriptionStyleModel",
      "state": {
       "description_width": ""
      }
     },
     "7d26956b13d24e6db0a778b2de58e380": {
      "model_module": "@jupyter-widgets/base",
      "model_module_version": "1.2.0",
      "model_name": "LayoutModel",
      "state": {}
     },
     "7d4f6c531a7a4b22b9e36c4541c84272": {
      "model_module": "@jupyter-widgets/base",
      "model_module_version": "1.2.0",
      "model_name": "LayoutModel",
      "state": {}
     },
     "7d8c7028a0574e3eb0624c70f65c7659": {
      "model_module": "@jupyter-widgets/controls",
      "model_module_version": "1.5.0",
      "model_name": "FloatProgressModel",
      "state": {
       "description": "0.35:  43%",
       "layout": "IPY_MODEL_a90a5c100f7e443e97634ac341504a65",
       "max": 2000,
       "style": "IPY_MODEL_2ddce9b6e1e14ca3bca90de05e1fff24",
       "value": 863
      }
     },
     "7dc20bdd9762458b8f2ff6d4554f3be3": {
      "model_module": "@jupyter-widgets/base",
      "model_module_version": "1.2.0",
      "model_name": "LayoutModel",
      "state": {}
     },
     "7e96bc56a2be4b76b8d508bbbc74d6c2": {
      "model_module": "@jupyter-widgets/base",
      "model_module_version": "1.2.0",
      "model_name": "LayoutModel",
      "state": {}
     },
     "7ed2a56e9db14d0bb8d63553c2677c8e": {
      "model_module": "@jupyter-widgets/controls",
      "model_module_version": "1.5.0",
      "model_name": "FloatProgressModel",
      "state": {
       "bar_style": "success",
       "description": "1.7420048: 100%",
       "layout": "IPY_MODEL_b4298bf6ea664462b2a537811f6a8769",
       "max": 50,
       "style": "IPY_MODEL_77611d057c874a929713689ee931a723",
       "value": 50
      }
     },
     "7eee7dae74df4f9aa3e7b683674f4449": {
      "model_module": "@jupyter-widgets/base",
      "model_module_version": "1.2.0",
      "model_name": "LayoutModel",
      "state": {}
     },
     "7f10f566f6f449269bdbad590539075e": {
      "model_module": "@jupyter-widgets/base",
      "model_module_version": "1.2.0",
      "model_name": "LayoutModel",
      "state": {}
     },
     "7f78d150d0454254853968fea43f9a6c": {
      "model_module": "@jupyter-widgets/controls",
      "model_module_version": "1.5.0",
      "model_name": "DescriptionStyleModel",
      "state": {
       "description_width": ""
      }
     },
     "7f79cb9c54f8407ebd2bd1f757b4b854": {
      "model_module": "@jupyter-widgets/controls",
      "model_module_version": "1.5.0",
      "model_name": "HTMLModel",
      "state": {
       "layout": "IPY_MODEL_fcb145c803634391a3c2e013c38c96d2",
       "style": "IPY_MODEL_f21e077a18754754a8c5282fd7005e9e",
       "value": " 50/50 [00:56&lt;00:00,  1.13s/it]"
      }
     },
     "804a47c77b1d4c06b540c4b6c11a212b": {
      "model_module": "@jupyter-widgets/base",
      "model_module_version": "1.2.0",
      "model_name": "LayoutModel",
      "state": {}
     },
     "80d5e24f2e5c478085b17918143ceac5": {
      "model_module": "@jupyter-widgets/controls",
      "model_module_version": "1.5.0",
      "model_name": "DescriptionStyleModel",
      "state": {
       "description_width": ""
      }
     },
     "811e9e9996d94dec964cd8a31a69d2af": {
      "model_module": "@jupyter-widgets/controls",
      "model_module_version": "1.5.0",
      "model_name": "HBoxModel",
      "state": {
       "children": [
        "IPY_MODEL_a8140751c44142f08dfb285618568820",
        "IPY_MODEL_64ee27a3d3f64bd79071b83092540bb7"
       ],
       "layout": "IPY_MODEL_aa4df9f397b048b9a22b79c634060897"
      }
     },
     "8147321a9cc349f28bfb6bd1076554fa": {
      "model_module": "@jupyter-widgets/controls",
      "model_module_version": "1.5.0",
      "model_name": "HBoxModel",
      "state": {
       "children": [
        "IPY_MODEL_23b606fa47a448f8a2c42d88dd64dbe6",
        "IPY_MODEL_7831a3b13cb943c19353b617d91c6df5"
       ],
       "layout": "IPY_MODEL_8c707885c4e94cfa88fbec805c6ed763"
      }
     },
     "81a2b46575c9442bbceb337c66ec7d42": {
      "model_module": "@jupyter-widgets/controls",
      "model_module_version": "1.5.0",
      "model_name": "DescriptionStyleModel",
      "state": {
       "description_width": ""
      }
     },
     "821c71e235e3427dac42b62e7197f06f": {
      "model_module": "@jupyter-widgets/controls",
      "model_module_version": "1.5.0",
      "model_name": "HTMLModel",
      "state": {
       "layout": "IPY_MODEL_a69f449d2efd4a32a9c5af3512a95f2b",
       "style": "IPY_MODEL_bf126177214349a1bd724cbe6588a79a",
       "value": " 680/5000 [12:51&lt;1:21:41,  1.13s/it]"
      }
     },
     "823e018a28234307900281f30b491b3c": {
      "model_module": "@jupyter-widgets/controls",
      "model_module_version": "1.5.0",
      "model_name": "FloatProgressModel",
      "state": {
       "bar_style": "success",
       "description": "0.49: 100%",
       "layout": "IPY_MODEL_c8f12d10ac684ade9fd52d2590ea3d58",
       "max": 2000,
       "style": "IPY_MODEL_b09f2320163a4c7f9f71b481129a7c0f",
       "value": 2000
      }
     },
     "825b5e479d4446f0a083574b31de9b7e": {
      "model_module": "@jupyter-widgets/controls",
      "model_module_version": "1.5.0",
      "model_name": "FloatProgressModel",
      "state": {
       "bar_style": "danger",
       "description": "  0%",
       "layout": "IPY_MODEL_fbaa13ad1ebe44a98bc73b1b37ba67a2",
       "max": 5000,
       "style": "IPY_MODEL_b58bec4e27a14e21a921668dad9bf338"
      }
     },
     "8299e9f586d0431d9d943737c173729f": {
      "model_module": "@jupyter-widgets/controls",
      "model_module_version": "1.5.0",
      "model_name": "FloatProgressModel",
      "state": {
       "bar_style": "success",
       "description": "0.32: 100%",
       "layout": "IPY_MODEL_63206e7875e44b22922a32c6f9c43b80",
       "max": 5000,
       "style": "IPY_MODEL_4a3f7c8907bd46ce949294190126aec9",
       "value": 5000
      }
     },
     "82aa365712b34aebb0d3d473091c4281": {
      "model_module": "@jupyter-widgets/base",
      "model_module_version": "1.2.0",
      "model_name": "LayoutModel",
      "state": {}
     },
     "82f361067de64d3fbb633a29bbceab34": {
      "model_module": "@jupyter-widgets/base",
      "model_module_version": "1.2.0",
      "model_name": "LayoutModel",
      "state": {}
     },
     "833e30c7d5c84028a4412de0fc168882": {
      "model_module": "@jupyter-widgets/base",
      "model_module_version": "1.2.0",
      "model_name": "LayoutModel",
      "state": {}
     },
     "837bea8778ed4ba0872887d702933438": {
      "model_module": "@jupyter-widgets/base",
      "model_module_version": "1.2.0",
      "model_name": "LayoutModel",
      "state": {}
     },
     "83dc0bf14b9f4822a8a8e06b221fcae2": {
      "model_module": "@jupyter-widgets/controls",
      "model_module_version": "1.5.0",
      "model_name": "HTMLModel",
      "state": {
       "layout": "IPY_MODEL_0e426fd1c9ed44fd9d8aa7eba134f53e",
       "style": "IPY_MODEL_1e887883e0c848b6a48799cc8541db59",
       "value": " 710/5000 [12:22&lt;1:14:45,  1.05s/it]"
      }
     },
     "83f574bea11d4af18689583d80440371": {
      "model_module": "@jupyter-widgets/controls",
      "model_module_version": "1.5.0",
      "model_name": "ProgressStyleModel",
      "state": {
       "description_width": "initial"
      }
     },
     "83f62e86fed34535904bb77f8f9b6d41": {
      "model_module": "@jupyter-widgets/controls",
      "model_module_version": "1.5.0",
      "model_name": "ProgressStyleModel",
      "state": {
       "description_width": "initial"
      }
     },
     "83ff39e4096340979067d31d7f3b241d": {
      "model_module": "@jupyter-widgets/base",
      "model_module_version": "1.2.0",
      "model_name": "LayoutModel",
      "state": {}
     },
     "841fc1ee31664b3b829ef95c20e759c9": {
      "model_module": "@jupyter-widgets/base",
      "model_module_version": "1.2.0",
      "model_name": "LayoutModel",
      "state": {}
     },
     "843ec91f6b72459088d9d74a1410604f": {
      "model_module": "@jupyter-widgets/controls",
      "model_module_version": "1.5.0",
      "model_name": "HBoxModel",
      "state": {
       "children": [
        "IPY_MODEL_823e018a28234307900281f30b491b3c",
        "IPY_MODEL_a30ae0d4dadb474789c8c045817d14c8"
       ],
       "layout": "IPY_MODEL_df9e330bf8224ce3b38f5880f61e8703"
      }
     },
     "8479f48d3e7c445bb729dfcafb72e9d1": {
      "model_module": "@jupyter-widgets/controls",
      "model_module_version": "1.5.0",
      "model_name": "ProgressStyleModel",
      "state": {
       "description_width": "initial"
      }
     },
     "848d7ff43fc140d18b7b9c3dc91fa774": {
      "model_module": "@jupyter-widgets/base",
      "model_module_version": "1.2.0",
      "model_name": "LayoutModel",
      "state": {}
     },
     "84a23ffff480406ab21bb0486b238a96": {
      "model_module": "@jupyter-widgets/controls",
      "model_module_version": "1.5.0",
      "model_name": "HTMLModel",
      "state": {
       "layout": "IPY_MODEL_8f5db23af38f4adfae9ecb270d823923",
       "style": "IPY_MODEL_95a6f777028b46578829d31e9d7252e1",
       "value": " 2000/2000 [00:02&lt;00:00, 901.71it/s]"
      }
     },
     "84cb33547a624c27a8e0fbf19171e16f": {
      "model_module": "@jupyter-widgets/controls",
      "model_module_version": "1.5.0",
      "model_name": "DescriptionStyleModel",
      "state": {
       "description_width": ""
      }
     },
     "84e91fe5fcf940fe906c65f92d11687f": {
      "model_module": "@jupyter-widgets/base",
      "model_module_version": "1.2.0",
      "model_name": "LayoutModel",
      "state": {}
     },
     "857420162820414b9bf0d5c09426fddb": {
      "model_module": "@jupyter-widgets/controls",
      "model_module_version": "1.5.0",
      "model_name": "HBoxModel",
      "state": {
       "children": [
        "IPY_MODEL_a4fa4a9fd9d249548c81395775c77aab",
        "IPY_MODEL_29ee257aeb2c4f6ab3e1cf17487502a5"
       ],
       "layout": "IPY_MODEL_4644a14497054d35a57645cfd7e78645"
      }
     },
     "85b745687867484baa89d0c3cf08293a": {
      "model_module": "@jupyter-widgets/base",
      "model_module_version": "1.2.0",
      "model_name": "LayoutModel",
      "state": {}
     },
     "85dbdee38e39463dae7a13f1dec22909": {
      "model_module": "@jupyter-widgets/controls",
      "model_module_version": "1.5.0",
      "model_name": "HBoxModel",
      "state": {
       "children": [
        "IPY_MODEL_cffb9fe539394cbda34330303622b886",
        "IPY_MODEL_96c6b5fe6ac54be4a55c3c2357c002c7"
       ],
       "layout": "IPY_MODEL_89a080aad9bb4f1eb349c9486c570204"
      }
     },
     "8629424f176b486fa6eaf961f51a6f45": {
      "model_module": "@jupyter-widgets/controls",
      "model_module_version": "1.5.0",
      "model_name": "DescriptionStyleModel",
      "state": {
       "description_width": ""
      }
     },
     "8688dad786a4449994cc5352dc7b2957": {
      "model_module": "@jupyter-widgets/base",
      "model_module_version": "1.2.0",
      "model_name": "LayoutModel",
      "state": {}
     },
     "868a723f233c491a9452b82b39e2ca9b": {
      "model_module": "@jupyter-widgets/base",
      "model_module_version": "1.2.0",
      "model_name": "LayoutModel",
      "state": {}
     },
     "86bda7038e874521958462e023da7f76": {
      "model_module": "@jupyter-widgets/controls",
      "model_module_version": "1.5.0",
      "model_name": "DescriptionStyleModel",
      "state": {
       "description_width": ""
      }
     },
     "86ed4cad56204e82a8dadc9b1e6d57f5": {
      "model_module": "@jupyter-widgets/controls",
      "model_module_version": "1.5.0",
      "model_name": "HBoxModel",
      "state": {
       "children": [
        "IPY_MODEL_b83bb153270149f194215ba35dbe12d0",
        "IPY_MODEL_4c4b61b73ba447a1b38e5811ec559295"
       ],
       "layout": "IPY_MODEL_8688dad786a4449994cc5352dc7b2957"
      }
     },
     "8716b7c5447546a899796f56aacacaa9": {
      "model_module": "@jupyter-widgets/controls",
      "model_module_version": "1.5.0",
      "model_name": "ProgressStyleModel",
      "state": {
       "description_width": "initial"
      }
     },
     "872e0cc2b719490980e2cd82623127bb": {
      "model_module": "@jupyter-widgets/base",
      "model_module_version": "1.2.0",
      "model_name": "LayoutModel",
      "state": {}
     },
     "87318084ae09498bb1cc2e288e58c935": {
      "model_module": "@jupyter-widgets/controls",
      "model_module_version": "1.5.0",
      "model_name": "FloatProgressModel",
      "state": {
       "bar_style": "success",
       "description": "0.61: 100%",
       "layout": "IPY_MODEL_988e8293efd742e8b6a3f6fd642fa76d",
       "max": 2000,
       "style": "IPY_MODEL_99ebab5fa30040b4b349a67a2ff191b5",
       "value": 2000
      }
     },
     "876f977909a7414699b2df5520bbce1d": {
      "model_module": "@jupyter-widgets/controls",
      "model_module_version": "1.5.0",
      "model_name": "DescriptionStyleModel",
      "state": {
       "description_width": ""
      }
     },
     "877bede2b5894fd39cfbcf320df29d3c": {
      "model_module": "@jupyter-widgets/controls",
      "model_module_version": "1.5.0",
      "model_name": "HTMLModel",
      "state": {
       "layout": "IPY_MODEL_99b3437fead149108e7de35342751d89",
       "style": "IPY_MODEL_658995a4a0844e658ec1a1ee8e36c45a",
       "value": " 50/50 [02:09&lt;00:00,  2.59s/it]"
      }
     },
     "8787c9bfb9d74d3784ed9d573a3c1922": {
      "model_module": "@jupyter-widgets/controls",
      "model_module_version": "1.5.0",
      "model_name": "HTMLModel",
      "state": {
       "layout": "IPY_MODEL_2bbd2118fd7e40508d7a3f099f4b2ed2",
       "style": "IPY_MODEL_4eba6250efad49f8a9f58795fc774298",
       "value": " 3713/5000 [01:21&lt;00:22, 57.62it/s]"
      }
     },
     "879221107e42445dbf35de72c10197aa": {
      "model_module": "@jupyter-widgets/controls",
      "model_module_version": "1.5.0",
      "model_name": "ProgressStyleModel",
      "state": {
       "description_width": "initial"
      }
     },
     "881b24f8a22d48f0be65f7a3f7751fba": {
      "model_module": "@jupyter-widgets/controls",
      "model_module_version": "1.5.0",
      "model_name": "HTMLModel",
      "state": {
       "layout": "IPY_MODEL_fd29077e70ef4c84abfb67cdf926d36c",
       "style": "IPY_MODEL_000b18b6bec9431d852eb5e00739d78d",
       "value": " 50/50 [01:13&lt;00:00,  1.46s/it]"
      }
     },
     "8848cf7696ef488d9f86dcbb7450f2f0": {
      "model_module": "@jupyter-widgets/controls",
      "model_module_version": "1.5.0",
      "model_name": "DescriptionStyleModel",
      "state": {
       "description_width": ""
      }
     },
     "8868a9456bc3454189f5b4a4b97a2297": {
      "model_module": "@jupyter-widgets/base",
      "model_module_version": "1.2.0",
      "model_name": "LayoutModel",
      "state": {}
     },
     "886a33dbda8940b291b45b5cf903c89a": {
      "model_module": "@jupyter-widgets/controls",
      "model_module_version": "1.5.0",
      "model_name": "HBoxModel",
      "state": {
       "children": [
        "IPY_MODEL_ce20450a0f72438eba16262f942e8e22",
        "IPY_MODEL_abf0dac9fbc34622968682ad1a4e6f31"
       ],
       "layout": "IPY_MODEL_efe7fbade190444c80c276e2bc2cb0a7"
      }
     },
     "88d6e583cfe74774b70ce7ccf5eeb522": {
      "model_module": "@jupyter-widgets/controls",
      "model_module_version": "1.5.0",
      "model_name": "ProgressStyleModel",
      "state": {
       "description_width": "initial"
      }
     },
     "88dae4a65a5f49b0af6c414e831c3f13": {
      "model_module": "@jupyter-widgets/controls",
      "model_module_version": "1.5.0",
      "model_name": "HBoxModel",
      "state": {
       "children": [
        "IPY_MODEL_048254463a0f499cb1c9650d59ef69cb",
        "IPY_MODEL_2ed5af6405874cb7a72970256a798405"
       ],
       "layout": "IPY_MODEL_a56d0a30968146e496e3e43ffabe567b"
      }
     },
     "88e98295e62b457488e6892558c58a34": {
      "model_module": "@jupyter-widgets/controls",
      "model_module_version": "1.5.0",
      "model_name": "HBoxModel",
      "state": {
       "children": [
        "IPY_MODEL_6ca12385d08646a9879cabc334accb07",
        "IPY_MODEL_13d0d5f6da94491aaebaa7d106a5d92c"
       ],
       "layout": "IPY_MODEL_365de0cd683145db8288e501c0c9354c"
      }
     },
     "891c7cc2af2c463fbc34b2d57fc03596": {
      "model_module": "@jupyter-widgets/controls",
      "model_module_version": "1.5.0",
      "model_name": "DescriptionStyleModel",
      "state": {
       "description_width": ""
      }
     },
     "89a080aad9bb4f1eb349c9486c570204": {
      "model_module": "@jupyter-widgets/base",
      "model_module_version": "1.2.0",
      "model_name": "LayoutModel",
      "state": {}
     },
     "89ada5dc109c49169107caa2a22df48d": {
      "model_module": "@jupyter-widgets/controls",
      "model_module_version": "1.5.0",
      "model_name": "HBoxModel",
      "state": {
       "children": [
        "IPY_MODEL_dfff0a7c05d24e919df9ba4dcb510033",
        "IPY_MODEL_cab5c7996d894e14b3c26c393bfb5224"
       ],
       "layout": "IPY_MODEL_89d9df97ec4447b88d3d239e46d5fefc"
      }
     },
     "89d9df97ec4447b88d3d239e46d5fefc": {
      "model_module": "@jupyter-widgets/base",
      "model_module_version": "1.2.0",
      "model_name": "LayoutModel",
      "state": {}
     },
     "8a799f4b066945658198367ce7dc4ab2": {
      "model_module": "@jupyter-widgets/base",
      "model_module_version": "1.2.0",
      "model_name": "LayoutModel",
      "state": {}
     },
     "8b1f1ed4be3c4766a9c6fcdb3e85e733": {
      "model_module": "@jupyter-widgets/base",
      "model_module_version": "1.2.0",
      "model_name": "LayoutModel",
      "state": {}
     },
     "8b1f32dbce5c4fa389a998b8d740d262": {
      "model_module": "@jupyter-widgets/base",
      "model_module_version": "1.2.0",
      "model_name": "LayoutModel",
      "state": {}
     },
     "8b9d5456ae9545bfa95132a8c5b520a5": {
      "model_module": "@jupyter-widgets/controls",
      "model_module_version": "1.5.0",
      "model_name": "ProgressStyleModel",
      "state": {
       "description_width": "initial"
      }
     },
     "8bd95be86a1a477480348b4cdf3cd5f8": {
      "model_module": "@jupyter-widgets/controls",
      "model_module_version": "1.5.0",
      "model_name": "FloatProgressModel",
      "state": {
       "bar_style": "danger",
       "description": "  0%",
       "layout": "IPY_MODEL_c41d1d9017c948518e6b5464a647424e",
       "max": 50,
       "style": "IPY_MODEL_a57f03e8080a43b18ea53938a095cb35"
      }
     },
     "8c488ec966e74183970d8033bb4c610d": {
      "model_module": "@jupyter-widgets/base",
      "model_module_version": "1.2.0",
      "model_name": "LayoutModel",
      "state": {}
     },
     "8c5c383063d84d4a80da3b8a007c4ebf": {
      "model_module": "@jupyter-widgets/base",
      "model_module_version": "1.2.0",
      "model_name": "LayoutModel",
      "state": {}
     },
     "8c707885c4e94cfa88fbec805c6ed763": {
      "model_module": "@jupyter-widgets/base",
      "model_module_version": "1.2.0",
      "model_name": "LayoutModel",
      "state": {}
     },
     "8c89bc67302c40789954fcd2015d739e": {
      "model_module": "@jupyter-widgets/controls",
      "model_module_version": "1.5.0",
      "model_name": "FloatProgressModel",
      "state": {
       "bar_style": "success",
       "description": "2.2921455: 100%",
       "layout": "IPY_MODEL_b4bdbec03f1b467296ced0873976fbaa",
       "max": 50,
       "style": "IPY_MODEL_2c93d26c18d94daba3883e813004e2b3",
       "value": 50
      }
     },
     "8d7649660e284e0a8011ff14e2e566f8": {
      "model_module": "@jupyter-widgets/controls",
      "model_module_version": "1.5.0",
      "model_name": "FloatProgressModel",
      "state": {
       "bar_style": "success",
       "description": "1.77: 100%",
       "layout": "IPY_MODEL_8b1f32dbce5c4fa389a998b8d740d262",
       "max": 2000,
       "style": "IPY_MODEL_988f0b9a1b904b8aabfb376c7462c016",
       "value": 2000
      }
     },
     "8db7a0793a6446568e9091aeef8f336f": {
      "model_module": "@jupyter-widgets/controls",
      "model_module_version": "1.5.0",
      "model_name": "FloatProgressModel",
      "state": {
       "bar_style": "success",
       "description": "1.58: 100%",
       "layout": "IPY_MODEL_dead04ce18634d018bdd5d1cd6bf8f1a",
       "max": 2000,
       "style": "IPY_MODEL_67fca8be9c7c41c7a27adc9726b9668a",
       "value": 2000
      }
     },
     "8de6542101b54887adef807643c15653": {
      "model_module": "@jupyter-widgets/controls",
      "model_module_version": "1.5.0",
      "model_name": "ProgressStyleModel",
      "state": {
       "description_width": "initial"
      }
     },
     "8dfbb25d49eb4b41be8fcf3c3c17722e": {
      "model_module": "@jupyter-widgets/controls",
      "model_module_version": "1.5.0",
      "model_name": "ProgressStyleModel",
      "state": {
       "description_width": "initial"
      }
     },
     "8e10ba174e0e4304a6b49d8699edc0ca": {
      "model_module": "@jupyter-widgets/controls",
      "model_module_version": "1.5.0",
      "model_name": "ProgressStyleModel",
      "state": {
       "description_width": "initial"
      }
     },
     "8eb68bdcd7b04692a10ffef35458c370": {
      "model_module": "@jupyter-widgets/controls",
      "model_module_version": "1.5.0",
      "model_name": "ProgressStyleModel",
      "state": {
       "description_width": "initial"
      }
     },
     "8eb76f8bcd45461490853db64f6aae27": {
      "model_module": "@jupyter-widgets/base",
      "model_module_version": "1.2.0",
      "model_name": "LayoutModel",
      "state": {}
     },
     "8ee821056c874a81ab75a47d25866284": {
      "model_module": "@jupyter-widgets/controls",
      "model_module_version": "1.5.0",
      "model_name": "HTMLModel",
      "state": {
       "layout": "IPY_MODEL_d7e31379fa534cd5acf3b2f55898fc47",
       "style": "IPY_MODEL_5d9cbf3f30d74c03a91fe53a05e49d41",
       "value": " 2000/2000 [00:08&lt;00:00, 235.22it/s]"
      }
     },
     "8ef2610f981142498f9313feff4d2c43": {
      "model_module": "@jupyter-widgets/controls",
      "model_module_version": "1.5.0",
      "model_name": "HTMLModel",
      "state": {
       "layout": "IPY_MODEL_9394eb35b9e2422dbc4580eb47125c73",
       "style": "IPY_MODEL_ac1cc29572504f76829d712e8f8a88b9",
       "value": " 2000/2000 [00:04&lt;00:00, 408.85it/s]"
      }
     },
     "8ef4c3ab0063496f9ab42b7e2bf306bd": {
      "model_module": "@jupyter-widgets/base",
      "model_module_version": "1.2.0",
      "model_name": "LayoutModel",
      "state": {}
     },
     "8f29b122fea945d4add31ad53c592402": {
      "model_module": "@jupyter-widgets/controls",
      "model_module_version": "1.5.0",
      "model_name": "ProgressStyleModel",
      "state": {
       "description_width": "initial"
      }
     },
     "8f37fd47b9a742908d8a669527d7b269": {
      "model_module": "@jupyter-widgets/controls",
      "model_module_version": "1.5.0",
      "model_name": "HTMLModel",
      "state": {
       "layout": "IPY_MODEL_6b34b7b1e37c40c1b750465d420484f0",
       "style": "IPY_MODEL_41b0f5e1cbac44e5b6fbe109850b0804",
       "value": " 50/50 [00:01&lt;00:00, 49.23it/s]"
      }
     },
     "8f5db23af38f4adfae9ecb270d823923": {
      "model_module": "@jupyter-widgets/base",
      "model_module_version": "1.2.0",
      "model_name": "LayoutModel",
      "state": {}
     },
     "8f67909ba47249cc86228b6a4f6b470a": {
      "model_module": "@jupyter-widgets/controls",
      "model_module_version": "1.5.0",
      "model_name": "ProgressStyleModel",
      "state": {
       "description_width": "initial"
      }
     },
     "8f9d85cde0e7447ea972dcacb6d50776": {
      "model_module": "@jupyter-widgets/controls",
      "model_module_version": "1.5.0",
      "model_name": "DescriptionStyleModel",
      "state": {
       "description_width": ""
      }
     },
     "8fbde85039d64b5e941eb4f74a73b897": {
      "model_module": "@jupyter-widgets/base",
      "model_module_version": "1.2.0",
      "model_name": "LayoutModel",
      "state": {}
     },
     "8fe6a4cdbffc4f04af310d926a8af1b4": {
      "model_module": "@jupyter-widgets/base",
      "model_module_version": "1.2.0",
      "model_name": "LayoutModel",
      "state": {}
     },
     "909f36967fd94b45929983d19dcf654c": {
      "model_module": "@jupyter-widgets/base",
      "model_module_version": "1.2.0",
      "model_name": "LayoutModel",
      "state": {}
     },
     "90bb9cad620d4c799dac088c203f9865": {
      "model_module": "@jupyter-widgets/controls",
      "model_module_version": "1.5.0",
      "model_name": "HBoxModel",
      "state": {
       "children": [
        "IPY_MODEL_e793ada575044af8901cb7c892cdd9e8",
        "IPY_MODEL_d627f7a5aa6048478ef200ef2ac25f21"
       ],
       "layout": "IPY_MODEL_5c53c5f4b7124511a891af2be894e761"
      }
     },
     "90d795c1a459494ea3ebe5c2a2f0f9de": {
      "model_module": "@jupyter-widgets/base",
      "model_module_version": "1.2.0",
      "model_name": "LayoutModel",
      "state": {}
     },
     "90ecd4ef16604160a68fc6e31a346205": {
      "model_module": "@jupyter-widgets/base",
      "model_module_version": "1.2.0",
      "model_name": "LayoutModel",
      "state": {}
     },
     "912c46423d094120898e3cdcca67af46": {
      "model_module": "@jupyter-widgets/base",
      "model_module_version": "1.2.0",
      "model_name": "LayoutModel",
      "state": {}
     },
     "9131c32ec02d4c47ab0703461c347cde": {
      "model_module": "@jupyter-widgets/controls",
      "model_module_version": "1.5.0",
      "model_name": "HBoxModel",
      "state": {
       "children": [
        "IPY_MODEL_2714de31e40c42009af3dc9db2e03912",
        "IPY_MODEL_5fe8b290f38742c39eab3c23361c710c"
       ],
       "layout": "IPY_MODEL_5707b7e98ced4df0a069b447c5348162"
      }
     },
     "91501e3ac8ed4d7684c44a24b3e75a25": {
      "model_module": "@jupyter-widgets/controls",
      "model_module_version": "1.5.0",
      "model_name": "FloatProgressModel",
      "state": {
       "bar_style": "danger",
       "description": "0.19:  69%",
       "layout": "IPY_MODEL_7604b1ce09644ccb857086a8ac8da771",
       "max": 5000,
       "style": "IPY_MODEL_944c0071a504418393a0a8719ac6b80a",
       "value": 3458
      }
     },
     "9182db2e1f134bd5aa04fc8b66f86150": {
      "model_module": "@jupyter-widgets/controls",
      "model_module_version": "1.5.0",
      "model_name": "DescriptionStyleModel",
      "state": {
       "description_width": ""
      }
     },
     "91ae9e77b54c43809fd4c5ef14c27eb6": {
      "model_module": "@jupyter-widgets/controls",
      "model_module_version": "1.5.0",
      "model_name": "DescriptionStyleModel",
      "state": {
       "description_width": ""
      }
     },
     "91e98e74abb246ca8620e9d4aca42e5e": {
      "model_module": "@jupyter-widgets/base",
      "model_module_version": "1.2.0",
      "model_name": "LayoutModel",
      "state": {}
     },
     "91f8cc239a2043c495f15aac94f1a2e0": {
      "model_module": "@jupyter-widgets/controls",
      "model_module_version": "1.5.0",
      "model_name": "DescriptionStyleModel",
      "state": {
       "description_width": ""
      }
     },
     "924eb44bcc344c7bb9c1a63853d2add4": {
      "model_module": "@jupyter-widgets/base",
      "model_module_version": "1.2.0",
      "model_name": "LayoutModel",
      "state": {}
     },
     "92934e8f1db84dcda478faf966efc1d6": {
      "model_module": "@jupyter-widgets/base",
      "model_module_version": "1.2.0",
      "model_name": "LayoutModel",
      "state": {}
     },
     "92be128dd09b408e8251324bba1be1a3": {
      "model_module": "@jupyter-widgets/controls",
      "model_module_version": "1.5.0",
      "model_name": "HTMLModel",
      "state": {
       "layout": "IPY_MODEL_23bff00bc27d42afa42fb8a18d79894c",
       "style": "IPY_MODEL_a6f0258b486e472492280f0186b2706b",
       "value": " 23/100 [00:06&lt;00:15,  4.94it/s]"
      }
     },
     "92cfa967fa7244f984b127528380b288": {
      "model_module": "@jupyter-widgets/controls",
      "model_module_version": "1.5.0",
      "model_name": "HBoxModel",
      "state": {
       "children": [
        "IPY_MODEL_36045f74e5f7429e993e703497673aac",
        "IPY_MODEL_b7f36d5193364aa9b71aaa2d9f0f96d4"
       ],
       "layout": "IPY_MODEL_75fc492d83c041ab856a1fbf314e659e"
      }
     },
     "9375003aa04e427f85d27da8efca1c28": {
      "model_module": "@jupyter-widgets/controls",
      "model_module_version": "1.5.0",
      "model_name": "HTMLModel",
      "state": {
       "layout": "IPY_MODEL_fa90dc170444448988fbc56ef5f8775d",
       "style": "IPY_MODEL_a31acbc8bda54653b7c3dd91cdfc35c2",
       "value": " 2000/2000 [00:08&lt;00:00, 244.00it/s]"
      }
     },
     "9394eb35b9e2422dbc4580eb47125c73": {
      "model_module": "@jupyter-widgets/base",
      "model_module_version": "1.2.0",
      "model_name": "LayoutModel",
      "state": {}
     },
     "93e6ab159ec443b4af228fe49382ee68": {
      "model_module": "@jupyter-widgets/controls",
      "model_module_version": "1.5.0",
      "model_name": "HTMLModel",
      "state": {
       "layout": "IPY_MODEL_0059b6a8c3bc49e4953262029e661a4d",
       "style": "IPY_MODEL_1c67cc1a0d394de2b35a5ab79405ceba",
       "value": " 2000/2000 [00:08&lt;00:00, 240.88it/s]"
      }
     },
     "93ea5ae5332747b98418c8e14f1ee61d": {
      "model_module": "@jupyter-widgets/controls",
      "model_module_version": "1.5.0",
      "model_name": "HTMLModel",
      "state": {
       "layout": "IPY_MODEL_064798a131ba47ff97bb6c49194d17a3",
       "style": "IPY_MODEL_f0e4ae07fd574bbc9f680b2bc7d3f519",
       "value": " 0/5000 [05:52&lt;?, ?it/s]"
      }
     },
     "944c0071a504418393a0a8719ac6b80a": {
      "model_module": "@jupyter-widgets/controls",
      "model_module_version": "1.5.0",
      "model_name": "ProgressStyleModel",
      "state": {
       "description_width": "initial"
      }
     },
     "94a4b99ea68f431281d8e21b893b7f24": {
      "model_module": "@jupyter-widgets/base",
      "model_module_version": "1.2.0",
      "model_name": "LayoutModel",
      "state": {}
     },
     "955bdcf6f1b645b0b88af3a784feecc5": {
      "model_module": "@jupyter-widgets/controls",
      "model_module_version": "1.5.0",
      "model_name": "HTMLModel",
      "state": {
       "layout": "IPY_MODEL_ad428b65f11442ac84e2b92360621794",
       "style": "IPY_MODEL_b8c6ddfc03074ccd8a013fad8e97a426",
       "value": " 2000/2000 [00:14&lt;00:00, 134.97it/s]"
      }
     },
     "955fe6daf3984da3b051b5e838818f32": {
      "model_module": "@jupyter-widgets/controls",
      "model_module_version": "1.5.0",
      "model_name": "ProgressStyleModel",
      "state": {
       "description_width": "initial"
      }
     },
     "959a1c9c773946b3b32b246aadecc0ae": {
      "model_module": "@jupyter-widgets/controls",
      "model_module_version": "1.5.0",
      "model_name": "HTMLModel",
      "state": {
       "layout": "IPY_MODEL_0b8e51338ff94899ac99e7f96adf9400",
       "style": "IPY_MODEL_8f9d85cde0e7447ea972dcacb6d50776",
       "value": " 50/50 [01:47&lt;00:00,  2.16s/it]"
      }
     },
     "95a6f777028b46578829d31e9d7252e1": {
      "model_module": "@jupyter-widgets/controls",
      "model_module_version": "1.5.0",
      "model_name": "DescriptionStyleModel",
      "state": {
       "description_width": ""
      }
     },
     "95aa14feaac54d368b5e7d5c6661c469": {
      "model_module": "@jupyter-widgets/controls",
      "model_module_version": "1.5.0",
      "model_name": "DescriptionStyleModel",
      "state": {
       "description_width": ""
      }
     },
     "9638cc4736fa495f8bf3263353dbcf3a": {
      "model_module": "@jupyter-widgets/base",
      "model_module_version": "1.2.0",
      "model_name": "LayoutModel",
      "state": {}
     },
     "96c6b5fe6ac54be4a55c3c2357c002c7": {
      "model_module": "@jupyter-widgets/controls",
      "model_module_version": "1.5.0",
      "model_name": "HTMLModel",
      "state": {
       "layout": "IPY_MODEL_4c252fd8f2fb40799563cc5e4db3a77c",
       "style": "IPY_MODEL_8629424f176b486fa6eaf961f51a6f45",
       "value": " 2000/2000 [01:36&lt;00:00, 20.64it/s]"
      }
     },
     "973d2c8682a44e81a200f8e2ea7d8934": {
      "model_module": "@jupyter-widgets/controls",
      "model_module_version": "1.5.0",
      "model_name": "HTMLModel",
      "state": {
       "layout": "IPY_MODEL_cd243b27b96a485f855f3ea2e55582cc",
       "style": "IPY_MODEL_16bbe41c5c7f4019b20c42922752ed37",
       "value": " 100/100 [00:46&lt;00:00,  2.13it/s]"
      }
     },
     "975498ae920a40c6b89ef86b25552318": {
      "model_module": "@jupyter-widgets/base",
      "model_module_version": "1.2.0",
      "model_name": "LayoutModel",
      "state": {}
     },
     "9793d4e2369b4e4bb37cfb6076322ab6": {
      "model_module": "@jupyter-widgets/controls",
      "model_module_version": "1.5.0",
      "model_name": "HTMLModel",
      "state": {
       "layout": "IPY_MODEL_726bf9c630f34512a9ccefc852816d2c",
       "style": "IPY_MODEL_5d1e7b3133314d01b3d8879a2f9f14a7",
       "value": " 2000/2000 [00:04&lt;00:00, 412.49it/s]"
      }
     },
     "97a25ae932ce4122a8bbb9b77585b40c": {
      "model_module": "@jupyter-widgets/base",
      "model_module_version": "1.2.0",
      "model_name": "LayoutModel",
      "state": {}
     },
     "97b89e76583f4529b0242e4b046b2924": {
      "model_module": "@jupyter-widgets/controls",
      "model_module_version": "1.5.0",
      "model_name": "HBoxModel",
      "state": {
       "children": [
        "IPY_MODEL_ae869f07e9864696bdd0366b3d294a58",
        "IPY_MODEL_ac7c7f68419f4f16b5efc7ef0b480b90"
       ],
       "layout": "IPY_MODEL_0167ab2cabed4cfc897757bedaef1a09"
      }
     },
     "97c9204d78f84e27bf9fc6ea6329d2b6": {
      "model_module": "@jupyter-widgets/controls",
      "model_module_version": "1.5.0",
      "model_name": "HBoxModel",
      "state": {
       "children": [
        "IPY_MODEL_d9c0110a163f410e924f0a9d87d9b300",
        "IPY_MODEL_8787c9bfb9d74d3784ed9d573a3c1922"
       ],
       "layout": "IPY_MODEL_ecf0fec7a578458ba94dbc43abcde99d"
      }
     },
     "97e89cc038764ed8ae0f19aae41c8e95": {
      "model_module": "@jupyter-widgets/controls",
      "model_module_version": "1.5.0",
      "model_name": "HTMLModel",
      "state": {
       "layout": "IPY_MODEL_a356b35358444b1b9235fb91369b71f6",
       "style": "IPY_MODEL_c20119f75d2c4e65a6eb1029a7a6f1fa",
       "value": " 0/2000 [00:00&lt;?, ?it/s]"
      }
     },
     "9806a6b1920440f5a5b1a632d989943e": {
      "model_module": "@jupyter-widgets/controls",
      "model_module_version": "1.5.0",
      "model_name": "DescriptionStyleModel",
      "state": {
       "description_width": ""
      }
     },
     "9825bec9b9494d24a032c030f1990c17": {
      "model_module": "@jupyter-widgets/base",
      "model_module_version": "1.2.0",
      "model_name": "LayoutModel",
      "state": {}
     },
     "985914f4180340a58b1fca21c96f8c92": {
      "model_module": "@jupyter-widgets/base",
      "model_module_version": "1.2.0",
      "model_name": "LayoutModel",
      "state": {}
     },
     "988e8293efd742e8b6a3f6fd642fa76d": {
      "model_module": "@jupyter-widgets/base",
      "model_module_version": "1.2.0",
      "model_name": "LayoutModel",
      "state": {}
     },
     "988f0b9a1b904b8aabfb376c7462c016": {
      "model_module": "@jupyter-widgets/controls",
      "model_module_version": "1.5.0",
      "model_name": "ProgressStyleModel",
      "state": {
       "description_width": "initial"
      }
     },
     "98a962826d8047d69413825654e063ad": {
      "model_module": "@jupyter-widgets/base",
      "model_module_version": "1.2.0",
      "model_name": "LayoutModel",
      "state": {}
     },
     "9907f1d7b8ba4d9aa233add9802d51f2": {
      "model_module": "@jupyter-widgets/base",
      "model_module_version": "1.2.0",
      "model_name": "LayoutModel",
      "state": {}
     },
     "990ab9e059444fd695d20fc6c29abfb7": {
      "model_module": "@jupyter-widgets/controls",
      "model_module_version": "1.5.0",
      "model_name": "DescriptionStyleModel",
      "state": {
       "description_width": ""
      }
     },
     "9963706c9b2a413781c0796d88cdca09": {
      "model_module": "@jupyter-widgets/controls",
      "model_module_version": "1.5.0",
      "model_name": "HTMLModel",
      "state": {
       "layout": "IPY_MODEL_0a675eb609cf451aac6c0a72c043ad43",
       "style": "IPY_MODEL_9a0679d92acc43dab1786a03a1b50ed2",
       "value": " 2000/2000 [00:17&lt;00:00, 111.76it/s]"
      }
     },
     "99b3437fead149108e7de35342751d89": {
      "model_module": "@jupyter-widgets/base",
      "model_module_version": "1.2.0",
      "model_name": "LayoutModel",
      "state": {}
     },
     "99c8e7284c9349cfb4a1427795ee8709": {
      "model_module": "@jupyter-widgets/base",
      "model_module_version": "1.2.0",
      "model_name": "LayoutModel",
      "state": {}
     },
     "99ebab5fa30040b4b349a67a2ff191b5": {
      "model_module": "@jupyter-widgets/controls",
      "model_module_version": "1.5.0",
      "model_name": "ProgressStyleModel",
      "state": {
       "description_width": "initial"
      }
     },
     "9a0679d92acc43dab1786a03a1b50ed2": {
      "model_module": "@jupyter-widgets/controls",
      "model_module_version": "1.5.0",
      "model_name": "DescriptionStyleModel",
      "state": {
       "description_width": ""
      }
     },
     "9a6ef39723e4409585d9a82a03051278": {
      "model_module": "@jupyter-widgets/controls",
      "model_module_version": "1.5.0",
      "model_name": "FloatProgressModel",
      "state": {
       "bar_style": "success",
       "description": "1.86: 100%",
       "layout": "IPY_MODEL_25ccfd4093b54471a1e22a5f7e0650d1",
       "max": 2000,
       "style": "IPY_MODEL_1c56a951612944c88b3fa3d698cc9073",
       "value": 2000
      }
     },
     "9b228b234db04fd3a0e821f3035a1541": {
      "model_module": "@jupyter-widgets/base",
      "model_module_version": "1.2.0",
      "model_name": "LayoutModel",
      "state": {}
     },
     "9ba71ce797124bffb9d9e66fe045e973": {
      "model_module": "@jupyter-widgets/base",
      "model_module_version": "1.2.0",
      "model_name": "LayoutModel",
      "state": {}
     },
     "9bcf718f698c48d0b069902b36ce5011": {
      "model_module": "@jupyter-widgets/controls",
      "model_module_version": "1.5.0",
      "model_name": "HTMLModel",
      "state": {
       "layout": "IPY_MODEL_dac168a047d241b0956357a0546a02ad",
       "style": "IPY_MODEL_bb1aaec9790849af82758efd42a8dc9c",
       "value": " 2000/2000 [00:08&lt;00:00, 233.10it/s]"
      }
     },
     "9bdf1754c31b484c92b35ce0a7152b4c": {
      "model_module": "@jupyter-widgets/base",
      "model_module_version": "1.2.0",
      "model_name": "LayoutModel",
      "state": {}
     },
     "9c17ee4553a145c3be415986afbee4c2": {
      "model_module": "@jupyter-widgets/controls",
      "model_module_version": "1.5.0",
      "model_name": "DescriptionStyleModel",
      "state": {
       "description_width": ""
      }
     },
     "9c537f5adfaf436aaefd7cfe1175dacb": {
      "model_module": "@jupyter-widgets/controls",
      "model_module_version": "1.5.0",
      "model_name": "ProgressStyleModel",
      "state": {
       "description_width": "initial"
      }
     },
     "9c8ec5c3034f4462b2deb450b689280e": {
      "model_module": "@jupyter-widgets/controls",
      "model_module_version": "1.5.0",
      "model_name": "HTMLModel",
      "state": {
       "layout": "IPY_MODEL_475cf90680704353af2b9faf9d983e07",
       "style": "IPY_MODEL_070e1132cbe749f8b07ad1ded7672f73",
       "value": " 200/5000 [00:21&lt;01:00, 79.02it/s]"
      }
     },
     "9c974e718a2549f28a382f6e7baa37fb": {
      "model_module": "@jupyter-widgets/base",
      "model_module_version": "1.2.0",
      "model_name": "LayoutModel",
      "state": {}
     },
     "9ca41b5a08ae41e786c9e862c8f0a62a": {
      "model_module": "@jupyter-widgets/base",
      "model_module_version": "1.2.0",
      "model_name": "LayoutModel",
      "state": {}
     },
     "9cb68265f3004aeba90f679689c79d42": {
      "model_module": "@jupyter-widgets/controls",
      "model_module_version": "1.5.0",
      "model_name": "HBoxModel",
      "state": {
       "children": [
        "IPY_MODEL_ef3645666cb843f6b471190f55f3a00d",
        "IPY_MODEL_ae5ab4cc59c04dd2a67c2ff881f2ebeb"
       ],
       "layout": "IPY_MODEL_fb751d585fa644b692e13a47b641358a"
      }
     },
     "9d340dc1b8524db49e0d150d6d82cb3d": {
      "model_module": "@jupyter-widgets/base",
      "model_module_version": "1.2.0",
      "model_name": "LayoutModel",
      "state": {}
     },
     "9d5c8354e6d24e8c91acf327dbd81f21": {
      "model_module": "@jupyter-widgets/base",
      "model_module_version": "1.2.0",
      "model_name": "LayoutModel",
      "state": {}
     },
     "9dc5295910054e6ea94f2d9a84770b2f": {
      "model_module": "@jupyter-widgets/controls",
      "model_module_version": "1.5.0",
      "model_name": "DescriptionStyleModel",
      "state": {
       "description_width": ""
      }
     },
     "9ea111da78b54bc48fafb9f6a22413d0": {
      "model_module": "@jupyter-widgets/controls",
      "model_module_version": "1.5.0",
      "model_name": "HTMLModel",
      "state": {
       "layout": "IPY_MODEL_49ef34f6e9e84e718da383690cdfa710",
       "style": "IPY_MODEL_81a2b46575c9442bbceb337c66ec7d42",
       "value": " 2000/2000 [00:12&lt;00:00, 164.45it/s]"
      }
     },
     "9f78d0a30caf41ceab7d90d75fc66ba9": {
      "model_module": "@jupyter-widgets/base",
      "model_module_version": "1.2.0",
      "model_name": "LayoutModel",
      "state": {}
     },
     "9f878a5abcce48189589128fbe470a11": {
      "model_module": "@jupyter-widgets/base",
      "model_module_version": "1.2.0",
      "model_name": "LayoutModel",
      "state": {}
     },
     "9fbcc5ee134845bd90840433f3a34953": {
      "model_module": "@jupyter-widgets/controls",
      "model_module_version": "1.5.0",
      "model_name": "FloatProgressModel",
      "state": {
       "bar_style": "success",
       "description": "2.34: 100%",
       "layout": "IPY_MODEL_9ca41b5a08ae41e786c9e862c8f0a62a",
       "max": 10,
       "style": "IPY_MODEL_8de6542101b54887adef807643c15653",
       "value": 10
      }
     },
     "9fdd5c56c8d54a068783d07fd5ef1ed0": {
      "model_module": "@jupyter-widgets/controls",
      "model_module_version": "1.5.0",
      "model_name": "ProgressStyleModel",
      "state": {
       "description_width": "initial"
      }
     },
     "a023238341ef43bf8b3d387fcf5d6ba1": {
      "model_module": "@jupyter-widgets/base",
      "model_module_version": "1.2.0",
      "model_name": "LayoutModel",
      "state": {}
     },
     "a048309f558a46198794dcd5a8e163b0": {
      "model_module": "@jupyter-widgets/base",
      "model_module_version": "1.2.0",
      "model_name": "LayoutModel",
      "state": {}
     },
     "a0a64fc3f98e4e65a24bac901409dccd": {
      "model_module": "@jupyter-widgets/controls",
      "model_module_version": "1.5.0",
      "model_name": "DescriptionStyleModel",
      "state": {
       "description_width": ""
      }
     },
     "a0acbc82f0674810a398e2585461729a": {
      "model_module": "@jupyter-widgets/base",
      "model_module_version": "1.2.0",
      "model_name": "LayoutModel",
      "state": {}
     },
     "a0dfc7c7b5b34c9cb82967735475ed56": {
      "model_module": "@jupyter-widgets/controls",
      "model_module_version": "1.5.0",
      "model_name": "ProgressStyleModel",
      "state": {
       "description_width": "initial"
      }
     },
     "a0e416ea657c4a01afa61fc6acd3467d": {
      "model_module": "@jupyter-widgets/controls",
      "model_module_version": "1.5.0",
      "model_name": "HBoxModel",
      "state": {
       "children": [
        "IPY_MODEL_c83cf34cc3bf43cca7350345b1f99982",
        "IPY_MODEL_2fb39568c21f4410a7947a55bab78928"
       ],
       "layout": "IPY_MODEL_7a2592289bac4bd084d91cf90e1cff86"
      }
     },
     "a111fd3da6f34d089914a5a4bb26834e": {
      "model_module": "@jupyter-widgets/controls",
      "model_module_version": "1.5.0",
      "model_name": "HTMLModel",
      "state": {
       "layout": "IPY_MODEL_ce1caac6ac21459d80c7cd7415e57511",
       "style": "IPY_MODEL_080a85a39363482c959bc8f3354a4c87",
       "value": " 2000/2000 [00:07&lt;00:00, 252.09it/s]"
      }
     },
     "a13b7747015f423e967b20e07ca6b094": {
      "model_module": "@jupyter-widgets/controls",
      "model_module_version": "1.5.0",
      "model_name": "DescriptionStyleModel",
      "state": {
       "description_width": ""
      }
     },
     "a1414a903c8142b09932d1b41b136388": {
      "model_module": "@jupyter-widgets/controls",
      "model_module_version": "1.5.0",
      "model_name": "DescriptionStyleModel",
      "state": {
       "description_width": ""
      }
     },
     "a148873d083b43e68bcb61aa9b0bdeb1": {
      "model_module": "@jupyter-widgets/base",
      "model_module_version": "1.2.0",
      "model_name": "LayoutModel",
      "state": {}
     },
     "a1861b01a5b54223874d8f413597dc9d": {
      "model_module": "@jupyter-widgets/controls",
      "model_module_version": "1.5.0",
      "model_name": "FloatProgressModel",
      "state": {
       "bar_style": "success",
       "description": "1.08: 100%",
       "layout": "IPY_MODEL_a257187db6a04870bb5624c017ed245f",
       "max": 2000,
       "style": "IPY_MODEL_3245d3e855524d6d8c58de540b3d229a",
       "value": 2000
      }
     },
     "a1aedea0e468485cb75b5224dab4f6d9": {
      "model_module": "@jupyter-widgets/controls",
      "model_module_version": "1.5.0",
      "model_name": "HBoxModel",
      "state": {
       "children": [
        "IPY_MODEL_7040d2ada4364ee78cb4fdaab895e7b4",
        "IPY_MODEL_de107ddaf0e44fddad91f23c578f6d99"
       ],
       "layout": "IPY_MODEL_11b6b8d45cd1495fb335e6ca315c676c"
      }
     },
     "a1e8f287925b4a57b0ac83638652e9b9": {
      "model_module": "@jupyter-widgets/controls",
      "model_module_version": "1.5.0",
      "model_name": "HTMLModel",
      "state": {
       "layout": "IPY_MODEL_91e98e74abb246ca8620e9d4aca42e5e",
       "style": "IPY_MODEL_5053bb1cc5bb4c5e87078311349bc7cf",
       "value": " 2000/2000 [00:14&lt;00:00, 134.14it/s]"
      }
     },
     "a223f3290ec54b6bb6350877a88d1a99": {
      "model_module": "@jupyter-widgets/base",
      "model_module_version": "1.2.0",
      "model_name": "LayoutModel",
      "state": {}
     },
     "a22962dc7b0b4bf899f11fdd90b38322": {
      "model_module": "@jupyter-widgets/controls",
      "model_module_version": "1.5.0",
      "model_name": "FloatProgressModel",
      "state": {
       "bar_style": "danger",
       "description": "  0%",
       "layout": "IPY_MODEL_a0acbc82f0674810a398e2585461729a",
       "max": 2000,
       "style": "IPY_MODEL_dc40926e57ee478d83edc8b1a11399a1"
      }
     },
     "a229f31f10f54ac49503aead79ffc3cc": {
      "model_module": "@jupyter-widgets/controls",
      "model_module_version": "1.5.0",
      "model_name": "FloatProgressModel",
      "state": {
       "bar_style": "success",
       "description": "nan: 100%",
       "layout": "IPY_MODEL_7840487caa2040edbf23a6f9c4dda599",
       "max": 50,
       "style": "IPY_MODEL_463318262e284d37bc4e7c0dd5fdd96b",
       "value": 50
      }
     },
     "a257187db6a04870bb5624c017ed245f": {
      "model_module": "@jupyter-widgets/base",
      "model_module_version": "1.2.0",
      "model_name": "LayoutModel",
      "state": {}
     },
     "a275d1f1fa394a8cad86e0c1f17b1dd7": {
      "model_module": "@jupyter-widgets/controls",
      "model_module_version": "1.5.0",
      "model_name": "DescriptionStyleModel",
      "state": {
       "description_width": ""
      }
     },
     "a2bdd0e0afec4ee4b11fc73f5c69dce8": {
      "model_module": "@jupyter-widgets/controls",
      "model_module_version": "1.5.0",
      "model_name": "FloatProgressModel",
      "state": {
       "bar_style": "success",
       "description": "0.96: 100%",
       "layout": "IPY_MODEL_f8a6ee525d4545d3b59f05ae57cca4db",
       "max": 2000,
       "style": "IPY_MODEL_56369eef4f5b4c4680873288d94aff80",
       "value": 2000
      }
     },
     "a30ae0d4dadb474789c8c045817d14c8": {
      "model_module": "@jupyter-widgets/controls",
      "model_module_version": "1.5.0",
      "model_name": "HTMLModel",
      "state": {
       "layout": "IPY_MODEL_ccce235eac10476f933aadc14ae14834",
       "style": "IPY_MODEL_84cb33547a624c27a8e0fbf19171e16f",
       "value": " 2000/2000 [00:12&lt;00:00, 165.92it/s]"
      }
     },
     "a31acbc8bda54653b7c3dd91cdfc35c2": {
      "model_module": "@jupyter-widgets/controls",
      "model_module_version": "1.5.0",
      "model_name": "DescriptionStyleModel",
      "state": {
       "description_width": ""
      }
     },
     "a356b35358444b1b9235fb91369b71f6": {
      "model_module": "@jupyter-widgets/base",
      "model_module_version": "1.2.0",
      "model_name": "LayoutModel",
      "state": {}
     },
     "a36b1c33418b4e33994ea3f3b6b56eae": {
      "model_module": "@jupyter-widgets/base",
      "model_module_version": "1.2.0",
      "model_name": "LayoutModel",
      "state": {}
     },
     "a381a778ad7b4f02ab96e1c0584ff08a": {
      "model_module": "@jupyter-widgets/controls",
      "model_module_version": "1.5.0",
      "model_name": "HTMLModel",
      "state": {
       "layout": "IPY_MODEL_beacc13c54b64645994ad60f1d32e296",
       "style": "IPY_MODEL_4b51e8b0c3f34ef388ea290b39d472b7",
       "value": " 2000/2000 [00:07&lt;00:00, 256.87it/s]"
      }
     },
     "a3bf3545bc654bf18d43c56a8c1082d6": {
      "model_module": "@jupyter-widgets/controls",
      "model_module_version": "1.5.0",
      "model_name": "HBoxModel",
      "state": {
       "children": [
        "IPY_MODEL_a1861b01a5b54223874d8f413597dc9d",
        "IPY_MODEL_a381a778ad7b4f02ab96e1c0584ff08a"
       ],
       "layout": "IPY_MODEL_d8623b050663423a8795d1f3c1b6c40f"
      }
     },
     "a3f1e7a5b6554662821626e593552bb1": {
      "model_module": "@jupyter-widgets/controls",
      "model_module_version": "1.5.0",
      "model_name": "FloatProgressModel",
      "state": {
       "bar_style": "success",
       "description": "1.21: 100%",
       "layout": "IPY_MODEL_59995e58e9ef4266b1171034a9915d4a",
       "max": 2000,
       "style": "IPY_MODEL_cc13e80b8652409db7e99198dc668643",
       "value": 2000
      }
     },
     "a42595d6deaa479aa0fd9aaa60ae5d99": {
      "model_module": "@jupyter-widgets/base",
      "model_module_version": "1.2.0",
      "model_name": "LayoutModel",
      "state": {}
     },
     "a468ab16cf774d20b3f0e3ce21a00e64": {
      "model_module": "@jupyter-widgets/controls",
      "model_module_version": "1.5.0",
      "model_name": "FloatProgressModel",
      "state": {
       "bar_style": "success",
       "description": "nan: 100%",
       "layout": "IPY_MODEL_61d35032008c498ab12258ae00c4455e",
       "max": 50,
       "style": "IPY_MODEL_6a4dad9c48be450ca794d4313f911e1c",
       "value": 50
      }
     },
     "a4de37c2a9f34a1b932c4d98d891e08a": {
      "model_module": "@jupyter-widgets/controls",
      "model_module_version": "1.5.0",
      "model_name": "DescriptionStyleModel",
      "state": {
       "description_width": ""
      }
     },
     "a4fa4a9fd9d249548c81395775c77aab": {
      "model_module": "@jupyter-widgets/controls",
      "model_module_version": "1.5.0",
      "model_name": "FloatProgressModel",
      "state": {
       "bar_style": "success",
       "description": "1.26: 100%",
       "layout": "IPY_MODEL_fb766a321d9746d586d1de7f0179ee1f",
       "max": 2000,
       "style": "IPY_MODEL_b5605382459b43048577756565c9ef0e",
       "value": 2000
      }
     },
     "a5056874fc0e4e6aafd7f7ac1f20360a": {
      "model_module": "@jupyter-widgets/controls",
      "model_module_version": "1.5.0",
      "model_name": "DescriptionStyleModel",
      "state": {
       "description_width": ""
      }
     },
     "a50cada1bd0846d3bbbacdf34bdc4ccd": {
      "model_module": "@jupyter-widgets/controls",
      "model_module_version": "1.5.0",
      "model_name": "HTMLModel",
      "state": {
       "layout": "IPY_MODEL_1f223a4a76454a23aba98d5fa22a5d5f",
       "style": "IPY_MODEL_d9cfe8995db14c5482f616b74df6f78e",
       "value": " 2000/2000 [00:04&lt;00:00, 403.99it/s]"
      }
     },
     "a56d0a30968146e496e3e43ffabe567b": {
      "model_module": "@jupyter-widgets/base",
      "model_module_version": "1.2.0",
      "model_name": "LayoutModel",
      "state": {}
     },
     "a57f03e8080a43b18ea53938a095cb35": {
      "model_module": "@jupyter-widgets/controls",
      "model_module_version": "1.5.0",
      "model_name": "ProgressStyleModel",
      "state": {
       "description_width": "initial"
      }
     },
     "a58ceadf429548a7b593497312d075b4": {
      "model_module": "@jupyter-widgets/controls",
      "model_module_version": "1.5.0",
      "model_name": "HBoxModel",
      "state": {
       "children": [
        "IPY_MODEL_9a6ef39723e4409585d9a82a03051278",
        "IPY_MODEL_a1e8f287925b4a57b0ac83638652e9b9"
       ],
       "layout": "IPY_MODEL_30f6dda7574c485e92a5dc11766be62d"
      }
     },
     "a5d1f4471b444d3a96a98924b0d2031d": {
      "model_module": "@jupyter-widgets/controls",
      "model_module_version": "1.5.0",
      "model_name": "FloatProgressModel",
      "state": {
       "bar_style": "success",
       "description": "1.20: 100%",
       "layout": "IPY_MODEL_bc39817663a34333b123e5e79279b757",
       "max": 2000,
       "style": "IPY_MODEL_a7103a7f812442ddb6a9d77f8382ad11",
       "value": 2000
      }
     },
     "a62a0a3beecc40d087838711f1afdf4a": {
      "model_module": "@jupyter-widgets/controls",
      "model_module_version": "1.5.0",
      "model_name": "HTMLModel",
      "state": {
       "layout": "IPY_MODEL_7cc6fbc0402f4c5fb25ca8c2250c3856",
       "style": "IPY_MODEL_3d4d84f89a134a27a3db0410c00cbe79",
       "value": " 2000/2000 [00:17&lt;00:00, 113.20it/s]"
      }
     },
     "a632deed14374c45977d18de2ed4193b": {
      "model_module": "@jupyter-widgets/base",
      "model_module_version": "1.2.0",
      "model_name": "LayoutModel",
      "state": {}
     },
     "a64c8a7a9fd04b38bfa0d3d65aa9b020": {
      "model_module": "@jupyter-widgets/base",
      "model_module_version": "1.2.0",
      "model_name": "LayoutModel",
      "state": {}
     },
     "a69f449d2efd4a32a9c5af3512a95f2b": {
      "model_module": "@jupyter-widgets/base",
      "model_module_version": "1.2.0",
      "model_name": "LayoutModel",
      "state": {}
     },
     "a6f0258b486e472492280f0186b2706b": {
      "model_module": "@jupyter-widgets/controls",
      "model_module_version": "1.5.0",
      "model_name": "DescriptionStyleModel",
      "state": {
       "description_width": ""
      }
     },
     "a70374188eed4ddeaf521779b28e9575": {
      "model_module": "@jupyter-widgets/base",
      "model_module_version": "1.2.0",
      "model_name": "LayoutModel",
      "state": {}
     },
     "a7099a42b49440f2b872954c6a94784c": {
      "model_module": "@jupyter-widgets/controls",
      "model_module_version": "1.5.0",
      "model_name": "HTMLModel",
      "state": {
       "layout": "IPY_MODEL_94a4b99ea68f431281d8e21b893b7f24",
       "style": "IPY_MODEL_9dc5295910054e6ea94f2d9a84770b2f",
       "value": " 0/50 [00:00&lt;?, ?it/s]"
      }
     },
     "a7103a7f812442ddb6a9d77f8382ad11": {
      "model_module": "@jupyter-widgets/controls",
      "model_module_version": "1.5.0",
      "model_name": "ProgressStyleModel",
      "state": {
       "description_width": "initial"
      }
     },
     "a73a3e45ca694be38ea3dc68ba1ce9a5": {
      "model_module": "@jupyter-widgets/controls",
      "model_module_version": "1.5.0",
      "model_name": "ProgressStyleModel",
      "state": {
       "description_width": "initial"
      }
     },
     "a74f446f44174de8b401853638a1c3f1": {
      "model_module": "@jupyter-widgets/base",
      "model_module_version": "1.2.0",
      "model_name": "LayoutModel",
      "state": {}
     },
     "a8140751c44142f08dfb285618568820": {
      "model_module": "@jupyter-widgets/controls",
      "model_module_version": "1.5.0",
      "model_name": "FloatProgressModel",
      "state": {
       "bar_style": "danger",
       "description": "  0%",
       "layout": "IPY_MODEL_c3026fb6a1fc4d05bcee896185fd4a47",
       "max": 50,
       "style": "IPY_MODEL_ca3dc0f45cbf4384a9c4f205e7033303"
      }
     },
     "a87364523d2a4ab6917b2bcdb1c7f1f1": {
      "model_module": "@jupyter-widgets/base",
      "model_module_version": "1.2.0",
      "model_name": "LayoutModel",
      "state": {}
     },
     "a90a5c100f7e443e97634ac341504a65": {
      "model_module": "@jupyter-widgets/base",
      "model_module_version": "1.2.0",
      "model_name": "LayoutModel",
      "state": {}
     },
     "a9aab34b6c6a4df7b07168e705488277": {
      "model_module": "@jupyter-widgets/controls",
      "model_module_version": "1.5.0",
      "model_name": "HBoxModel",
      "state": {
       "children": [
        "IPY_MODEL_21737de3bfe543948d38f07b46d68f39",
        "IPY_MODEL_61ff98543f52411d98e386885f510751"
       ],
       "layout": "IPY_MODEL_b01d4a26e58741a9948c678dd6443779"
      }
     },
     "a9e1f573200e4498b3964d742598781c": {
      "model_module": "@jupyter-widgets/controls",
      "model_module_version": "1.5.0",
      "model_name": "HBoxModel",
      "state": {
       "children": [
        "IPY_MODEL_5c58fab21d9946cd84360b46596604bf",
        "IPY_MODEL_9ea111da78b54bc48fafb9f6a22413d0"
       ],
       "layout": "IPY_MODEL_9ba71ce797124bffb9d9e66fe045e973"
      }
     },
     "a9e40421fb32468db856346b8006c1dc": {
      "model_module": "@jupyter-widgets/base",
      "model_module_version": "1.2.0",
      "model_name": "LayoutModel",
      "state": {}
     },
     "aa316f26fe4c4a919541eb93e602b50d": {
      "model_module": "@jupyter-widgets/controls",
      "model_module_version": "1.5.0",
      "model_name": "ProgressStyleModel",
      "state": {
       "description_width": "initial"
      }
     },
     "aa4df9f397b048b9a22b79c634060897": {
      "model_module": "@jupyter-widgets/base",
      "model_module_version": "1.2.0",
      "model_name": "LayoutModel",
      "state": {}
     },
     "aaea2dd07915490a95cc7eb7f8e5ec94": {
      "model_module": "@jupyter-widgets/controls",
      "model_module_version": "1.5.0",
      "model_name": "DescriptionStyleModel",
      "state": {
       "description_width": ""
      }
     },
     "aaef6cbf59484d9392c772a8c0d44c57": {
      "model_module": "@jupyter-widgets/controls",
      "model_module_version": "1.5.0",
      "model_name": "FloatProgressModel",
      "state": {
       "bar_style": "success",
       "description": "0.9976701: 100%",
       "layout": "IPY_MODEL_4a7a47af62ee4a06b15724f08f795727",
       "max": 50,
       "style": "IPY_MODEL_7269d645d3174efb830227faf7a82731",
       "value": 50
      }
     },
     "ab158a451e594a22a900e8080c8456a0": {
      "model_module": "@jupyter-widgets/controls",
      "model_module_version": "1.5.0",
      "model_name": "HTMLModel",
      "state": {
       "layout": "IPY_MODEL_34f0740eceea452a8148657c5113b30f",
       "style": "IPY_MODEL_091db1ec6bae4c56bfdacc097fb610ee",
       "value": " 10/10 [01:29&lt;00:00,  8.96s/it]"
      }
     },
     "ab3a34d41ea6489fb0a0cf6f274044ca": {
      "model_module": "@jupyter-widgets/controls",
      "model_module_version": "1.5.0",
      "model_name": "ProgressStyleModel",
      "state": {
       "description_width": "initial"
      }
     },
     "ab3aaf29845f4a6e915dbc7b7fac9f16": {
      "model_module": "@jupyter-widgets/controls",
      "model_module_version": "1.5.0",
      "model_name": "HBoxModel",
      "state": {
       "children": [
        "IPY_MODEL_db9953a70b144f5e94bb553e73945d17",
        "IPY_MODEL_bc041a8c300d4107adcd1035266c80a3"
       ],
       "layout": "IPY_MODEL_3867b2375d4f4fafbd41874d63b01bb2"
      }
     },
     "ab447dcd183048a8b3324f3a2d10f9b5": {
      "model_module": "@jupyter-widgets/base",
      "model_module_version": "1.2.0",
      "model_name": "LayoutModel",
      "state": {}
     },
     "abb2e67dff234965a45d52188487601c": {
      "model_module": "@jupyter-widgets/controls",
      "model_module_version": "1.5.0",
      "model_name": "HTMLModel",
      "state": {
       "layout": "IPY_MODEL_4c23888df2f047dbaa1f9ae763e4e1e2",
       "style": "IPY_MODEL_14496ef77ec54955ba7857dcc9c14a1b",
       "value": " 46/100 [00:10&lt;00:11,  4.50it/s]"
      }
     },
     "abf0dac9fbc34622968682ad1a4e6f31": {
      "model_module": "@jupyter-widgets/controls",
      "model_module_version": "1.5.0",
      "model_name": "HTMLModel",
      "state": {
       "layout": "IPY_MODEL_d8960a613bae475da058447a62cdc6ff",
       "style": "IPY_MODEL_66abf40842634554bb8a2cbb26c00e76",
       "value": " 0/5000 [17:07&lt;?, ?it/s]"
      }
     },
     "ac05d0584a924490a183d8dcd7488dc5": {
      "model_module": "@jupyter-widgets/controls",
      "model_module_version": "1.5.0",
      "model_name": "ProgressStyleModel",
      "state": {
       "description_width": "initial"
      }
     },
     "ac1cc29572504f76829d712e8f8a88b9": {
      "model_module": "@jupyter-widgets/controls",
      "model_module_version": "1.5.0",
      "model_name": "DescriptionStyleModel",
      "state": {
       "description_width": ""
      }
     },
     "ac29a98d45cb43379b31e3d3fcda5d85": {
      "model_module": "@jupyter-widgets/base",
      "model_module_version": "1.2.0",
      "model_name": "LayoutModel",
      "state": {}
     },
     "ac4c0d20c3b748e8a5b7bf67b32b4a12": {
      "model_module": "@jupyter-widgets/controls",
      "model_module_version": "1.5.0",
      "model_name": "DescriptionStyleModel",
      "state": {
       "description_width": ""
      }
     },
     "ac7c7f68419f4f16b5efc7ef0b480b90": {
      "model_module": "@jupyter-widgets/controls",
      "model_module_version": "1.5.0",
      "model_name": "HTMLModel",
      "state": {
       "layout": "IPY_MODEL_c5b346ecb5c945d497505f5ffe693de0",
       "style": "IPY_MODEL_ea32cd021f1b4eb18a05f0182db8e3ad",
       "value": " 2000/2000 [03:24&lt;00:00,  9.79it/s]"
      }
     },
     "ad428b65f11442ac84e2b92360621794": {
      "model_module": "@jupyter-widgets/base",
      "model_module_version": "1.2.0",
      "model_name": "LayoutModel",
      "state": {}
     },
     "ad89d875823745d68231418a20d10d1a": {
      "model_module": "@jupyter-widgets/base",
      "model_module_version": "1.2.0",
      "model_name": "LayoutModel",
      "state": {}
     },
     "adc7743c5d144b89b9bcec5b55ce3ba9": {
      "model_module": "@jupyter-widgets/base",
      "model_module_version": "1.2.0",
      "model_name": "LayoutModel",
      "state": {}
     },
     "ade15d2be93b4551865c1482382dc698": {
      "model_module": "@jupyter-widgets/base",
      "model_module_version": "1.2.0",
      "model_name": "LayoutModel",
      "state": {}
     },
     "ade38690ec464a9b9c89ad9cd3bf43fe": {
      "model_module": "@jupyter-widgets/base",
      "model_module_version": "1.2.0",
      "model_name": "LayoutModel",
      "state": {}
     },
     "ae014043e9e14c779daf77120770bb59": {
      "model_module": "@jupyter-widgets/controls",
      "model_module_version": "1.5.0",
      "model_name": "HTMLModel",
      "state": {
       "layout": "IPY_MODEL_7dc20bdd9762458b8f2ff6d4554f3be3",
       "style": "IPY_MODEL_f3dc45e09d1d4f28b1be2646ef6834aa",
       "value": " 2000/2000 [00:20&lt;00:00, 98.57it/s]"
      }
     },
     "ae5ab4cc59c04dd2a67c2ff881f2ebeb": {
      "model_module": "@jupyter-widgets/controls",
      "model_module_version": "1.5.0",
      "model_name": "HTMLModel",
      "state": {
       "layout": "IPY_MODEL_0a1255a56833441f94900d59c090f142",
       "style": "IPY_MODEL_a13b7747015f423e967b20e07ca6b094",
       "value": " 0/2000 [00:00&lt;?, ?it/s]"
      }
     },
     "ae869f07e9864696bdd0366b3d294a58": {
      "model_module": "@jupyter-widgets/controls",
      "model_module_version": "1.5.0",
      "model_name": "FloatProgressModel",
      "state": {
       "bar_style": "success",
       "description": "1.88: 100%",
       "layout": "IPY_MODEL_0220bfcfa33b444f95f53428c9920db3",
       "max": 2000,
       "style": "IPY_MODEL_c3847b6240fd4574b86e1d87805fc665",
       "value": 2000
      }
     },
     "ae8eab720a7841ae801507f6902c8bd8": {
      "model_module": "@jupyter-widgets/controls",
      "model_module_version": "1.5.0",
      "model_name": "ProgressStyleModel",
      "state": {
       "description_width": "initial"
      }
     },
     "aeb3efb01c9741edbec5515c1b94f249": {
      "model_module": "@jupyter-widgets/controls",
      "model_module_version": "1.5.0",
      "model_name": "DescriptionStyleModel",
      "state": {
       "description_width": ""
      }
     },
     "aeccc62f9277468c9715367de5ac9dc8": {
      "model_module": "@jupyter-widgets/base",
      "model_module_version": "1.2.0",
      "model_name": "LayoutModel",
      "state": {}
     },
     "af24d610931e4f82a374b0b8fd6cc620": {
      "model_module": "@jupyter-widgets/base",
      "model_module_version": "1.2.0",
      "model_name": "LayoutModel",
      "state": {}
     },
     "b01d4a26e58741a9948c678dd6443779": {
      "model_module": "@jupyter-widgets/base",
      "model_module_version": "1.2.0",
      "model_name": "LayoutModel",
      "state": {}
     },
     "b031e45252c14b32b6cb3d8adacd0b34": {
      "model_module": "@jupyter-widgets/controls",
      "model_module_version": "1.5.0",
      "model_name": "FloatProgressModel",
      "state": {
       "bar_style": "success",
       "description": "1.56: 100%",
       "layout": "IPY_MODEL_b5c2fadc975a42a2855845b25b4bbc17",
       "max": 2000,
       "style": "IPY_MODEL_54b668cf20e84ad58430eb80d560a4d7",
       "value": 2000
      }
     },
     "b09072289e1c430e8aa04e2a6d8e19a2": {
      "model_module": "@jupyter-widgets/controls",
      "model_module_version": "1.5.0",
      "model_name": "ProgressStyleModel",
      "state": {
       "description_width": "initial"
      }
     },
     "b09f2320163a4c7f9f71b481129a7c0f": {
      "model_module": "@jupyter-widgets/controls",
      "model_module_version": "1.5.0",
      "model_name": "ProgressStyleModel",
      "state": {
       "description_width": "initial"
      }
     },
     "b11f0dd671684c9a9c1be32b0054df1c": {
      "model_module": "@jupyter-widgets/controls",
      "model_module_version": "1.5.0",
      "model_name": "HBoxModel",
      "state": {
       "children": [
        "IPY_MODEL_f98f8f084024466a879d1e356217bc0d",
        "IPY_MODEL_d6870766340942fab6d833be15553b2d"
       ],
       "layout": "IPY_MODEL_f04c4e06f071446296db10636159766f"
      }
     },
     "b221d272b5884143a0fd02384ac8a2a6": {
      "model_module": "@jupyter-widgets/controls",
      "model_module_version": "1.5.0",
      "model_name": "HTMLModel",
      "state": {
       "layout": "IPY_MODEL_16161a322802488185c307f54bd344f0",
       "style": "IPY_MODEL_7b5a2e1eb1684b0fa44f6ea4f571c2fb",
       "value": " 5000/5000 [00:58&lt;00:00, 85.46it/s]"
      }
     },
     "b2777bf426784db7b019d02d22215501": {
      "model_module": "@jupyter-widgets/controls",
      "model_module_version": "1.5.0",
      "model_name": "HBoxModel",
      "state": {
       "children": [
        "IPY_MODEL_1fc2dd5ab68648118f351811360a97ba",
        "IPY_MODEL_1fc47b8233214c0a8017f17be60a9655"
       ],
       "layout": "IPY_MODEL_de506b9266f141e59d605102b5249792"
      }
     },
     "b2e72ad0cada4c6db82e985ae2e9f440": {
      "model_module": "@jupyter-widgets/controls",
      "model_module_version": "1.5.0",
      "model_name": "ProgressStyleModel",
      "state": {
       "description_width": "initial"
      }
     },
     "b337b393dfe94151969186d6311ce4f5": {
      "model_module": "@jupyter-widgets/controls",
      "model_module_version": "1.5.0",
      "model_name": "ProgressStyleModel",
      "state": {
       "description_width": "initial"
      }
     },
     "b362bd9989374c19be0f165308125a97": {
      "model_module": "@jupyter-widgets/controls",
      "model_module_version": "1.5.0",
      "model_name": "HTMLModel",
      "state": {
       "layout": "IPY_MODEL_f95335b2a51f4cfeac30833ba98067e4",
       "style": "IPY_MODEL_34ebb1833b1e4434971361c98dfc54f8",
       "value": " 2000/2000 [00:11&lt;00:00, 167.18it/s]"
      }
     },
     "b36ab729b79943738dc9770608e2af14": {
      "model_module": "@jupyter-widgets/controls",
      "model_module_version": "1.5.0",
      "model_name": "HBoxModel",
      "state": {
       "children": [
        "IPY_MODEL_01d6cc04bd734e6f8984b67aa9ef3816",
        "IPY_MODEL_0331e5f551404e72a69e67e1cc9c3f6c"
       ],
       "layout": "IPY_MODEL_1e0dcc5b361446fa8983798adb6ed73b"
      }
     },
     "b3ad64cd33d548d4b49452932bd603a8": {
      "model_module": "@jupyter-widgets/base",
      "model_module_version": "1.2.0",
      "model_name": "LayoutModel",
      "state": {}
     },
     "b3d21ddc083c4e59b4205b0909a37d56": {
      "model_module": "@jupyter-widgets/base",
      "model_module_version": "1.2.0",
      "model_name": "LayoutModel",
      "state": {}
     },
     "b3d25022cf9c40a8aad9f6b2ca5dc642": {
      "model_module": "@jupyter-widgets/controls",
      "model_module_version": "1.5.0",
      "model_name": "FloatProgressModel",
      "state": {
       "bar_style": "danger",
       "description": "1.23:   3%",
       "layout": "IPY_MODEL_e63c9fd0eab046378fd7e00f7a5bc848",
       "max": 2000,
       "style": "IPY_MODEL_5fe7d4443ecc477180483d0d83a930eb",
       "value": 1
      }
     },
     "b3f3822a1d0d4367b5a716300af07451": {
      "model_module": "@jupyter-widgets/base",
      "model_module_version": "1.2.0",
      "model_name": "LayoutModel",
      "state": {}
     },
     "b420dbc997e44d4c93c26d7cd9bec42f": {
      "model_module": "@jupyter-widgets/controls",
      "model_module_version": "1.5.0",
      "model_name": "FloatProgressModel",
      "state": {
       "bar_style": "success",
       "description": "1.38: 100%",
       "layout": "IPY_MODEL_13035b7f49a24fc894fd73097154e782",
       "max": 2000,
       "style": "IPY_MODEL_83f62e86fed34535904bb77f8f9b6d41",
       "value": 2000
      }
     },
     "b4298bf6ea664462b2a537811f6a8769": {
      "model_module": "@jupyter-widgets/base",
      "model_module_version": "1.2.0",
      "model_name": "LayoutModel",
      "state": {}
     },
     "b438dd3a4b0e4d4195fc82e5d8670b1e": {
      "model_module": "@jupyter-widgets/base",
      "model_module_version": "1.2.0",
      "model_name": "LayoutModel",
      "state": {}
     },
     "b45f62eb5c7746f98704780459003fd1": {
      "model_module": "@jupyter-widgets/controls",
      "model_module_version": "1.5.0",
      "model_name": "FloatProgressModel",
      "state": {
       "bar_style": "success",
       "description": "1.83: 100%",
       "layout": "IPY_MODEL_a87364523d2a4ab6917b2bcdb1c7f1f1",
       "max": 2000,
       "style": "IPY_MODEL_4b94016b5b464c95b59a45a7032e46b8",
       "value": 2000
      }
     },
     "b48a983d1c524e9db94788bb7225b3c8": {
      "model_module": "@jupyter-widgets/controls",
      "model_module_version": "1.5.0",
      "model_name": "DescriptionStyleModel",
      "state": {
       "description_width": ""
      }
     },
     "b4bdbec03f1b467296ced0873976fbaa": {
      "model_module": "@jupyter-widgets/base",
      "model_module_version": "1.2.0",
      "model_name": "LayoutModel",
      "state": {}
     },
     "b4d7055eb0bd40e582192c3df76ca20c": {
      "model_module": "@jupyter-widgets/controls",
      "model_module_version": "1.5.0",
      "model_name": "FloatProgressModel",
      "state": {
       "bar_style": "danger",
       "description": "1.99:  36%",
       "layout": "IPY_MODEL_5a25cfcec2da4e989922fadf4a1b6222",
       "style": "IPY_MODEL_e6844ae76a7d4eb496d55524ced425c4",
       "value": 36
      }
     },
     "b4e7f3b17fd04fb091772090f39f3ff7": {
      "model_module": "@jupyter-widgets/base",
      "model_module_version": "1.2.0",
      "model_name": "LayoutModel",
      "state": {}
     },
     "b51a4637cd284723b116f127fa70d2e1": {
      "model_module": "@jupyter-widgets/controls",
      "model_module_version": "1.5.0",
      "model_name": "HBoxModel",
      "state": {
       "children": [
        "IPY_MODEL_550125f8a98749638cf982a61b6eea60",
        "IPY_MODEL_9963706c9b2a413781c0796d88cdca09"
       ],
       "layout": "IPY_MODEL_fe5e480194f3410c9624c550a589dc69"
      }
     },
     "b5605382459b43048577756565c9ef0e": {
      "model_module": "@jupyter-widgets/controls",
      "model_module_version": "1.5.0",
      "model_name": "ProgressStyleModel",
      "state": {
       "description_width": "initial"
      }
     },
     "b58bec4e27a14e21a921668dad9bf338": {
      "model_module": "@jupyter-widgets/controls",
      "model_module_version": "1.5.0",
      "model_name": "ProgressStyleModel",
      "state": {
       "description_width": "initial"
      }
     },
     "b5aab0ca03d9488e8960379c609f071b": {
      "model_module": "@jupyter-widgets/controls",
      "model_module_version": "1.5.0",
      "model_name": "HTMLModel",
      "state": {
       "layout": "IPY_MODEL_1cffba1dfc0445a1bfea292a0894fe78",
       "style": "IPY_MODEL_2db0ecba58094c7c8f340d8bb8b9a7aa",
       "value": " 50/50 [00:01&lt;00:00, 43.47it/s]"
      }
     },
     "b5c2fadc975a42a2855845b25b4bbc17": {
      "model_module": "@jupyter-widgets/base",
      "model_module_version": "1.2.0",
      "model_name": "LayoutModel",
      "state": {}
     },
     "b61fc45702b64cd58b53afab61782177": {
      "model_module": "@jupyter-widgets/base",
      "model_module_version": "1.2.0",
      "model_name": "LayoutModel",
      "state": {}
     },
     "b620727efb334348b93a4c87681584db": {
      "model_module": "@jupyter-widgets/controls",
      "model_module_version": "1.5.0",
      "model_name": "HBoxModel",
      "state": {
       "children": [
        "IPY_MODEL_ffb9d2ec133a4e9aa0401e4df8253d8b",
        "IPY_MODEL_8f37fd47b9a742908d8a669527d7b269"
       ],
       "layout": "IPY_MODEL_56da1de65a8b46fbbda2c8388f5fc1f0"
      }
     },
     "b66702d3f64045d4b9b0e398470a5b49": {
      "model_module": "@jupyter-widgets/base",
      "model_module_version": "1.2.0",
      "model_name": "LayoutModel",
      "state": {}
     },
     "b6d1a99c78a6409ba37e76f46f4c814d": {
      "model_module": "@jupyter-widgets/base",
      "model_module_version": "1.2.0",
      "model_name": "LayoutModel",
      "state": {}
     },
     "b711bc535c684953817733c1a0c542bd": {
      "model_module": "@jupyter-widgets/controls",
      "model_module_version": "1.5.0",
      "model_name": "DescriptionStyleModel",
      "state": {
       "description_width": ""
      }
     },
     "b71d96d680ed4cd7a535bf97dd917ecc": {
      "model_module": "@jupyter-widgets/controls",
      "model_module_version": "1.5.0",
      "model_name": "HTMLModel",
      "state": {
       "layout": "IPY_MODEL_45ecd31a21014facb075d78c8ae43e1e",
       "style": "IPY_MODEL_7f78d150d0454254853968fea43f9a6c",
       "value": " 50/50 [02:58&lt;00:00,  3.58s/it]"
      }
     },
     "b7b07369c1a141cdb8e5271e8b0246d5": {
      "model_module": "@jupyter-widgets/controls",
      "model_module_version": "1.5.0",
      "model_name": "HBoxModel",
      "state": {
       "children": [
        "IPY_MODEL_4932fa27e85f4736a9c2bad7a271a07a",
        "IPY_MODEL_3497c85fb9f8462fa3cb42a50c4ccf5a"
       ],
       "layout": "IPY_MODEL_2fbccf8410eb487192849b4122465537"
      }
     },
     "b7d798f700934858970101987b6f3218": {
      "model_module": "@jupyter-widgets/base",
      "model_module_version": "1.2.0",
      "model_name": "LayoutModel",
      "state": {}
     },
     "b7f36d5193364aa9b71aaa2d9f0f96d4": {
      "model_module": "@jupyter-widgets/controls",
      "model_module_version": "1.5.0",
      "model_name": "HTMLModel",
      "state": {
       "layout": "IPY_MODEL_d07cbdebc24947d3807d9482263815c1",
       "style": "IPY_MODEL_0c1a7f881b0446a188f5a299f391ce71",
       "value": " 1468/5000 [03:38&lt;08:45,  6.72it/s]"
      }
     },
     "b836b9011cf04c7096814d70494628c7": {
      "model_module": "@jupyter-widgets/controls",
      "model_module_version": "1.5.0",
      "model_name": "FloatProgressModel",
      "state": {
       "bar_style": "success",
       "description": "0.23: 100%",
       "layout": "IPY_MODEL_0d8adfa7a7dc4822a6a51d98ee5a3959",
       "max": 5000,
       "style": "IPY_MODEL_63969da228bc4990a656fd68df40e903",
       "value": 5000
      }
     },
     "b83bb153270149f194215ba35dbe12d0": {
      "model_module": "@jupyter-widgets/controls",
      "model_module_version": "1.5.0",
      "model_name": "FloatProgressModel",
      "state": {
       "bar_style": "success",
       "description": "2.43: 100%",
       "layout": "IPY_MODEL_07ba073d65d14ad9841dc40fe3e68533",
       "max": 10,
       "style": "IPY_MODEL_4cc9a90d7e264ffdbacbbf0b2780e3ae",
       "value": 10
      }
     },
     "b8791d8cd83549da95a3a08d39f8dc4f": {
      "model_module": "@jupyter-widgets/base",
      "model_module_version": "1.2.0",
      "model_name": "LayoutModel",
      "state": {}
     },
     "b8c6ddfc03074ccd8a013fad8e97a426": {
      "model_module": "@jupyter-widgets/controls",
      "model_module_version": "1.5.0",
      "model_name": "DescriptionStyleModel",
      "state": {
       "description_width": ""
      }
     },
     "b8cc05db9d044fe68f446210f8357d99": {
      "model_module": "@jupyter-widgets/controls",
      "model_module_version": "1.5.0",
      "model_name": "HTMLModel",
      "state": {
       "layout": "IPY_MODEL_c3bf4d998dd2457b9306ac9d6fffc5f1",
       "style": "IPY_MODEL_5c46cfc1622441e38c19ab8639317b1f",
       "value": " 2000/2000 [00:16&lt;00:00, 123.94it/s]"
      }
     },
     "b9034229860941f39f599abf0806a1e7": {
      "model_module": "@jupyter-widgets/controls",
      "model_module_version": "1.5.0",
      "model_name": "HTMLModel",
      "state": {
       "layout": "IPY_MODEL_f0eb733af63c4252a3c819727881b492",
       "style": "IPY_MODEL_876f977909a7414699b2df5520bbce1d",
       "value": " 0/5000 [05:45&lt;?, ?it/s]"
      }
     },
     "b9162d255a664ddca6a333f73076efb5": {
      "model_module": "@jupyter-widgets/controls",
      "model_module_version": "1.5.0",
      "model_name": "ProgressStyleModel",
      "state": {
       "description_width": "initial"
      }
     },
     "b93d3c33113644b2a4677607644505d9": {
      "model_module": "@jupyter-widgets/base",
      "model_module_version": "1.2.0",
      "model_name": "LayoutModel",
      "state": {}
     },
     "b977a87152f545ee9cea3045ba0bd1fa": {
      "model_module": "@jupyter-widgets/controls",
      "model_module_version": "1.5.0",
      "model_name": "ProgressStyleModel",
      "state": {
       "description_width": "initial"
      }
     },
     "b987a7585728434a97414b6b2f93b823": {
      "model_module": "@jupyter-widgets/base",
      "model_module_version": "1.2.0",
      "model_name": "LayoutModel",
      "state": {}
     },
     "b987e1feca154b348033942e9219fbb3": {
      "model_module": "@jupyter-widgets/controls",
      "model_module_version": "1.5.0",
      "model_name": "HBoxModel",
      "state": {
       "children": [
        "IPY_MODEL_39ab8599d6344c7daa243fccaf89e9f2",
        "IPY_MODEL_b5aab0ca03d9488e8960379c609f071b"
       ],
       "layout": "IPY_MODEL_cf283a530cc84449bae6b37b66660eff"
      }
     },
     "b9d347d6bfb34afb9aceda7926f3a89c": {
      "model_module": "@jupyter-widgets/controls",
      "model_module_version": "1.5.0",
      "model_name": "HTMLModel",
      "state": {
       "layout": "IPY_MODEL_07b4a01669ca45e484d98ba8626183cb",
       "style": "IPY_MODEL_38080d51d9de434dbffed48b15281431",
       "value": " 2000/2000 [00:35&lt;00:00, 55.60it/s]"
      }
     },
     "ba2f0045c3184492a95e4a274c1aeffd": {
      "model_module": "@jupyter-widgets/base",
      "model_module_version": "1.2.0",
      "model_name": "LayoutModel",
      "state": {}
     },
     "baa5bdf1677247c5a46f149648be61c0": {
      "model_module": "@jupyter-widgets/controls",
      "model_module_version": "1.5.0",
      "model_name": "DescriptionStyleModel",
      "state": {
       "description_width": ""
      }
     },
     "badce0553b1f47abb52149abe37cd830": {
      "model_module": "@jupyter-widgets/base",
      "model_module_version": "1.2.0",
      "model_name": "LayoutModel",
      "state": {}
     },
     "bae3e1ba3cca4c1c86c30da12317c70f": {
      "model_module": "@jupyter-widgets/controls",
      "model_module_version": "1.5.0",
      "model_name": "HBoxModel",
      "state": {
       "children": [
        "IPY_MODEL_91501e3ac8ed4d7684c44a24b3e75a25",
        "IPY_MODEL_656007e0f2d64f1fa8e198a16f673686"
       ],
       "layout": "IPY_MODEL_c151a1b4ded54135bb8ad0ff0e078c1b"
      }
     },
     "bae56c33b1a04999b5e4b37a5d8e382e": {
      "model_module": "@jupyter-widgets/controls",
      "model_module_version": "1.5.0",
      "model_name": "ProgressStyleModel",
      "state": {
       "description_width": "initial"
      }
     },
     "bb1aaec9790849af82758efd42a8dc9c": {
      "model_module": "@jupyter-widgets/controls",
      "model_module_version": "1.5.0",
      "model_name": "DescriptionStyleModel",
      "state": {
       "description_width": ""
      }
     },
     "bb60ad6db720463199ffd795cf7f70fd": {
      "model_module": "@jupyter-widgets/controls",
      "model_module_version": "1.5.0",
      "model_name": "FloatProgressModel",
      "state": {
       "bar_style": "success",
       "description": "1.63: 100%",
       "layout": "IPY_MODEL_56ea2f2773e0405b9f41c85400652357",
       "max": 2000,
       "style": "IPY_MODEL_b977a87152f545ee9cea3045ba0bd1fa",
       "value": 2000
      }
     },
     "bba9855a5ab54fb9aa8ef4d2378956af": {
      "model_module": "@jupyter-widgets/controls",
      "model_module_version": "1.5.0",
      "model_name": "HTMLModel",
      "state": {
       "layout": "IPY_MODEL_82aa365712b34aebb0d3d473091c4281",
       "style": "IPY_MODEL_0c51b29233614a2ba9e2a888a091cd75",
       "value": " 2000/2000 [00:16&lt;00:00, 119.44it/s]"
      }
     },
     "bbbe7b8c85d14a10b1519e88a09f5f47": {
      "model_module": "@jupyter-widgets/controls",
      "model_module_version": "1.5.0",
      "model_name": "HBoxModel",
      "state": {
       "children": [
        "IPY_MODEL_8c89bc67302c40789954fcd2015d739e",
        "IPY_MODEL_321458f6cf124a76b9e9ae952637ace9"
       ],
       "layout": "IPY_MODEL_0687ffac6c66419f9c151670ae2bec9f"
      }
     },
     "bbcc690e653645ee9fab947b23f83ac2": {
      "model_module": "@jupyter-widgets/controls",
      "model_module_version": "1.5.0",
      "model_name": "FloatProgressModel",
      "state": {
       "bar_style": "success",
       "description": "0.78: 100%",
       "layout": "IPY_MODEL_f931e43f52564933be499e4fd6620927",
       "max": 2000,
       "style": "IPY_MODEL_879221107e42445dbf35de72c10197aa",
       "value": 2000
      }
     },
     "bc00031bb727428fbee7b9ded1c56e5b": {
      "model_module": "@jupyter-widgets/controls",
      "model_module_version": "1.5.0",
      "model_name": "DescriptionStyleModel",
      "state": {
       "description_width": ""
      }
     },
     "bc00295fa6f74f888fcffccc480fc9ea": {
      "model_module": "@jupyter-widgets/controls",
      "model_module_version": "1.5.0",
      "model_name": "FloatProgressModel",
      "state": {
       "bar_style": "danger",
       "description": "  0%",
       "layout": "IPY_MODEL_a70374188eed4ddeaf521779b28e9575",
       "max": 2000,
       "style": "IPY_MODEL_68967515ec114e26b429c71bfa3cff3b"
      }
     },
     "bc041a8c300d4107adcd1035266c80a3": {
      "model_module": "@jupyter-widgets/controls",
      "model_module_version": "1.5.0",
      "model_name": "HTMLModel",
      "state": {
       "layout": "IPY_MODEL_fbc65b62f1574a5f8c2b8f47e2262f9c",
       "style": "IPY_MODEL_86bda7038e874521958462e023da7f76",
       "value": " 2000/2000 [01:55&lt;00:00, 17.36it/s]"
      }
     },
     "bc39817663a34333b123e5e79279b757": {
      "model_module": "@jupyter-widgets/base",
      "model_module_version": "1.2.0",
      "model_name": "LayoutModel",
      "state": {}
     },
     "bc4b09f0dfe04f579ab4ee488de54e13": {
      "model_module": "@jupyter-widgets/base",
      "model_module_version": "1.2.0",
      "model_name": "LayoutModel",
      "state": {}
     },
     "bce21a12a947455b9f70d081c4485155": {
      "model_module": "@jupyter-widgets/controls",
      "model_module_version": "1.5.0",
      "model_name": "HBoxModel",
      "state": {
       "children": [
        "IPY_MODEL_d261aaece0b14a3aa4027435cd1dced0",
        "IPY_MODEL_2848e9f7d40448dd9ed2ee1879517b9f"
       ],
       "layout": "IPY_MODEL_257ec6bba7d048a1839c2b02f6767e6b"
      }
     },
     "bd006bfaa3ed4ccb93d356c4f47e1877": {
      "model_module": "@jupyter-widgets/controls",
      "model_module_version": "1.5.0",
      "model_name": "HTMLModel",
      "state": {
       "layout": "IPY_MODEL_349a2db39248416e9a8235450be3f0ce",
       "style": "IPY_MODEL_2e2ab91d34da40eb8bc45d6f7b6c5478",
       "value": " 2000/2000 [00:45&lt;00:00, 43.69it/s]"
      }
     },
     "bd8561a2ed494031abe8d359aca232ca": {
      "model_module": "@jupyter-widgets/controls",
      "model_module_version": "1.5.0",
      "model_name": "ProgressStyleModel",
      "state": {
       "description_width": "initial"
      }
     },
     "be5b02dfbdc7472499d69661b1323c93": {
      "model_module": "@jupyter-widgets/controls",
      "model_module_version": "1.5.0",
      "model_name": "FloatProgressModel",
      "state": {
       "bar_style": "success",
       "description": "1.94: 100%",
       "layout": "IPY_MODEL_bfcd10f6a52a435f938c570282ddde54",
       "style": "IPY_MODEL_261801519b924b11aeb23ba1aa327566",
       "value": 100
      }
     },
     "be82c17717f44cdeb7f305b2bf483e28": {
      "model_module": "@jupyter-widgets/controls",
      "model_module_version": "1.5.0",
      "model_name": "HTMLModel",
      "state": {
       "layout": "IPY_MODEL_ab447dcd183048a8b3324f3a2d10f9b5",
       "style": "IPY_MODEL_ef7543e1ee42437793b8e87482b54c76",
       "value": " 5000/5000 [00:26&lt;00:00, 190.06it/s]"
      }
     },
     "beacc13c54b64645994ad60f1d32e296": {
      "model_module": "@jupyter-widgets/base",
      "model_module_version": "1.2.0",
      "model_name": "LayoutModel",
      "state": {}
     },
     "bf126177214349a1bd724cbe6588a79a": {
      "model_module": "@jupyter-widgets/controls",
      "model_module_version": "1.5.0",
      "model_name": "DescriptionStyleModel",
      "state": {
       "description_width": ""
      }
     },
     "bf201f60075144469608c8149d4eff11": {
      "model_module": "@jupyter-widgets/base",
      "model_module_version": "1.2.0",
      "model_name": "LayoutModel",
      "state": {}
     },
     "bfafea5b24bb4fec9c422f61e3351c37": {
      "model_module": "@jupyter-widgets/controls",
      "model_module_version": "1.5.0",
      "model_name": "DescriptionStyleModel",
      "state": {
       "description_width": ""
      }
     },
     "bfcd10f6a52a435f938c570282ddde54": {
      "model_module": "@jupyter-widgets/base",
      "model_module_version": "1.2.0",
      "model_name": "LayoutModel",
      "state": {}
     },
     "bfd4a4039aaa40ad84ab94ef3f78c40a": {
      "model_module": "@jupyter-widgets/controls",
      "model_module_version": "1.5.0",
      "model_name": "HBoxModel",
      "state": {
       "children": [
        "IPY_MODEL_4e10673782294b31aaf5ef5e8aecd375",
        "IPY_MODEL_b9d347d6bfb34afb9aceda7926f3a89c"
       ],
       "layout": "IPY_MODEL_b3ad64cd33d548d4b49452932bd603a8"
      }
     },
     "bfe6f1b6028640f8bf563799040b8552": {
      "model_module": "@jupyter-widgets/base",
      "model_module_version": "1.2.0",
      "model_name": "LayoutModel",
      "state": {}
     },
     "c008f8e7af5e4b85bbbca9cead68716c": {
      "model_module": "@jupyter-widgets/controls",
      "model_module_version": "1.5.0",
      "model_name": "DescriptionStyleModel",
      "state": {
       "description_width": ""
      }
     },
     "c05c032f9ad8400cb4626768526d0fbe": {
      "model_module": "@jupyter-widgets/controls",
      "model_module_version": "1.5.0",
      "model_name": "DescriptionStyleModel",
      "state": {
       "description_width": ""
      }
     },
     "c08536887c4b4ae1ad24c59b4ec2eee9": {
      "model_module": "@jupyter-widgets/base",
      "model_module_version": "1.2.0",
      "model_name": "LayoutModel",
      "state": {}
     },
     "c0c71f5a532d4bf2bd757ed9c7a8c102": {
      "model_module": "@jupyter-widgets/base",
      "model_module_version": "1.2.0",
      "model_name": "LayoutModel",
      "state": {}
     },
     "c130d95016e84385a58a1eb1e9e020d5": {
      "model_module": "@jupyter-widgets/base",
      "model_module_version": "1.2.0",
      "model_name": "LayoutModel",
      "state": {}
     },
     "c145e6db3f354eda8fd3c0720bb57d6e": {
      "model_module": "@jupyter-widgets/controls",
      "model_module_version": "1.5.0",
      "model_name": "FloatProgressModel",
      "state": {
       "bar_style": "danger",
       "description": "  0%",
       "layout": "IPY_MODEL_13ada00b11a6483d8c2380f6bbb823fa",
       "max": 2000,
       "style": "IPY_MODEL_13b8d5ca999240d09f582d416900870f"
      }
     },
     "c151a1b4ded54135bb8ad0ff0e078c1b": {
      "model_module": "@jupyter-widgets/base",
      "model_module_version": "1.2.0",
      "model_name": "LayoutModel",
      "state": {}
     },
     "c20119f75d2c4e65a6eb1029a7a6f1fa": {
      "model_module": "@jupyter-widgets/controls",
      "model_module_version": "1.5.0",
      "model_name": "DescriptionStyleModel",
      "state": {
       "description_width": ""
      }
     },
     "c20be55e3a6445a1a9b681edad470aa0": {
      "model_module": "@jupyter-widgets/controls",
      "model_module_version": "1.5.0",
      "model_name": "FloatProgressModel",
      "state": {
       "bar_style": "danger",
       "description": "  0%",
       "layout": "IPY_MODEL_56baa96e9244449f8fdf9890185bc504",
       "max": 50,
       "style": "IPY_MODEL_01801c81a9c64248969b9d8367dafa01"
      }
     },
     "c21bb51320b543368fb8a7de83d4a391": {
      "model_module": "@jupyter-widgets/controls",
      "model_module_version": "1.5.0",
      "model_name": "FloatProgressModel",
      "state": {
       "bar_style": "danger",
       "description": "  0%",
       "layout": "IPY_MODEL_a048309f558a46198794dcd5a8e163b0",
       "max": 2000,
       "style": "IPY_MODEL_232f8456252e4f8285a32401c8a1cb28"
      }
     },
     "c25cd3d719604737b1789aac7f6a7bf5": {
      "model_module": "@jupyter-widgets/controls",
      "model_module_version": "1.5.0",
      "model_name": "FloatProgressModel",
      "state": {
       "bar_style": "danger",
       "description": "  0%",
       "layout": "IPY_MODEL_7cd544d4089f4a83841e1aa34f572140",
       "max": 5000,
       "style": "IPY_MODEL_ee8ea2669f464e2caf0faffec900b4f9"
      }
     },
     "c27c85c49d9541aa8e9f3520208f1781": {
      "model_module": "@jupyter-widgets/base",
      "model_module_version": "1.2.0",
      "model_name": "LayoutModel",
      "state": {}
     },
     "c3026fb6a1fc4d05bcee896185fd4a47": {
      "model_module": "@jupyter-widgets/base",
      "model_module_version": "1.2.0",
      "model_name": "LayoutModel",
      "state": {}
     },
     "c34edf693e5e4324beb248d6033e4b37": {
      "model_module": "@jupyter-widgets/controls",
      "model_module_version": "1.5.0",
      "model_name": "HBoxModel",
      "state": {
       "children": [
        "IPY_MODEL_f024367f88de4c1c9c2ac86f5b62efe0",
        "IPY_MODEL_63de6e94e3b7422bb443f1ae43e4a0e4"
       ],
       "layout": "IPY_MODEL_7877faad098b4e15a5745489e6b4dc5c"
      }
     },
     "c350f3a0904e45838f20f086f1b13a01": {
      "model_module": "@jupyter-widgets/base",
      "model_module_version": "1.2.0",
      "model_name": "LayoutModel",
      "state": {}
     },
     "c35813d3d98349d4be88f5457115d619": {
      "model_module": "@jupyter-widgets/controls",
      "model_module_version": "1.5.0",
      "model_name": "FloatProgressModel",
      "state": {
       "bar_style": "success",
       "description": "1.39: 100%",
       "layout": "IPY_MODEL_3b763649a8474fb98517a7c76fad6399",
       "max": 2000,
       "style": "IPY_MODEL_522d2226abbb4891aef90f6437066669",
       "value": 2000
      }
     },
     "c3847b6240fd4574b86e1d87805fc665": {
      "model_module": "@jupyter-widgets/controls",
      "model_module_version": "1.5.0",
      "model_name": "ProgressStyleModel",
      "state": {
       "description_width": "initial"
      }
     },
     "c3bf4d998dd2457b9306ac9d6fffc5f1": {
      "model_module": "@jupyter-widgets/base",
      "model_module_version": "1.2.0",
      "model_name": "LayoutModel",
      "state": {}
     },
     "c3ce78ce2e1b4b74a12c4bbc88eb6967": {
      "model_module": "@jupyter-widgets/base",
      "model_module_version": "1.2.0",
      "model_name": "LayoutModel",
      "state": {}
     },
     "c41d1d9017c948518e6b5464a647424e": {
      "model_module": "@jupyter-widgets/base",
      "model_module_version": "1.2.0",
      "model_name": "LayoutModel",
      "state": {}
     },
     "c45e133409b94b0bb9bf1b4b60d2b923": {
      "model_module": "@jupyter-widgets/controls",
      "model_module_version": "1.5.0",
      "model_name": "HTMLModel",
      "state": {
       "layout": "IPY_MODEL_ce0e51d041ed4c8c909662ec2033acde",
       "style": "IPY_MODEL_c05c032f9ad8400cb4626768526d0fbe",
       "value": " 0/2000 [01:35&lt;?, ?it/s]"
      }
     },
     "c5a054397a8d44469300745e44b776b0": {
      "model_module": "@jupyter-widgets/controls",
      "model_module_version": "1.5.0",
      "model_name": "DescriptionStyleModel",
      "state": {
       "description_width": ""
      }
     },
     "c5b346ecb5c945d497505f5ffe693de0": {
      "model_module": "@jupyter-widgets/base",
      "model_module_version": "1.2.0",
      "model_name": "LayoutModel",
      "state": {}
     },
     "c5f1b0c420c34a37aadd8064b294e27f": {
      "model_module": "@jupyter-widgets/controls",
      "model_module_version": "1.5.0",
      "model_name": "ProgressStyleModel",
      "state": {
       "description_width": "initial"
      }
     },
     "c5f95f53834248c6be39a05ad5d1985f": {
      "model_module": "@jupyter-widgets/controls",
      "model_module_version": "1.5.0",
      "model_name": "FloatProgressModel",
      "state": {
       "bar_style": "danger",
       "description": "  0%",
       "layout": "IPY_MODEL_2fc8d1dbf3c34930aec0474e0ad07a57",
       "max": 2000,
       "style": "IPY_MODEL_5b28410af8dc4eeeb21efe6a34cf5d03"
      }
     },
     "c612dcd77b9b4263966fffe0767a74be": {
      "model_module": "@jupyter-widgets/base",
      "model_module_version": "1.2.0",
      "model_name": "LayoutModel",
      "state": {}
     },
     "c623c131a5d247ac8695c23222341073": {
      "model_module": "@jupyter-widgets/controls",
      "model_module_version": "1.5.0",
      "model_name": "HBoxModel",
      "state": {
       "children": [
        "IPY_MODEL_fc861d789bd540198baa254a2ca3ccdf",
        "IPY_MODEL_0cf93f6d6574436abe28b782f62e82a7"
       ],
       "layout": "IPY_MODEL_fabf3f47191e4c9fbfb4988fe2408972"
      }
     },
     "c65c072a68244d35843aa802965e0d3f": {
      "model_module": "@jupyter-widgets/base",
      "model_module_version": "1.2.0",
      "model_name": "LayoutModel",
      "state": {}
     },
     "c78480873b7b4f2da396893f2d94d716": {
      "model_module": "@jupyter-widgets/controls",
      "model_module_version": "1.5.0",
      "model_name": "DescriptionStyleModel",
      "state": {
       "description_width": ""
      }
     },
     "c7cace2d54964f8a8f00f29ad539fc8f": {
      "model_module": "@jupyter-widgets/base",
      "model_module_version": "1.2.0",
      "model_name": "LayoutModel",
      "state": {}
     },
     "c7d24dc8e98d46c38556016e146191de": {
      "model_module": "@jupyter-widgets/base",
      "model_module_version": "1.2.0",
      "model_name": "LayoutModel",
      "state": {}
     },
     "c7dc316b90a64ba4833ea17bba6c3677": {
      "model_module": "@jupyter-widgets/controls",
      "model_module_version": "1.5.0",
      "model_name": "HBoxModel",
      "state": {
       "children": [
        "IPY_MODEL_19e4c698f18146e8a37dba07fbe0795e",
        "IPY_MODEL_9375003aa04e427f85d27da8efca1c28"
       ],
       "layout": "IPY_MODEL_4b4713324c7b4ab2ab170a22947dc1de"
      }
     },
     "c83cf34cc3bf43cca7350345b1f99982": {
      "model_module": "@jupyter-widgets/controls",
      "model_module_version": "1.5.0",
      "model_name": "FloatProgressModel",
      "state": {
       "description": "1.92:  26%",
       "layout": "IPY_MODEL_67ef97e1914d480cb6f4f86350ecbe38",
       "max": 1000,
       "style": "IPY_MODEL_ce96b64088ab4e2e8023a3f764f11f76",
       "value": 264
      }
     },
     "c85355e655f940eb853a1f38088952e5": {
      "model_module": "@jupyter-widgets/controls",
      "model_module_version": "1.5.0",
      "model_name": "ProgressStyleModel",
      "state": {
       "description_width": "initial"
      }
     },
     "c8af4f7c364e4c2390956bde249d1d13": {
      "model_module": "@jupyter-widgets/base",
      "model_module_version": "1.2.0",
      "model_name": "LayoutModel",
      "state": {}
     },
     "c8c2f93730564e3e871c752f1b74a870": {
      "model_module": "@jupyter-widgets/controls",
      "model_module_version": "1.5.0",
      "model_name": "ProgressStyleModel",
      "state": {
       "description_width": "initial"
      }
     },
     "c8f12d10ac684ade9fd52d2590ea3d58": {
      "model_module": "@jupyter-widgets/base",
      "model_module_version": "1.2.0",
      "model_name": "LayoutModel",
      "state": {}
     },
     "c9418b0441ba4f7e837537a971c8e6f1": {
      "model_module": "@jupyter-widgets/base",
      "model_module_version": "1.2.0",
      "model_name": "LayoutModel",
      "state": {}
     },
     "c95731791313447d8a7d2937815e8ef3": {
      "model_module": "@jupyter-widgets/controls",
      "model_module_version": "1.5.0",
      "model_name": "DescriptionStyleModel",
      "state": {
       "description_width": ""
      }
     },
     "c958a1abcc9a45b2a310f06a8dd3b86a": {
      "model_module": "@jupyter-widgets/controls",
      "model_module_version": "1.5.0",
      "model_name": "HTMLModel",
      "state": {
       "layout": "IPY_MODEL_9825bec9b9494d24a032c030f1990c17",
       "style": "IPY_MODEL_c5a054397a8d44469300745e44b776b0",
       "value": " 5000/5000 [03:25&lt;00:00, 24.37it/s]"
      }
     },
     "c96ac41921054924b96b5392612453a6": {
      "model_module": "@jupyter-widgets/controls",
      "model_module_version": "1.5.0",
      "model_name": "FloatProgressModel",
      "state": {
       "bar_style": "success",
       "description": "0.28: 100%",
       "layout": "IPY_MODEL_e6aca887cb10409d9669892b7601154d",
       "max": 2000,
       "style": "IPY_MODEL_29e36d1ac69b41e99e940cef56b0c344",
       "value": 2000
      }
     },
     "c9710ee1f98f4d5faa091f908f543341": {
      "model_module": "@jupyter-widgets/controls",
      "model_module_version": "1.5.0",
      "model_name": "HBoxModel",
      "state": {
       "children": [
        "IPY_MODEL_fc5ead1420104bb9b751c3a6662b7d15",
        "IPY_MODEL_6417a3ff36ad4736b7a2f3e74c2e4bce"
       ],
       "layout": "IPY_MODEL_5e45e4d0e650451abeaf355205c9eade"
      }
     },
     "c99be7b6289042d7b23b2618f1ba94d3": {
      "model_module": "@jupyter-widgets/controls",
      "model_module_version": "1.5.0",
      "model_name": "HTMLModel",
      "state": {
       "layout": "IPY_MODEL_457b467941ec4a52a3fe1120d416ff5c",
       "style": "IPY_MODEL_459ec03dd618430e89e4820653b43422",
       "value": " 2000/2000 [00:17&lt;00:00, 112.78it/s]"
      }
     },
     "c9a6aab8ee584c94bb4e9cd881c64d07": {
      "model_module": "@jupyter-widgets/controls",
      "model_module_version": "1.5.0",
      "model_name": "DescriptionStyleModel",
      "state": {
       "description_width": ""
      }
     },
     "c9ab1b19754b478092ee5d8fbf853c52": {
      "model_module": "@jupyter-widgets/controls",
      "model_module_version": "1.5.0",
      "model_name": "HTMLModel",
      "state": {
       "layout": "IPY_MODEL_912c46423d094120898e3cdcca67af46",
       "style": "IPY_MODEL_641255c0d5ea4204aba19154bd708f45",
       "value": " 157/5000 [07:38&lt;3:55:53,  2.92s/it]"
      }
     },
     "c9f18c47ed5043d998b7b7161464546c": {
      "model_module": "@jupyter-widgets/base",
      "model_module_version": "1.2.0",
      "model_name": "LayoutModel",
      "state": {}
     },
     "ca3dc0f45cbf4384a9c4f205e7033303": {
      "model_module": "@jupyter-widgets/controls",
      "model_module_version": "1.5.0",
      "model_name": "ProgressStyleModel",
      "state": {
       "description_width": "initial"
      }
     },
     "ca48f186359a46b19ad6f3f20b9902af": {
      "model_module": "@jupyter-widgets/controls",
      "model_module_version": "1.5.0",
      "model_name": "DescriptionStyleModel",
      "state": {
       "description_width": ""
      }
     },
     "ca68dddd10b44f2f814be15e15fea2d8": {
      "model_module": "@jupyter-widgets/base",
      "model_module_version": "1.2.0",
      "model_name": "LayoutModel",
      "state": {}
     },
     "cab5c7996d894e14b3c26c393bfb5224": {
      "model_module": "@jupyter-widgets/controls",
      "model_module_version": "1.5.0",
      "model_name": "HTMLModel",
      "state": {
       "layout": "IPY_MODEL_aeccc62f9277468c9715367de5ac9dc8",
       "style": "IPY_MODEL_7388998c31834a5485bc2a27117e3b70",
       "value": " 25/1000 [00:07&lt;03:55,  4.14it/s]"
      }
     },
     "cadd6f4c6c6e4115bd665d210b5e4549": {
      "model_module": "@jupyter-widgets/controls",
      "model_module_version": "1.5.0",
      "model_name": "HBoxModel",
      "state": {
       "children": [
        "IPY_MODEL_e72c2044cbd84335b2fb326adfbc2f7c",
        "IPY_MODEL_3653030b6b4d48b4a46b4f0d0a54a197"
       ],
       "layout": "IPY_MODEL_b8791d8cd83549da95a3a08d39f8dc4f"
      }
     },
     "cb1ae6706c3a4a89bf65aed34ef91154": {
      "model_module": "@jupyter-widgets/base",
      "model_module_version": "1.2.0",
      "model_name": "LayoutModel",
      "state": {}
     },
     "cb2c599e66264663b565326bab221df9": {
      "model_module": "@jupyter-widgets/base",
      "model_module_version": "1.2.0",
      "model_name": "LayoutModel",
      "state": {}
     },
     "cba7ca2b076a4206b12f18aae1371381": {
      "model_module": "@jupyter-widgets/controls",
      "model_module_version": "1.5.0",
      "model_name": "FloatProgressModel",
      "state": {
       "bar_style": "success",
       "description": "1.18: 100%",
       "layout": "IPY_MODEL_8fbde85039d64b5e941eb4f74a73b897",
       "max": 2000,
       "style": "IPY_MODEL_026b407414e945fc9b87905ef6e076ac",
       "value": 2000
      }
     },
     "cbc1918c1181447894bbc6a23fd9e4d1": {
      "model_module": "@jupyter-widgets/controls",
      "model_module_version": "1.5.0",
      "model_name": "HBoxModel",
      "state": {
       "children": [
        "IPY_MODEL_690f7a3458584b0fb913faacacad10dc",
        "IPY_MODEL_1640c3fcb48f4a149e97380816b7d440"
       ],
       "layout": "IPY_MODEL_03185044b842476d91c2eb16cf431663"
      }
     },
     "cc13e80b8652409db7e99198dc668643": {
      "model_module": "@jupyter-widgets/controls",
      "model_module_version": "1.5.0",
      "model_name": "ProgressStyleModel",
      "state": {
       "description_width": "initial"
      }
     },
     "cc1848ba0ab641e28c7c37854a6f506d": {
      "model_module": "@jupyter-widgets/controls",
      "model_module_version": "1.5.0",
      "model_name": "HBoxModel",
      "state": {
       "children": [
        "IPY_MODEL_25ad8d66bacb48b7b634f8cb4f5de70b",
        "IPY_MODEL_2cd9bb405945469a940c89ce34ec64ce"
       ],
       "layout": "IPY_MODEL_39ae5f0da2544a69aae4549ba8be1baa"
      }
     },
     "cc5213c434504357aaa1c4d437d9d8f2": {
      "model_module": "@jupyter-widgets/base",
      "model_module_version": "1.2.0",
      "model_name": "LayoutModel",
      "state": {}
     },
     "cc80513c78354fd59e64a017cb36a3ca": {
      "model_module": "@jupyter-widgets/controls",
      "model_module_version": "1.5.0",
      "model_name": "HBoxModel",
      "state": {
       "children": [
        "IPY_MODEL_e5124095dfb0445297c3ff1cf4e1e39c",
        "IPY_MODEL_5171c589f75a4b308bab1b225c581c59"
       ],
       "layout": "IPY_MODEL_66ef5b97ab76418ca100b1d9d00b13a4"
      }
     },
     "ccb8e8f9180a419d965ada99fe18c88a": {
      "model_module": "@jupyter-widgets/controls",
      "model_module_version": "1.5.0",
      "model_name": "HBoxModel",
      "state": {
       "children": [
        "IPY_MODEL_f65ad85c44da44d4ad07a63db4238adb",
        "IPY_MODEL_e96e8ec8a63c4d23a1fae21d249991ed"
       ],
       "layout": "IPY_MODEL_cd89ab5d59ac4bc98701d987109754e5"
      }
     },
     "ccce235eac10476f933aadc14ae14834": {
      "model_module": "@jupyter-widgets/base",
      "model_module_version": "1.2.0",
      "model_name": "LayoutModel",
      "state": {}
     },
     "cd243b27b96a485f855f3ea2e55582cc": {
      "model_module": "@jupyter-widgets/base",
      "model_module_version": "1.2.0",
      "model_name": "LayoutModel",
      "state": {}
     },
     "cd2731d2ea264fa988f5b942ce2d1a10": {
      "model_module": "@jupyter-widgets/controls",
      "model_module_version": "1.5.0",
      "model_name": "HBoxModel",
      "state": {
       "children": [
        "IPY_MODEL_5360493b3e3d4e4c8482b251ad26210d",
        "IPY_MODEL_e2cc3f26c25d491881949aa962e8beb1"
       ],
       "layout": "IPY_MODEL_924eb44bcc344c7bb9c1a63853d2add4"
      }
     },
     "cd4d64a9f5da4cf69ab88c611bb25dc6": {
      "model_module": "@jupyter-widgets/controls",
      "model_module_version": "1.5.0",
      "model_name": "FloatProgressModel",
      "state": {
       "bar_style": "success",
       "description": "1.94: 100%",
       "layout": "IPY_MODEL_5fc07776ce904fbd8c9f6608450225cd",
       "max": 2000,
       "style": "IPY_MODEL_ddd01bf977244de5b09a9113a84d8145",
       "value": 2000
      }
     },
     "cd7176a1e4e5447aa205f57529a2a3db": {
      "model_module": "@jupyter-widgets/base",
      "model_module_version": "1.2.0",
      "model_name": "LayoutModel",
      "state": {}
     },
     "cd89ab5d59ac4bc98701d987109754e5": {
      "model_module": "@jupyter-widgets/base",
      "model_module_version": "1.2.0",
      "model_name": "LayoutModel",
      "state": {}
     },
     "cd8ee5d66bba45c4997392ff30a1f32e": {
      "model_module": "@jupyter-widgets/controls",
      "model_module_version": "1.5.0",
      "model_name": "HBoxModel",
      "state": {
       "children": [
        "IPY_MODEL_a229f31f10f54ac49503aead79ffc3cc",
        "IPY_MODEL_881b24f8a22d48f0be65f7a3f7751fba"
       ],
       "layout": "IPY_MODEL_e5ca8895ab334f7a83fd2f6261ec1c6b"
      }
     },
     "cd90ae52a7154e4498e127414bf69d24": {
      "model_module": "@jupyter-widgets/controls",
      "model_module_version": "1.5.0",
      "model_name": "HBoxModel",
      "state": {
       "children": [
        "IPY_MODEL_bb60ad6db720463199ffd795cf7f70fd",
        "IPY_MODEL_fe5abdd9633648eeb8c9f8cf99a4edb0"
       ],
       "layout": "IPY_MODEL_985914f4180340a58b1fca21c96f8c92"
      }
     },
     "cdb0c781d8da49c5a8c40a562776143a": {
      "model_module": "@jupyter-widgets/base",
      "model_module_version": "1.2.0",
      "model_name": "LayoutModel",
      "state": {}
     },
     "ce0e51d041ed4c8c909662ec2033acde": {
      "model_module": "@jupyter-widgets/base",
      "model_module_version": "1.2.0",
      "model_name": "LayoutModel",
      "state": {}
     },
     "ce1caac6ac21459d80c7cd7415e57511": {
      "model_module": "@jupyter-widgets/base",
      "model_module_version": "1.2.0",
      "model_name": "LayoutModel",
      "state": {}
     },
     "ce20450a0f72438eba16262f942e8e22": {
      "model_module": "@jupyter-widgets/controls",
      "model_module_version": "1.5.0",
      "model_name": "FloatProgressModel",
      "state": {
       "bar_style": "danger",
       "description": "  0%",
       "layout": "IPY_MODEL_e1bf2a3776fc4b32919924796cde78dc",
       "max": 5000,
       "style": "IPY_MODEL_0a1c7e1773a74d74b25c1fe8425eb44e"
      }
     },
     "ce5f78e84bad41598b0d34e591aac328": {
      "model_module": "@jupyter-widgets/base",
      "model_module_version": "1.2.0",
      "model_name": "LayoutModel",
      "state": {}
     },
     "ce8be96f4f934e0bb411807a6f92461b": {
      "model_module": "@jupyter-widgets/controls",
      "model_module_version": "1.5.0",
      "model_name": "DescriptionStyleModel",
      "state": {
       "description_width": ""
      }
     },
     "ce96b64088ab4e2e8023a3f764f11f76": {
      "model_module": "@jupyter-widgets/controls",
      "model_module_version": "1.5.0",
      "model_name": "ProgressStyleModel",
      "state": {
       "description_width": "initial"
      }
     },
     "ceab52f4ff644462a95e2f7a285e842d": {
      "model_module": "@jupyter-widgets/base",
      "model_module_version": "1.2.0",
      "model_name": "LayoutModel",
      "state": {}
     },
     "ceb21bc7a4ab47d39e75dbdf0a89a5cb": {
      "model_module": "@jupyter-widgets/base",
      "model_module_version": "1.2.0",
      "model_name": "LayoutModel",
      "state": {}
     },
     "cee98d396eaa4fbcb0115d88ac67caec": {
      "model_module": "@jupyter-widgets/controls",
      "model_module_version": "1.5.0",
      "model_name": "HBoxModel",
      "state": {
       "children": [
        "IPY_MODEL_6b21113e20dc464fa43a70b236b95791",
        "IPY_MODEL_b362bd9989374c19be0f165308125a97"
       ],
       "layout": "IPY_MODEL_6e93e066814047318a14c0d71de40b52"
      }
     },
     "cf283a530cc84449bae6b37b66660eff": {
      "model_module": "@jupyter-widgets/base",
      "model_module_version": "1.2.0",
      "model_name": "LayoutModel",
      "state": {}
     },
     "cf2aa781989145f89c55401141ed285f": {
      "model_module": "@jupyter-widgets/base",
      "model_module_version": "1.2.0",
      "model_name": "LayoutModel",
      "state": {}
     },
     "cf44ad59ee134a68abc9643bc80b61c9": {
      "model_module": "@jupyter-widgets/controls",
      "model_module_version": "1.5.0",
      "model_name": "FloatProgressModel",
      "state": {
       "bar_style": "success",
       "description": "1.20: 100%",
       "layout": "IPY_MODEL_17c8d370ee8440349de1585eb2bb1e7f",
       "max": 2000,
       "style": "IPY_MODEL_1044a4c91ee345beb55fdf3413e6e6be",
       "value": 2000
      }
     },
     "cf8ef98d343b4d4d8e740d77884db612": {
      "model_module": "@jupyter-widgets/controls",
      "model_module_version": "1.5.0",
      "model_name": "ProgressStyleModel",
      "state": {
       "description_width": "initial"
      }
     },
     "cfba7447b7224b79952ad4b2c009df89": {
      "model_module": "@jupyter-widgets/controls",
      "model_module_version": "1.5.0",
      "model_name": "DescriptionStyleModel",
      "state": {
       "description_width": ""
      }
     },
     "cffb9fe539394cbda34330303622b886": {
      "model_module": "@jupyter-widgets/controls",
      "model_module_version": "1.5.0",
      "model_name": "FloatProgressModel",
      "state": {
       "bar_style": "success",
       "description": "1.28: 100%",
       "layout": "IPY_MODEL_9bdf1754c31b484c92b35ce0a7152b4c",
       "max": 2000,
       "style": "IPY_MODEL_cf8ef98d343b4d4d8e740d77884db612",
       "value": 2000
      }
     },
     "d071953fc3c747b1bfed409ee33a6adb": {
      "model_module": "@jupyter-widgets/controls",
      "model_module_version": "1.5.0",
      "model_name": "FloatProgressModel",
      "state": {
       "bar_style": "success",
       "description": "1.91: 100%",
       "layout": "IPY_MODEL_ade38690ec464a9b9c89ad9cd3bf43fe",
       "max": 2000,
       "style": "IPY_MODEL_ed3f9c0e50954d87b1dbd2b458060654",
       "value": 2000
      }
     },
     "d07cbdebc24947d3807d9482263815c1": {
      "model_module": "@jupyter-widgets/base",
      "model_module_version": "1.2.0",
      "model_name": "LayoutModel",
      "state": {}
     },
     "d086f4b0971d4513bccb963fbcfac37e": {
      "model_module": "@jupyter-widgets/controls",
      "model_module_version": "1.5.0",
      "model_name": "FloatProgressModel",
      "state": {
       "bar_style": "success",
       "description": "0.26: 100%",
       "layout": "IPY_MODEL_0e63e3d9d53546ed8e88e01ad6786310",
       "max": 2000,
       "style": "IPY_MODEL_ae8eab720a7841ae801507f6902c8bd8",
       "value": 2000
      }
     },
     "d09efef18e4e4b2295680219078afcd7": {
      "model_module": "@jupyter-widgets/controls",
      "model_module_version": "1.5.0",
      "model_name": "FloatProgressModel",
      "state": {
       "bar_style": "success",
       "description": "1.68: 100%",
       "layout": "IPY_MODEL_6edec23a686447efa56fc05b603040ba",
       "max": 2000,
       "style": "IPY_MODEL_774af93769a54d2ab591bb9ad4dd0f45",
       "value": 2000
      }
     },
     "d16158bf699d499cb5097435e5aa3c36": {
      "model_module": "@jupyter-widgets/controls",
      "model_module_version": "1.5.0",
      "model_name": "DescriptionStyleModel",
      "state": {
       "description_width": ""
      }
     },
     "d183999ba6194631bb8acac8c9a9d605": {
      "model_module": "@jupyter-widgets/controls",
      "model_module_version": "1.5.0",
      "model_name": "DescriptionStyleModel",
      "state": {
       "description_width": ""
      }
     },
     "d1ec50de289049a982a3d0d904aa2dfa": {
      "model_module": "@jupyter-widgets/controls",
      "model_module_version": "1.5.0",
      "model_name": "ProgressStyleModel",
      "state": {
       "description_width": "initial"
      }
     },
     "d20ac612f86848b992f15ef1fc134b46": {
      "model_module": "@jupyter-widgets/controls",
      "model_module_version": "1.5.0",
      "model_name": "HTMLModel",
      "state": {
       "layout": "IPY_MODEL_41d1402341cd431392d6fff35e9446a4",
       "style": "IPY_MODEL_760de61a6df44f43a4c823fb17285352",
       "value": " 10/10 [02:40&lt;00:00, 16.04s/it]"
      }
     },
     "d261aaece0b14a3aa4027435cd1dced0": {
      "model_module": "@jupyter-widgets/controls",
      "model_module_version": "1.5.0",
      "model_name": "FloatProgressModel",
      "state": {
       "bar_style": "success",
       "description": "nan: 100%",
       "layout": "IPY_MODEL_e720623063894940ade82c76ea041e72",
       "max": 2000,
       "style": "IPY_MODEL_71e2113c4a6b43b2aa546210093e1869",
       "value": 2000
      }
     },
     "d26e02b50b5443fabdce113529537a1e": {
      "model_module": "@jupyter-widgets/base",
      "model_module_version": "1.2.0",
      "model_name": "LayoutModel",
      "state": {}
     },
     "d291f3c7b20745f59a4c5af218b2dbf1": {
      "model_module": "@jupyter-widgets/controls",
      "model_module_version": "1.5.0",
      "model_name": "HBoxModel",
      "state": {
       "children": [
        "IPY_MODEL_a2bdd0e0afec4ee4b11fc73f5c69dce8",
        "IPY_MODEL_0cb7dc154c374a908f17a650f64788ab"
       ],
       "layout": "IPY_MODEL_6e2073fd3f9f48fd80d653db3b86c8ae"
      }
     },
     "d2af6dc12fe041358c53a7673802c508": {
      "model_module": "@jupyter-widgets/controls",
      "model_module_version": "1.5.0",
      "model_name": "ProgressStyleModel",
      "state": {
       "description_width": "initial"
      }
     },
     "d2e42de8e1c8417da409b76cd7022c8f": {
      "model_module": "@jupyter-widgets/controls",
      "model_module_version": "1.5.0",
      "model_name": "HBoxModel",
      "state": {
       "children": [
        "IPY_MODEL_28ec12ac212745288ea86df1ba4a3a94",
        "IPY_MODEL_067fc3f715bd490e9b48d8fc819fcd0a"
       ],
       "layout": "IPY_MODEL_c350f3a0904e45838f20f086f1b13a01"
      }
     },
     "d32521bd16474bb9973a99e439a55556": {
      "model_module": "@jupyter-widgets/controls",
      "model_module_version": "1.5.0",
      "model_name": "HTMLModel",
      "state": {
       "layout": "IPY_MODEL_85b745687867484baa89d0c3cf08293a",
       "style": "IPY_MODEL_891c7cc2af2c463fbc34b2d57fc03596",
       "value": " 2000/2000 [00:16&lt;00:00, 117.71it/s]"
      }
     },
     "d3466cf208834330907efb0fdfd1c575": {
      "model_module": "@jupyter-widgets/controls",
      "model_module_version": "1.5.0",
      "model_name": "HBoxModel",
      "state": {
       "children": [
        "IPY_MODEL_7d8c7028a0574e3eb0624c70f65c7659",
        "IPY_MODEL_05aa1fc969ed41528ea76a69ca577bd3"
       ],
       "layout": "IPY_MODEL_568cbc9ad57d48cdb66d0e71323ecfe8"
      }
     },
     "d3d4b0593a314417b19907ff94bbb8ab": {
      "model_module": "@jupyter-widgets/base",
      "model_module_version": "1.2.0",
      "model_name": "LayoutModel",
      "state": {}
     },
     "d42a85378cd44379875eed0b0167c583": {
      "model_module": "@jupyter-widgets/controls",
      "model_module_version": "1.5.0",
      "model_name": "HBoxModel",
      "state": {
       "children": [
        "IPY_MODEL_7bd6a06e8184427ab15fe18c8af4fc5b",
        "IPY_MODEL_fd14ab16a5bb4cedbc170a437c4c6d26"
       ],
       "layout": "IPY_MODEL_b66702d3f64045d4b9b0e398470a5b49"
      }
     },
     "d5132a0734cb475fb2ecf41846d5b1a2": {
      "model_module": "@jupyter-widgets/controls",
      "model_module_version": "1.5.0",
      "model_name": "HTMLModel",
      "state": {
       "layout": "IPY_MODEL_af24d610931e4f82a374b0b8fd6cc620",
       "style": "IPY_MODEL_2d269eb79b084a0fafe9f7ebbdf05e68",
       "value": " 50/50 [00:06&lt;00:00,  8.03it/s]"
      }
     },
     "d54e1abbf343434a949a4e54beff5c7d": {
      "model_module": "@jupyter-widgets/controls",
      "model_module_version": "1.5.0",
      "model_name": "HTMLModel",
      "state": {
       "layout": "IPY_MODEL_4f2cde6841cc45389d4954f618604652",
       "style": "IPY_MODEL_c9a6aab8ee584c94bb4e9cd881c64d07",
       "value": " 319/5000 [11:25&lt;2:47:31,  2.15s/it]"
      }
     },
     "d55c044b0bd448a59c7831e35a15406e": {
      "model_module": "@jupyter-widgets/controls",
      "model_module_version": "1.5.0",
      "model_name": "ProgressStyleModel",
      "state": {
       "description_width": "initial"
      }
     },
     "d576d0899c464655b85e9214c089f0b9": {
      "model_module": "@jupyter-widgets/controls",
      "model_module_version": "1.5.0",
      "model_name": "DescriptionStyleModel",
      "state": {
       "description_width": ""
      }
     },
     "d5808e100776407ca34cff67237d3a89": {
      "model_module": "@jupyter-widgets/controls",
      "model_module_version": "1.5.0",
      "model_name": "DescriptionStyleModel",
      "state": {
       "description_width": ""
      }
     },
     "d62512894d1f4a14a522af5bad414ff4": {
      "model_module": "@jupyter-widgets/base",
      "model_module_version": "1.2.0",
      "model_name": "LayoutModel",
      "state": {}
     },
     "d627f7a5aa6048478ef200ef2ac25f21": {
      "model_module": "@jupyter-widgets/controls",
      "model_module_version": "1.5.0",
      "model_name": "HTMLModel",
      "state": {
       "layout": "IPY_MODEL_c08536887c4b4ae1ad24c59b4ec2eee9",
       "style": "IPY_MODEL_a5056874fc0e4e6aafd7f7ac1f20360a",
       "value": " 2000/2000 [00:03&lt;00:00, 545.33it/s]"
      }
     },
     "d6870766340942fab6d833be15553b2d": {
      "model_module": "@jupyter-widgets/controls",
      "model_module_version": "1.5.0",
      "model_name": "HTMLModel",
      "state": {
       "layout": "IPY_MODEL_300e72470b714816b93da697f615c9cf",
       "style": "IPY_MODEL_196bf0476c5f410a8021da195a0a838a",
       "value": " 50/50 [02:28&lt;00:00,  2.96s/it]"
      }
     },
     "d68ff15b65954cfeb664c22808beae71": {
      "model_module": "@jupyter-widgets/controls",
      "model_module_version": "1.5.0",
      "model_name": "HBoxModel",
      "state": {
       "children": [
        "IPY_MODEL_b4d7055eb0bd40e582192c3df76ca20c",
        "IPY_MODEL_2b4501c1ba214b49b56ae9475feab87f"
       ],
       "layout": "IPY_MODEL_fb8bb5dd37f3474bafb7e541fb36e8bc"
      }
     },
     "d6a382a5e8434146ba21d59a43b40ea3": {
      "model_module": "@jupyter-widgets/controls",
      "model_module_version": "1.5.0",
      "model_name": "HBoxModel",
      "state": {
       "children": [
        "IPY_MODEL_bbcc690e653645ee9fab947b23f83ac2",
        "IPY_MODEL_407d078a218c482cb96202550c02a4c7"
       ],
       "layout": "IPY_MODEL_463ff8a4588e43b18a721446b12cb313"
      }
     },
     "d745c57b75d7472b8e708e8501290998": {
      "model_module": "@jupyter-widgets/controls",
      "model_module_version": "1.5.0",
      "model_name": "HTMLModel",
      "state": {
       "layout": "IPY_MODEL_3583c0c25fce49f8b113e88d740d686d",
       "style": "IPY_MODEL_4431a47aa6634e0db38d10f8e5319e42",
       "value": " 65/2000 [00:00&lt;06:18,  5.11it/s]"
      }
     },
     "d758309b5faa4e33ba72818c83c58e9d": {
      "model_module": "@jupyter-widgets/controls",
      "model_module_version": "1.5.0",
      "model_name": "HBoxModel",
      "state": {
       "children": [
        "IPY_MODEL_d7e19cd16929497e8f91feea9d3eba64",
        "IPY_MODEL_821c71e235e3427dac42b62e7197f06f"
       ],
       "layout": "IPY_MODEL_e95211433b0d4b66ab1af84c4557bec9"
      }
     },
     "d7ba4c4b209649f2a33b5a0b2d4c749e": {
      "model_module": "@jupyter-widgets/base",
      "model_module_version": "1.2.0",
      "model_name": "LayoutModel",
      "state": {}
     },
     "d7dfd8de9f9d40fa877360e04de1da00": {
      "model_module": "@jupyter-widgets/controls",
      "model_module_version": "1.5.0",
      "model_name": "HTMLModel",
      "state": {
       "layout": "IPY_MODEL_13d71cd30a794c9db41af9fa750e77a8",
       "style": "IPY_MODEL_8848cf7696ef488d9f86dcbb7450f2f0",
       "value": " 50/50 [00:04&lt;00:00, 12.19it/s]"
      }
     },
     "d7e19cd16929497e8f91feea9d3eba64": {
      "model_module": "@jupyter-widgets/controls",
      "model_module_version": "1.5.0",
      "model_name": "FloatProgressModel",
      "state": {
       "bar_style": "danger",
       "description": "0.97:  14%",
       "layout": "IPY_MODEL_3d922352d57e4177aad8898cb9d024a5",
       "max": 5000,
       "style": "IPY_MODEL_df45a774013f44eb850063e968def580",
       "value": 680
      }
     },
     "d7e31379fa534cd5acf3b2f55898fc47": {
      "model_module": "@jupyter-widgets/base",
      "model_module_version": "1.2.0",
      "model_name": "LayoutModel",
      "state": {}
     },
     "d8235610a3bc48f3bdb205ff103782d1": {
      "model_module": "@jupyter-widgets/controls",
      "model_module_version": "1.5.0",
      "model_name": "ProgressStyleModel",
      "state": {
       "description_width": "initial"
      }
     },
     "d8623b050663423a8795d1f3c1b6c40f": {
      "model_module": "@jupyter-widgets/base",
      "model_module_version": "1.2.0",
      "model_name": "LayoutModel",
      "state": {}
     },
     "d865ee9e70344ca580ad167b54ff2123": {
      "model_module": "@jupyter-widgets/controls",
      "model_module_version": "1.5.0",
      "model_name": "HBoxModel",
      "state": {
       "children": [
        "IPY_MODEL_342a1b7e59bd446894aee5bdbb4d2fc8",
        "IPY_MODEL_a50cada1bd0846d3bbbacdf34bdc4ccd"
       ],
       "layout": "IPY_MODEL_e7b73b63d18c41159da9b18766ad792e"
      }
     },
     "d8960a613bae475da058447a62cdc6ff": {
      "model_module": "@jupyter-widgets/base",
      "model_module_version": "1.2.0",
      "model_name": "LayoutModel",
      "state": {}
     },
     "d8ade25f0e114f56822cdb8c95c7a7f7": {
      "model_module": "@jupyter-widgets/controls",
      "model_module_version": "1.5.0",
      "model_name": "DescriptionStyleModel",
      "state": {
       "description_width": ""
      }
     },
     "d8e7876a7d144c1ea8a334aa1749c00a": {
      "model_module": "@jupyter-widgets/controls",
      "model_module_version": "1.5.0",
      "model_name": "DescriptionStyleModel",
      "state": {
       "description_width": ""
      }
     },
     "d9506164a25641a3af08b9a5ba2b4e30": {
      "model_module": "@jupyter-widgets/base",
      "model_module_version": "1.2.0",
      "model_name": "LayoutModel",
      "state": {}
     },
     "d960ffd069994ab98b7f4b8ecb23e5ef": {
      "model_module": "@jupyter-widgets/base",
      "model_module_version": "1.2.0",
      "model_name": "LayoutModel",
      "state": {}
     },
     "d97286d1ed0d4d3990b8f1d7a73e5a79": {
      "model_module": "@jupyter-widgets/controls",
      "model_module_version": "1.5.0",
      "model_name": "FloatProgressModel",
      "state": {
       "bar_style": "success",
       "description": "1.34: 100%",
       "layout": "IPY_MODEL_45cb434094c14950bc9eb0f0671d5578",
       "max": 2000,
       "style": "IPY_MODEL_d1ec50de289049a982a3d0d904aa2dfa",
       "value": 2000
      }
     },
     "d9c0110a163f410e924f0a9d87d9b300": {
      "model_module": "@jupyter-widgets/controls",
      "model_module_version": "1.5.0",
      "model_name": "FloatProgressModel",
      "state": {
       "bar_style": "danger",
       "description": "0.36:  74%",
       "layout": "IPY_MODEL_1275981f5a0f4e2eb6c8a8c5e3720377",
       "max": 5000,
       "style": "IPY_MODEL_8b9d5456ae9545bfa95132a8c5b520a5",
       "value": 3713
      }
     },
     "d9c3fdc271d441658107381419336b00": {
      "model_module": "@jupyter-widgets/base",
      "model_module_version": "1.2.0",
      "model_name": "LayoutModel",
      "state": {}
     },
     "d9c944a15c664efa8ae29fc07a495cb5": {
      "model_module": "@jupyter-widgets/controls",
      "model_module_version": "1.5.0",
      "model_name": "DescriptionStyleModel",
      "state": {
       "description_width": ""
      }
     },
     "d9cfe8995db14c5482f616b74df6f78e": {
      "model_module": "@jupyter-widgets/controls",
      "model_module_version": "1.5.0",
      "model_name": "DescriptionStyleModel",
      "state": {
       "description_width": ""
      }
     },
     "da16e5ebd47c47ae857bc5f2f512f059": {
      "model_module": "@jupyter-widgets/controls",
      "model_module_version": "1.5.0",
      "model_name": "HTMLModel",
      "state": {
       "layout": "IPY_MODEL_0bb7a311ee5e4614a7bfd152b4e6f652",
       "style": "IPY_MODEL_95aa14feaac54d368b5e7d5c6661c469",
       "value": " 2000/2000 [00:14&lt;00:00, 139.89it/s]"
      }
     },
     "da3f8d297d1c4406b4fb43934c3222ec": {
      "model_module": "@jupyter-widgets/controls",
      "model_module_version": "1.5.0",
      "model_name": "HBoxModel",
      "state": {
       "children": [
        "IPY_MODEL_b3d25022cf9c40a8aad9f6b2ca5dc642",
        "IPY_MODEL_d745c57b75d7472b8e708e8501290998"
       ],
       "layout": "IPY_MODEL_b93d3c33113644b2a4677607644505d9"
      }
     },
     "da75630c893b466b9f3b62689067b77e": {
      "model_module": "@jupyter-widgets/controls",
      "model_module_version": "1.5.0",
      "model_name": "HBoxModel",
      "state": {
       "children": [
        "IPY_MODEL_3d52a9abc523459e934677555725b7bc",
        "IPY_MODEL_d54e1abbf343434a949a4e54beff5c7d"
       ],
       "layout": "IPY_MODEL_6e6c5bdef98c41b6868933b31c59cc54"
      }
     },
     "dac168a047d241b0956357a0546a02ad": {
      "model_module": "@jupyter-widgets/base",
      "model_module_version": "1.2.0",
      "model_name": "LayoutModel",
      "state": {}
     },
     "daef30ee5324437aa9a2adc3d3df4a12": {
      "model_module": "@jupyter-widgets/base",
      "model_module_version": "1.2.0",
      "model_name": "LayoutModel",
      "state": {}
     },
     "db4a3de930f1402b84fbfda8ac5e122b": {
      "model_module": "@jupyter-widgets/controls",
      "model_module_version": "1.5.0",
      "model_name": "HBoxModel",
      "state": {
       "children": [
        "IPY_MODEL_cf44ad59ee134a68abc9643bc80b61c9",
        "IPY_MODEL_ffc7c7f0c51f4d54a2c00f2a7a76fbaf"
       ],
       "layout": "IPY_MODEL_b3d21ddc083c4e59b4205b0909a37d56"
      }
     },
     "db9953a70b144f5e94bb553e73945d17": {
      "model_module": "@jupyter-widgets/controls",
      "model_module_version": "1.5.0",
      "model_name": "FloatProgressModel",
      "state": {
       "bar_style": "success",
       "description": "0.98: 100%",
       "layout": "IPY_MODEL_cd7176a1e4e5447aa205f57529a2a3db",
       "max": 2000,
       "style": "IPY_MODEL_d8235610a3bc48f3bdb205ff103782d1",
       "value": 2000
      }
     },
     "dbaec8c9d5254241bab6f71499142c24": {
      "model_module": "@jupyter-widgets/controls",
      "model_module_version": "1.5.0",
      "model_name": "FloatProgressModel",
      "state": {
       "bar_style": "success",
       "description": "nan: 100%",
       "layout": "IPY_MODEL_4dc149d1204f4c22936a9c812def850b",
       "max": 50,
       "style": "IPY_MODEL_ab3a34d41ea6489fb0a0cf6f274044ca",
       "value": 50
      }
     },
     "dc2910ddce894068a1ebd0a780d6ef25": {
      "model_module": "@jupyter-widgets/controls",
      "model_module_version": "1.5.0",
      "model_name": "FloatProgressModel",
      "state": {
       "bar_style": "success",
       "description": "nan: 100%",
       "layout": "IPY_MODEL_a223f3290ec54b6bb6350877a88d1a99",
       "max": 50,
       "style": "IPY_MODEL_e3e0e1a42f984fbdaa00706fefb107dd",
       "value": 50
      }
     },
     "dc40926e57ee478d83edc8b1a11399a1": {
      "model_module": "@jupyter-widgets/controls",
      "model_module_version": "1.5.0",
      "model_name": "ProgressStyleModel",
      "state": {
       "description_width": "initial"
      }
     },
     "dd9bb82d8ca847a8ae25bf8e89e1f78b": {
      "model_module": "@jupyter-widgets/controls",
      "model_module_version": "1.5.0",
      "model_name": "HTMLModel",
      "state": {
       "layout": "IPY_MODEL_8868a9456bc3454189f5b4a4b97a2297",
       "style": "IPY_MODEL_4821880956274b93b028c6f187e6ed7b",
       "value": " 50/50 [00:03&lt;00:00, 14.91it/s]"
      }
     },
     "dda42b813bf44a35a9c59cf90a668a50": {
      "model_module": "@jupyter-widgets/controls",
      "model_module_version": "1.5.0",
      "model_name": "DescriptionStyleModel",
      "state": {
       "description_width": ""
      }
     },
     "ddb9df9e9b034dac94b0dde9f0265e2a": {
      "model_module": "@jupyter-widgets/base",
      "model_module_version": "1.2.0",
      "model_name": "LayoutModel",
      "state": {}
     },
     "ddd01bf977244de5b09a9113a84d8145": {
      "model_module": "@jupyter-widgets/controls",
      "model_module_version": "1.5.0",
      "model_name": "ProgressStyleModel",
      "state": {
       "description_width": "initial"
      }
     },
     "de107ddaf0e44fddad91f23c578f6d99": {
      "model_module": "@jupyter-widgets/controls",
      "model_module_version": "1.5.0",
      "model_name": "HTMLModel",
      "state": {
       "layout": "IPY_MODEL_2809ddc9c27544a39b44563fd5ca8337",
       "style": "IPY_MODEL_ee397c1ff71e4a4fba445d7a1bcb47e7",
       "value": " 836/5000 [08:38&lt;43:03,  1.61it/s]"
      }
     },
     "de45e276660e43af9718f4bff277bf9e": {
      "model_module": "@jupyter-widgets/controls",
      "model_module_version": "1.5.0",
      "model_name": "FloatProgressModel",
      "state": {
       "bar_style": "success",
       "description": "1.88: 100%",
       "layout": "IPY_MODEL_4d3cc29593754176adae1a7130ecd596",
       "max": 2000,
       "style": "IPY_MODEL_687804df71a549e3b8c08317ce3f6c4d",
       "value": 2000
      }
     },
     "de506b9266f141e59d605102b5249792": {
      "model_module": "@jupyter-widgets/base",
      "model_module_version": "1.2.0",
      "model_name": "LayoutModel",
      "state": {}
     },
     "de729435818e44b1867e218c75766bec": {
      "model_module": "@jupyter-widgets/base",
      "model_module_version": "1.2.0",
      "model_name": "LayoutModel",
      "state": {}
     },
     "dead04ce18634d018bdd5d1cd6bf8f1a": {
      "model_module": "@jupyter-widgets/base",
      "model_module_version": "1.2.0",
      "model_name": "LayoutModel",
      "state": {}
     },
     "df405f41fd914cfc8c5687d3cfe85fbe": {
      "model_module": "@jupyter-widgets/controls",
      "model_module_version": "1.5.0",
      "model_name": "HBoxModel",
      "state": {
       "children": [
        "IPY_MODEL_bc00295fa6f74f888fcffccc480fc9ea",
        "IPY_MODEL_168c5cc2a6ee4b16ad86628923afb544"
       ],
       "layout": "IPY_MODEL_2dd1dacd79104ed38a837706e2e5b9b4"
      }
     },
     "df45a774013f44eb850063e968def580": {
      "model_module": "@jupyter-widgets/controls",
      "model_module_version": "1.5.0",
      "model_name": "ProgressStyleModel",
      "state": {
       "description_width": "initial"
      }
     },
     "df9e330bf8224ce3b38f5880f61e8703": {
      "model_module": "@jupyter-widgets/base",
      "model_module_version": "1.2.0",
      "model_name": "LayoutModel",
      "state": {}
     },
     "dfff0a7c05d24e919df9ba4dcb510033": {
      "model_module": "@jupyter-widgets/controls",
      "model_module_version": "1.5.0",
      "model_name": "FloatProgressModel",
      "state": {
       "description": "1.82:   3%",
       "layout": "IPY_MODEL_5a280124639f471581842d8db77058e1",
       "max": 1000,
       "style": "IPY_MODEL_f958c4ae6b004537a68a677d2c671bfc",
       "value": 26
      }
     },
     "e046cfdd5b8f4555a83198d9dc634aba": {
      "model_module": "@jupyter-widgets/controls",
      "model_module_version": "1.5.0",
      "model_name": "ProgressStyleModel",
      "state": {
       "description_width": "initial"
      }
     },
     "e0535530f6094882a1ac8281fbc752ca": {
      "model_module": "@jupyter-widgets/base",
      "model_module_version": "1.2.0",
      "model_name": "LayoutModel",
      "state": {}
     },
     "e0719fd8f5cb4049a2fa2fca3a6658b9": {
      "model_module": "@jupyter-widgets/base",
      "model_module_version": "1.2.0",
      "model_name": "LayoutModel",
      "state": {}
     },
     "e0afbe7fd43b41819221d8ca79aea889": {
      "model_module": "@jupyter-widgets/base",
      "model_module_version": "1.2.0",
      "model_name": "LayoutModel",
      "state": {}
     },
     "e0d1735b8dcb41b2bcc3ffa930e7cb38": {
      "model_module": "@jupyter-widgets/controls",
      "model_module_version": "1.5.0",
      "model_name": "HTMLModel",
      "state": {
       "layout": "IPY_MODEL_634f560bea80401daede7adf62af49b3",
       "style": "IPY_MODEL_fc48098eba144557957212420634dcca",
       "value": " 2000/2000 [01:23&lt;00:00, 23.83it/s]"
      }
     },
     "e0ee862b7eca4544a0882783687784e0": {
      "model_module": "@jupyter-widgets/base",
      "model_module_version": "1.2.0",
      "model_name": "LayoutModel",
      "state": {}
     },
     "e0fe878988014e9f87e0d3471116fe67": {
      "model_module": "@jupyter-widgets/controls",
      "model_module_version": "1.5.0",
      "model_name": "HBoxModel",
      "state": {
       "children": [
        "IPY_MODEL_c25cd3d719604737b1789aac7f6a7bf5",
        "IPY_MODEL_e27741e1891d418b98a97b7184ccf425"
       ],
       "layout": "IPY_MODEL_4ea49e49b7e74eadb621fafc37a9e33e"
      }
     },
     "e0ff3a6625674698b8d9c53731eeeabc": {
      "model_module": "@jupyter-widgets/controls",
      "model_module_version": "1.5.0",
      "model_name": "HTMLModel",
      "state": {
       "layout": "IPY_MODEL_0f407cca808b45748f90805c99951b57",
       "style": "IPY_MODEL_5d49a27394074496baf3550f2b0be08c",
       "value": " 2000/2000 [00:07&lt;00:00, 255.97it/s]"
      }
     },
     "e1189c7eb0a44556b8abb62ff001a87d": {
      "model_module": "@jupyter-widgets/controls",
      "model_module_version": "1.5.0",
      "model_name": "HBoxModel",
      "state": {
       "children": [
        "IPY_MODEL_d97286d1ed0d4d3990b8f1d7a73e5a79",
        "IPY_MODEL_bd006bfaa3ed4ccb93d356c4f47e1877"
       ],
       "layout": "IPY_MODEL_1f2e3f097a074d46a428363c95f60058"
      }
     },
     "e1bf2a3776fc4b32919924796cde78dc": {
      "model_module": "@jupyter-widgets/base",
      "model_module_version": "1.2.0",
      "model_name": "LayoutModel",
      "state": {}
     },
     "e27741e1891d418b98a97b7184ccf425": {
      "model_module": "@jupyter-widgets/controls",
      "model_module_version": "1.5.0",
      "model_name": "HTMLModel",
      "state": {
       "layout": "IPY_MODEL_0ac9d27e2fd943c294a7303ea4015624",
       "style": "IPY_MODEL_3adb165d75de48989862d253b88f980d",
       "value": " 0/5000 [17:26&lt;?, ?it/s]"
      }
     },
     "e27c1f1946394ae3beca580bb8921714": {
      "model_module": "@jupyter-widgets/controls",
      "model_module_version": "1.5.0",
      "model_name": "HBoxModel",
      "state": {
       "children": [
        "IPY_MODEL_5c67c2651e8443c3a42dcf1f955e2fc7",
        "IPY_MODEL_8ee821056c874a81ab75a47d25866284"
       ],
       "layout": "IPY_MODEL_bf201f60075144469608c8149d4eff11"
      }
     },
     "e2cc3f26c25d491881949aa962e8beb1": {
      "model_module": "@jupyter-widgets/controls",
      "model_module_version": "1.5.0",
      "model_name": "HTMLModel",
      "state": {
       "layout": "IPY_MODEL_2bd3a61c83264953977ad2ed64d10ac9",
       "style": "IPY_MODEL_4eb585259bac4e4aace5207798a9ffd0",
       "value": " 2000/2000 [02:55&lt;00:00, 11.42it/s]"
      }
     },
     "e321362bfd0a4815885ad6b35986ebac": {
      "model_module": "@jupyter-widgets/base",
      "model_module_version": "1.2.0",
      "model_name": "LayoutModel",
      "state": {}
     },
     "e3222d07eb344dabaabe15dc951ef55c": {
      "model_module": "@jupyter-widgets/base",
      "model_module_version": "1.2.0",
      "model_name": "LayoutModel",
      "state": {}
     },
     "e3512f7f837c498b85605c8287fc9183": {
      "model_module": "@jupyter-widgets/controls",
      "model_module_version": "1.5.0",
      "model_name": "HBoxModel",
      "state": {
       "children": [
        "IPY_MODEL_c145e6db3f354eda8fd3c0720bb57d6e",
        "IPY_MODEL_2cf858528f5f403c9e9d72558a3a998e"
       ],
       "layout": "IPY_MODEL_e0afbe7fd43b41819221d8ca79aea889"
      }
     },
     "e3e0e1a42f984fbdaa00706fefb107dd": {
      "model_module": "@jupyter-widgets/controls",
      "model_module_version": "1.5.0",
      "model_name": "ProgressStyleModel",
      "state": {
       "description_width": "initial"
      }
     },
     "e3e50bc8ef564b8185f2a8087c9a3bd8": {
      "model_module": "@jupyter-widgets/base",
      "model_module_version": "1.2.0",
      "model_name": "LayoutModel",
      "state": {}
     },
     "e4536aa7fefe4e98bb2f609a034a844e": {
      "model_module": "@jupyter-widgets/controls",
      "model_module_version": "1.5.0",
      "model_name": "ProgressStyleModel",
      "state": {
       "description_width": "initial"
      }
     },
     "e4cd0c7c697240b5b1599b93ed4b60b3": {
      "model_module": "@jupyter-widgets/controls",
      "model_module_version": "1.5.0",
      "model_name": "ProgressStyleModel",
      "state": {
       "description_width": "initial"
      }
     },
     "e4d258921820488e9345a8bb8530c8e3": {
      "model_module": "@jupyter-widgets/controls",
      "model_module_version": "1.5.0",
      "model_name": "DescriptionStyleModel",
      "state": {
       "description_width": ""
      }
     },
     "e4deb59905aa4e8e9ed36b7c51849e94": {
      "model_module": "@jupyter-widgets/base",
      "model_module_version": "1.2.0",
      "model_name": "LayoutModel",
      "state": {}
     },
     "e5124095dfb0445297c3ff1cf4e1e39c": {
      "model_module": "@jupyter-widgets/controls",
      "model_module_version": "1.5.0",
      "model_name": "FloatProgressModel",
      "state": {
       "bar_style": "success",
       "description": "0.68: 100%",
       "layout": "IPY_MODEL_73c2159f3b484ecfa152abcf05ea2736",
       "max": 2000,
       "style": "IPY_MODEL_fa3b92ea7e034eb9a4504e41480a74d1",
       "value": 2000
      }
     },
     "e51517e0dbc14e0c9518b7b86036d024": {
      "model_module": "@jupyter-widgets/controls",
      "model_module_version": "1.5.0",
      "model_name": "FloatProgressModel",
      "state": {
       "bar_style": "danger",
       "description": "  0%",
       "layout": "IPY_MODEL_b6d1a99c78a6409ba37e76f46f4c814d",
       "max": 5000,
       "style": "IPY_MODEL_7540aaf3637442fea77ad6f5224fff6c"
      }
     },
     "e596fbb9d82c49e5b2c4218c877f7eed": {
      "model_module": "@jupyter-widgets/controls",
      "model_module_version": "1.5.0",
      "model_name": "HBoxModel",
      "state": {
       "children": [
        "IPY_MODEL_b836b9011cf04c7096814d70494628c7",
        "IPY_MODEL_52e06bc8664d4d97a96e15e3d3ff0779"
       ],
       "layout": "IPY_MODEL_19777488133a483f9e77146c1a5d00e3"
      }
     },
     "e5be8559e26b444999bbdb1a534a5f94": {
      "model_module": "@jupyter-widgets/controls",
      "model_module_version": "1.5.0",
      "model_name": "ProgressStyleModel",
      "state": {
       "description_width": "initial"
      }
     },
     "e5ca8895ab334f7a83fd2f6261ec1c6b": {
      "model_module": "@jupyter-widgets/base",
      "model_module_version": "1.2.0",
      "model_name": "LayoutModel",
      "state": {}
     },
     "e5d27d5329b84f7e8186b19a6c26859c": {
      "model_module": "@jupyter-widgets/controls",
      "model_module_version": "1.5.0",
      "model_name": "ProgressStyleModel",
      "state": {
       "description_width": "initial"
      }
     },
     "e63c9fd0eab046378fd7e00f7a5bc848": {
      "model_module": "@jupyter-widgets/base",
      "model_module_version": "1.2.0",
      "model_name": "LayoutModel",
      "state": {}
     },
     "e6844ae76a7d4eb496d55524ced425c4": {
      "model_module": "@jupyter-widgets/controls",
      "model_module_version": "1.5.0",
      "model_name": "ProgressStyleModel",
      "state": {
       "description_width": "initial"
      }
     },
     "e6901274d8d2419584f3f39dd4f4fce9": {
      "model_module": "@jupyter-widgets/controls",
      "model_module_version": "1.5.0",
      "model_name": "HTMLModel",
      "state": {
       "layout": "IPY_MODEL_73333ea8491a4c8f964161270fa660fb",
       "style": "IPY_MODEL_a4de37c2a9f34a1b932c4d98d891e08a",
       "value": " 3963/5000 [19:08&lt;05:00,  3.45it/s]"
      }
     },
     "e69e47660717450ea32d701af6b31234": {
      "model_module": "@jupyter-widgets/base",
      "model_module_version": "1.2.0",
      "model_name": "LayoutModel",
      "state": {}
     },
     "e6ac189556c742059708c0c8e369c826": {
      "model_module": "@jupyter-widgets/base",
      "model_module_version": "1.2.0",
      "model_name": "LayoutModel",
      "state": {}
     },
     "e6aca887cb10409d9669892b7601154d": {
      "model_module": "@jupyter-widgets/base",
      "model_module_version": "1.2.0",
      "model_name": "LayoutModel",
      "state": {}
     },
     "e6ca14a6745441da9e1817b5f5d03205": {
      "model_module": "@jupyter-widgets/controls",
      "model_module_version": "1.5.0",
      "model_name": "ProgressStyleModel",
      "state": {
       "description_width": "initial"
      }
     },
     "e720623063894940ade82c76ea041e72": {
      "model_module": "@jupyter-widgets/base",
      "model_module_version": "1.2.0",
      "model_name": "LayoutModel",
      "state": {}
     },
     "e72c2044cbd84335b2fb326adfbc2f7c": {
      "model_module": "@jupyter-widgets/controls",
      "model_module_version": "1.5.0",
      "model_name": "FloatProgressModel",
      "state": {
       "bar_style": "danger",
       "description": "  0%",
       "layout": "IPY_MODEL_9d5c8354e6d24e8c91acf327dbd81f21",
       "max": 50,
       "style": "IPY_MODEL_d2af6dc12fe041358c53a7673802c508"
      }
     },
     "e793ada575044af8901cb7c892cdd9e8": {
      "model_module": "@jupyter-widgets/controls",
      "model_module_version": "1.5.0",
      "model_name": "FloatProgressModel",
      "state": {
       "bar_style": "success",
       "description": "0.72: 100%",
       "layout": "IPY_MODEL_833e30c7d5c84028a4412de0fc168882",
       "max": 2000,
       "style": "IPY_MODEL_a73a3e45ca694be38ea3dc68ba1ce9a5",
       "value": 2000
      }
     },
     "e7b73b63d18c41159da9b18766ad792e": {
      "model_module": "@jupyter-widgets/base",
      "model_module_version": "1.2.0",
      "model_name": "LayoutModel",
      "state": {}
     },
     "e7d1c6967f8e406b8baf5449e35aa008": {
      "model_module": "@jupyter-widgets/controls",
      "model_module_version": "1.5.0",
      "model_name": "ProgressStyleModel",
      "state": {
       "description_width": "initial"
      }
     },
     "e878dfd6627b45f1a0d25d49f4b4a0f1": {
      "model_module": "@jupyter-widgets/controls",
      "model_module_version": "1.5.0",
      "model_name": "FloatProgressModel",
      "state": {
       "bar_style": "danger",
       "description": "  0%",
       "layout": "IPY_MODEL_90ecd4ef16604160a68fc6e31a346205",
       "max": 50,
       "style": "IPY_MODEL_3d78ed3d81d24f0792e5e0f53edd9d46"
      }
     },
     "e88ab1a952784fd8b34a256d87e7e99d": {
      "model_module": "@jupyter-widgets/base",
      "model_module_version": "1.2.0",
      "model_name": "LayoutModel",
      "state": {}
     },
     "e88b24c9bb82433ab1e39cc90894d7a0": {
      "model_module": "@jupyter-widgets/controls",
      "model_module_version": "1.5.0",
      "model_name": "FloatProgressModel",
      "state": {
       "bar_style": "success",
       "description": "0.33: 100%",
       "layout": "IPY_MODEL_0e691521e4b14616b9269f2110e15097",
       "max": 5000,
       "style": "IPY_MODEL_8dfbb25d49eb4b41be8fcf3c3c17722e",
       "value": 5000
      }
     },
     "e8918fe048c84960ae05d530e24d9eee": {
      "model_module": "@jupyter-widgets/controls",
      "model_module_version": "1.5.0",
      "model_name": "HBoxModel",
      "state": {
       "children": [
        "IPY_MODEL_e93d632ebeb746efb9b83927d79b449a",
        "IPY_MODEL_c9ab1b19754b478092ee5d8fbf853c52"
       ],
       "layout": "IPY_MODEL_3574299d518748bea1b03661f192da29"
      }
     },
     "e8fd250ea3334db5acc0c5c481f173d9": {
      "model_module": "@jupyter-widgets/controls",
      "model_module_version": "1.5.0",
      "model_name": "DescriptionStyleModel",
      "state": {
       "description_width": ""
      }
     },
     "e93d632ebeb746efb9b83927d79b449a": {
      "model_module": "@jupyter-widgets/controls",
      "model_module_version": "1.5.0",
      "model_name": "FloatProgressModel",
      "state": {
       "bar_style": "danger",
       "description": "1.33:   3%",
       "layout": "IPY_MODEL_61dccdd1e1a842529c1459f5bcf9c367",
       "max": 5000,
       "style": "IPY_MODEL_0dfd1cd4ba7b482fbc89b296526cabc0",
       "value": 157
      }
     },
     "e95211433b0d4b66ab1af84c4557bec9": {
      "model_module": "@jupyter-widgets/base",
      "model_module_version": "1.2.0",
      "model_name": "LayoutModel",
      "state": {}
     },
     "e96e8ec8a63c4d23a1fae21d249991ed": {
      "model_module": "@jupyter-widgets/controls",
      "model_module_version": "1.5.0",
      "model_name": "HTMLModel",
      "state": {
       "layout": "IPY_MODEL_0a999d343ed943dcb47afc9c39a1eb4b",
       "style": "IPY_MODEL_013f691a0c04494fbf550c845087ab84",
       "value": " 2000/2000 [00:19&lt;00:00, 100.70it/s]"
      }
     },
     "e97360710e5c4cb68632d334b00712e4": {
      "model_module": "@jupyter-widgets/controls",
      "model_module_version": "1.5.0",
      "model_name": "HBoxModel",
      "state": {
       "children": [
        "IPY_MODEL_fa74f27a88ed4a82b380eaa732cf5b60",
        "IPY_MODEL_c45e133409b94b0bb9bf1b4b60d2b923"
       ],
       "layout": "IPY_MODEL_5939c9b0366b49aaa03dd9d0c908e8fb"
      }
     },
     "e9de412961e4498fada9fe5761b7ebc2": {
      "model_module": "@jupyter-widgets/controls",
      "model_module_version": "1.5.0",
      "model_name": "HBoxModel",
      "state": {
       "children": [
        "IPY_MODEL_1920f32bd12f4a4ba4720c5fd34e8ce3",
        "IPY_MODEL_76ced6bbdbfe4a93955a04b52919ead7"
       ],
       "layout": "IPY_MODEL_a36b1c33418b4e33994ea3f3b6b56eae"
      }
     },
     "e9eb3271eb53446c9405a603b268b94c": {
      "model_module": "@jupyter-widgets/base",
      "model_module_version": "1.2.0",
      "model_name": "LayoutModel",
      "state": {}
     },
     "e9ef632532884cffb797bc4db0a3e575": {
      "model_module": "@jupyter-widgets/controls",
      "model_module_version": "1.5.0",
      "model_name": "FloatProgressModel",
      "state": {
       "bar_style": "success",
       "description": "0.70: 100%",
       "layout": "IPY_MODEL_53fb869341cf428387e4217b7dff7f47",
       "max": 2000,
       "style": "IPY_MODEL_e046cfdd5b8f4555a83198d9dc634aba",
       "value": 2000
      }
     },
     "ea32cd021f1b4eb18a05f0182db8e3ad": {
      "model_module": "@jupyter-widgets/controls",
      "model_module_version": "1.5.0",
      "model_name": "DescriptionStyleModel",
      "state": {
       "description_width": ""
      }
     },
     "ea40eeb58e904158ae19769c4484011b": {
      "model_module": "@jupyter-widgets/controls",
      "model_module_version": "1.5.0",
      "model_name": "HTMLModel",
      "state": {
       "layout": "IPY_MODEL_562f4bea1b75447ebff1935895249152",
       "style": "IPY_MODEL_42e68e4abb1841fe9c067728ee1b2213",
       "value": " 0/10 [00:01&lt;?, ?it/s]"
      }
     },
     "ea4a6fff1ef74531b5c41ab6a2a834cc": {
      "model_module": "@jupyter-widgets/base",
      "model_module_version": "1.2.0",
      "model_name": "LayoutModel",
      "state": {}
     },
     "ea8d7044a7d84f67bb05cb1b36ec0854": {
      "model_module": "@jupyter-widgets/controls",
      "model_module_version": "1.5.0",
      "model_name": "HBoxModel",
      "state": {
       "children": [
        "IPY_MODEL_c5f95f53834248c6be39a05ad5d1985f",
        "IPY_MODEL_97e89cc038764ed8ae0f19aae41c8e95"
       ],
       "layout": "IPY_MODEL_3d63ac8c0c524cae9cd2b21421f2d00d"
      }
     },
     "eac7c26ccd184ce19d2810ffd65c04bc": {
      "model_module": "@jupyter-widgets/controls",
      "model_module_version": "1.5.0",
      "model_name": "FloatProgressModel",
      "state": {
       "bar_style": "danger",
       "description": "9.00:   0%",
       "layout": "IPY_MODEL_25a38255f2a44b4aa9bf268661466baa",
       "max": 10,
       "style": "IPY_MODEL_2c41b9e1937f4506aeca32220433fbd0"
      }
     },
     "eb00964758e34e3ca09ddcd49057b608": {
      "model_module": "@jupyter-widgets/controls",
      "model_module_version": "1.5.0",
      "model_name": "ProgressStyleModel",
      "state": {
       "description_width": "initial"
      }
     },
     "eb16a3c7180b4ce48beaebb80821bcc0": {
      "model_module": "@jupyter-widgets/controls",
      "model_module_version": "1.5.0",
      "model_name": "ProgressStyleModel",
      "state": {
       "description_width": "initial"
      }
     },
     "eb481322e87b4e9fb869d523cbef5be6": {
      "model_module": "@jupyter-widgets/controls",
      "model_module_version": "1.5.0",
      "model_name": "HBoxModel",
      "state": {
       "children": [
        "IPY_MODEL_799d26b2784f410e941a071cb852cadf",
        "IPY_MODEL_84a23ffff480406ab21bb0486b238a96"
       ],
       "layout": "IPY_MODEL_7acb03bac57643ee869bf08147c1482d"
      }
     },
     "eb4e98321c114f6f91710b09ae4069aa": {
      "model_module": "@jupyter-widgets/base",
      "model_module_version": "1.2.0",
      "model_name": "LayoutModel",
      "state": {}
     },
     "ebcf1982f8fd490ebc56dcb23cd693bd": {
      "model_module": "@jupyter-widgets/controls",
      "model_module_version": "1.5.0",
      "model_name": "ProgressStyleModel",
      "state": {
       "description_width": "initial"
      }
     },
     "ebe1b13b858448c1bd599f02419a694c": {
      "model_module": "@jupyter-widgets/base",
      "model_module_version": "1.2.0",
      "model_name": "LayoutModel",
      "state": {}
     },
     "ec0af8b2c1754a7f8053d509e56af4e5": {
      "model_module": "@jupyter-widgets/base",
      "model_module_version": "1.2.0",
      "model_name": "LayoutModel",
      "state": {}
     },
     "ec312b5bd94244db94664d3abe671b04": {
      "model_module": "@jupyter-widgets/base",
      "model_module_version": "1.2.0",
      "model_name": "LayoutModel",
      "state": {}
     },
     "ecdb89eb119c44eb81b8ca10e7648c20": {
      "model_module": "@jupyter-widgets/controls",
      "model_module_version": "1.5.0",
      "model_name": "FloatProgressModel",
      "state": {
       "bar_style": "success",
       "description": "1.35: 100%",
       "layout": "IPY_MODEL_7794ee9b74e045768960c1e0742f374d",
       "max": 2000,
       "style": "IPY_MODEL_e7d1c6967f8e406b8baf5449e35aa008",
       "value": 2000
      }
     },
     "ece0d49b0779498ea8eac73da70da079": {
      "model_module": "@jupyter-widgets/base",
      "model_module_version": "1.2.0",
      "model_name": "LayoutModel",
      "state": {}
     },
     "ecece443bcd7403182f66d2e25667300": {
      "model_module": "@jupyter-widgets/controls",
      "model_module_version": "1.5.0",
      "model_name": "FloatProgressModel",
      "state": {
       "bar_style": "danger",
       "description": "0.05:   4%",
       "layout": "IPY_MODEL_697a554737db46e19e191a33dc6f9f7b",
       "max": 5000,
       "style": "IPY_MODEL_6e64882ece6a4eef9c94b7ba299491a2",
       "value": 200
      }
     },
     "ecefd81634bb45c182b438d74b375606": {
      "model_module": "@jupyter-widgets/base",
      "model_module_version": "1.2.0",
      "model_name": "LayoutModel",
      "state": {}
     },
     "ecf0fec7a578458ba94dbc43abcde99d": {
      "model_module": "@jupyter-widgets/base",
      "model_module_version": "1.2.0",
      "model_name": "LayoutModel",
      "state": {}
     },
     "ed19db86e74b460991dc163eed1d4139": {
      "model_module": "@jupyter-widgets/base",
      "model_module_version": "1.2.0",
      "model_name": "LayoutModel",
      "state": {}
     },
     "ed1aecdbd8f34589b8e2bcc756fd9ddf": {
      "model_module": "@jupyter-widgets/controls",
      "model_module_version": "1.5.0",
      "model_name": "HBoxModel",
      "state": {
       "children": [
        "IPY_MODEL_dc2910ddce894068a1ebd0a780d6ef25",
        "IPY_MODEL_23f4d0a605b44f52b7ce784689cc58fd"
       ],
       "layout": "IPY_MODEL_3738ac2e12824bafbf981f3fb6f895d6"
      }
     },
     "ed2be44002cf42418b74563fa58d8c25": {
      "model_module": "@jupyter-widgets/base",
      "model_module_version": "1.2.0",
      "model_name": "LayoutModel",
      "state": {}
     },
     "ed3f742149604f3d97020b99a5faba45": {
      "model_module": "@jupyter-widgets/controls",
      "model_module_version": "1.5.0",
      "model_name": "DescriptionStyleModel",
      "state": {
       "description_width": ""
      }
     },
     "ed3f9c0e50954d87b1dbd2b458060654": {
      "model_module": "@jupyter-widgets/controls",
      "model_module_version": "1.5.0",
      "model_name": "ProgressStyleModel",
      "state": {
       "description_width": "initial"
      }
     },
     "edbf05508d8b458babe5e78e2daf34d6": {
      "model_module": "@jupyter-widgets/controls",
      "model_module_version": "1.5.0",
      "model_name": "HBoxModel",
      "state": {
       "children": [
        "IPY_MODEL_cba7ca2b076a4206b12f18aae1371381",
        "IPY_MODEL_9bcf718f698c48d0b069902b36ce5011"
       ],
       "layout": "IPY_MODEL_7ac05b8d2b9a49f3b46cc4bc583b85e2"
      }
     },
     "ee397c1ff71e4a4fba445d7a1bcb47e7": {
      "model_module": "@jupyter-widgets/controls",
      "model_module_version": "1.5.0",
      "model_name": "DescriptionStyleModel",
      "state": {
       "description_width": ""
      }
     },
     "ee400fd652c340c1ba97f01186bb6319": {
      "model_module": "@jupyter-widgets/controls",
      "model_module_version": "1.5.0",
      "model_name": "DescriptionStyleModel",
      "state": {
       "description_width": ""
      }
     },
     "ee4f4e4c78644122a7039a56f3cfc7f5": {
      "model_module": "@jupyter-widgets/controls",
      "model_module_version": "1.5.0",
      "model_name": "HBoxModel",
      "state": {
       "children": [
        "IPY_MODEL_0a82e287277d4ada81aee0adacaa0b1a",
        "IPY_MODEL_1ec0a23555f3496282468a68bfd5b8c4"
       ],
       "layout": "IPY_MODEL_cb2c599e66264663b565326bab221df9"
      }
     },
     "ee51481fa8864607afec3a4fa77d8a40": {
      "model_module": "@jupyter-widgets/base",
      "model_module_version": "1.2.0",
      "model_name": "LayoutModel",
      "state": {}
     },
     "ee8ea2669f464e2caf0faffec900b4f9": {
      "model_module": "@jupyter-widgets/controls",
      "model_module_version": "1.5.0",
      "model_name": "ProgressStyleModel",
      "state": {
       "description_width": "initial"
      }
     },
     "ee9500a56b774f359b180e4574697f52": {
      "model_module": "@jupyter-widgets/controls",
      "model_module_version": "1.5.0",
      "model_name": "HBoxModel",
      "state": {
       "children": [
        "IPY_MODEL_f9d2f033b17b40b998c654e059400afc",
        "IPY_MODEL_f2741be560f847a8bf996d7304fdf333"
       ],
       "layout": "IPY_MODEL_24d07026873c4274bec704462b19bb69"
      }
     },
     "ef1033ae89924364a7b32424da75047e": {
      "model_module": "@jupyter-widgets/controls",
      "model_module_version": "1.5.0",
      "model_name": "ProgressStyleModel",
      "state": {
       "description_width": "initial"
      }
     },
     "ef15b2ee2285419293704548dea38c47": {
      "model_module": "@jupyter-widgets/base",
      "model_module_version": "1.2.0",
      "model_name": "LayoutModel",
      "state": {}
     },
     "ef3645666cb843f6b471190f55f3a00d": {
      "model_module": "@jupyter-widgets/controls",
      "model_module_version": "1.5.0",
      "model_name": "FloatProgressModel",
      "state": {
       "bar_style": "danger",
       "description": "  0%",
       "layout": "IPY_MODEL_67a8dcbd8f8a4689adf3146dbfa047a9",
       "max": 2000,
       "style": "IPY_MODEL_22f16b4eb1a744d3b8e9205a5dabaf58"
      }
     },
     "ef7543e1ee42437793b8e87482b54c76": {
      "model_module": "@jupyter-widgets/controls",
      "model_module_version": "1.5.0",
      "model_name": "DescriptionStyleModel",
      "state": {
       "description_width": ""
      }
     },
     "ef9a839ca83d4bd08005e205546b649b": {
      "model_module": "@jupyter-widgets/controls",
      "model_module_version": "1.5.0",
      "model_name": "HBoxModel",
      "state": {
       "children": [
        "IPY_MODEL_dbaec8c9d5254241bab6f71499142c24",
        "IPY_MODEL_7f79cb9c54f8407ebd2bd1f757b4b854"
       ],
       "layout": "IPY_MODEL_e6ac189556c742059708c0c8e369c826"
      }
     },
     "efe38c5c0eb1439cbc574ee9e6f6967e": {
      "model_module": "@jupyter-widgets/controls",
      "model_module_version": "1.5.0",
      "model_name": "HBoxModel",
      "state": {
       "children": [
        "IPY_MODEL_014ac887f8894a9ab88091f336a9c2ea",
        "IPY_MODEL_754d02d6614d4df08573c2f2cd24abe6"
       ],
       "layout": "IPY_MODEL_cf2aa781989145f89c55401141ed285f"
      }
     },
     "efe7fbade190444c80c276e2bc2cb0a7": {
      "model_module": "@jupyter-widgets/base",
      "model_module_version": "1.2.0",
      "model_name": "LayoutModel",
      "state": {}
     },
     "f00c76eb2a2946d8bc7c3ae1bab6d6f7": {
      "model_module": "@jupyter-widgets/controls",
      "model_module_version": "1.5.0",
      "model_name": "FloatProgressModel",
      "state": {
       "bar_style": "success",
       "description": "1.56: 100%",
       "layout": "IPY_MODEL_76dcabcd0bb948f49f55cc436b317789",
       "max": 2000,
       "style": "IPY_MODEL_ffcf576e4f65454ba6482eb657fbcdd4",
       "value": 2000
      }
     },
     "f024367f88de4c1c9c2ac86f5b62efe0": {
      "model_module": "@jupyter-widgets/controls",
      "model_module_version": "1.5.0",
      "model_name": "FloatProgressModel",
      "state": {
       "bar_style": "success",
       "description": "0.91: 100%",
       "layout": "IPY_MODEL_083523614a12437791c84acd50447ded",
       "max": 2000,
       "style": "IPY_MODEL_e4cd0c7c697240b5b1599b93ed4b60b3",
       "value": 2000
      }
     },
     "f0373d705a23431c981aa9fbe9b419ec": {
      "model_module": "@jupyter-widgets/controls",
      "model_module_version": "1.5.0",
      "model_name": "FloatProgressModel",
      "state": {
       "bar_style": "danger",
       "description": "0.42:   9%",
       "layout": "IPY_MODEL_5cbf37067856464184c05b6f6deafd81",
       "max": 5000,
       "style": "IPY_MODEL_46a3d2510ae647419a2178a7bc45e768",
       "value": 470
      }
     },
     "f04c4e06f071446296db10636159766f": {
      "model_module": "@jupyter-widgets/base",
      "model_module_version": "1.2.0",
      "model_name": "LayoutModel",
      "state": {}
     },
     "f0e4ae07fd574bbc9f680b2bc7d3f519": {
      "model_module": "@jupyter-widgets/controls",
      "model_module_version": "1.5.0",
      "model_name": "DescriptionStyleModel",
      "state": {
       "description_width": ""
      }
     },
     "f0eb733af63c4252a3c819727881b492": {
      "model_module": "@jupyter-widgets/base",
      "model_module_version": "1.2.0",
      "model_name": "LayoutModel",
      "state": {}
     },
     "f179ce3526314da58404f30c4f7fb152": {
      "model_module": "@jupyter-widgets/controls",
      "model_module_version": "1.5.0",
      "model_name": "HBoxModel",
      "state": {
       "children": [
        "IPY_MODEL_7ed2a56e9db14d0bb8d63553c2677c8e",
        "IPY_MODEL_354b0858671443a8a99c037662f5138c"
       ],
       "layout": "IPY_MODEL_27ea18e2e00148eb940e7380f85a15fe"
      }
     },
     "f1f491c271a341e18fe650e119216c55": {
      "model_module": "@jupyter-widgets/base",
      "model_module_version": "1.2.0",
      "model_name": "LayoutModel",
      "state": {}
     },
     "f20fca3ba68849058d1a5c7a7e0989af": {
      "model_module": "@jupyter-widgets/controls",
      "model_module_version": "1.5.0",
      "model_name": "FloatProgressModel",
      "state": {
       "bar_style": "success",
       "description": "nan: 100%",
       "layout": "IPY_MODEL_ff9847c0253a4bfa960367d7f6f0fefd",
       "max": 50,
       "style": "IPY_MODEL_015cd93b8ac24b26a28fb592f627cbf0",
       "value": 50
      }
     },
     "f21e077a18754754a8c5282fd7005e9e": {
      "model_module": "@jupyter-widgets/controls",
      "model_module_version": "1.5.0",
      "model_name": "DescriptionStyleModel",
      "state": {
       "description_width": ""
      }
     },
     "f2741be560f847a8bf996d7304fdf333": {
      "model_module": "@jupyter-widgets/controls",
      "model_module_version": "1.5.0",
      "model_name": "HTMLModel",
      "state": {
       "layout": "IPY_MODEL_adc7743c5d144b89b9bcec5b55ce3ba9",
       "style": "IPY_MODEL_aaea2dd07915490a95cc7eb7f8e5ec94",
       "value": " 2000/2000 [01:17&lt;00:00, 25.80it/s]"
      }
     },
     "f2e0ee2850714c30a6be1ec935ff3e6f": {
      "model_module": "@jupyter-widgets/base",
      "model_module_version": "1.2.0",
      "model_name": "LayoutModel",
      "state": {}
     },
     "f30608fd785d4d7095e62e533448fb89": {
      "model_module": "@jupyter-widgets/base",
      "model_module_version": "1.2.0",
      "model_name": "LayoutModel",
      "state": {}
     },
     "f352b1622665458189329f4655f7e453": {
      "model_module": "@jupyter-widgets/base",
      "model_module_version": "1.2.0",
      "model_name": "LayoutModel",
      "state": {}
     },
     "f3b8eff2cd4a4b1baebed09620f8ac7e": {
      "model_module": "@jupyter-widgets/controls",
      "model_module_version": "1.5.0",
      "model_name": "HBoxModel",
      "state": {
       "children": [
        "IPY_MODEL_8db7a0793a6446568e9091aeef8f336f",
        "IPY_MODEL_a62a0a3beecc40d087838711f1afdf4a"
       ],
       "layout": "IPY_MODEL_8c488ec966e74183970d8033bb4c610d"
      }
     },
     "f3dc45e09d1d4f28b1be2646ef6834aa": {
      "model_module": "@jupyter-widgets/controls",
      "model_module_version": "1.5.0",
      "model_name": "DescriptionStyleModel",
      "state": {
       "description_width": ""
      }
     },
     "f41f4f42cca64738a2153b5aa22b5733": {
      "model_module": "@jupyter-widgets/controls",
      "model_module_version": "1.5.0",
      "model_name": "FloatProgressModel",
      "state": {
       "bar_style": "success",
       "description": "1.98: 100%",
       "layout": "IPY_MODEL_36ba60a959034716aef14915709d5add",
       "max": 2000,
       "style": "IPY_MODEL_a0dfc7c7b5b34c9cb82967735475ed56",
       "value": 2000
      }
     },
     "f4243071c35044fa806d2572547571cc": {
      "model_module": "@jupyter-widgets/controls",
      "model_module_version": "1.5.0",
      "model_name": "FloatProgressModel",
      "state": {
       "bar_style": "danger",
       "description": "  0%",
       "layout": "IPY_MODEL_fab9c5012fc9496fb9c18358627d4e6e",
       "max": 2000,
       "style": "IPY_MODEL_3d7ef7b3b00c4b4bb616753f57e28ace"
      }
     },
     "f42f89fb3c8a49a89371d92cc5018a83": {
      "model_module": "@jupyter-widgets/controls",
      "model_module_version": "1.5.0",
      "model_name": "HBoxModel",
      "state": {
       "children": [
        "IPY_MODEL_016bb90c0566466bb5beaabaeff9b1bb",
        "IPY_MODEL_1ae9ec416f6344178e59b0fea3f6d448"
       ],
       "layout": "IPY_MODEL_6f47ee01e9da4f82aeb06e1931e08075"
      }
     },
     "f46426870ead40ee9a95b281db5e1265": {
      "model_module": "@jupyter-widgets/base",
      "model_module_version": "1.2.0",
      "model_name": "LayoutModel",
      "state": {}
     },
     "f46c009111b5434499868665369e43fc": {
      "model_module": "@jupyter-widgets/controls",
      "model_module_version": "1.5.0",
      "model_name": "ProgressStyleModel",
      "state": {
       "description_width": "initial"
      }
     },
     "f47ab9f76ac442f3842703bd8ba375d3": {
      "model_module": "@jupyter-widgets/controls",
      "model_module_version": "1.5.0",
      "model_name": "DescriptionStyleModel",
      "state": {
       "description_width": ""
      }
     },
     "f4f4e251cdea4010a4da6770b1bbd30c": {
      "model_module": "@jupyter-widgets/controls",
      "model_module_version": "1.5.0",
      "model_name": "DescriptionStyleModel",
      "state": {
       "description_width": ""
      }
     },
     "f57c931f15d24e7eaca3bbec0f2fc311": {
      "model_module": "@jupyter-widgets/controls",
      "model_module_version": "1.5.0",
      "model_name": "DescriptionStyleModel",
      "state": {
       "description_width": ""
      }
     },
     "f580983685a3466988789804bb7fd1c4": {
      "model_module": "@jupyter-widgets/base",
      "model_module_version": "1.2.0",
      "model_name": "LayoutModel",
      "state": {}
     },
     "f5fa152012864a6aaaf4205792aee2be": {
      "model_module": "@jupyter-widgets/controls",
      "model_module_version": "1.5.0",
      "model_name": "FloatProgressModel",
      "state": {
       "bar_style": "success",
       "description": "1.4470731: 100%",
       "layout": "IPY_MODEL_34e57df857f84bc7a9f2d2cac4ea2cd9",
       "max": 50,
       "style": "IPY_MODEL_eb16a3c7180b4ce48beaebb80821bcc0",
       "value": 50
      }
     },
     "f617c71c2c5d4472bec4e7abf4d1ff15": {
      "model_module": "@jupyter-widgets/base",
      "model_module_version": "1.2.0",
      "model_name": "LayoutModel",
      "state": {}
     },
     "f65ad85c44da44d4ad07a63db4238adb": {
      "model_module": "@jupyter-widgets/controls",
      "model_module_version": "1.5.0",
      "model_name": "FloatProgressModel",
      "state": {
       "bar_style": "success",
       "description": "1.98: 100%",
       "layout": "IPY_MODEL_ed19db86e74b460991dc163eed1d4139",
       "max": 2000,
       "style": "IPY_MODEL_b09072289e1c430e8aa04e2a6d8e19a2",
       "value": 2000
      }
     },
     "f6b778fc4964452a99b96af47072f8a0": {
      "model_module": "@jupyter-widgets/base",
      "model_module_version": "1.2.0",
      "model_name": "LayoutModel",
      "state": {}
     },
     "f6c21f33ef664a1c9b584bc737792eb9": {
      "model_module": "@jupyter-widgets/base",
      "model_module_version": "1.2.0",
      "model_name": "LayoutModel",
      "state": {}
     },
     "f6fede91fb5a49e987c1c89b9247dae9": {
      "model_module": "@jupyter-widgets/base",
      "model_module_version": "1.2.0",
      "model_name": "LayoutModel",
      "state": {}
     },
     "f706d44c98954070860e96d65c1aa09e": {
      "model_module": "@jupyter-widgets/controls",
      "model_module_version": "1.5.0",
      "model_name": "FloatProgressModel",
      "state": {
       "bar_style": "danger",
       "description": "  0%",
       "layout": "IPY_MODEL_4c70dd271aba4ff189c780117debec92",
       "max": 2000,
       "style": "IPY_MODEL_1fbfe8fba08d4be5ac00430f3f6c34cc"
      }
     },
     "f81c84056109401dad446525f1114894": {
      "model_module": "@jupyter-widgets/base",
      "model_module_version": "1.2.0",
      "model_name": "LayoutModel",
      "state": {}
     },
     "f828ff21a4874072a111c28af6fada40": {
      "model_module": "@jupyter-widgets/controls",
      "model_module_version": "1.5.0",
      "model_name": "HTMLModel",
      "state": {
       "layout": "IPY_MODEL_d7ba4c4b209649f2a33b5a0b2d4c749e",
       "style": "IPY_MODEL_60a87f51e99945239e87d8d97cf8c45f",
       "value": " 2000/2000 [00:58&lt;00:00, 34.35it/s]"
      }
     },
     "f8a6ee525d4545d3b59f05ae57cca4db": {
      "model_module": "@jupyter-widgets/base",
      "model_module_version": "1.2.0",
      "model_name": "LayoutModel",
      "state": {}
     },
     "f8d1c8b69a31448e8f356a0413463134": {
      "model_module": "@jupyter-widgets/base",
      "model_module_version": "1.2.0",
      "model_name": "LayoutModel",
      "state": {}
     },
     "f8eabb9742b6467781dd9bcab9ad158c": {
      "model_module": "@jupyter-widgets/controls",
      "model_module_version": "1.5.0",
      "model_name": "FloatProgressModel",
      "state": {
       "bar_style": "success",
       "description": "1.22: 100%",
       "layout": "IPY_MODEL_585a865802484a928f8a4a928d6f42a9",
       "max": 2000,
       "style": "IPY_MODEL_c8c2f93730564e3e871c752f1b74a870",
       "value": 2000
      }
     },
     "f90db9ba656a4584b507b439047d2e36": {
      "model_module": "@jupyter-widgets/controls",
      "model_module_version": "1.5.0",
      "model_name": "FloatProgressModel",
      "state": {
       "bar_style": "success",
       "description": "0.78: 100%",
       "layout": "IPY_MODEL_909f36967fd94b45929983d19dcf654c",
       "max": 5000,
       "style": "IPY_MODEL_3fb3d1d980f1401492eb049daba5cabb",
       "value": 5000
      }
     },
     "f91257d4db5c492eb8959fb0c820878c": {
      "model_module": "@jupyter-widgets/controls",
      "model_module_version": "1.5.0",
      "model_name": "HBoxModel",
      "state": {
       "children": [
        "IPY_MODEL_f706d44c98954070860e96d65c1aa09e",
        "IPY_MODEL_51439ff762d845b78a47b6aebb756986"
       ],
       "layout": "IPY_MODEL_6f545682f41543758ca271b91975fe44"
      }
     },
     "f931e43f52564933be499e4fd6620927": {
      "model_module": "@jupyter-widgets/base",
      "model_module_version": "1.2.0",
      "model_name": "LayoutModel",
      "state": {}
     },
     "f95335b2a51f4cfeac30833ba98067e4": {
      "model_module": "@jupyter-widgets/base",
      "model_module_version": "1.2.0",
      "model_name": "LayoutModel",
      "state": {}
     },
     "f958c4ae6b004537a68a677d2c671bfc": {
      "model_module": "@jupyter-widgets/controls",
      "model_module_version": "1.5.0",
      "model_name": "ProgressStyleModel",
      "state": {
       "description_width": "initial"
      }
     },
     "f98f8f084024466a879d1e356217bc0d": {
      "model_module": "@jupyter-widgets/controls",
      "model_module_version": "1.5.0",
      "model_name": "FloatProgressModel",
      "state": {
       "bar_style": "success",
       "description": "nan: 100%",
       "layout": "IPY_MODEL_c7d24dc8e98d46c38556016e146191de",
       "max": 50,
       "style": "IPY_MODEL_b337b393dfe94151969186d6311ce4f5",
       "value": 50
      }
     },
     "f9d2f033b17b40b998c654e059400afc": {
      "model_module": "@jupyter-widgets/controls",
      "model_module_version": "1.5.0",
      "model_name": "FloatProgressModel",
      "state": {
       "bar_style": "success",
       "description": "1.20: 100%",
       "layout": "IPY_MODEL_2aac326a91c0402db061ac5485933671",
       "max": 2000,
       "style": "IPY_MODEL_3a0569150019403abe809c9421ca252d",
       "value": 2000
      }
     },
     "fa1200f231574144ac84e1e3582a7f87": {
      "model_module": "@jupyter-widgets/controls",
      "model_module_version": "1.5.0",
      "model_name": "HTMLModel",
      "state": {
       "layout": "IPY_MODEL_3c0721412ccf46289da16bb617823283",
       "style": "IPY_MODEL_422e2e0672934b658337ee675451d9e9",
       "value": " 5000/5000 [01:21&lt;00:00, 61.68it/s]"
      }
     },
     "fa2bd04489c541c0bde85b208d8fbfc8": {
      "model_module": "@jupyter-widgets/controls",
      "model_module_version": "1.5.0",
      "model_name": "ProgressStyleModel",
      "state": {
       "description_width": "initial"
      }
     },
     "fa3b92ea7e034eb9a4504e41480a74d1": {
      "model_module": "@jupyter-widgets/controls",
      "model_module_version": "1.5.0",
      "model_name": "ProgressStyleModel",
      "state": {
       "description_width": "initial"
      }
     },
     "fa74f27a88ed4a82b380eaa732cf5b60": {
      "model_module": "@jupyter-widgets/controls",
      "model_module_version": "1.5.0",
      "model_name": "FloatProgressModel",
      "state": {
       "bar_style": "danger",
       "description": "  0%",
       "layout": "IPY_MODEL_a148873d083b43e68bcb61aa9b0bdeb1",
       "max": 2000,
       "style": "IPY_MODEL_2eb1e10c0d4d42f88d5aa4f8c5b4aabe"
      }
     },
     "fa90dc170444448988fbc56ef5f8775d": {
      "model_module": "@jupyter-widgets/base",
      "model_module_version": "1.2.0",
      "model_name": "LayoutModel",
      "state": {}
     },
     "fab9c5012fc9496fb9c18358627d4e6e": {
      "model_module": "@jupyter-widgets/base",
      "model_module_version": "1.2.0",
      "model_name": "LayoutModel",
      "state": {}
     },
     "fabf3f47191e4c9fbfb4988fe2408972": {
      "model_module": "@jupyter-widgets/base",
      "model_module_version": "1.2.0",
      "model_name": "LayoutModel",
      "state": {}
     },
     "fb751d585fa644b692e13a47b641358a": {
      "model_module": "@jupyter-widgets/base",
      "model_module_version": "1.2.0",
      "model_name": "LayoutModel",
      "state": {}
     },
     "fb766a321d9746d586d1de7f0179ee1f": {
      "model_module": "@jupyter-widgets/base",
      "model_module_version": "1.2.0",
      "model_name": "LayoutModel",
      "state": {}
     },
     "fb8bb5dd37f3474bafb7e541fb36e8bc": {
      "model_module": "@jupyter-widgets/base",
      "model_module_version": "1.2.0",
      "model_name": "LayoutModel",
      "state": {}
     },
     "fbaa13ad1ebe44a98bc73b1b37ba67a2": {
      "model_module": "@jupyter-widgets/base",
      "model_module_version": "1.2.0",
      "model_name": "LayoutModel",
      "state": {}
     },
     "fbc65b62f1574a5f8c2b8f47e2262f9c": {
      "model_module": "@jupyter-widgets/base",
      "model_module_version": "1.2.0",
      "model_name": "LayoutModel",
      "state": {}
     },
     "fbd93b9b304745d9b6e1c31552cee46f": {
      "model_module": "@jupyter-widgets/controls",
      "model_module_version": "1.5.0",
      "model_name": "FloatProgressModel",
      "state": {
       "bar_style": "danger",
       "description": "0.43304366:  79%",
       "layout": "IPY_MODEL_cc5213c434504357aaa1c4d437d9d8f2",
       "max": 5000,
       "style": "IPY_MODEL_ef1033ae89924364a7b32424da75047e",
       "value": 3963
      }
     },
     "fc1d38189f194ed5a3f386517c28e846": {
      "model_module": "@jupyter-widgets/controls",
      "model_module_version": "1.5.0",
      "model_name": "DescriptionStyleModel",
      "state": {
       "description_width": ""
      }
     },
     "fc48098eba144557957212420634dcca": {
      "model_module": "@jupyter-widgets/controls",
      "model_module_version": "1.5.0",
      "model_name": "DescriptionStyleModel",
      "state": {
       "description_width": ""
      }
     },
     "fc5ead1420104bb9b751c3a6662b7d15": {
      "model_module": "@jupyter-widgets/controls",
      "model_module_version": "1.5.0",
      "model_name": "FloatProgressModel",
      "state": {
       "bar_style": "success",
       "description": "0.65: 100%",
       "layout": "IPY_MODEL_f46426870ead40ee9a95b281db5e1265",
       "max": 2000,
       "style": "IPY_MODEL_58cc873fbef64ded898a05d577ad94b6",
       "value": 2000
      }
     },
     "fc644e5bc7b24561adb9595bfd5e2c2a": {
      "model_module": "@jupyter-widgets/controls",
      "model_module_version": "1.5.0",
      "model_name": "DescriptionStyleModel",
      "state": {
       "description_width": ""
      }
     },
     "fc861d789bd540198baa254a2ca3ccdf": {
      "model_module": "@jupyter-widgets/controls",
      "model_module_version": "1.5.0",
      "model_name": "FloatProgressModel",
      "state": {
       "bar_style": "success",
       "description": "1.91: 100%",
       "layout": "IPY_MODEL_6ea7201880134750b0bfb1805e6d148f",
       "max": 2000,
       "style": "IPY_MODEL_8f29b122fea945d4add31ad53c592402",
       "value": 2000
      }
     },
     "fc927845eaad4857b0ff69f9ff71694b": {
      "model_module": "@jupyter-widgets/base",
      "model_module_version": "1.2.0",
      "model_name": "LayoutModel",
      "state": {}
     },
     "fcb145c803634391a3c2e013c38c96d2": {
      "model_module": "@jupyter-widgets/base",
      "model_module_version": "1.2.0",
      "model_name": "LayoutModel",
      "state": {}
     },
     "fd14ab16a5bb4cedbc170a437c4c6d26": {
      "model_module": "@jupyter-widgets/controls",
      "model_module_version": "1.5.0",
      "model_name": "HTMLModel",
      "state": {
       "layout": "IPY_MODEL_67cf8ff521a04d7eb0628e5ef7c564c8",
       "style": "IPY_MODEL_ee400fd652c340c1ba97f01186bb6319",
       "value": " 2000/2000 [00:11&lt;00:00, 173.79it/s]"
      }
     },
     "fd1b901fa2c640b68585ed2a26b407bc": {
      "model_module": "@jupyter-widgets/controls",
      "model_module_version": "1.5.0",
      "model_name": "FloatProgressModel",
      "state": {
       "bar_style": "success",
       "description": "1.42: 100%",
       "layout": "IPY_MODEL_ac29a98d45cb43379b31e3d3fcda5d85",
       "max": 2000,
       "style": "IPY_MODEL_7270f2c1ad2b4abbbbdc7e949c8abbae",
       "value": 2000
      }
     },
     "fd29077e70ef4c84abfb67cdf926d36c": {
      "model_module": "@jupyter-widgets/base",
      "model_module_version": "1.2.0",
      "model_name": "LayoutModel",
      "state": {}
     },
     "fdec46bdd441490d9df01e1e7a6f3590": {
      "model_module": "@jupyter-widgets/controls",
      "model_module_version": "1.5.0",
      "model_name": "HBoxModel",
      "state": {
       "children": [
        "IPY_MODEL_cd4d64a9f5da4cf69ab88c611bb25dc6",
        "IPY_MODEL_da16e5ebd47c47ae857bc5f2f512f059"
       ],
       "layout": "IPY_MODEL_f8d1c8b69a31448e8f356a0413463134"
      }
     },
     "fdf9f7776fc54aca81a9d294e444dd45": {
      "model_module": "@jupyter-widgets/base",
      "model_module_version": "1.2.0",
      "model_name": "LayoutModel",
      "state": {}
     },
     "fe5abdd9633648eeb8c9f8cf99a4edb0": {
      "model_module": "@jupyter-widgets/controls",
      "model_module_version": "1.5.0",
      "model_name": "HTMLModel",
      "state": {
       "layout": "IPY_MODEL_fc927845eaad4857b0ff69f9ff71694b",
       "style": "IPY_MODEL_6f30a4024cea4a68876bfd7a6352ecf5",
       "value": " 2000/2000 [01:34&lt;00:00, 21.12it/s]"
      }
     },
     "fe5e480194f3410c9624c550a589dc69": {
      "model_module": "@jupyter-widgets/base",
      "model_module_version": "1.2.0",
      "model_name": "LayoutModel",
      "state": {}
     },
     "fea1e180313d41b9bd74d041fe9544d4": {
      "model_module": "@jupyter-widgets/base",
      "model_module_version": "1.2.0",
      "model_name": "LayoutModel",
      "state": {}
     },
     "ff1ba51a558c45c99103f2717aaa6d6d": {
      "model_module": "@jupyter-widgets/controls",
      "model_module_version": "1.5.0",
      "model_name": "FloatProgressModel",
      "state": {
       "bar_style": "success",
       "description": "nan: 100%",
       "layout": "IPY_MODEL_ad89d875823745d68231418a20d10d1a",
       "max": 50,
       "style": "IPY_MODEL_71b838748f174ad39af8317b6022a852",
       "value": 50
      }
     },
     "ff9847c0253a4bfa960367d7f6f0fefd": {
      "model_module": "@jupyter-widgets/base",
      "model_module_version": "1.2.0",
      "model_name": "LayoutModel",
      "state": {}
     },
     "ffb9d2ec133a4e9aa0401e4df8253d8b": {
      "model_module": "@jupyter-widgets/controls",
      "model_module_version": "1.5.0",
      "model_name": "FloatProgressModel",
      "state": {
       "bar_style": "success",
       "description": "nan: 100%",
       "layout": "IPY_MODEL_b61fc45702b64cd58b53afab61782177",
       "max": 50,
       "style": "IPY_MODEL_379a28e1e5384745866dfa12e06be9bd",
       "value": 50
      }
     },
     "ffc7c7f0c51f4d54a2c00f2a7a76fbaf": {
      "model_module": "@jupyter-widgets/controls",
      "model_module_version": "1.5.0",
      "model_name": "HTMLModel",
      "state": {
       "layout": "IPY_MODEL_c612dcd77b9b4263966fffe0767a74be",
       "style": "IPY_MODEL_1ea2cb9987554589836344589182eb25",
       "value": " 2000/2000 [01:37&lt;00:00, 20.46it/s]"
      }
     },
     "ffcf576e4f65454ba6482eb657fbcdd4": {
      "model_module": "@jupyter-widgets/controls",
      "model_module_version": "1.5.0",
      "model_name": "ProgressStyleModel",
      "state": {
       "description_width": "initial"
      }
     }
    },
    "version_major": 2,
    "version_minor": 0
   }
  }
 },
 "nbformat": 4,
 "nbformat_minor": 4
}
