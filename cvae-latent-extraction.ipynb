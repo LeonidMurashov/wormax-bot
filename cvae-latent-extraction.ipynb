{
 "cells": [
  {
   "cell_type": "code",
   "execution_count": 1,
   "metadata": {},
   "outputs": [],
   "source": [
    "import tensorflow as tf\n",
    "%matplotlib notebook\n",
    "%matplotlib inline\n",
    "import os\n",
    "import time\n",
    "import numpy as np\n",
    "import glob\n",
    "import matplotlib.pyplot as plt\n",
    "import PIL\n",
    "import imageio\n",
    "import cv2\n",
    "import datetime\n",
    "import random\n",
    "from tensorflow.keras.layers import Dense, GRU, TimeDistributed, BatchNormalization, InputLayer\n",
    "\n",
    "from IPython import display\n",
    "\n",
    "from tqdm.notebook import tqdm, trange\n",
    "import seaborn as sns\n",
    "# sns.set()\n",
    "tf.keras.backend.floatx()\n",
    "\n",
    "latent_dim = 256\n",
    "batch_size = 16\n",
    "sequence_len = 32 * 4 # n seconds\n",
    "image_shape = [128, 128, 3]\n",
    "\n",
    "cvae_max_batch = 64"
   ]
  },
  {
   "cell_type": "code",
   "execution_count": 2,
   "metadata": {},
   "outputs": [],
   "source": [
    "config = tf.compat.v1.ConfigProto()\n",
    "config.gpu_options.allow_growth = True\n",
    "session = tf.compat.v1.InteractiveSession(config=config)"
   ]
  },
  {
   "cell_type": "code",
   "execution_count": 3,
   "metadata": {},
   "outputs": [
    {
     "data": {
      "text/plain": [
       "<tensorflow.python.training.tracking.util.CheckpointLoadStatus at 0x7f8868fa0ed0>"
      ]
     },
     "execution_count": 3,
     "metadata": {},
     "output_type": "execute_result"
    }
   ],
   "source": [
    "from convolutional_vae_256 import CVAE\n",
    "cvae = CVAE(latent_dim)\n",
    "cvae.load_weights('models/cvae_wide_lat256_epoch620')"
   ]
  },
  {
   "cell_type": "code",
   "execution_count": 4,
   "metadata": {},
   "outputs": [],
   "source": [
    "def video_generator(video_path):\n",
    "    while True:\n",
    "        vidcap = cv2.VideoCapture(video_path)\n",
    "        success, img = vidcap.read()\n",
    "\n",
    "        while success:\n",
    "            yield cv2.resize(img, (128, 128)).astype(np.float32) / 255\n",
    "            success, img = vidcap.read()\n",
    "\n",
    "def sequences_generator(video_gen, sequence_len):\n",
    "    sample = next(video_gen)\n",
    "    while True:\n",
    "        sequence = np.zeros((sequence_len, *sample.shape))\n",
    "        for i in range(sequence_len):\n",
    "            sequence[i] = next(video_gen)\n",
    "        yield sequence\n",
    "            \n",
    "def batches_generator(batch_size, sequences_gen, buffer_size=64):\n",
    "    buffer = []\n",
    "    while True:\n",
    "        while len(buffer) < buffer_size:\n",
    "            buffer.append(next(sequences_gen))\n",
    "        random.shuffle(buffer)\n",
    "        batch, buffer = buffer[:batch_size], buffer[batch_size:]\n",
    "        \n",
    "        # Feed to cvae in small batches (can't fit all sequence in gpu)\n",
    "        batch = np.array(batch).reshape([-1, *image_shape])\n",
    "        splits = np.array_split(batch, np.ceil(len(batch) / cvae_max_batch))\n",
    "        final_batch = []\n",
    "        for subbatch in splits:\n",
    "            subbatch = cvae.encode(subbatch)[0]\n",
    "            final_batch.append(subbatch)\n",
    "            \n",
    "        final_batch = np.concatenate(final_batch)\n",
    "        yield final_batch.reshape(-1, sequence_len, latent_dim)\n",
    "        \n",
    "\n",
    "train_gen = batches_generator(batch_size, \n",
    "                              sequences_generator(video_generator('data/train.mp4'),\n",
    "                                                  sequence_len),\n",
    "                              buffer_size=512)\n",
    "test_gen = batches_generator(batch_size, \n",
    "                             sequences_generator(video_generator('data/test.mp4'),\n",
    "                                                 sequence_len))"
   ]
  },
  {
   "cell_type": "code",
   "execution_count": 5,
   "metadata": {
    "scrolled": false
   },
   "outputs": [
    {
     "name": "stdout",
     "output_type": "stream",
     "text": [
      "WARNING:tensorflow:Layer conv2d is casting an input tensor from dtype float64 to the layer's dtype of float32, which is new behavior in TensorFlow 2.  The layer has dtype float32 because it's dtype defaults to floatx.\n",
      "\n",
      "If you intended to run this layer in float32, you can safely ignore this warning. If in doubt, this warning is likely only an issue if you are porting a TensorFlow 1.X model to TensorFlow 2.\n",
      "\n",
      "To change all layers to have dtype float64 by default, call `tf.keras.backend.set_floatx('float64')`. To change just this layer, pass dtype='float64' to the layer constructor. If you are the author of this layer, you can disable autocasting by passing autocast=False to the base Layer constructor.\n",
      "\n"
     ]
    },
    {
     "data": {
      "text/plain": [
       "(16, 128, 256)"
      ]
     },
     "execution_count": 5,
     "metadata": {},
     "output_type": "execute_result"
    }
   ],
   "source": [
    "next(train_gen).shape"
   ]
  },
  {
   "cell_type": "code",
   "execution_count": 6,
   "metadata": {},
   "outputs": [],
   "source": [
    "if False:\n",
    "    %matplotlib notebook\n",
    "    %matplotlib notebook\n",
    "\n",
    "    import matplotlib.pyplot as plt\n",
    "    from matplotlib.animation import FuncAnimation\n",
    "\n",
    "    def roll_demo():\n",
    "        batch = next(train_gen)\n",
    "        for entry in batch:\n",
    "            for frame in entry:\n",
    "                yield cvae.decode(frame[np.newaxis], apply_sigmoid=True)[0]\n",
    "\n",
    "    demo_gen = roll_demo()\n",
    "    im = plt.imshow(next(demo_gen))\n",
    "\n",
    "    def update(frame):\n",
    "        plt.title(frame)\n",
    "        im.set_array(next(demo_gen))\n",
    "        return [im]\n",
    "\n",
    "    anim = FuncAnimation(plt.gcf(), update, frames=10000, interval=10, blit=True)"
   ]
  },
  {
   "cell_type": "code",
   "execution_count": 7,
   "metadata": {},
   "outputs": [],
   "source": [
    "dataset = []\n"
   ]
  },
  {
   "cell_type": "code",
   "execution_count": 8,
   "metadata": {},
   "outputs": [],
   "source": [
    "# dataset = dataset.tolist()"
   ]
  },
  {
   "cell_type": "code",
   "execution_count": 9,
   "metadata": {},
   "outputs": [
    {
     "data": {
      "application/vnd.jupyter.widget-view+json": {
       "model_id": "89c8879238384ba48becf28a77553fbc",
       "version_major": 2,
       "version_minor": 0
      },
      "text/plain": [
       "HBox(children=(FloatProgress(value=0.0, max=189.0), HTML(value='')))"
      ]
     },
     "metadata": {},
     "output_type": "display_data"
    },
    {
     "name": "stdout",
     "output_type": "stream",
     "text": [
      "\n"
     ]
    }
   ],
   "source": [
    "for i in trange(387301 // (batch_size * sequence_len)):\n",
    "    dataset.append(next(train_gen))"
   ]
  },
  {
   "cell_type": "code",
   "execution_count": 10,
   "metadata": {},
   "outputs": [],
   "source": [
    "dataset = np.array(dataset).reshape([-1, sequence_len, latent_dim])"
   ]
  },
  {
   "cell_type": "code",
   "execution_count": 11,
   "metadata": {},
   "outputs": [],
   "source": [
    "# dataset = np.concatenate([np.array(dataset[:-790]), np.array(dataset[-790:]).reshape([-1, sequence_len, latent_dim])])"
   ]
  },
  {
   "cell_type": "code",
   "execution_count": 12,
   "metadata": {},
   "outputs": [],
   "source": [
    "dataset = np.array(dataset).reshape([-1, sequence_len, latent_dim])\n",
    "\n",
    "file_name = f'data_encoded/lat{latent_dim}_encoded_seqs{len(dataset)}'\n",
    "np.save(file_name, dataset)"
   ]
  },
  {
   "cell_type": "code",
   "execution_count": 13,
   "metadata": {},
   "outputs": [
    {
     "data": {
      "text/plain": [
       "(3024, 128, 256)"
      ]
     },
     "execution_count": 13,
     "metadata": {},
     "output_type": "execute_result"
    }
   ],
   "source": [
    "np.load(file_name + '.npy').shape"
   ]
  },
  {
   "cell_type": "code",
   "execution_count": 14,
   "metadata": {},
   "outputs": [
    {
     "data": {
      "text/plain": [
       "'data_encoded/lat256_encoded_seqs3024'"
      ]
     },
     "execution_count": 14,
     "metadata": {},
     "output_type": "execute_result"
    }
   ],
   "source": [
    "file_name"
   ]
  }
 ],
 "metadata": {
  "kernelspec": {
   "display_name": "Python 3",
   "language": "python",
   "name": "python3"
  },
  "language_info": {
   "codemirror_mode": {
    "name": "ipython",
    "version": 3
   },
   "file_extension": ".py",
   "mimetype": "text/x-python",
   "name": "python",
   "nbconvert_exporter": "python",
   "pygments_lexer": "ipython3",
   "version": "3.7.6"
  }
 },
 "nbformat": 4,
 "nbformat_minor": 4
}
